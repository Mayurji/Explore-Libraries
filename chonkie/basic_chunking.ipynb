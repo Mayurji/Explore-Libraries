{
 "cells": [
  {
   "cell_type": "markdown",
   "id": "72310cd6",
   "metadata": {},
   "source": [
    "## Chonkie\n",
    "\n",
    "Chunking is the process of breaking down a text into smaller, more manageable pieces, that can be used for RAG applications.\n",
    "\n",
    "### Chunking Strategies\n",
    "\n",
    "1. Token Chunker\n",
    "2. Sentence Chunker\n",
    "3. Recursive Chunker\n",
    "4. Code Chunker\n",
    "5. Semantic Chunker\n",
    "6. SDPM Chunker\n",
    "7. Late Chunker\n",
    "8. Neural Chunker"
   ]
  },
  {
   "cell_type": "markdown",
   "id": "272db680",
   "metadata": {},
   "source": [
    "### Installation"
   ]
  },
  {
   "cell_type": "code",
   "execution_count": 1,
   "id": "c177b4bf",
   "metadata": {},
   "outputs": [
    {
     "name": "stdout",
     "output_type": "stream",
     "text": [
      "Defaulting to user installation because normal site-packages is not writeable\n",
      "Requirement already satisfied: chonkie[all] in /home/mayur/.local/lib/python3.10/site-packages (1.0.10)\n",
      "Requirement already satisfied: tqdm>=4.64.0 in /home/mayur/.local/lib/python3.10/site-packages (from chonkie[all]) (4.66.5)\n",
      "Requirement already satisfied: tokenizers>=0.16.0 in /home/mayur/.local/lib/python3.10/site-packages (from chonkie[all]) (0.21.0)\n",
      "Requirement already satisfied: rich>=13.0.0 in /home/mayur/.local/lib/python3.10/site-packages (from chonkie[all]) (13.9.4)\n",
      "Requirement already satisfied: huggingface-hub>=0.24.0 in /home/mayur/.local/lib/python3.10/site-packages (from chonkie[all]) (0.31.2)\n",
      "Requirement already satisfied: google-genai>=1.0.0 in /home/mayur/.local/lib/python3.10/site-packages (from chonkie[all]) (1.20.0)\n",
      "Requirement already satisfied: chromadb>=1.0.0 in /home/mayur/.local/lib/python3.10/site-packages (from chonkie[all]) (1.0.12)\n",
      "Requirement already satisfied: torch<3.0,>=2.0.0 in /home/mayur/.local/lib/python3.10/site-packages (from chonkie[all]) (2.6.0)\n",
      "Requirement already satisfied: numpy<3.0,>=2.0.0 in /home/mayur/.local/lib/python3.10/site-packages (from chonkie[all]) (2.2.6)\n",
      "Requirement already satisfied: openai>=1.0.0 in /home/mayur/.local/lib/python3.10/site-packages (from chonkie[all]) (1.88.0)\n",
      "Requirement already satisfied: tree-sitter>=0.20.0 in /home/mayur/.local/lib/python3.10/site-packages (from chonkie[all]) (0.24.0)\n",
      "Requirement already satisfied: jsonschema>=4.23.0 in /home/mayur/.local/lib/python3.10/site-packages (from chonkie[all]) (4.23.0)\n",
      "Requirement already satisfied: qdrant-client>=1.0.0 in /home/mayur/.local/lib/python3.10/site-packages (from chonkie[all]) (1.12.1)\n",
      "Requirement already satisfied: accelerate>=1.6.0 in /home/mayur/.local/lib/python3.10/site-packages (from chonkie[all]) (1.7.0)\n",
      "Requirement already satisfied: tree-sitter-language-pack>=0.7.0 in /home/mayur/.local/lib/python3.10/site-packages (from chonkie[all]) (0.8.0)\n",
      "Requirement already satisfied: transformers>=4.0.0 in /home/mayur/.local/lib/python3.10/site-packages (from chonkie[all]) (4.51.3)\n",
      "Requirement already satisfied: tiktoken>=0.5.0 in /home/mayur/.local/lib/python3.10/site-packages (from chonkie[all]) (0.8.0)\n",
      "Requirement already satisfied: model2vec>=0.3.0 in /home/mayur/.local/lib/python3.10/site-packages (from chonkie[all]) (0.6.0)\n",
      "Requirement already satisfied: turbopuffer[fast]>=0.2.0 in /home/mayur/.local/lib/python3.10/site-packages (from chonkie[all]) (0.5.6)\n",
      "Requirement already satisfied: magika<0.7.0,>=0.6.0 in /home/mayur/.local/lib/python3.10/site-packages (from chonkie[all]) (0.6.2)\n",
      "Requirement already satisfied: pydantic>=2.0.0 in /home/mayur/.local/lib/python3.10/site-packages (from chonkie[all]) (2.10.5)\n",
      "Requirement already satisfied: sentence-transformers>=3.0.0 in /home/mayur/.local/lib/python3.10/site-packages (from chonkie[all]) (3.3.1)\n",
      "Requirement already satisfied: cohere>=5.13.0 in /home/mayur/.local/lib/python3.10/site-packages (from chonkie[all]) (5.15.0)\n",
      "Requirement already satisfied: pyyaml in /home/mayur/.local/lib/python3.10/site-packages (from accelerate>=1.6.0->chonkie[all]) (6.0.2)\n",
      "Requirement already satisfied: safetensors>=0.4.3 in /home/mayur/.local/lib/python3.10/site-packages (from accelerate>=1.6.0->chonkie[all]) (0.4.5)\n",
      "Requirement already satisfied: packaging>=20.0 in /home/mayur/.local/lib/python3.10/site-packages (from accelerate>=1.6.0->chonkie[all]) (23.2)\n",
      "Requirement already satisfied: psutil in /home/mayur/.local/lib/python3.10/site-packages (from accelerate>=1.6.0->chonkie[all]) (6.1.0)\n",
      "Requirement already satisfied: mmh3>=4.0.1 in /home/mayur/.local/lib/python3.10/site-packages (from chromadb>=1.0.0->chonkie[all]) (5.1.0)\n",
      "Requirement already satisfied: onnxruntime>=1.14.1 in /home/mayur/.local/lib/python3.10/site-packages (from chromadb>=1.0.0->chonkie[all]) (1.21.1)\n",
      "Requirement already satisfied: pypika>=0.48.9 in /home/mayur/.local/lib/python3.10/site-packages (from chromadb>=1.0.0->chonkie[all]) (0.48.9)\n",
      "Requirement already satisfied: bcrypt>=4.0.1 in /home/mayur/.local/lib/python3.10/site-packages (from chromadb>=1.0.0->chonkie[all]) (4.3.0)\n",
      "Requirement already satisfied: orjson>=3.9.12 in /home/mayur/.local/lib/python3.10/site-packages (from chromadb>=1.0.0->chonkie[all]) (3.10.18)\n",
      "Requirement already satisfied: uvicorn[standard]>=0.18.3 in /home/mayur/.local/lib/python3.10/site-packages (from chromadb>=1.0.0->chonkie[all]) (0.32.1)\n",
      "Requirement already satisfied: typer>=0.9.0 in /home/mayur/.local/lib/python3.10/site-packages (from chromadb>=1.0.0->chonkie[all]) (0.15.1)\n",
      "Requirement already satisfied: opentelemetry-api>=1.2.0 in /home/mayur/.local/lib/python3.10/site-packages (from chromadb>=1.0.0->chonkie[all]) (1.34.1)\n",
      "Requirement already satisfied: httpx>=0.27.0 in /home/mayur/.local/lib/python3.10/site-packages (from chromadb>=1.0.0->chonkie[all]) (0.28.1)\n",
      "Requirement already satisfied: grpcio>=1.58.0 in /home/mayur/.local/lib/python3.10/site-packages (from chromadb>=1.0.0->chonkie[all]) (1.72.1)\n",
      "Requirement already satisfied: kubernetes>=28.1.0 in /home/mayur/.local/lib/python3.10/site-packages (from chromadb>=1.0.0->chonkie[all]) (33.1.0)\n",
      "Requirement already satisfied: tenacity>=8.2.3 in /home/mayur/.local/lib/python3.10/site-packages (from chromadb>=1.0.0->chonkie[all]) (9.1.2)\n",
      "Requirement already satisfied: overrides>=7.3.1 in /home/mayur/.local/lib/python3.10/site-packages (from chromadb>=1.0.0->chonkie[all]) (7.7.0)\n",
      "Requirement already satisfied: fastapi==0.115.9 in /home/mayur/.local/lib/python3.10/site-packages (from chromadb>=1.0.0->chonkie[all]) (0.115.9)\n",
      "Requirement already satisfied: posthog>=2.4.0 in /home/mayur/.local/lib/python3.10/site-packages (from chromadb>=1.0.0->chonkie[all]) (3.7.4)\n",
      "Requirement already satisfied: opentelemetry-sdk>=1.2.0 in /home/mayur/.local/lib/python3.10/site-packages (from chromadb>=1.0.0->chonkie[all]) (1.34.1)\n",
      "Requirement already satisfied: opentelemetry-exporter-otlp-proto-grpc>=1.2.0 in /home/mayur/.local/lib/python3.10/site-packages (from chromadb>=1.0.0->chonkie[all]) (1.34.1)\n",
      "Requirement already satisfied: opentelemetry-instrumentation-fastapi>=0.41b0 in /home/mayur/.local/lib/python3.10/site-packages (from chromadb>=1.0.0->chonkie[all]) (0.55b1)\n",
      "Requirement already satisfied: build>=1.0.3 in /home/mayur/.local/lib/python3.10/site-packages (from chromadb>=1.0.0->chonkie[all]) (1.2.2.post1)\n",
      "Requirement already satisfied: importlib-resources in /home/mayur/.local/lib/python3.10/site-packages (from chromadb>=1.0.0->chonkie[all]) (6.5.2)\n",
      "Requirement already satisfied: typing-extensions>=4.5.0 in /home/mayur/.local/lib/python3.10/site-packages (from chromadb>=1.0.0->chonkie[all]) (4.14.0)\n",
      "Requirement already satisfied: starlette<0.46.0,>=0.40.0 in /home/mayur/.local/lib/python3.10/site-packages (from fastapi==0.115.9->chromadb>=1.0.0->chonkie[all]) (0.41.3)\n",
      "Requirement already satisfied: requests<3.0.0,>=2.0.0 in /home/mayur/.local/lib/python3.10/site-packages (from cohere>=5.13.0->chonkie[all]) (2.32.3)\n",
      "Requirement already satisfied: types-requests<3.0.0,>=2.0.0 in /home/mayur/.local/lib/python3.10/site-packages (from cohere>=5.13.0->chonkie[all]) (2.32.0.20241016)\n",
      "Requirement already satisfied: fastavro<2.0.0,>=1.9.4 in /home/mayur/.local/lib/python3.10/site-packages (from cohere>=5.13.0->chonkie[all]) (1.9.7)\n",
      "Requirement already satisfied: pydantic-core<3.0.0,>=2.18.2 in /home/mayur/.local/lib/python3.10/site-packages (from cohere>=5.13.0->chonkie[all]) (2.27.2)\n",
      "Requirement already satisfied: httpx-sse==0.4.0 in /home/mayur/.local/lib/python3.10/site-packages (from cohere>=5.13.0->chonkie[all]) (0.4.0)\n",
      "Requirement already satisfied: websockets<15.1.0,>=13.0.0 in /home/mayur/.local/lib/python3.10/site-packages (from google-genai>=1.0.0->chonkie[all]) (15.0.1)\n",
      "Requirement already satisfied: anyio<5.0.0,>=4.8.0 in /home/mayur/.local/lib/python3.10/site-packages (from google-genai>=1.0.0->chonkie[all]) (4.9.0)\n",
      "Requirement already satisfied: google-auth<3.0.0,>=2.14.1 in /home/mayur/.local/lib/python3.10/site-packages (from google-genai>=1.0.0->chonkie[all]) (2.35.0)\n",
      "Requirement already satisfied: fsspec>=2023.5.0 in /home/mayur/.local/lib/python3.10/site-packages (from huggingface-hub>=0.24.0->chonkie[all]) (2025.3.2)\n",
      "Requirement already satisfied: filelock in /home/mayur/.local/lib/python3.10/site-packages (from huggingface-hub>=0.24.0->chonkie[all]) (3.16.1)\n",
      "Requirement already satisfied: attrs>=22.2.0 in /home/mayur/.local/lib/python3.10/site-packages (from jsonschema>=4.23.0->chonkie[all]) (24.2.0)\n",
      "Requirement already satisfied: rpds-py>=0.7.1 in /home/mayur/.local/lib/python3.10/site-packages (from jsonschema>=4.23.0->chonkie[all]) (0.22.3)\n",
      "Requirement already satisfied: referencing>=0.28.4 in /home/mayur/.local/lib/python3.10/site-packages (from jsonschema>=4.23.0->chonkie[all]) (0.35.1)\n",
      "Requirement already satisfied: jsonschema-specifications>=2023.03.6 in /home/mayur/.local/lib/python3.10/site-packages (from jsonschema>=4.23.0->chonkie[all]) (2024.10.1)\n",
      "Requirement already satisfied: click>=8.1.7 in /home/mayur/.local/lib/python3.10/site-packages (from magika<0.7.0,>=0.6.0->chonkie[all]) (8.1.7)\n",
      "Requirement already satisfied: python-dotenv>=1.0.1 in /home/mayur/.local/lib/python3.10/site-packages (from magika<0.7.0,>=0.6.0->chonkie[all]) (1.0.1)\n",
      "Requirement already satisfied: joblib in /home/mayur/.local/lib/python3.10/site-packages (from model2vec>=0.3.0->chonkie[all]) (1.4.2)\n",
      "Requirement already satisfied: jinja2 in /home/mayur/.local/lib/python3.10/site-packages (from model2vec>=0.3.0->chonkie[all]) (3.1.6)\n",
      "Requirement already satisfied: setuptools in /home/mayur/.local/lib/python3.10/site-packages (from model2vec>=0.3.0->chonkie[all]) (80.9.0)\n",
      "Requirement already satisfied: sniffio in /home/mayur/.local/lib/python3.10/site-packages (from openai>=1.0.0->chonkie[all]) (1.3.1)\n",
      "Requirement already satisfied: distro<2,>=1.7.0 in /usr/lib/python3/dist-packages (from openai>=1.0.0->chonkie[all]) (1.7.0)\n",
      "Requirement already satisfied: jiter<1,>=0.4.0 in /home/mayur/.local/lib/python3.10/site-packages (from openai>=1.0.0->chonkie[all]) (0.6.1)\n",
      "Requirement already satisfied: annotated-types>=0.6.0 in /home/mayur/.local/lib/python3.10/site-packages (from pydantic>=2.0.0->chonkie[all]) (0.7.0)\n",
      "Requirement already satisfied: urllib3<3,>=1.26.14 in /home/mayur/.local/lib/python3.10/site-packages (from qdrant-client>=1.0.0->chonkie[all]) (2.2.3)\n",
      "Requirement already satisfied: portalocker<3.0.0,>=2.7.0 in /home/mayur/.local/lib/python3.10/site-packages (from qdrant-client>=1.0.0->chonkie[all]) (2.10.1)\n",
      "Requirement already satisfied: grpcio-tools>=1.41.0 in /home/mayur/.local/lib/python3.10/site-packages (from qdrant-client>=1.0.0->chonkie[all]) (1.68.1)\n",
      "Requirement already satisfied: markdown-it-py>=2.2.0 in /home/mayur/.local/lib/python3.10/site-packages (from rich>=13.0.0->chonkie[all]) (3.0.0)\n",
      "Requirement already satisfied: pygments<3.0.0,>=2.13.0 in /home/mayur/.local/lib/python3.10/site-packages (from rich>=13.0.0->chonkie[all]) (2.18.0)\n",
      "Requirement already satisfied: scipy in /home/mayur/.local/lib/python3.10/site-packages (from sentence-transformers>=3.0.0->chonkie[all]) (1.15.3)\n",
      "Requirement already satisfied: Pillow in /home/mayur/.local/lib/python3.10/site-packages (from sentence-transformers>=3.0.0->chonkie[all]) (11.1.0)\n",
      "Requirement already satisfied: scikit-learn in /home/mayur/.local/lib/python3.10/site-packages (from sentence-transformers>=3.0.0->chonkie[all]) (1.7.0)\n",
      "Requirement already satisfied: regex>=2022.1.18 in /home/mayur/.local/lib/python3.10/site-packages (from tiktoken>=0.5.0->chonkie[all]) (2024.9.11)\n",
      "Requirement already satisfied: triton==3.2.0 in /home/mayur/.local/lib/python3.10/site-packages (from torch<3.0,>=2.0.0->chonkie[all]) (3.2.0)\n",
      "Requirement already satisfied: networkx in /home/mayur/.local/lib/python3.10/site-packages (from torch<3.0,>=2.0.0->chonkie[all]) (3.4.2)\n",
      "Requirement already satisfied: nvidia-cusolver-cu12==11.6.1.9 in /home/mayur/.local/lib/python3.10/site-packages (from torch<3.0,>=2.0.0->chonkie[all]) (11.6.1.9)\n",
      "Requirement already satisfied: nvidia-cufft-cu12==11.2.1.3 in /home/mayur/.local/lib/python3.10/site-packages (from torch<3.0,>=2.0.0->chonkie[all]) (11.2.1.3)\n",
      "Requirement already satisfied: nvidia-cuda-runtime-cu12==12.4.127 in /home/mayur/.local/lib/python3.10/site-packages (from torch<3.0,>=2.0.0->chonkie[all]) (12.4.127)\n",
      "Requirement already satisfied: nvidia-cudnn-cu12==9.1.0.70 in /home/mayur/.local/lib/python3.10/site-packages (from torch<3.0,>=2.0.0->chonkie[all]) (9.1.0.70)\n",
      "Requirement already satisfied: nvidia-cusparselt-cu12==0.6.2 in /home/mayur/.local/lib/python3.10/site-packages (from torch<3.0,>=2.0.0->chonkie[all]) (0.6.2)\n",
      "Requirement already satisfied: nvidia-nvjitlink-cu12==12.4.127 in /home/mayur/.local/lib/python3.10/site-packages (from torch<3.0,>=2.0.0->chonkie[all]) (12.4.127)\n",
      "Requirement already satisfied: nvidia-nvtx-cu12==12.4.127 in /home/mayur/.local/lib/python3.10/site-packages (from torch<3.0,>=2.0.0->chonkie[all]) (12.4.127)\n",
      "Requirement already satisfied: nvidia-curand-cu12==10.3.5.147 in /home/mayur/.local/lib/python3.10/site-packages (from torch<3.0,>=2.0.0->chonkie[all]) (10.3.5.147)\n",
      "Requirement already satisfied: nvidia-cusparse-cu12==12.3.1.170 in /home/mayur/.local/lib/python3.10/site-packages (from torch<3.0,>=2.0.0->chonkie[all]) (12.3.1.170)\n",
      "Requirement already satisfied: nvidia-cuda-nvrtc-cu12==12.4.127 in /home/mayur/.local/lib/python3.10/site-packages (from torch<3.0,>=2.0.0->chonkie[all]) (12.4.127)\n",
      "Requirement already satisfied: nvidia-cuda-cupti-cu12==12.4.127 in /home/mayur/.local/lib/python3.10/site-packages (from torch<3.0,>=2.0.0->chonkie[all]) (12.4.127)\n",
      "Requirement already satisfied: sympy==1.13.1 in /home/mayur/.local/lib/python3.10/site-packages (from torch<3.0,>=2.0.0->chonkie[all]) (1.13.1)\n",
      "Requirement already satisfied: nvidia-nccl-cu12==2.21.5 in /home/mayur/.local/lib/python3.10/site-packages (from torch<3.0,>=2.0.0->chonkie[all]) (2.21.5)\n",
      "Requirement already satisfied: nvidia-cublas-cu12==12.4.5.8 in /home/mayur/.local/lib/python3.10/site-packages (from torch<3.0,>=2.0.0->chonkie[all]) (12.4.5.8)\n",
      "Requirement already satisfied: mpmath<1.4,>=1.1.0 in /home/mayur/.local/lib/python3.10/site-packages (from sympy==1.13.1->torch<3.0,>=2.0.0->chonkie[all]) (1.3.0)\n",
      "Requirement already satisfied: tree-sitter-embedded-template>=0.23.2 in /home/mayur/.local/lib/python3.10/site-packages (from tree-sitter-language-pack>=0.7.0->chonkie[all]) (0.23.2)\n",
      "Requirement already satisfied: tree-sitter-c-sharp>=0.23.1 in /home/mayur/.local/lib/python3.10/site-packages (from tree-sitter-language-pack>=0.7.0->chonkie[all]) (0.23.1)\n",
      "Requirement already satisfied: tree-sitter-yaml>=0.7.0 in /home/mayur/.local/lib/python3.10/site-packages (from tree-sitter-language-pack>=0.7.0->chonkie[all]) (0.7.0)\n",
      "Requirement already satisfied: pybase64<2,>=1.4.1 in /home/mayur/.local/lib/python3.10/site-packages (from turbopuffer[fast]>=0.2.0->chonkie[all]) (1.4.1)\n",
      "Requirement already satisfied: aiohttp<4,>=3.10.11 in /home/mayur/.local/lib/python3.10/site-packages (from turbopuffer[fast]>=0.2.0->chonkie[all]) (3.12.13)\n",
      "Requirement already satisfied: propcache>=0.2.0 in /home/mayur/.local/lib/python3.10/site-packages (from aiohttp<4,>=3.10.11->turbopuffer[fast]>=0.2.0->chonkie[all]) (0.3.2)\n",
      "Requirement already satisfied: yarl<2.0,>=1.17.0 in /home/mayur/.local/lib/python3.10/site-packages (from aiohttp<4,>=3.10.11->turbopuffer[fast]>=0.2.0->chonkie[all]) (1.20.1)\n",
      "Requirement already satisfied: aiohappyeyeballs>=2.5.0 in /home/mayur/.local/lib/python3.10/site-packages (from aiohttp<4,>=3.10.11->turbopuffer[fast]>=0.2.0->chonkie[all]) (2.6.1)\n",
      "Requirement already satisfied: multidict<7.0,>=4.5 in /home/mayur/.local/lib/python3.10/site-packages (from aiohttp<4,>=3.10.11->turbopuffer[fast]>=0.2.0->chonkie[all]) (6.1.0)\n",
      "Requirement already satisfied: aiosignal>=1.1.2 in /home/mayur/.local/lib/python3.10/site-packages (from aiohttp<4,>=3.10.11->turbopuffer[fast]>=0.2.0->chonkie[all]) (1.3.1)\n",
      "Requirement already satisfied: frozenlist>=1.1.1 in /home/mayur/.local/lib/python3.10/site-packages (from aiohttp<4,>=3.10.11->turbopuffer[fast]>=0.2.0->chonkie[all]) (1.5.0)\n",
      "Requirement already satisfied: async-timeout<6.0,>=4.0 in /home/mayur/.local/lib/python3.10/site-packages (from aiohttp<4,>=3.10.11->turbopuffer[fast]>=0.2.0->chonkie[all]) (4.0.3)\n",
      "Requirement already satisfied: exceptiongroup>=1.0.2 in /home/mayur/.local/lib/python3.10/site-packages (from anyio<5.0.0,>=4.8.0->google-genai>=1.0.0->chonkie[all]) (1.2.2)\n",
      "Requirement already satisfied: idna>=2.8 in /home/mayur/.local/lib/python3.10/site-packages (from anyio<5.0.0,>=4.8.0->google-genai>=1.0.0->chonkie[all]) (3.10)\n",
      "Requirement already satisfied: tomli>=1.1.0 in /home/mayur/.local/lib/python3.10/site-packages (from build>=1.0.3->chromadb>=1.0.0->chonkie[all]) (2.2.1)\n",
      "Requirement already satisfied: pyproject_hooks in /home/mayur/.local/lib/python3.10/site-packages (from build>=1.0.3->chromadb>=1.0.0->chonkie[all]) (1.2.0)\n",
      "Requirement already satisfied: cachetools<6.0,>=2.0.0 in /home/mayur/.local/lib/python3.10/site-packages (from google-auth<3.0.0,>=2.14.1->google-genai>=1.0.0->chonkie[all]) (5.5.0)\n",
      "Requirement already satisfied: pyasn1-modules>=0.2.1 in /home/mayur/.local/lib/python3.10/site-packages (from google-auth<3.0.0,>=2.14.1->google-genai>=1.0.0->chonkie[all]) (0.4.1)\n",
      "Requirement already satisfied: rsa<5,>=3.1.4 in /home/mayur/.local/lib/python3.10/site-packages (from google-auth<3.0.0,>=2.14.1->google-genai>=1.0.0->chonkie[all]) (4.9)\n",
      "Requirement already satisfied: protobuf<6.0dev,>=5.26.1 in /home/mayur/.local/lib/python3.10/site-packages (from grpcio-tools>=1.41.0->qdrant-client>=1.0.0->chonkie[all]) (5.29.5)\n",
      "Requirement already satisfied: httpcore==1.* in /home/mayur/.local/lib/python3.10/site-packages (from httpx>=0.27.0->chromadb>=1.0.0->chonkie[all]) (1.0.6)\n",
      "Requirement already satisfied: certifi in /home/mayur/.local/lib/python3.10/site-packages (from httpx>=0.27.0->chromadb>=1.0.0->chonkie[all]) (2024.8.30)\n",
      "Requirement already satisfied: h11<0.15,>=0.13 in /home/mayur/.local/lib/python3.10/site-packages (from httpcore==1.*->httpx>=0.27.0->chromadb>=1.0.0->chonkie[all]) (0.14.0)\n",
      "Requirement already satisfied: h2<5,>=3 in /home/mayur/.local/lib/python3.10/site-packages (from httpx>=0.27.0->chromadb>=1.0.0->chonkie[all]) (4.1.0)\n",
      "Requirement already satisfied: websocket-client!=0.40.0,!=0.41.*,!=0.42.*,>=0.32.0 in /home/mayur/.local/lib/python3.10/site-packages (from kubernetes>=28.1.0->chromadb>=1.0.0->chonkie[all]) (1.8.0)\n",
      "Requirement already satisfied: durationpy>=0.7 in /home/mayur/.local/lib/python3.10/site-packages (from kubernetes>=28.1.0->chromadb>=1.0.0->chonkie[all]) (0.10)\n",
      "Requirement already satisfied: oauthlib>=3.2.2 in /home/mayur/.local/lib/python3.10/site-packages (from kubernetes>=28.1.0->chromadb>=1.0.0->chonkie[all]) (3.2.2)\n",
      "Requirement already satisfied: python-dateutil>=2.5.3 in /home/mayur/.local/lib/python3.10/site-packages (from kubernetes>=28.1.0->chromadb>=1.0.0->chonkie[all]) (2.9.0.post0)\n",
      "Requirement already satisfied: requests-oauthlib in /home/mayur/.local/lib/python3.10/site-packages (from kubernetes>=28.1.0->chromadb>=1.0.0->chonkie[all]) (2.0.0)\n",
      "Requirement already satisfied: six>=1.9.0 in /usr/lib/python3/dist-packages (from kubernetes>=28.1.0->chromadb>=1.0.0->chonkie[all]) (1.16.0)\n",
      "Requirement already satisfied: mdurl~=0.1 in /home/mayur/.local/lib/python3.10/site-packages (from markdown-it-py>=2.2.0->rich>=13.0.0->chonkie[all]) (0.1.2)\n",
      "Requirement already satisfied: coloredlogs in /home/mayur/.local/lib/python3.10/site-packages (from onnxruntime>=1.14.1->chromadb>=1.0.0->chonkie[all]) (15.0.1)\n",
      "Requirement already satisfied: flatbuffers in /home/mayur/.local/lib/python3.10/site-packages (from onnxruntime>=1.14.1->chromadb>=1.0.0->chonkie[all]) (25.2.10)\n",
      "Requirement already satisfied: importlib-metadata<8.8.0,>=6.0 in /home/mayur/.local/lib/python3.10/site-packages (from opentelemetry-api>=1.2.0->chromadb>=1.0.0->chonkie[all]) (8.4.0)\n",
      "Requirement already satisfied: opentelemetry-exporter-otlp-proto-common==1.34.1 in /home/mayur/.local/lib/python3.10/site-packages (from opentelemetry-exporter-otlp-proto-grpc>=1.2.0->chromadb>=1.0.0->chonkie[all]) (1.34.1)\n",
      "Requirement already satisfied: googleapis-common-protos~=1.52 in /home/mayur/.local/lib/python3.10/site-packages (from opentelemetry-exporter-otlp-proto-grpc>=1.2.0->chromadb>=1.0.0->chonkie[all]) (1.66.0)\n",
      "Requirement already satisfied: opentelemetry-proto==1.34.1 in /home/mayur/.local/lib/python3.10/site-packages (from opentelemetry-exporter-otlp-proto-grpc>=1.2.0->chromadb>=1.0.0->chonkie[all]) (1.34.1)\n",
      "Requirement already satisfied: opentelemetry-instrumentation==0.55b1 in /home/mayur/.local/lib/python3.10/site-packages (from opentelemetry-instrumentation-fastapi>=0.41b0->chromadb>=1.0.0->chonkie[all]) (0.55b1)\n",
      "Requirement already satisfied: opentelemetry-util-http==0.55b1 in /home/mayur/.local/lib/python3.10/site-packages (from opentelemetry-instrumentation-fastapi>=0.41b0->chromadb>=1.0.0->chonkie[all]) (0.55b1)\n",
      "Requirement already satisfied: opentelemetry-instrumentation-asgi==0.55b1 in /home/mayur/.local/lib/python3.10/site-packages (from opentelemetry-instrumentation-fastapi>=0.41b0->chromadb>=1.0.0->chonkie[all]) (0.55b1)\n",
      "Requirement already satisfied: opentelemetry-semantic-conventions==0.55b1 in /home/mayur/.local/lib/python3.10/site-packages (from opentelemetry-instrumentation-fastapi>=0.41b0->chromadb>=1.0.0->chonkie[all]) (0.55b1)\n",
      "Requirement already satisfied: wrapt<2.0.0,>=1.0.0 in /home/mayur/.local/lib/python3.10/site-packages (from opentelemetry-instrumentation==0.55b1->opentelemetry-instrumentation-fastapi>=0.41b0->chromadb>=1.0.0->chonkie[all]) (1.17.2)\n",
      "Requirement already satisfied: asgiref~=3.0 in /home/mayur/.local/lib/python3.10/site-packages (from opentelemetry-instrumentation-asgi==0.55b1->opentelemetry-instrumentation-fastapi>=0.41b0->chromadb>=1.0.0->chonkie[all]) (3.8.1)\n",
      "Requirement already satisfied: backoff>=1.10.0 in /home/mayur/.local/lib/python3.10/site-packages (from posthog>=2.4.0->chromadb>=1.0.0->chonkie[all]) (2.2.1)\n",
      "Requirement already satisfied: monotonic>=1.5 in /usr/lib/python3/dist-packages (from posthog>=2.4.0->chromadb>=1.0.0->chonkie[all]) (1.6)\n",
      "Requirement already satisfied: charset-normalizer<4,>=2 in /home/mayur/.local/lib/python3.10/site-packages (from requests<3.0.0,>=2.0.0->cohere>=5.13.0->chonkie[all]) (3.4.0)\n",
      "Requirement already satisfied: shellingham>=1.3.0 in /home/mayur/.local/lib/python3.10/site-packages (from typer>=0.9.0->chromadb>=1.0.0->chonkie[all]) (1.5.4)\n",
      "Requirement already satisfied: watchfiles>=0.13 in /home/mayur/.local/lib/python3.10/site-packages (from uvicorn[standard]>=0.18.3->chromadb>=1.0.0->chonkie[all]) (1.1.0)\n",
      "Requirement already satisfied: httptools>=0.6.3 in /home/mayur/.local/lib/python3.10/site-packages (from uvicorn[standard]>=0.18.3->chromadb>=1.0.0->chonkie[all]) (0.6.4)\n",
      "Requirement already satisfied: uvloop!=0.15.0,!=0.15.1,>=0.14.0 in /home/mayur/.local/lib/python3.10/site-packages (from uvicorn[standard]>=0.18.3->chromadb>=1.0.0->chonkie[all]) (0.21.0)\n",
      "Requirement already satisfied: MarkupSafe>=2.0 in /home/mayur/.local/lib/python3.10/site-packages (from jinja2->model2vec>=0.3.0->chonkie[all]) (3.0.1)\n",
      "Requirement already satisfied: threadpoolctl>=3.1.0 in /home/mayur/.local/lib/python3.10/site-packages (from scikit-learn->sentence-transformers>=3.0.0->chonkie[all]) (3.5.0)\n",
      "Requirement already satisfied: hyperframe<7,>=6.0 in /home/mayur/.local/lib/python3.10/site-packages (from h2<5,>=3->httpx>=0.27.0->chromadb>=1.0.0->chonkie[all]) (6.0.1)\n",
      "Requirement already satisfied: hpack<5,>=4.0 in /home/mayur/.local/lib/python3.10/site-packages (from h2<5,>=3->httpx>=0.27.0->chromadb>=1.0.0->chonkie[all]) (4.0.0)\n",
      "Requirement already satisfied: zipp>=0.5 in /usr/lib/python3/dist-packages (from importlib-metadata<8.8.0,>=6.0->opentelemetry-api>=1.2.0->chromadb>=1.0.0->chonkie[all]) (1.0.0)\n",
      "Requirement already satisfied: pyasn1<0.7.0,>=0.4.6 in /home/mayur/.local/lib/python3.10/site-packages (from pyasn1-modules>=0.2.1->google-auth<3.0.0,>=2.14.1->google-genai>=1.0.0->chonkie[all]) (0.6.1)\n",
      "Requirement already satisfied: humanfriendly>=9.1 in /home/mayur/.local/lib/python3.10/site-packages (from coloredlogs->onnxruntime>=1.14.1->chromadb>=1.0.0->chonkie[all]) (10.0)\n"
     ]
    }
   ],
   "source": [
    "!pip install chonkie[all]\n",
    "\n",
    "#or \n",
    "\n",
    "# # Basic installation (TokenChunker, SentenceChunker, RecursiveChunker)\n",
    "# pip install chonkie\n",
    "\n",
    "# # For Hugging Face Hub support\n",
    "# pip install \"chonkie[hub]\"\n",
    "\n",
    "# # For visualization support (e.g., rich text output)\n",
    "# pip install \"chonkie[viz]\"\n",
    "\n",
    "# # For the default semantic provider support (includes Model2Vec)\n",
    "# pip install \"chonkie[semantic]\"\n",
    "\n",
    "# # For OpenAI embeddings support\n",
    "# pip install \"chonkie[openai]\"\n",
    "\n",
    "# # For Cohere embeddings support\n",
    "# pip install \"chonkie[cohere]\"\n",
    "\n",
    "# # For Jina embeddings support\n",
    "# pip install \"chonkie[jina]\"\n",
    "\n",
    "# # For SentenceTransformer embeddings support (required by LateChunker)\n",
    "# pip install \"chonkie[st]\"\n",
    "\n",
    "# # For CodeChunker support\n",
    "# pip install \"chonkie[code]\"\n",
    "\n",
    "# # For NeuralChunker support (BERT-based)\n",
    "# pip install \"chonkie[neural]\"\n",
    "\n",
    "# # For SlumberChunker support (Genie/LLM interface)\n",
    "# pip install \"chonkie[genie]\"\n",
    "\n",
    "# # For installing multiple features together\n",
    "# pip install \"chonkie[st, code, genie]\"\n",
    "\n",
    "# # For all features\n",
    "# pip install \"chonkie[all]\"\n"
   ]
  },
  {
   "cell_type": "markdown",
   "id": "4a924d31",
   "metadata": {},
   "source": [
    "### Token Chunker\n",
    "\n",
    "Split text into fixed-size token chunks with configurable overlap\n",
    "\n"
   ]
  },
  {
   "cell_type": "code",
   "execution_count": null,
   "id": "1d4b180d",
   "metadata": {},
   "outputs": [],
   "source": [
    "from chonkie import TokenChunker\n",
    "\n",
    "# Basic initialization with default parameters\n",
    "chunker = TokenChunker(\n",
    "    tokenizer=\"gpt2\",  # Supports string identifiers\n",
    "    chunk_size=512,    # Maximum tokens per chunk\n",
    "    chunk_overlap=128  # Overlap between chunks\n",
    ")\n"
   ]
  },
  {
   "cell_type": "markdown",
   "id": "76673b3e",
   "metadata": {},
   "source": [
    "### Single Text Chunking"
   ]
  },
  {
   "cell_type": "code",
   "execution_count": 3,
   "id": "a19bfb83",
   "metadata": {},
   "outputs": [
    {
     "name": "stdout",
     "output_type": "stream",
     "text": [
      "Chunk text: Some long text that needs to be chunked into smaller pieces...\n",
      "Token count: 13\n",
      "Start index: 0\n",
      "End index: 62\n"
     ]
    }
   ],
   "source": [
    "text = \"Some long text that needs to be chunked into smaller pieces...\"\n",
    "chunks = chunker.chunk(text)\n",
    "\n",
    "for chunk in chunks:\n",
    "    print(f\"Chunk text: {chunk.text}\")\n",
    "    print(f\"Token count: {chunk.token_count}\")\n",
    "    print(f\"Start index: {chunk.start_index}\")\n",
    "    print(f\"End index: {chunk.end_index}\")"
   ]
  },
  {
   "cell_type": "markdown",
   "id": "4f4b0864",
   "metadata": {},
   "source": [
    "### Batch Chunking"
   ]
  },
  {
   "cell_type": "code",
   "execution_count": null,
   "id": "0a7c9721",
   "metadata": {},
   "outputs": [],
   "source": [
    "texts = [\n",
    "    \"First document to chunk...\",\n",
    "    \"Second document to chunk...\"\n",
    "]\n",
    "batch_chunks = chunker.chunk_batch(texts)\n",
    "\n",
    "for doc_chunks in batch_chunks:\n",
    "    for chunk in doc_chunks:\n",
    "        print(f\"Chunk: {chunk.text}\")"
   ]
  },
  {
   "cell_type": "code",
   "execution_count": null,
   "id": "f0bc5214",
   "metadata": {},
   "outputs": [],
   "source": [
    "# Single text\n",
    "chunks = chunker(\"Text to chunk...\")\n",
    "\n",
    "# Multiple texts\n",
    "batch_chunks = chunker([\"Text 1...\", \"Text 2...\"])"
   ]
  },
  {
   "cell_type": "markdown",
   "id": "4502ecbb",
   "metadata": {},
   "source": [
    "### Sentence Chunker\n",
    "\n",
    "- It splits text into chunks while preserving complete sentence.\n",
    "- It ensures that each chunk maintains proper sentence boundaries and context."
   ]
  },
  {
   "cell_type": "code",
   "execution_count": 6,
   "id": "dbe1a044",
   "metadata": {},
   "outputs": [],
   "source": [
    "from chonkie import SentenceChunker\n",
    "\n",
    "# Basic initialization with default parameters\n",
    "chunker = SentenceChunker(\n",
    "    tokenizer_or_token_counter=\"gpt2\",                # Supports string identifiers\n",
    "    chunk_size=15,                  # Maximum tokens per chunk\n",
    "    chunk_overlap=2,               # Overlap between chunks\n",
    "    min_sentences_per_chunk=1        # Minimum sentences in each chunk\n",
    ")"
   ]
  },
  {
   "cell_type": "code",
   "execution_count": 7,
   "id": "85a930b7",
   "metadata": {},
   "outputs": [
    {
     "name": "stdout",
     "output_type": "stream",
     "text": [
      "Chunk text: This is the first sentence. This is the second sentence. \n",
      "Token count: 13\n",
      "Number of sentences: 2\n",
      "Chunk text: \n",
      "And here's a third one with some additional context.\n",
      "Token count: 12\n",
      "Number of sentences: 1\n"
     ]
    }
   ],
   "source": [
    "text = \"\"\"This is the first sentence. This is the second sentence. \n",
    "And here's a third one with some additional context.\"\"\"\n",
    "chunks = chunker.chunk(text)\n",
    "\n",
    "for chunk in chunks:\n",
    "    print(f\"Chunk text: {chunk.text}\")\n",
    "    print(f\"Token count: {chunk.token_count}\")\n",
    "    print(f\"Number of sentences: {len(chunk.sentences)}\")"
   ]
  },
  {
   "cell_type": "markdown",
   "id": "f896b182",
   "metadata": {},
   "source": [
    "### Recursive Chunker \n",
    "    \n",
    "- Recursively chunks documents into smaller chunks. \n",
    "- Good choice for documents that are long, well structured. For example: a book or research paper."
   ]
  },
  {
   "cell_type": "code",
   "execution_count": 8,
   "id": "d5bea22e",
   "metadata": {},
   "outputs": [],
   "source": [
    "from chonkie import RecursiveChunker, RecursiveRules\n",
    "\n",
    "chunker = RecursiveChunker(\n",
    "    tokenizer_or_token_counter = \"gpt2\",\n",
    "    chunk_size = 12,\n",
    "    rules = RecursiveRules(),\n",
    "    min_characters_per_chunk = 24,\n",
    "    return_type = \"chunks\",\n",
    ")"
   ]
  },
  {
   "cell_type": "code",
   "execution_count": null,
   "id": "cb5df0ba",
   "metadata": {},
   "outputs": [],
   "source": [
    "#https://huggingface.co/datasets/chonkie-ai/recipes/viewer/recipes?views%5B%5D=recipes\n",
    "\n",
    "from chonkie import RecursiveChunker\n",
    "\n",
    "# Initialize the recursive chunker to chunk Markdown\n",
    "chunker = RecursiveChunker.from_recipe(\"markdown\", lang=\"en\")\n",
    "\n",
    "# Initialize the recursive chunker to chunk Hindi texts\n",
    "chunker = RecursiveChunker.from_recipe(lang=\"hi\")"
   ]
  },
  {
   "cell_type": "code",
   "execution_count": 9,
   "id": "0fe0fafb",
   "metadata": {},
   "outputs": [
    {
     "name": "stdout",
     "output_type": "stream",
     "text": [
      "Chunk text: This is the first sentence. \n",
      "Token count: 7\n",
      "Chunk text: This is the second sentence. \n",
      "\n",
      "Token count: 8\n",
      "Chunk text: And here's a third one with some additional context.\n",
      "\n",
      "Token count: 12\n",
      "Chunk text: This is the first sentence.\n",
      "Token count: 6\n"
     ]
    }
   ],
   "source": [
    "text = \"\"\"This is the first sentence. This is the second sentence. \n",
    "And here's a third one with some additional context.\n",
    "This is the first sentence.\"\"\"\n",
    "\n",
    "chunks = chunker.chunk(text)\n",
    "\n",
    "for chunk in chunks:\n",
    "    print(f\"Chunk text: {chunk.text}\")\n",
    "    print(f\"Token count: {chunk.token_count}\")"
   ]
  },
  {
   "cell_type": "code",
   "execution_count": 10,
   "id": "00bd3ac6",
   "metadata": {},
   "outputs": [
    {
     "name": "stderr",
     "output_type": "stream",
     "text": [
      "huggingface/tokenizers: The current process just got forked, after parallelism has already been used. Disabling parallelism to avoid deadlocks...\n",
      "To disable this warning, you can either:\n",
      "\t- Avoid using `tokenizers` before the fork if possible\n",
      "\t- Explicitly set the environment variable TOKENIZERS_PARALLELISM=(true | false)\n",
      "huggingface/tokenizers: The current process just got forked, after parallelism has already been used. Disabling parallelism to avoid deadlocks...\n",
      "To disable this warning, you can either:\n",
      "\t- Avoid using `tokenizers` before the fork if possible\n",
      "\t- Explicitly set the environment variable TOKENIZERS_PARALLELISM=(true | false)\n",
      "huggingface/tokenizers: The current process just got forked, after parallelism has already been used. Disabling parallelism to avoid deadlocks...\n",
      "To disable this warning, you can either:\n",
      "\t- Avoid using `tokenizers` before the fork if possible\n",
      "\t- Explicitly set the environment variable TOKENIZERS_PARALLELISM=(true | false)\n",
      "huggingface/tokenizers: The current process just got forked, after parallelism has already been used. Disabling parallelism to avoid deadlocks...\n",
      "To disable this warning, you can either:\n",
      "\t- Avoid using `tokenizers` before the fork if possible\n",
      "\t- Explicitly set the environment variable TOKENIZERS_PARALLELISM=(true | false)\n",
      "huggingface/tokenizers: The current process just got forked, after parallelism has already been used. Disabling parallelism to avoid deadlocks...\n",
      "To disable this warning, you can either:\n",
      "\t- Avoid using `tokenizers` before the fork if possible\n",
      "\t- Explicitly set the environment variable TOKENIZERS_PARALLELISM=(true | false)\n",
      "huggingface/tokenizers: The current process just got forked, after parallelism has already been used. Disabling parallelism to avoid deadlocks...\n",
      "To disable this warning, you can either:\n",
      "\t- Avoid using `tokenizers` before the fork if possible\n",
      "\t- Explicitly set the environment variable TOKENIZERS_PARALLELISM=(true | false)\n",
      "huggingface/tokenizers: The current process just got forked, after parallelism has already been used. Disabling parallelism to avoid deadlocks...\n",
      "To disable this warning, you can either:\n",
      "\t- Avoid using `tokenizers` before the fork if possible\n",
      "\t- Explicitly set the environment variable TOKENIZERS_PARALLELISM=(true | false)\n",
      "huggingface/tokenizers: The current process just got forked, after parallelism has already been used. Disabling parallelism to avoid deadlocks...\n",
      "To disable this warning, you can either:\n",
      "\t- Avoid using `tokenizers` before the fork if possible\n",
      "\t- Explicitly set the environment variable TOKENIZERS_PARALLELISM=(true | false)\n",
      "🦛 choooooooooooooooooooonk 100% • 2/2 docs chunked [00:00<00:00, 11.37doc/s] 🌱\n"
     ]
    },
    {
     "name": "stdout",
     "output_type": "stream",
     "text": [
      "Chunk text: This is the first sentence. \n",
      "Token count: 7\n",
      "Chunk text: This is the second sentence. \n",
      "Token count: 7\n",
      "Chunk text: And here's a third one with some additional context.\n",
      "Token count: 11\n",
      "Chunk text: This is the first sentence. \n",
      "Token count: 7\n",
      "Chunk text: This is the second sentence. \n",
      "Token count: 7\n",
      "Chunk text: And here's a third one with some additional context.\n",
      "Token count: 11\n"
     ]
    }
   ],
   "source": [
    "texts = [\n",
    "    \"This is the first sentence. This is the second sentence. And here's a third one with some additional context.\",\n",
    "    \"This is the first sentence. This is the second sentence. And here's a third one with some additional context.\",\n",
    "]\n",
    "\n",
    "chunks = chunker.chunk_batch(texts)\n",
    "\n",
    "for chk in chunks:\n",
    "    for chunk in chk:\n",
    "        print(f\"Chunk text: {chunk.text}\")\n",
    "        print(f\"Token count: {chunk.token_count}\")"
   ]
  },
  {
   "cell_type": "code",
   "execution_count": null,
   "id": "17dddc85",
   "metadata": {},
   "outputs": [],
   "source": []
  }
 ],
 "metadata": {
  "kernelspec": {
   "display_name": "Python 3",
   "language": "python",
   "name": "python3"
  },
  "language_info": {
   "codemirror_mode": {
    "name": "ipython",
    "version": 3
   },
   "file_extension": ".py",
   "mimetype": "text/x-python",
   "name": "python",
   "nbconvert_exporter": "python",
   "pygments_lexer": "ipython3",
   "version": "3.10.12"
  }
 },
 "nbformat": 4,
 "nbformat_minor": 5
}
