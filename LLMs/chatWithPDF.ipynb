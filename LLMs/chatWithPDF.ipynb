{
 "cells": [
  {
   "cell_type": "code",
   "execution_count": 2,
   "metadata": {},
   "outputs": [],
   "source": [
    "#!pip install pypdf"
   ]
  },
  {
   "cell_type": "code",
   "execution_count": 3,
   "metadata": {},
   "outputs": [],
   "source": [
    "from langchain_community.document_loaders import PyPDFLoader\n",
    "\n",
    "loader = PyPDFLoader(\"/home/mayur/Desktop/Python-MLOps-books/python-tips-2.pdf\")\n",
    "pages = loader.load_and_split()"
   ]
  },
  {
   "cell_type": "code",
   "execution_count": 4,
   "metadata": {},
   "outputs": [
    {
     "data": {
      "text/plain": [
       "[Document(page_content=\"10 Days of Python T ips : Day-10\\nInspired by the article by Fatos Morina .  \\nLink: https://towardsdatascience.com/100-helpful-python-tips-you-can-learn-before-finishing-your -morning-coffee-eb9c39e68958\\nDo you want to learn Python, SQL, Django, Machine Learning, Deep Learning, and Statistics in one-on-one\\nclasses🤔\\nDrop me a message on LinkedIn to discuss your requirements\\nFollow me on LinkedIn for more: linkedin.com/in/arjun-panwar/\\n1. Sort elements of a string or list based on their frequency\\nCounter from the collections module by default doesn’t order elements based on their frequencies.\\nCounter({2: 5, 1: 1, 3: 1})  \\n[(2, 5), (1, 1), (3, 1)]  \\n2. Find the most frequent element in a list in just one line\\na \\n3. Difference between copy() and deepcopy()\\nIn\\xa0[3]:from collections  import Counter \\n \\nresult = Counter([1, 2, 3, 2, 2, 2, 2]) \\nprint(result)   \\nprint(result.most_common ()) \\nIn\\xa0[4]:\\nmy_list = ['1', 1, 0, 'a', 'b', 2, 'a', 'c', 'a'] \\n \\nprint(max(set(my_list), key=my_list.count))\", metadata={'source': '/home/mayur/Desktop/Python-MLOps-books/python-tips-2.pdf', 'page': 0}),\n",
       " Document(page_content=\"Here is the explanation from the docs: https://docs.python.org/3/library/copy.html#module-copy\\nA shallow copy constructs a new compound object and then (to the extent possible) inserts references into it to the\\nobjects found in the original.\\nA deep copy constructs a new compound object and then, recursively, inserts copies into it of the objects found in the\\noriginal.\\nMaybe, an even more comprehensive description can be found here:\\nA shallow copy means constructing a new collection object and then populating it with references to the child objects\\nfound in the original. In essence, a shallow copy is only one level deep. The copying process does not recurse and\\ntherefore won’t create copies of the child objects themselves.\\nA deep copy makes the copying process recursive. It means first constructing a new collection object and then\\nrecursively populating it with copies of the child objects found in the original. Copying an object this way walks the\\nwhole object tree to create a fully independent clone of the original object and all of its children.\\nHere is an example for the copy():\\n[[1, 2, 831], ['a', 'b', 'c']]  \\n[[1, 2, 831], ['a', 'b', 'c']]  \\nHere is an example for the deepcopy() case:\\nIn\\xa0[6]:first_list  = [[1, 2, 3], ['a', 'b', 'c']] \\n \\nsecond_list  = first_list .copy() \\n \\nfirst_list [0][2] = 831 \\n \\nprint(first_list )   \\nprint(second_list )   \\nIn\\xa0[7]:\\nimport copy \\n \\nfirst_list  = [[1, 2, 3], ['a', 'b', 'c']] \\n \\nsecond_list  = copy.deepcopy (first_list ) \\n \\nfirst_list [0][2] = 831\", metadata={'source': '/home/mayur/Desktop/Python-MLOps-books/python-tips-2.pdf', 'page': 1}),\n",
       " Document(page_content='[[1, 2, 831], [\\'a\\', \\'b\\', \\'c\\']]  \\n[[1, 2, 3], [\\'a\\', \\'b\\', \\'c\\']]  \\n4. You can avoid throwing errors when trying to access a non-existent key in a\\ndictionary\\nIf you use a usual dictionary and try to access a non-existent key, then you are going to get an\\nerror:\\n---------------------------------------------------------------------------  \\nKeyError                                   Traceback (most recent call last)  \\nInput In [8], in <cell line: 2> () \\n      1 my_dictonary = {\"name\": \"Name\", \"surname\": \"Surname\"} \\n----> 2 print(my_dictonary [\"age\"]) \\nKeyError : \\'age\\'\\nHere it’s the error thrown:\\nKeyError: \\'age\\'\\nWe can avoid such errors using defaultdict():\\n5. You can build your own iteratorprint(first_list )  \\nprint(second_list ) \\nIn\\xa0[8]:\\nmy_dictonary  = {\"name\": \"Name\", \"surname\" : \"Surname\" } \\nprint(my_dictonary [\"age\"])  \\nIn\\xa0[10]:\\nfrom collections  import defaultdict  \\n \\nmy_dictonary  = defaultdict (str) \\nmy_dictonary [\\'name\\'] = \"Name\" \\nmy_dictonary [\\'surname\\' ] = \"Surname\"  \\n \\nprint(my_dictonary [\"age\"]) \\nIn\\xa0[11]:\\nclass OddNumbers :', metadata={'source': '/home/mayur/Desktop/Python-MLOps-books/python-tips-2.pdf', 'page': 2}),\n",
       " Document(page_content=\"1 \\n3 \\n5 \\n6. You can remove duplicates from a list in a single line\\n[1, 2, 3, 4, 5]  \\n7. Print the place where a module is located\\n<module 'torch' from '/home/arjun/.config/jupyterlab-desktop/jlab_server/lib/python3.8/site-packages/torch/__init_\\n_.py'> \\n8. You can check whether a value is not part of a list using “not in”    def __iter__ (self): \\n        self.a = 1 \\n        return self \\n \\n    def __next__ (self): \\n        x = self.a \\n        self.a += 2 \\n        return x \\n \\n \\nodd_numbers_object  = OddNumbers () \\niterator  = iter(odd_numbers_object ) \\n \\nprint(next(iterator ))   \\nprint(next(iterator ))   \\nprint(next(iterator )) \\nIn\\xa0[12]:\\nmy_set = set([1, 2, 1, 2, 3, 4, 5]) \\nprint(list(my_set)) \\nIn\\xa0[13]:\\nimport torch \\n \\nprint(torch) \\nIn\\xa0[15]:\\nodd_numbers  = [1, 3, 5, 7, 9] \\neven_numbers  = [] \\n \\nfor i in range(9): \\n    if i not in odd_numbers :\", metadata={'source': '/home/mayur/Desktop/Python-MLOps-books/python-tips-2.pdf', 'page': 3}),\n",
       " Document(page_content=\"[0, 2, 4, 6, 8]  \\n9. Difference between sort() and sorted()\\nsort() sorts the original list.\\nsorted() returns a new sorted list.\\n['bread', 'milk', 'tea']  \\n['milk', 'bread', 'tea']  \\n['bread', 'milk', 'tea']  \\n10. Generate unique IDs using the uuid module\\nUUID stands for Universally Unique Identifier.        even_numbers .append(i) \\n \\nprint(even_numbers ) \\nIn\\xa0[16]:\\ngroceries  = ['milk', 'bread', 'tea'] \\n \\nnew_groceries  = sorted(groceries ) \\n# new_groceries = ['bread', 'milk', 'tea']  \\n \\nprint(new_groceries ) \\n \\n# groceries = ['milk', 'bread', 'tea']  \\nprint(groceries ) \\n \\ngroceries .sort() \\n \\n# groceries = ['bread', 'milk', 'tea']  \\nprint(groceries ) \\nIn\\xa0[17]:\\nimport uuid \\n \\n# Generate a UUID from a host ID, sequence number, and the current time  \\nprint(uuid.uuid1())  # 308490b6-afe4-11eb-95f7-0c4de9a0c5af  \\n \\n# Generate a random UUID  \\nprint(uuid.uuid4())\", metadata={'source': '/home/mayur/Desktop/Python-MLOps-books/python-tips-2.pdf', 'page': 4}),\n",
       " Document(page_content='ab59b740-99c5-11ed-b161-d8bbc1acd933  \\n4369c3f5-9e6c-4507-a83c-bbc23588e2a9  \\nBonus: 11. String is a primitive data type in Python\\nIf you come from a Java background, you know that String in Java is a non-primitive data type,\\nbecause it refers to an object.\\nIn Python, a string is a primitive data type.', metadata={'source': '/home/mayur/Desktop/Python-MLOps-books/python-tips-2.pdf', 'page': 5})]"
      ]
     },
     "execution_count": 4,
     "metadata": {},
     "output_type": "execute_result"
    }
   ],
   "source": [
    "pages"
   ]
  },
  {
   "cell_type": "code",
   "execution_count": null,
   "metadata": {},
   "outputs": [],
   "source": []
  }
 ],
 "metadata": {
  "kernelspec": {
   "display_name": "Python 3",
   "language": "python",
   "name": "python3"
  },
  "language_info": {
   "codemirror_mode": {
    "name": "ipython",
    "version": 3
   },
   "file_extension": ".py",
   "mimetype": "text/x-python",
   "name": "python",
   "nbconvert_exporter": "python",
   "pygments_lexer": "ipython3",
   "version": "3.9.7"
  }
 },
 "nbformat": 4,
 "nbformat_minor": 2
}
