{
 "cells": [
  {
   "cell_type": "markdown",
   "metadata": {},
   "source": [
    "### LLM Observability and evaluations"
   ]
  },
  {
   "cell_type": "code",
   "execution_count": 1,
   "metadata": {},
   "outputs": [
    {
     "name": "stdout",
     "output_type": "stream",
     "text": [
      "Defaulting to user installation because normal site-packages is not writeable\n",
      "Collecting arize-phoenix\n",
      "  Downloading arize_phoenix-10.12.0-py3-none-any.whl (4.0 MB)\n",
      "\u001b[2K     \u001b[90m━━━━━━━━━━━━━━━━━━━━━━━━━━━━━━━━━━━━━━━━\u001b[0m \u001b[32m4.0/4.0 MB\u001b[0m \u001b[31m2.6 MB/s\u001b[0m eta \u001b[36m0:00:00\u001b[0m00:01\u001b[0m00:01\u001b[0m\n",
      "\u001b[?25hRequirement already satisfied: fastapi in /home/mayur/.local/lib/python3.10/site-packages (from arize-phoenix) (0.115.6)\n",
      "Collecting arize-phoenix-otel>=0.10.3\n",
      "  Downloading arize_phoenix_otel-0.10.3-py3-none-any.whl (13 kB)\n",
      "Collecting wrapt>=1.17.2\n",
      "  Using cached wrapt-1.17.2-cp310-cp310-manylinux_2_5_x86_64.manylinux1_x86_64.manylinux_2_17_x86_64.manylinux2014_x86_64.whl (82 kB)\n",
      "Collecting strawberry-graphql==0.270.1\n",
      "  Downloading strawberry_graphql-0.270.1-py3-none-any.whl (301 kB)\n",
      "\u001b[2K     \u001b[90m━━━━━━━━━━━━━━━━━━━━━━━━━━━━━━━━━━━━━━━\u001b[0m \u001b[32m301.2/301.2 KB\u001b[0m \u001b[31m3.1 MB/s\u001b[0m eta \u001b[36m0:00:00\u001b[0m00:01\u001b[0m00:01\u001b[0m\n",
      "\u001b[?25hRequirement already satisfied: starlette in /home/mayur/.local/lib/python3.10/site-packages (from arize-phoenix) (0.41.3)\n",
      "Collecting arize-phoenix-evals>=0.20.6\n",
      "  Downloading arize_phoenix_evals-0.20.8-py3-none-any.whl (63 kB)\n",
      "\u001b[2K     \u001b[90m━━━━━━━━━━━━━━━━━━━━━━━━━━━━━━━━━━━━━━━━\u001b[0m \u001b[32m63.0/63.0 KB\u001b[0m \u001b[31m1.0 MB/s\u001b[0m eta \u001b[36m0:00:00\u001b[0ma \u001b[36m0:00:01\u001b[0m\n",
      "\u001b[?25hRequirement already satisfied: aiosqlite in /home/mayur/.local/lib/python3.10/site-packages (from arize-phoenix) (0.21.0)\n",
      "Requirement already satisfied: jinja2 in /home/mayur/.local/lib/python3.10/site-packages (from arize-phoenix) (3.1.6)\n",
      "Collecting openinference-semantic-conventions>=0.1.17\n",
      "  Downloading openinference_semantic_conventions-0.1.21-py3-none-any.whl (10 kB)\n",
      "Requirement already satisfied: httpx in /home/mayur/.local/lib/python3.10/site-packages (from arize-phoenix) (0.27.0)\n",
      "Requirement already satisfied: alembic<2,>=1.3.0 in /home/mayur/.local/lib/python3.10/site-packages (from arize-phoenix) (1.13.3)\n",
      "Requirement already satisfied: opentelemetry-proto>=1.12.0 in /home/mayur/.local/lib/python3.10/site-packages (from arize-phoenix) (1.28.2)\n",
      "Requirement already satisfied: tqdm in /home/mayur/.local/lib/python3.10/site-packages (from arize-phoenix) (4.66.5)\n",
      "Collecting email-validator\n",
      "  Downloading email_validator-2.2.0-py3-none-any.whl (33 kB)\n",
      "Requirement already satisfied: scipy in /home/mayur/.local/lib/python3.10/site-packages (from arize-phoenix) (1.11.4)\n",
      "Requirement already satisfied: uvicorn in /home/mayur/.local/lib/python3.10/site-packages (from arize-phoenix) (0.32.1)\n",
      "Collecting sqlean-py>=3.45.1\n",
      "  Downloading sqlean_py-3.49.1-cp310-cp310-manylinux_2_17_x86_64.manylinux2014_x86_64.whl (3.0 MB)\n",
      "\u001b[2K     \u001b[90m━━━━━━━━━━━━━━━━━━━━━━━━━━━━━━━━━━━━━━━━\u001b[0m \u001b[32m3.0/3.0 MB\u001b[0m \u001b[31m3.2 MB/s\u001b[0m eta \u001b[36m0:00:00\u001b[0m00:01\u001b[0m00:01\u001b[0m\n",
      "\u001b[?25hRequirement already satisfied: opentelemetry-sdk in /home/mayur/.local/lib/python3.10/site-packages (from arize-phoenix) (1.28.2)\n",
      "Requirement already satisfied: pyarrow in /home/mayur/.local/lib/python3.10/site-packages (from arize-phoenix) (17.0.0)\n",
      "Requirement already satisfied: grpcio in /home/mayur/.local/lib/python3.10/site-packages (from arize-phoenix) (1.72.1)\n",
      "Collecting arize-phoenix-client\n",
      "  Downloading arize_phoenix_client-1.10.0-py3-none-any.whl (51 kB)\n",
      "\u001b[2K     \u001b[90m━━━━━━━━━━━━━━━━━━━━━━━━━━━━━━━━━━━━━━━\u001b[0m \u001b[32m51.4/51.4 KB\u001b[0m \u001b[31m983.7 kB/s\u001b[0m eta \u001b[36m0:00:00\u001b[0m0:01\u001b[0m\n",
      "\u001b[?25hRequirement already satisfied: numpy!=2.0.0 in /home/mayur/.local/lib/python3.10/site-packages (from arize-phoenix) (1.22.0)\n",
      "Collecting grpc-interceptor\n",
      "  Downloading grpc_interceptor-0.15.4-py3-none-any.whl (20 kB)\n",
      "Requirement already satisfied: cachetools in /home/mayur/.local/lib/python3.10/site-packages (from arize-phoenix) (5.5.0)\n",
      "Requirement already satisfied: opentelemetry-semantic-conventions in /home/mayur/.local/lib/python3.10/site-packages (from arize-phoenix) (0.49b2)\n",
      "Requirement already satisfied: pydantic>=2.1.0 in /home/mayur/.local/lib/python3.10/site-packages (from arize-phoenix) (2.10.6)\n",
      "Requirement already satisfied: sqlalchemy[asyncio]<3,>=2.0.4 in /home/mayur/.local/lib/python3.10/site-packages (from arize-phoenix) (2.0.38)\n",
      "Requirement already satisfied: pandas>=1.0 in /home/mayur/.local/lib/python3.10/site-packages (from arize-phoenix) (1.5.3)\n",
      "Requirement already satisfied: typing-extensions>=4.6 in /home/mayur/.local/lib/python3.10/site-packages (from arize-phoenix) (4.13.2)\n",
      "Collecting aioitertools\n",
      "  Downloading aioitertools-0.12.0-py3-none-any.whl (24 kB)\n",
      "Requirement already satisfied: authlib in /home/mayur/.local/lib/python3.10/site-packages (from arize-phoenix) (1.3.1)\n",
      "Collecting opentelemetry-exporter-otlp\n",
      "  Downloading opentelemetry_exporter_otlp-1.34.1-py3-none-any.whl (7.0 kB)\n",
      "Requirement already satisfied: protobuf<6.0,>=3.20.2 in /home/mayur/.local/lib/python3.10/site-packages (from arize-phoenix) (5.29.5)\n",
      "Collecting openinference-instrumentation>=0.1.32\n",
      "  Downloading openinference_instrumentation-0.1.33-py3-none-any.whl (26 kB)\n",
      "Collecting python-multipart\n",
      "  Downloading python_multipart-0.0.20-py3-none-any.whl (24 kB)\n",
      "Requirement already satisfied: scikit-learn in /home/mayur/.local/lib/python3.10/site-packages (from arize-phoenix) (1.5.2)\n",
      "Requirement already satisfied: psutil in /home/mayur/.local/lib/python3.10/site-packages (from arize-phoenix) (6.1.0)\n",
      "Requirement already satisfied: python-dateutil<3.0.0,>=2.7.0 in /home/mayur/.local/lib/python3.10/site-packages (from strawberry-graphql==0.270.1->arize-phoenix) (2.9.0.post0)\n",
      "Requirement already satisfied: packaging>=23 in /home/mayur/.local/lib/python3.10/site-packages (from strawberry-graphql==0.270.1->arize-phoenix) (23.2)\n",
      "Requirement already satisfied: graphql-core<3.4.0,>=3.2.0 in /home/mayur/.local/lib/python3.10/site-packages (from strawberry-graphql==0.270.1->arize-phoenix) (3.2.4)\n",
      "Requirement already satisfied: Mako in /usr/lib/python3/dist-packages (from alembic<2,>=1.3.0->arize-phoenix) (1.1.3)\n",
      "Requirement already satisfied: opentelemetry-api in /home/mayur/.local/lib/python3.10/site-packages (from openinference-instrumentation>=0.1.32->arize-phoenix) (1.28.2)\n",
      "Requirement already satisfied: pytz>=2020.1 in /home/mayur/.local/lib/python3.10/site-packages (from pandas>=1.0->arize-phoenix) (2024.2)\n",
      "Requirement already satisfied: annotated-types>=0.6.0 in /home/mayur/.local/lib/python3.10/site-packages (from pydantic>=2.1.0->arize-phoenix) (0.7.0)\n",
      "Requirement already satisfied: pydantic-core==2.27.2 in /home/mayur/.local/lib/python3.10/site-packages (from pydantic>=2.1.0->arize-phoenix) (2.27.2)\n",
      "Requirement already satisfied: greenlet!=0.4.17 in /home/mayur/.local/lib/python3.10/site-packages (from sqlalchemy[asyncio]<3,>=2.0.4->arize-phoenix) (3.1.1)\n",
      "Requirement already satisfied: cryptography in /usr/lib/python3/dist-packages (from authlib->arize-phoenix) (3.4.8)\n",
      "Requirement already satisfied: idna>=2.0.0 in /usr/lib/python3/dist-packages (from email-validator->arize-phoenix) (3.3)\n",
      "Requirement already satisfied: dnspython>=2.0.0 in /usr/lib/python3/dist-packages (from email-validator->arize-phoenix) (2.1.0)\n",
      "Requirement already satisfied: anyio<5,>=3.4.0 in /home/mayur/.local/lib/python3.10/site-packages (from starlette->arize-phoenix) (4.9.0)\n",
      "Requirement already satisfied: certifi in /home/mayur/.local/lib/python3.10/site-packages (from httpx->arize-phoenix) (2024.8.30)\n",
      "Requirement already satisfied: sniffio in /home/mayur/.local/lib/python3.10/site-packages (from httpx->arize-phoenix) (1.3.1)\n",
      "Requirement already satisfied: httpcore==1.* in /home/mayur/.local/lib/python3.10/site-packages (from httpx->arize-phoenix) (1.0.6)\n",
      "Requirement already satisfied: h11<0.15,>=0.13 in /home/mayur/.local/lib/python3.10/site-packages (from httpcore==1.*->httpx->arize-phoenix) (0.14.0)\n",
      "Requirement already satisfied: MarkupSafe>=2.0 in /home/mayur/.local/lib/python3.10/site-packages (from jinja2->arize-phoenix) (3.0.1)\n",
      "Collecting opentelemetry-exporter-otlp-proto-grpc==1.34.1\n",
      "  Downloading opentelemetry_exporter_otlp_proto_grpc-1.34.1-py3-none-any.whl (18 kB)\n",
      "Collecting opentelemetry-exporter-otlp-proto-http==1.34.1\n",
      "  Downloading opentelemetry_exporter_otlp_proto_http-1.34.1-py3-none-any.whl (17 kB)\n",
      "Collecting opentelemetry-exporter-otlp-proto-common==1.34.1\n",
      "  Downloading opentelemetry_exporter_otlp_proto_common-1.34.1-py3-none-any.whl (18 kB)\n",
      "Requirement already satisfied: googleapis-common-protos~=1.52 in /home/mayur/.local/lib/python3.10/site-packages (from opentelemetry-exporter-otlp-proto-grpc==1.34.1->opentelemetry-exporter-otlp->arize-phoenix) (1.66.0)\n",
      "Collecting opentelemetry-sdk\n",
      "  Downloading opentelemetry_sdk-1.34.1-py3-none-any.whl (118 kB)\n",
      "\u001b[2K     \u001b[90m━━━━━━━━━━━━━━━━━━━━━━━━━━━━━━━━━━━━━━━\u001b[0m \u001b[32m118.5/118.5 KB\u001b[0m \u001b[31m1.6 MB/s\u001b[0m eta \u001b[36m0:00:00\u001b[0ma \u001b[36m0:00:01\u001b[0m\n",
      "\u001b[?25hCollecting opentelemetry-proto>=1.12.0\n",
      "  Downloading opentelemetry_proto-1.34.1-py3-none-any.whl (55 kB)\n",
      "\u001b[2K     \u001b[90m━━━━━━━━━━━━━━━━━━━━━━━━━━━━━━━━━━━━━━━\u001b[0m \u001b[32m55.7/55.7 KB\u001b[0m \u001b[31m525.4 kB/s\u001b[0m eta \u001b[36m0:00:00\u001b[0m \u001b[36m0:00:01\u001b[0m\n",
      "\u001b[?25hRequirement already satisfied: requests~=2.7 in /home/mayur/.local/lib/python3.10/site-packages (from opentelemetry-exporter-otlp-proto-http==1.34.1->opentelemetry-exporter-otlp->arize-phoenix) (2.32.3)\n",
      "Collecting opentelemetry-api\n",
      "  Downloading opentelemetry_api-1.34.1-py3-none-any.whl (65 kB)\n",
      "\u001b[2K     \u001b[90m━━━━━━━━━━━━━━━━━━━━━━━━━━━━━━━━━━━━━━━━\u001b[0m \u001b[32m65.8/65.8 KB\u001b[0m \u001b[31m1.2 MB/s\u001b[0m eta \u001b[36m0:00:00\u001b[0ma \u001b[36m0:00:01\u001b[0m\n",
      "\u001b[?25hCollecting opentelemetry-semantic-conventions\n",
      "  Downloading opentelemetry_semantic_conventions-0.55b1-py3-none-any.whl (196 kB)\n",
      "\u001b[2K     \u001b[90m━━━━━━━━━━━━━━━━━━━━━━━━━━━━━━━━━━━━━━━\u001b[0m \u001b[32m196.2/196.2 KB\u001b[0m \u001b[31m2.1 MB/s\u001b[0m eta \u001b[36m0:00:00\u001b[0m00:01\u001b[0m00:01\u001b[0m\n",
      "\u001b[?25hRequirement already satisfied: importlib-metadata<8.8.0,>=6.0 in /home/mayur/.local/lib/python3.10/site-packages (from opentelemetry-api->openinference-instrumentation>=0.1.32->arize-phoenix) (8.4.0)\n",
      "Requirement already satisfied: threadpoolctl>=3.1.0 in /home/mayur/.local/lib/python3.10/site-packages (from scikit-learn->arize-phoenix) (3.5.0)\n",
      "Requirement already satisfied: joblib>=1.2.0 in /home/mayur/.local/lib/python3.10/site-packages (from scikit-learn->arize-phoenix) (1.4.2)\n",
      "Requirement already satisfied: click>=7.0 in /home/mayur/.local/lib/python3.10/site-packages (from uvicorn->arize-phoenix) (8.1.7)\n",
      "Requirement already satisfied: exceptiongroup>=1.0.2 in /home/mayur/.local/lib/python3.10/site-packages (from anyio<5,>=3.4.0->starlette->arize-phoenix) (1.2.2)\n",
      "Requirement already satisfied: six>=1.5 in /usr/lib/python3/dist-packages (from python-dateutil<3.0.0,>=2.7.0->strawberry-graphql==0.270.1->arize-phoenix) (1.16.0)\n",
      "Requirement already satisfied: zipp>=0.5 in /usr/lib/python3/dist-packages (from importlib-metadata<8.8.0,>=6.0->opentelemetry-api->openinference-instrumentation>=0.1.32->arize-phoenix) (1.0.0)\n",
      "Requirement already satisfied: urllib3<3,>=1.21.1 in /home/mayur/.local/lib/python3.10/site-packages (from requests~=2.7->opentelemetry-exporter-otlp-proto-http==1.34.1->opentelemetry-exporter-otlp->arize-phoenix) (2.2.3)\n",
      "Requirement already satisfied: charset-normalizer<4,>=2 in /home/mayur/.local/lib/python3.10/site-packages (from requests~=2.7->opentelemetry-exporter-otlp-proto-http==1.34.1->opentelemetry-exporter-otlp->arize-phoenix) (3.4.0)\n",
      "Installing collected packages: wrapt, sqlean-py, python-multipart, opentelemetry-proto, openinference-semantic-conventions, grpc-interceptor, email-validator, aioitertools, strawberry-graphql, opentelemetry-exporter-otlp-proto-common, opentelemetry-api, opentelemetry-semantic-conventions, arize-phoenix-evals, arize-phoenix-client, opentelemetry-sdk, opentelemetry-exporter-otlp-proto-http, opentelemetry-exporter-otlp-proto-grpc, openinference-instrumentation, opentelemetry-exporter-otlp, arize-phoenix-otel, arize-phoenix\n",
      "  Attempting uninstall: wrapt\n",
      "    Found existing installation: wrapt 1.16.0\n",
      "    Uninstalling wrapt-1.16.0:\n",
      "      Successfully uninstalled wrapt-1.16.0\n",
      "  Attempting uninstall: opentelemetry-proto\n",
      "    Found existing installation: opentelemetry-proto 1.28.2\n",
      "    Uninstalling opentelemetry-proto-1.28.2:\n",
      "      Successfully uninstalled opentelemetry-proto-1.28.2\n",
      "  Attempting uninstall: opentelemetry-exporter-otlp-proto-common\n",
      "    Found existing installation: opentelemetry-exporter-otlp-proto-common 1.28.2\n",
      "    Uninstalling opentelemetry-exporter-otlp-proto-common-1.28.2:\n",
      "      Successfully uninstalled opentelemetry-exporter-otlp-proto-common-1.28.2\n",
      "  Attempting uninstall: opentelemetry-api\n",
      "    Found existing installation: opentelemetry-api 1.28.2\n",
      "    Uninstalling opentelemetry-api-1.28.2:\n",
      "      Successfully uninstalled opentelemetry-api-1.28.2\n",
      "  Attempting uninstall: opentelemetry-semantic-conventions\n",
      "    Found existing installation: opentelemetry-semantic-conventions 0.49b2\n",
      "    Uninstalling opentelemetry-semantic-conventions-0.49b2:\n",
      "      Successfully uninstalled opentelemetry-semantic-conventions-0.49b2\n",
      "  Attempting uninstall: opentelemetry-sdk\n",
      "    Found existing installation: opentelemetry-sdk 1.28.2\n",
      "    Uninstalling opentelemetry-sdk-1.28.2:\n",
      "      Successfully uninstalled opentelemetry-sdk-1.28.2\n",
      "  Attempting uninstall: opentelemetry-exporter-otlp-proto-grpc\n",
      "    Found existing installation: opentelemetry-exporter-otlp-proto-grpc 1.28.2\n",
      "    Uninstalling opentelemetry-exporter-otlp-proto-grpc-1.28.2:\n",
      "      Successfully uninstalled opentelemetry-exporter-otlp-proto-grpc-1.28.2\n",
      "\u001b[31mERROR: pip's dependency resolver does not currently take into account all the packages that are installed. This behaviour is the source of the following dependency conflicts.\n",
      "tensorflow 2.19.0 requires numpy<2.2.0,>=1.26.0, but you have numpy 1.22.0 which is incompatible.\n",
      "llama-index-core 0.11.19 requires networkx>=3.0, but you have networkx 2.8.8 which is incompatible.\n",
      "chromadb-client 0.5.23 requires numpy<2.0.0,>=1.22.5, but you have numpy 1.22.0 which is incompatible.\n",
      "athina 1.6.27 requires datasets<3.0.0,>=2.16.0, but you have datasets 3.6.0 which is incompatible.\n",
      "athina 1.6.27 requires tokenizers<0.20,>=0.19, but you have tokenizers 0.21.0 which is incompatible.\u001b[0m\u001b[31m\n",
      "\u001b[0mSuccessfully installed aioitertools-0.12.0 arize-phoenix-10.12.0 arize-phoenix-client-1.10.0 arize-phoenix-evals-0.20.8 arize-phoenix-otel-0.10.3 email-validator-2.2.0 grpc-interceptor-0.15.4 openinference-instrumentation-0.1.33 openinference-semantic-conventions-0.1.21 opentelemetry-api-1.34.1 opentelemetry-exporter-otlp-1.34.1 opentelemetry-exporter-otlp-proto-common-1.34.1 opentelemetry-exporter-otlp-proto-grpc-1.34.1 opentelemetry-exporter-otlp-proto-http-1.34.1 opentelemetry-proto-1.34.1 opentelemetry-sdk-1.34.1 opentelemetry-semantic-conventions-0.55b1 python-multipart-0.0.20 sqlean-py-3.49.1 strawberry-graphql-0.270.1 wrapt-1.17.2\n"
     ]
    }
   ],
   "source": [
    "!pip install arize-phoenix\n",
    "#!pip install --upgrade scikit-learn\n",
    "#!pip install langchain\n",
    "#!pip install transformers\n",
    "#!pip install torch\n",
    "#!pip install pydantic==1.10.8\n",
    "#!pip install typing-inspect==0.8.0 typing_extensions==4.5.0\n",
    "!pip -q install cohere"
   ]
  },
  {
   "cell_type": "code",
   "execution_count": null,
   "metadata": {},
   "outputs": [],
   "source": [
    "import phoenix as px\n",
    "import langchain\n",
    "import transformers\n",
    "import os\n",
    "from phoenix.trace.langchain import LangChainInstrumentor\n",
    "import cohere\n",
    "from dotenv import load_dotenv"
   ]
  },
  {
   "cell_type": "code",
   "execution_count": null,
   "metadata": {},
   "outputs": [],
   "source": [
    "load_dotenv()"
   ]
  },
  {
   "cell_type": "code",
   "execution_count": null,
   "metadata": {},
   "outputs": [],
   "source": [
    "key = os.getenv('COHERE_API_KEY')"
   ]
  },
  {
   "cell_type": "code",
   "execution_count": null,
   "metadata": {},
   "outputs": [],
   "source": [
    "co = cohere.Client(key)"
   ]
  },
  {
   "cell_type": "code",
   "execution_count": null,
   "metadata": {},
   "outputs": [],
   "source": [
    "# Launch phoenix\n",
    "session = px.launch_app()"
   ]
  },
  {
   "cell_type": "code",
   "execution_count": null,
   "metadata": {},
   "outputs": [],
   "source": [
    "# # By default, the traces will be exported to the locally running Phoenix server.\n",
    "LangChainInstrumentor().instrument()"
   ]
  },
  {
   "cell_type": "code",
   "execution_count": null,
   "metadata": {},
   "outputs": [],
   "source": [
    "from langchain.llms.huggingface_pipeline import HuggingFacePipeline"
   ]
  },
  {
   "cell_type": "code",
   "execution_count": null,
   "metadata": {},
   "outputs": [],
   "source": [
    "from langchain.llms import HuggingFacePipeline\n",
    "model_name = \"bigscience/bloomz-560m\"\n",
    "\n",
    "hf = HuggingFacePipeline.from_model_id(\n",
    "    model_id=model_name,\n",
    "    task=\"text-generation\",\n",
    "    pipeline_kwargs={\"max_new_tokens\": 64},\n",
    "    device_map='auto',\n",
    ")"
   ]
  },
  {
   "cell_type": "code",
   "execution_count": null,
   "metadata": {},
   "outputs": [],
   "source": [
    "from langchain.prompts import PromptTemplate\n",
    "\n",
    "template = \"\"\"Question: {question}\n",
    "\n",
    "Answer: \"\"\"\n",
    "prompt = PromptTemplate.from_template(template)\n",
    "\n",
    "chain = prompt | hf\n",
    "\n",
    "question = \"Who is Obama?\"\n",
    "\n",
    "print(chain.invoke({\"question\": question}))"
   ]
  },
  {
   "cell_type": "code",
   "execution_count": null,
   "metadata": {},
   "outputs": [],
   "source": [
    "import pandas as pd"
   ]
  },
  {
   "cell_type": "code",
   "execution_count": null,
   "metadata": {},
   "outputs": [],
   "source": [
    "df = pd.read_csv('all-data.csv', encoding='cp1252')"
   ]
  },
  {
   "cell_type": "code",
   "execution_count": null,
   "metadata": {},
   "outputs": [],
   "source": [
    "df.head()"
   ]
  },
  {
   "cell_type": "code",
   "execution_count": null,
   "metadata": {},
   "outputs": [],
   "source": [
    "MY_CUSTOM_TEMPLATE = '''\n",
    "    You are evaluating the positive, negative and neutral of the responses to query.\n",
    "    [BEGIN DATA]\n",
    "    ************\n",
    "    [review]: {review}\n",
    "    ************\n",
    "    [Response]: {response}\n",
    "    [END DATA]\n",
    "\n",
    "\n",
    "    Please focus on the tone of the response.\n",
    "    Your answer must be single word, either \"positive\" or \"negative\"\n",
    "    '''"
   ]
  },
  {
   "cell_type": "code",
   "execution_count": null,
   "metadata": {},
   "outputs": [],
   "source": []
  },
  {
   "cell_type": "code",
   "execution_count": null,
   "metadata": {},
   "outputs": [],
   "source": [
    "from phoenix.experimental.evals import (\n",
    "    llm_classify\n",
    ")\n",
    "\n",
    "rails = ['neutral', 'positive', 'negative']\n",
    "#The rails is used to hold the output to specific values based on the template\n",
    "#It will remove text such as \",,,\" or \"...\"\n",
    "#Will ensure the binary value expected from the template is returned\n",
    "#rails = list(RAG_RELEVANCY_PROMPT_RAILS_MAP.values())\n",
    "relevance_classifications = llm_classify(\n",
    "    dataframe=df,\n",
    "    template=MY_CUSTOM_TEMPLATE,\n",
    "    model=hf,\n",
    "    rails=rails,\n",
    "    provide_explanation=True\n",
    ")\n",
    "#relevance_classifications is a Dataframe with columns 'label' and 'explanation'"
   ]
  },
  {
   "cell_type": "code",
   "execution_count": null,
   "metadata": {},
   "outputs": [],
   "source": [
    "from phoenix.experimental.evals import llm_generate"
   ]
  },
  {
   "cell_type": "code",
   "execution_count": null,
   "metadata": {},
   "outputs": [],
   "source": [
    "llm_generate"
   ]
  }
 ],
 "metadata": {
  "kernelspec": {
   "display_name": "Python 3",
   "language": "python",
   "name": "python3"
  },
  "language_info": {
   "codemirror_mode": {
    "name": "ipython",
    "version": 3
   },
   "file_extension": ".py",
   "mimetype": "text/x-python",
   "name": "python",
   "nbconvert_exporter": "python",
   "pygments_lexer": "ipython3",
   "version": "3.10.12"
  }
 },
 "nbformat": 4,
 "nbformat_minor": 4
}
