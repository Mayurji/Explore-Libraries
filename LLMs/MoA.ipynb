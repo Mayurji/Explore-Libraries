{
 "cells": [
  {
   "cell_type": "code",
   "execution_count": 1,
   "metadata": {},
   "outputs": [
    {
     "name": "stdout",
     "output_type": "stream",
     "text": [
      "Collecting ortools\n",
      "  Downloading ortools-9.12.4544-cp39-cp39-manylinux_2_27_x86_64.manylinux_2_28_x86_64.whl.metadata (3.3 kB)\n",
      "Collecting absl-py>=2.0.0 (from ortools)\n",
      "  Downloading absl_py-2.1.0-py3-none-any.whl.metadata (2.3 kB)\n",
      "Requirement already satisfied: numpy>=1.13.3 in /home/mayur/Documents/Explore Libraries/Explore-Libraries/.venv/lib/python3.9/site-packages (from ortools) (2.0.2)\n",
      "Collecting pandas>=2.0.0 (from ortools)\n",
      "  Using cached pandas-2.2.3-cp39-cp39-manylinux_2_17_x86_64.manylinux2014_x86_64.whl.metadata (89 kB)\n",
      "Collecting protobuf<5.30,>=5.29.3 (from ortools)\n",
      "  Using cached protobuf-5.29.3-cp38-abi3-manylinux2014_x86_64.whl.metadata (592 bytes)\n",
      "Collecting immutabledict>=3.0.0 (from ortools)\n",
      "  Downloading immutabledict-4.2.1-py3-none-any.whl.metadata (3.5 kB)\n",
      "Requirement already satisfied: python-dateutil>=2.8.2 in /home/mayur/Documents/Explore Libraries/Explore-Libraries/.venv/lib/python3.9/site-packages (from pandas>=2.0.0->ortools) (2.9.0.post0)\n",
      "Collecting pytz>=2020.1 (from pandas>=2.0.0->ortools)\n",
      "  Using cached pytz-2025.1-py2.py3-none-any.whl.metadata (22 kB)\n",
      "Collecting tzdata>=2022.7 (from pandas>=2.0.0->ortools)\n",
      "  Using cached tzdata-2025.1-py2.py3-none-any.whl.metadata (1.4 kB)\n",
      "Requirement already satisfied: six>=1.5 in /home/mayur/Documents/Explore Libraries/Explore-Libraries/.venv/lib/python3.9/site-packages (from python-dateutil>=2.8.2->pandas>=2.0.0->ortools) (1.17.0)\n",
      "Downloading ortools-9.12.4544-cp39-cp39-manylinux_2_27_x86_64.manylinux_2_28_x86_64.whl (24.9 MB)\n",
      "\u001b[2K   \u001b[90m━━━━━━━━━━━━━━━━━━━━━━━━━━━━━━━━━━━━━━━━\u001b[0m \u001b[32m24.9/24.9 MB\u001b[0m \u001b[31m2.4 MB/s\u001b[0m eta \u001b[36m0:00:00\u001b[0m00:01\u001b[0m00:01\u001b[0m\n",
      "\u001b[?25hDownloading absl_py-2.1.0-py3-none-any.whl (133 kB)\n",
      "Downloading immutabledict-4.2.1-py3-none-any.whl (4.7 kB)\n",
      "Using cached pandas-2.2.3-cp39-cp39-manylinux_2_17_x86_64.manylinux2014_x86_64.whl (13.1 MB)\n",
      "Using cached protobuf-5.29.3-cp38-abi3-manylinux2014_x86_64.whl (319 kB)\n",
      "Downloading pytz-2025.1-py2.py3-none-any.whl (507 kB)\n",
      "Downloading tzdata-2025.1-py2.py3-none-any.whl (346 kB)\n",
      "Installing collected packages: pytz, tzdata, protobuf, immutabledict, absl-py, pandas, ortools\n",
      "Successfully installed absl-py-2.1.0 immutabledict-4.2.1 ortools-9.12.4544 pandas-2.2.3 protobuf-5.29.3 pytz-2025.1 tzdata-2025.1\n",
      "\n",
      "\u001b[1m[\u001b[0m\u001b[34;49mnotice\u001b[0m\u001b[1;39;49m]\u001b[0m\u001b[39;49m A new release of pip is available: \u001b[0m\u001b[31;49m24.3.1\u001b[0m\u001b[39;49m -> \u001b[0m\u001b[32;49m25.0.1\u001b[0m\n",
      "\u001b[1m[\u001b[0m\u001b[34;49mnotice\u001b[0m\u001b[1;39;49m]\u001b[0m\u001b[39;49m To update, run: \u001b[0m\u001b[32;49mpip install --upgrade pip\u001b[0m\n"
     ]
    }
   ],
   "source": [
    "!pip install ortools"
   ]
  },
  {
   "cell_type": "code",
   "execution_count": 4,
   "metadata": {},
   "outputs": [
    {
     "name": "stdout",
     "output_type": "stream",
     "text": [
      "Number of variables = 2\n",
      "Number of constraints = 1\n",
      "Solving with Glop solver v9.12.4544\n",
      "Status: 0\n",
      "Solution:\n",
      "Objective value = 4.0\n",
      "x = 1.0\n",
      "y = 1.0\n"
     ]
    }
   ],
   "source": [
    "from ortools.init.python import init\n",
    "from ortools.linear_solver import pywraplp\n",
    "\n",
    "# Create the linear solver with the GLOP backend.\n",
    "solver = pywraplp.Solver.CreateSolver(\"GLOP\")\n",
    "if not solver:\n",
    "    print(\"Could not create solver GLOP\")\n",
    "\n",
    "# Create the variables x and y.\n",
    "x_var = solver.NumVar(0, 1, \"x\")\n",
    "y_var = solver.NumVar(0, 2, \"y\")\n",
    "\n",
    "print(\"Number of variables =\", solver.NumVariables())\n",
    "\n",
    "infinity = solver.infinity()\n",
    "# Create a linear constraint, x + y <= 2.\n",
    "constraint = solver.Constraint(-infinity, 2, \"ct\")\n",
    "constraint.SetCoefficient(x_var, 1)\n",
    "constraint.SetCoefficient(y_var, 1)\n",
    "\n",
    "print(\"Number of constraints =\", solver.NumConstraints())\n",
    "\n",
    "# Create the objective function, 3 * x + y.\n",
    "objective = solver.Objective()\n",
    "objective.SetCoefficient(x_var, 3)\n",
    "objective.SetCoefficient(y_var, 1)\n",
    "objective.SetMaximization()\n",
    "\n",
    "print(f\"Solving with {solver.SolverVersion()}\")\n",
    "result_status = solver.Solve()\n",
    "print(f\"Status: {result_status}\")\n",
    "if result_status != pywraplp.Solver.OPTIMAL:\n",
    "    print(\"The problem does not have an optimal solution!\")\n",
    "    if result_status == pywraplp.Solver.FEASIBLE:\n",
    "        print(\"A potentially suboptimal solution was found\")\n",
    "    else:\n",
    "        print(\"The solver could not solve the problem.\")\n",
    "    \n",
    "\n",
    "print(\"Solution:\")\n",
    "print(\"Objective value =\", objective.Value())\n",
    "print(\"x =\", x_var.solution_value())\n",
    "print(\"y =\", y_var.solution_value())"
   ]
  },
  {
   "cell_type": "code",
   "execution_count": null,
   "metadata": {},
   "outputs": [],
   "source": []
  }
 ],
 "metadata": {
  "kernelspec": {
   "display_name": ".venv",
   "language": "python",
   "name": "python3"
  },
  "language_info": {
   "codemirror_mode": {
    "name": "ipython",
    "version": 3
   },
   "file_extension": ".py",
   "mimetype": "text/x-python",
   "name": "python",
   "nbconvert_exporter": "python",
   "pygments_lexer": "ipython3",
   "version": "3.9.21"
  }
 },
 "nbformat": 4,
 "nbformat_minor": 2
}
