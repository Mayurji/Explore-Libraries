{
 "cells": [
  {
   "cell_type": "markdown",
   "id": "0b3ac557",
   "metadata": {},
   "source": [
    "### Implementing ReAct Agents With LangGraph\n",
    "\n",
    "ReACT (Reasoning and Acting) Agents are AI systems that combine reasoning capabilities of LLMs with action execution, \\\n",
    "enabling them to iteratively think through problems, use tools, and act based on observations to achieve the user goals.\n",
    "\n",
    "The ReAct agent:\n",
    "\n",
    "1. Takes a user query as input\n",
    "2. Reasons about the query and decides on an action\n",
    "3. Executes the chosen action using available tools\n",
    "4. Observes the result of the action\n",
    "5. Repeats steps 2-4 until it can provide a final answer\n",
    "\n",
    "**LangGraph models agent as graphs. You define the behavior of agents using three key components:**\n",
    "\n",
    "State: Shared data structure that represents the current snapshot of your application. It can be any Python type, \\\n",
    "but is typically a TypedDict or Pydantic BaseModel, which is shared across all nodes.\n",
    "\n",
    "Nodes: Encodes logic of your agents. They receive the current State as input, perform some computation or side-effect,\n",
    "and return an updated State, e.g. LLM calls, tool calls, etc. \n",
    "\n",
    "Edges: Determine which Node to execute next based on the current State. They can be conditional branches or fixed transitions."
   ]
  },
  {
   "cell_type": "code",
   "execution_count": null,
   "id": "03879bff",
   "metadata": {},
   "outputs": [],
   "source": [
    "!pip install langgraph langchain-google-genai geopy requests"
   ]
  },
  {
   "cell_type": "code",
   "execution_count": 2,
   "id": "cc586e63",
   "metadata": {},
   "outputs": [],
   "source": [
    "import os\n",
    "from dotenv import load_dotenv"
   ]
  },
  {
   "cell_type": "code",
   "execution_count": 7,
   "id": "d43cc10b",
   "metadata": {},
   "outputs": [],
   "source": [
    "load_dotenv()\n",
    "\n",
    "#os.environ['API_KEY'] = os.getenv('GEMINI_API_KEY')\n",
    "api_key = os.getenv('GEMINI_API_KEY')"
   ]
  },
  {
   "cell_type": "code",
   "execution_count": 4,
   "id": "33b1f7b0",
   "metadata": {},
   "outputs": [],
   "source": [
    "from typing import Annotated,Sequence, TypedDict\n",
    " \n",
    "from langchain_core.messages import BaseMessage \n",
    "from langgraph.graph.message import add_messages # helper function to add messages to the state\n",
    " \n",
    " \n",
    "class AgentState(TypedDict):\n",
    "    \"\"\"The state of the agent.\"\"\"\n",
    "    messages: Annotated[Sequence[BaseMessage], add_messages]\n",
    "    number_of_steps: int"
   ]
  },
  {
   "cell_type": "code",
   "execution_count": 5,
   "id": "af1ddecf",
   "metadata": {},
   "outputs": [],
   "source": [
    "from langchain_core.tools import tool\n",
    "from geopy.geocoders import Nominatim\n",
    "from pydantic import BaseModel, Field\n",
    "import requests\n",
    " \n",
    "geolocator = Nominatim(user_agent=\"weather-app\") \n",
    " \n",
    "class SearchInput(BaseModel):\n",
    "    location:str = Field(description=\"The city and state, e.g., San Francisco\")\n",
    "    date:str = Field(description=\"the forecasting date for when to get the weather format (yyyy-mm-dd)\")\n",
    " \n",
    "@tool(\"get_weather_forecast\", args_schema=SearchInput, return_direct=True)\n",
    "def get_weather_forecast(location: str, date: str):\n",
    "    \"\"\"Retrieves the weather using Open-Meteo API for a given location (city) and a date (yyyy-mm-dd). Returns a list dictionary with the time and temperature for each hour.\"\"\"\n",
    "    location = geolocator.geocode(location)\n",
    "    if location:\n",
    "        try:\n",
    "            response = requests.get(f\"https://api.open-meteo.com/v1/forecast?latitude={location.latitude}&longitude={location.longitude}&hourly=temperature_2m&start_date={date}&end_date={date}\")\n",
    "            data = response.json()\n",
    "            return {time: temp for time, temp in zip(data[\"hourly\"][\"time\"], data[\"hourly\"][\"temperature_2m\"])}\n",
    "        except Exception as e:\n",
    "            return {\"error\": str(e)}\n",
    "    else:\n",
    "        return {\"error\": \"Location not found\"}\n",
    " \n",
    "tools = [get_weather_forecast]"
   ]
  },
  {
   "cell_type": "code",
   "execution_count": 9,
   "id": "19e6286e",
   "metadata": {},
   "outputs": [
    {
     "data": {
      "text/plain": [
       "AIMessage(content='', additional_kwargs={'function_call': {'name': 'get_weather_forecast', 'arguments': '{\"date\": \"2025-07-20\", \"location\": \"Chennai\"}'}}, response_metadata={'prompt_feedback': {'block_reason': 0, 'safety_ratings': []}, 'finish_reason': 'STOP', 'model_name': 'gemini-2.5-flash', 'safety_ratings': []}, id='run--f5761955-88ee-45a9-99da-a5c0fd56dc3a-0', tool_calls=[{'name': 'get_weather_forecast', 'args': {'date': '2025-07-20', 'location': 'Chennai'}, 'id': 'e3601514-558a-4f01-91aa-d43ef9f240e4', 'type': 'tool_call'}], usage_metadata={'input_tokens': 132, 'output_tokens': 31, 'total_tokens': 274, 'input_token_details': {'cache_read': 0}, 'output_token_details': {'reasoning': 111}})"
      ]
     },
     "execution_count": 9,
     "metadata": {},
     "output_type": "execute_result"
    }
   ],
   "source": [
    "from langchain_google_genai import ChatGoogleGenerativeAI\n",
    "  \n",
    "# Create LLM class \n",
    "llm = ChatGoogleGenerativeAI(\n",
    "    model= \"gemini-2.5-flash\", # replace with \"gemini-2.0-flash\"\n",
    "    temperature=1.0,\n",
    "    max_tokens=None,\n",
    "    timeout=None,\n",
    "    max_retries=2,\n",
    "    google_api_key=api_key,\n",
    ")\n",
    " \n",
    "# Bind tools to the model\n",
    "model = llm.bind_tools([get_weather_forecast])\n",
    " \n",
    "# Test the model with tools\n",
    "model.invoke(\"What is the weather in Chennai on 20th of July 2025?\")"
   ]
  },
  {
   "cell_type": "code",
   "execution_count": 10,
   "id": "ef65400e",
   "metadata": {},
   "outputs": [],
   "source": [
    "import json\n",
    "from langchain_core.messages import ToolMessage, SystemMessage\n",
    "from langchain_core.runnables import RunnableConfig\n",
    " \n",
    "tools_by_name = {tool.name: tool for tool in tools}\n",
    " \n",
    "# this is similar to customizing the create_react_agent with 'prompt' parameter, but is more flexible\n",
    "# system_prompt = SystemMessage(\n",
    "#     \"You are a helpful assistant that use tools to access and retrieve information from a weather API. Today is 2025-03-04. Help the user with their questions. Use the history to answer the question.\"\n",
    "# )\n",
    " \n",
    "# Define our tool node\n",
    "def call_tool(state: AgentState):\n",
    "    outputs = []\n",
    "    # Iterate over the tool calls in the last message\n",
    "    for tool_call in state[\"messages\"][-1].tool_calls:\n",
    "        # Get the tool by name\n",
    "        tool_result = tools_by_name[tool_call[\"name\"]].invoke(tool_call[\"args\"])\n",
    "        outputs.append(\n",
    "            ToolMessage(\n",
    "                content=tool_result,\n",
    "                name=tool_call[\"name\"],\n",
    "                tool_call_id=tool_call[\"id\"],\n",
    "            )\n",
    "        )\n",
    "    return {\"messages\": outputs}\n",
    " \n",
    "def call_model(\n",
    "    state: AgentState,\n",
    "    config: RunnableConfig,\n",
    "):\n",
    "    # Invoke the model with the system prompt and the messages\n",
    "    response = model.invoke(state[\"messages\"], config)\n",
    "    # We return a list, because this will get added to the existing messages state using the add_messages reducer\n",
    "    return {\"messages\": [response]}\n",
    " \n",
    " \n",
    "# Define the conditional edge that determines whether to continue or not\n",
    "def should_continue(state: AgentState):\n",
    "    messages = state[\"messages\"]\n",
    "    # If the last message is not a tool call, then we finish\n",
    "    if not messages[-1].tool_calls:\n",
    "        return \"end\"\n",
    "    # default to continue\n",
    "    return \"continue\""
   ]
  },
  {
   "cell_type": "code",
   "execution_count": 11,
   "id": "b49b7112",
   "metadata": {},
   "outputs": [],
   "source": [
    "from langgraph.graph import StateGraph, END\n",
    " \n",
    "# Define a new graph with our state\n",
    "workflow = StateGraph(AgentState)\n",
    " \n",
    "# 1. Add our nodes \n",
    "workflow.add_node(\"llm\", call_model)\n",
    "workflow.add_node(\"tools\",  call_tool)\n",
    "# 2. Set the entrypoint as `agent`, this is the first node called\n",
    "workflow.set_entry_point(\"llm\")\n",
    "# 3. Add a conditional edge after the `llm` node is called.\n",
    "workflow.add_conditional_edges(\n",
    "    # Edge is used after the `llm` node is called.\n",
    "    \"llm\",\n",
    "    # The function that will determine which node is called next.\n",
    "    should_continue,\n",
    "    # Mapping for where to go next, keys are strings from the function return, and the values are other nodes.\n",
    "    # END is a special node marking that the graph is finish.\n",
    "    {\n",
    "        # If `tools`, then we call the tool node.\n",
    "        \"continue\": \"tools\",\n",
    "        # Otherwise we finish.\n",
    "        \"end\": END,\n",
    "    },\n",
    ")\n",
    "# 4. Add a normal edge after `tools` is called, `llm` node is called next.\n",
    "workflow.add_edge(\"tools\", \"llm\")\n",
    " \n",
    "# Now we can compile and visualize our graph\n",
    "graph = workflow.compile()"
   ]
  },
  {
   "cell_type": "code",
   "execution_count": 12,
   "id": "e613d89d",
   "metadata": {},
   "outputs": [
    {
     "data": {
      "image/png": "[encoded data removed]",
      "text/plain": [
       "<IPython.core.display.Image object>"
      ]
     },
     "metadata": {},
     "output_type": "display_data"
    }
   ],
   "source": [
    " \n",
    "from IPython.display import Image, display\n",
    " \n",
    "display(Image(graph.get_graph().draw_mermaid_png()))"
   ]
  },
  {
   "cell_type": "code",
   "execution_count": 14,
   "id": "3e5f69f3",
   "metadata": {},
   "outputs": [
    {
     "name": "stdout",
     "output_type": "stream",
     "text": [
      "================================\u001b[1m Human Message \u001b[0m=================================\n",
      "\n",
      "How is the weather in Chennai on 20th of July 2025?\n",
      "==================================\u001b[1m Ai Message \u001b[0m==================================\n",
      "Tool Calls:\n",
      "  get_weather_forecast (6519abba-a3de-4494-8b67-1e09ce50faff)\n",
      " Call ID: 6519abba-a3de-4494-8b67-1e09ce50faff\n",
      "  Args:\n",
      "    date: 2025-07-20\n",
      "    location: Chennai\n",
      "=================================\u001b[1m Tool Message \u001b[0m=================================\n",
      "Name: get_weather_forecast\n",
      "\n",
      "{'2025-07-20T00:00': 26.4, '2025-07-20T01:00': 26.3, '2025-07-20T02:00': 26.6, '2025-07-20T03:00': 27.2, '2025-07-20T04:00': 27.9, '2025-07-20T05:00': 29.1, '2025-07-20T06:00': 30.2, '2025-07-20T07:00': 30.9, '2025-07-20T08:00': 31.7, '2025-07-20T09:00': 31.9, '2025-07-20T10:00': 31.8, '2025-07-20T11:00': 31.3, '2025-07-20T12:00': 30.2, '2025-07-20T13:00': 28.9, '2025-07-20T14:00': 28.5, '2025-07-20T15:00': 28.5, '2025-07-20T16:00': 28.1, '2025-07-20T17:00': 27.9, '2025-07-20T18:00': 27.7, '2025-07-20T19:00': 27.4, '2025-07-20T20:00': 27.1, '2025-07-20T21:00': 26.8, '2025-07-20T22:00': 26.6, '2025-07-20T23:00': 26.4}\n",
      "==================================\u001b[1m Ai Message \u001b[0m==================================\n",
      "\n",
      "The weather in Chennai on July 20th, 2025, will have temperatures ranging from 26.3°C to 31.9°C.\n",
      "\n",
      "Here is the hourly breakdown:\n",
      "* 00:00: 26.4°C\n",
      "* 01:00: 26.3°C\n",
      "* 02:00: 26.6°C\n",
      "* 03:00: 27.2°C\n",
      "* 04:00: 27.9°C\n",
      "* 05:00: 29.1°C\n",
      "* 06:00: 30.2°C\n",
      "* 07:00: 30.9°C\n",
      "* 08:00: 31.7°C\n",
      "* 09:00: 31.9°C\n",
      "* 10:00: 31.8°C\n",
      "* 11:00: 31.3°C\n",
      "* 12:00: 30.2°C\n",
      "* 13:00: 28.9°C\n",
      "* 14:00: 28.5°C\n",
      "* 15:00: 28.5°C\n",
      "* 16:00: 28.1°C\n",
      "* 17:00: 27.9°C\n",
      "* 18:00: 27.7°C\n",
      "* 19:00: 27.4°C\n",
      "* 20:00: 27.1°C\n",
      "* 21:00: 26.8°C\n",
      "* 22:00: 26.6°C\n",
      "* 23:00: 26.4°C\n"
     ]
    }
   ],
   "source": [
    "# Create our initial message dictionary\n",
    "inputs = {\"messages\": [(\"user\", \"How is the weather in Chennai on 20th of July 2025?\")]}\n",
    " \n",
    "# call our graph with streaming to see the steps\n",
    " \n",
    "for state in graph.stream(inputs, stream_mode=\"values\"):\n",
    "    last_message = state[\"messages\"][-1]\n",
    "    last_message.pretty_print()"
   ]
  },
  {
   "cell_type": "code",
   "execution_count": null,
   "id": "bd67b952",
   "metadata": {},
   "outputs": [],
   "source": []
  }
 ],
 "metadata": {
  "kernelspec": {
   "display_name": "Python 3",
   "language": "python",
   "name": "python3"
  },
  "language_info": {
   "codemirror_mode": {
    "name": "ipython",
    "version": 3
   },
   "file_extension": ".py",
   "mimetype": "text/x-python",
   "name": "python",
   "nbconvert_exporter": "python",
   "pygments_lexer": "ipython3",
   "version": "3.10.12"
  }
 },
 "nbformat": 4,
 "nbformat_minor": 5
}
