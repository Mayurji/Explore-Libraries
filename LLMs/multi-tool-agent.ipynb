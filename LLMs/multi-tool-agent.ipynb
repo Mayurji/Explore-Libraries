{
 "cells": [
  {
   "cell_type": "markdown",
   "metadata": {},
   "source": [
    "## Agent With Multi-Tool"
   ]
  },
  {
   "cell_type": "code",
   "execution_count": 16,
   "metadata": {},
   "outputs": [],
   "source": [
    "#!pip install langchain langchain_cohere langchain_experimental faiss-cpu tiktoken"
   ]
  },
  {
   "cell_type": "code",
   "execution_count": 20,
   "metadata": {},
   "outputs": [],
   "source": [
    "import os, dotenv\n",
    "\n",
    "dotenv.load_dotenv()\n",
    "\n",
    "COHERE_API_KEY = os.getenv(\"COHERE_API_KEY\")\n",
    "#os.environ[\"TAVILY_API_KEY\"] = os.getenv('TAVILY_API_KEY')"
   ]
  },
  {
   "cell_type": "markdown",
   "metadata": {},
   "source": [
    "### WebSearch Using Tavily"
   ]
  },
  {
   "cell_type": "code",
   "execution_count": 21,
   "metadata": {},
   "outputs": [],
   "source": [
    "from langchain_community.tools.tavily_search import TavilySearchResults\n",
    "\n",
    "internet_search = TavilySearchResults()\n",
    "internet_search.name = \"internet_search\"\n",
    "internet_search.description = \"Returns a list of relevant document snippets for a textual query retrieved from the internet.\"\n",
    "\n",
    "\n",
    "from langchain_core.pydantic_v1 import BaseModel, Field\n",
    "class TavilySearchInput(BaseModel):\n",
    "    query: str = Field(description=\"Query to search the internet with\")\n",
    "internet_search.args_schema = TavilySearchInput"
   ]
  },
  {
   "cell_type": "markdown",
   "metadata": {},
   "source": [
    "### Vector Store Tool"
   ]
  },
  {
   "cell_type": "code",
   "execution_count": 22,
   "metadata": {},
   "outputs": [],
   "source": [
    "from langchain.text_splitter import RecursiveCharacterTextSplitter\n",
    "from langchain_community.document_loaders import WebBaseLoader\n",
    "from langchain_community.vectorstores import FAISS\n",
    "from langchain_cohere import CohereEmbeddings\n",
    "\n",
    "# Set embeddings\n",
    "embd = CohereEmbeddings()\n",
    "\n",
    "# Docs to index\n",
    "urls = [\n",
    "    \"https://paulgraham.com/best.html\",\n",
    "]\n",
    "\n",
    "# Load\n",
    "docs = [WebBaseLoader(url).load() for url in urls]\n",
    "docs_list = [item for sublist in docs for item in sublist]\n",
    "\n",
    "# Split\n",
    "text_splitter = RecursiveCharacterTextSplitter.from_tiktoken_encoder(\n",
    "    chunk_size=512, chunk_overlap=0\n",
    ")\n",
    "doc_splits = text_splitter.split_documents(docs_list)\n",
    "\n",
    "# Add to vectorstore\n",
    "vectorstore = FAISS.from_documents(\n",
    "    documents=doc_splits,\n",
    "    embedding=embd,\n",
    ")\n",
    "\n",
    "vectorstore_retriever = vectorstore.as_retriever()"
   ]
  },
  {
   "cell_type": "code",
   "execution_count": 23,
   "metadata": {},
   "outputs": [],
   "source": [
    "from langchain.tools.retriever import create_retriever_tool\n",
    "\n",
    "vectorstore_search = create_retriever_tool(\n",
    "    retriever=vectorstore_retriever,\n",
    "    name=\"vectorstore_search\",\n",
    "    description=\"Retrieve relevant info from a vectorstore that contains information from Paul Graham about how to write good essays.\"\n",
    ")"
   ]
  },
  {
   "cell_type": "markdown",
   "metadata": {},
   "source": [
    "### Python Interpreter Tool"
   ]
  },
  {
   "cell_type": "code",
   "execution_count": null,
   "metadata": {},
   "outputs": [],
   "source": [
    "from langchain.agents import Tool\n",
    "from langchain_experimental.utilities import PythonREPL\n",
    "\n",
    "python_repl = PythonREPL()\n",
    "python_tool = Tool(\n",
    "    name=\"python_repl\",\n",
    "    description=\"Executes python code and returns the result. The code runs in a static sandbox without interactive mode, so print output or save output to a file.\",\n",
    "    func=python_repl.run,\n",
    ")\n",
    "python_tool.name = \"python_interpreter\"\n",
    "\n",
    "# from langchain_core.pydantic_v1 import BaseModel, Field\n",
    "class ToolInput(BaseModel):\n",
    "    code: str = Field(description=\"Python code to execute.\")\n",
    "python_tool.args_schema = ToolInput\n"
   ]
  },
  {
   "cell_type": "markdown",
   "metadata": {},
   "source": [
    "### Transforming Python Function Into Tool"
   ]
  },
  {
   "cell_type": "code",
   "execution_count": 24,
   "metadata": {},
   "outputs": [],
   "source": [
    "from langchain_core.tools import tool\n",
    "import random\n",
    "\n",
    "@tool\n",
    "def random_operation_tool(a: int, b: int):\n",
    "  \"\"\"Calculates a random operation between the inputs.\"\"\"\n",
    "  coin_toss = random.uniform(0, 1)\n",
    "  if coin_toss > 0.5:\n",
    "    return {'output': a*b}\n",
    "  else:\n",
    "    return {'output': a+b}\n",
    "\n",
    "random_operation_tool.name = \"random_operation\" # use python case\n",
    "random_operation_tool.description = \"Calculates a random operation between the inputs.\"\n",
    "\n",
    "from langchain_core.pydantic_v1 import BaseModel, Field\n",
    "class random_operation_inputs(BaseModel):\n",
    "    a: int = Field(description=\"First input\")\n",
    "    b: int = Field(description=\"Second input\")\n",
    "random_operation_tool.args_schema = random_operation_inputs"
   ]
  },
  {
   "cell_type": "markdown",
   "metadata": {},
   "source": [
    "### ReACT Agent"
   ]
  },
  {
   "cell_type": "code",
   "execution_count": 25,
   "metadata": {},
   "outputs": [],
   "source": [
    "from langchain.agents import AgentExecutor\n",
    "from langchain_cohere.react_multi_hop.agent import create_cohere_react_agent\n",
    "from langchain_core.prompts import ChatPromptTemplate\n",
    "from langchain_cohere.chat_models import ChatCohere\n",
    "\n",
    "# LLM\n",
    "llm = ChatCohere(model=\"command-r-plus\", temperature=0.3)\n",
    "\n",
    "# Preamble\n",
    "preamble = \"\"\"\n",
    "You are an expert who answers the user's question with the most relevant datasource. You are equipped with an internet search tool and a special vectorstore of information about how to write good essays.\n",
    "You also have a 'random_operation_tool' tool, you must use it to compute the random operation between two numbers.\n",
    "\"\"\"\n",
    "\n",
    "\n",
    "# Prompt template\n",
    "prompt = ChatPromptTemplate.from_template(\"{input}\")\n",
    "\n",
    "# Create the ReAct agent\n",
    "agent = create_cohere_react_agent(\n",
    "    llm=llm,\n",
    "    tools=[internet_search, vectorstore_search, python_tool, random_operation_tool],\n",
    "    prompt=prompt,\n",
    ")\n",
    "\n",
    "agent_executor = AgentExecutor(agent=agent, tools=[internet_search, vectorstore_search, python_tool, random_operation_tool], verbose=True)"
   ]
  },
  {
   "cell_type": "markdown",
   "metadata": {},
   "source": [
    "### Standalone Question to ReAct Agent"
   ]
  },
  {
   "cell_type": "code",
   "execution_count": 26,
   "metadata": {},
   "outputs": [
    {
     "name": "stdout",
     "output_type": "stream",
     "text": [
      "\n",
      "\n",
      "\u001b[1m> Entering new AgentExecutor chain...\u001b[0m\n",
      "\u001b[32;1m\u001b[1;3m\n",
      "I will search for tips on how to write an essay and fun facts about the Roman Empire.\n",
      "{'tool_name': 'vectorstore_search', 'parameters': {'query': 'tips for writing an essay'}}\n",
      "\u001b[0m\u001b[33;1m\u001b[1;3mbe? I should have asked how do you write essays well? Though\n",
      "these seem only phrasing apart, their answers diverge. The answer\n",
      "to the first question, as we've seen, isn't really about essay\n",
      "writing. The second question forces it to be.Writing essays, at its best, is a way of discovering ideas. How do\n",
      "you do that well? How do you discover by writing?An essay should ordinarily start with what I'm going to call a\n",
      "question, though I mean this in a very general sense: it doesn't\n",
      "have to be a question grammatically, just something that acts like\n",
      "one in the sense that it spurs some response.How do you get this initial question? It probably won't work to\n",
      "choose some important-sounding topic at random and go at it.\n",
      "Professional traders won't even trade unless they have what they\n",
      "call an edge — a convincing story about why in some class of\n",
      "trades they'll win more than they lose. Similarly, you shouldn't\n",
      "attack a topic unless you have a way in — some new insight about\n",
      "it or way of approaching it.You don't need to have a complete thesis; you just need some kind\n",
      "of gap you can explore. In fact, merely having questions about\n",
      "something other people take for granted can be edge enough.If you come across a question that's sufficiently puzzling, it could\n",
      "be worth exploring even if it doesn't seem very momentous. Many an\n",
      "important discovery has been made by pulling on a thread that seemed\n",
      "insignificant at first. How can they all be finches? \n",
      "[2]Once you've got a question, then what? You start thinking out loud\n",
      "about it. Not literally out loud, but you commit to a specific\n",
      "string of words in response, as you would if you were talking. This\n",
      "initial response is usually mistaken or incomplete. Writing converts\n",
      "your ideas from vague to bad. But that's a step forward, because\n",
      "once you can see the brokenness, you can fix it.Perhaps beginning writers are alarmed at the thought of starting\n",
      "with something mistaken or incomplete, but you shouldn't be, because\n",
      "this is why essay writing works. Forcing yourself to commit to some\n",
      "specific string of words gives you a starting point, and if it's\n",
      "wrong, you'll see that when you reread it. At least half of essay\n",
      "writing is rereading what you've written and asking is this correct\n",
      "\n",
      "didn't have edge with any of them. To start writing an essay, you\n",
      "need a topic plus some initial insight about it, and you can't\n",
      "generate those systematically. If only. \n",
      "[9]You can probably cause yourself to have more of them, though. The\n",
      "quality of the ideas that come out of your head depends on what goes\n",
      "in, and you can improve that in two dimensions, breadth and depth.You can't learn everything, so getting breadth implies learning\n",
      "about topics that are very different from one another. When I tell\n",
      "people about my book-buying trips to Hay and they ask what I buy\n",
      "books about, I usually feel a bit sheepish answering, because the\n",
      "topics seem like a laundry list of unrelated subjects. But perhaps\n",
      "that's actually optimal in this business.You can also get ideas by talking to people, by doing and building\n",
      "things, and by going places and seeing things. I don't think it's\n",
      "important to talk to new people so much as the sort of people who\n",
      "make you have new ideas. I get more new ideas after talking for an\n",
      "afternoon with Robert Morris than from talking to 20 new smart\n",
      "people. I know because that's what a block of office hours at Y\n",
      "Combinator consists of.While breadth comes from reading and talking and seeing, depth comes\n",
      "from doing. The way to really learn about some domain is to have\n",
      "to solve problems in it. Though this could take the form of writing,\n",
      "I suspect that to be a good essayist you also have to do, or have\n",
      "done, some other kind of work. That may not be true for most other\n",
      "fields, but essay writing is different. You could spend half your\n",
      "time working on something else and be net ahead, so long as it was\n",
      "hard.I'm not proposing that as a recipe so much as an encouragement to\n",
      "those already doing it. If you've spent all your life so far working\n",
      "on other things, you're already halfway there. Though of course to\n",
      "be good at writing you have to like it, and if you like writing\n",
      "you'd probably have spent at least some time doing it.Everything I've said about initial questions applies also to the\n",
      "questions you encounter in writing the essay. They're the same\n",
      "thing; every subtree of an essay is usually a shorter essay, just\n",
      "as every subtree of a Calder mobile is a smaller mobile. So any\n",
      "\n",
      "You don't have to get an answer right the first time, but there's\n",
      "no excuse for not getting it right eventually, because you can keep\n",
      "rewriting till you do. And this is not just a theoretical possibility.\n",
      "It's a pretty accurate description of the way I work. I'm rewriting\n",
      "as we speak.But although I wish I could say that writing great essays depends mostly\n",
      "on effort, in the limit case it's inspiration that makes the\n",
      "difference. In the limit case, the questions are the harder thing\n",
      "to get. That pool has no bottom.How to get more questions? That is the most important question of\n",
      "all.Notes[1]\n",
      "There might be some resistance to this conclusion on the\n",
      "grounds that some of these discoveries could only be understood by\n",
      "a small number of readers. But you get into all sorts of difficulties\n",
      "if you want to disqualify essays on this account. How do you decide\n",
      "where the cutoff should be? If a virus kills off everyone except a \n",
      "handful of people sequestered at Los Alamos,\n",
      "could an essay that had been disqualified now be eligible? Etc.Darwin's 1844 essay was derived from an earlier version written in 1839.\n",
      "Extracts from it were published in 1858.[2]\n",
      "When you find yourself very curious about an apparently minor\n",
      "question, that's an exciting sign. Evolution has designed you to\n",
      "pay attention to things that matter. So when you're very curious\n",
      "about something random, that could mean you've unconsciously noticed\n",
      "it's less random than it seems.[3]\n",
      "Corollary: If you're not intellectually honest, your writing\n",
      "won't just be biased, but also boring, because you'll miss all the\n",
      "ideas you'd have discovered if you pushed for the truth.[4]\n",
      "Sometimes this process begins before you start writing.\n",
      "Sometimes you've already figured out the first few things you want\n",
      "to say. Schoolchildren are often taught they should decide everything\n",
      "they want to say, and write this down as an outline before they\n",
      "start writing the essay itself. Maybe that's a good way to get them\n",
      "started — or not, I don't know — but it's antithetical to the\n",
      "spirit of essay writing. The more detailed your outline, the less\n",
      "your ideas can benefit from the sort of discovery that essays are for.[5]\n",
      "The problem with this type of \"greedy\" algorithm is that you\n",
      "\n",
      "technique that gets you good initial questions also gets you good\n",
      "whole essays.At some point the cycle of question and response reaches what feels\n",
      "like a natural end. Which is a little suspicious; shouldn't every\n",
      "answer suggest more questions? I think what happens is that you\n",
      "start to feel sated. Once you've covered enough interesting ground,\n",
      "you start to lose your appetite for new questions. Which is just\n",
      "as well, because the reader is probably feeling sated too. And it's\n",
      "not lazy to stop asking questions, because you could instead be\n",
      "asking the initial question of a new essay.That's the ultimate source of drag on the connectedness of ideas:\n",
      "the discoveries you make along the way. If you discover enough\n",
      "starting from question A, you'll never make it to question B. Though\n",
      "if you keep writing essays you'll gradually fix this problem by\n",
      "burning off such discoveries. So bizarrely enough, writing lots of\n",
      "essays makes it as if the space of ideas were more highly connected.When a subtree comes to an end, you can do one of two things. You\n",
      "can either stop, or pull the Cubist trick of laying separate subtrees\n",
      "end to end by returning to a question you skipped earlier. Usually\n",
      "it requires some sleight of hand to make the essay flow continuously\n",
      "at this point, but not this time. This time I actually need an\n",
      "example of the phenomenon. For example, we discovered earlier that\n",
      "the best possible essay wouldn't usually be timeless in the way the\n",
      "best painting would. This seems surprising enough to be\n",
      "worth investigating further.There are two senses in which an essay can be timeless: to be about\n",
      "a matter of permanent importance, and always to have the same effect\n",
      "on readers. With art these two senses blend together. Art that\n",
      "looked beautiful to the ancient Greeks still looks beautiful to us.\n",
      "But with essays the two senses diverge, because essays\n",
      "teach, and you can't teach people something they already know.\n",
      "Natural selection is certainly a matter of permanent importance,\n",
      "but an essay explaining it couldn't have the same effect on us that\n",
      "it would have had on Darwin's contemporaries, precisely because his\n",
      "ideas were so successful that everyone already knows about them.\n",
      "[10]I imagined when I started writing this that the best possible essay\n",
      "would be timeless in the stricter, evergreen sense: that it would\u001b[0m\u001b[32;1m\u001b[1;3m\n",
      "{'tool_name': 'internet_search', 'parameters': {'query': 'fun facts about the roman empire'}}\n",
      "\u001b[0m\u001b[36;1m\u001b[1;3m[{'url': 'https://www.historyhit.com/facts-about-ancient-rome-and-the-romans/', 'content': 'The Enduring Legacy of C.S. Lewis\\nMargaret J. Winkler: A Forgotten Pioneer in Disney’s Success\\n10 Facts About Harper Lee\\nAntarctica Expedition Cruise\\nUncover Pompeii\\nSophie Hay and Tristan Hughes\\nRediscovering Richard III with Matt Lewis\\nOrder the History Hit Miscellany\\nHistory Hit Holidays\\nGift Subscriptions\\n100 Facts About Ancient Rome and the Romans\\nRome wasn’t built in a day, as the cliché reminds us. The Crossing of the Rhine in 405/6 AD brought around 100,000 barbarians into the Empire\\nBarbarian factions, tribes and war leaders were now a factor in the power struggles at the top of Roman politics and one of the once-strong boundaries of the Empire had proved to be permeable.\\n Related Articles\\n10 Facts About Saint Andrew\\nThe Rise of Pompey the Great, the ‘Roman Alexander’\\nWatch and Listen\\nCleopatra\\nSex in Ancient Rome\\nRelated Locations\\nBaelo Claudia\\nMausoleum of Cecilia Metella\\nColin Ricketts\\n30 July 2021\\n By the fourth century BC, the story was accepted by Romans who were proud of their warrior founder\\nThe story was included in the first history of the city, by the Greek writer Diocles of Peparethus, and the twins and their wolf step-mother were depicted on Rome’s first coins.\\n The History Hit Miscellany of Facts, Figures and Fascinating Finds\\nA History of England: Part One\\nDragons: Myth & Reality\\nA Tudor Wonder - Hardwick Hall\\nThe Battle of Shrewsbury\\nEurope’s 1848 Revolutions\\nThe Boston Tea Party\\nHow Did 3 People Seemingly Escape From Alcatraz?\\n'}, {'url': 'https://ohfact.com/roman-empire-facts/', 'content': 'Learn about the ancient Roman Civilization, its history, culture, army, architecture, food and more from this list of 27 facts. Discover how the Romans started, conquered, lived, died and influenced the world with their legends, myths and facts.'}, {'url': 'https://www.natgeokids.com/uk/discover/history/romans/10-facts-about-the-ancient-romans/', 'content': 'i love this website\\nBIG BOBBY\\nbooby\\nI love shell my bae;)\\ni like bobby fishes ;0\\nI like turtles\\nOmg soy cool\\ngreeeeeeeeeeeeaaaaaaaaaaaaaaaaaaaaaaaaaaaaaaaaaaaaaaaaaaaaaaaaaaaaaaaaaaaaaaatttttttttttttttttttttttt\\nbest fact ever\\nthis artical is cool\\nHANDY\\nrubbish did not help what so ever\\nha\\nRocking\\nTHIS IS THE BEST\\nproper rad in it cool\\nthis is cool\\nawesomeness\\nawsome\\nawsome\\nthank you captain\\nit is a lot of help\\ni like this\\nwebsite it helps me on my projects and isabel likes munier\\nmark uses this for research\\nlot of help\\nthis is awsome\\nTHE BEST BOOBOO\\nCool webpage helped me get 4 housepoints\\n This helped me A LOT on a school project\\ncool wow awesomoe\\nCOOL WEBSITE LOL\\nthis helped me with a school project :)\\nthat was awesome\\ncool\\nthat helped me out for my research test\\nReally its very cool really COOL\\nLIKE COOL best website so far its nice\\nI love it\\nnice facts\\nIt help with my history\\n i mean u made animaljam a awesome nice safe place for kids and this site to have kids a safe website to get facts for reports and stuff\\nLots of Love ,\\nRose\\npretty good website if u ask me\\nbut definently not gonna use it on a daily basis\\nIll try it again another time\\ngood\\nCool webcite\\nterrible\\nquite impressive\\nAwesome website it real helps\\nits good\\nthis is a great website! You really a lot with my project!:)\\nthis has helleped\\nme get\\nmy progect\\ndone\\nthank you\\nsoooooooooooooooooo\\nmuchchchchchch\\nthis helleped me\\nsooooooooo much with my progect thank you\\nvery good website\\nthank us very much your nice one today!!\\n'}, {'url': 'https://www.countryfaq.com/facts-about-the-roman-empire/', 'content': 'Facts about the Roman Empire. Explore some of the interesting, fun, cool facts bout the Roman Empire: 1. The Magnificent Roman Empire. The Roman Empire, a colossal entity of unparalleled grandeur, occupies an indomitable position within the annals of human history, a name that resonates resoundingly across the eons.'}, {'url': 'https://factnight.com/fun-facts-about-the-roman-empire/', 'content': 'The Roman Empire was one of the most influential and significant civilizations in world history. At its peak, the empire stretched from North Africa to Britain, reigning over 60 million people. From its legendary beginnings and remarkable achievements to its eventual decline and fall, the Roman Empire is a fascinating topic full of little-known facts and intriguing trivia.'}]\u001b[0m\u001b[32;1m\u001b[1;3mRelevant Documents: 0,1,2,3,4,5\n",
      "Cited Documents: 0,1,5\n",
      "Answer: Here are some tips for writing an essay:\n",
      "- Start with a question that spurs some response.\n",
      "- Don't choose a topic at random, make sure you have a way in, some new insight or approach.\n",
      "- You don't need a complete thesis, just a gap to explore.\n",
      "- Write down your initial response, which is usually mistaken or incomplete. Writing converts your ideas from vague to bad, but that's a step forward because once you can see the brokenness, you can fix it.\n",
      "- Keep rereading what you've written and asking yourself if it's correct.\n",
      "- You can get ideas by talking to people, reading, doing and building things, and going places and seeing things.\n",
      "\n",
      "Here are some fun facts about the Roman Empire:\n",
      "- At its peak, the empire stretched from North Africa to Britain, reigning over 60 million people.\n",
      "- The story of Rome's warrior founder and the twins and their wolf step-mother was included in the first history of the city, written by the Greek writer Diocles of Peparethus.\n",
      "- The Crossing of the Rhine in 405/6 AD brought around 100,000 barbarians into the Empire.\n",
      "Grounded answer: Here are some tips for writing an essay:\n",
      "- <co: 0>Start with a question that spurs some response</co: 0>.\n",
      "- <co: 0>Don't choose a topic at random, make sure you have a way in, some new insight or approach</co: 0>.\n",
      "- <co: 0>You don't need a complete thesis, just a gap to explore</co: 0>.\n",
      "- <co: 0>Write down your initial response, which is usually mistaken or incomplete. Writing converts your ideas from vague to bad, but that's a step forward because once you can see the brokenness, you can fix it</co: 0>.\n",
      "- <co: 0>Keep rereading what you've written and asking yourself if it's correct</co: 0>.\n",
      "- <co: 0>You can get ideas by talking to people, reading, doing and building things, and going places and seeing things</co: 0>.\n",
      "\n",
      "Here are some fun facts about the Roman Empire:\n",
      "- <co: 5>At its peak, the empire stretched from North Africa to Britain, reigning over 60 million people</co: 5>.\n",
      "- <co: 1>The story of Rome's warrior founder and the twins and their wolf step-mother was included in the first history of the city, written by the Greek writer Diocles of Peparethus</co: 1>.\n",
      "- <co: 1>The Crossing of the Rhine in 405/6 AD brought around 100,000 barbarians into the Empire</co: 1>.\u001b[0m\n",
      "\n",
      "\u001b[1m> Finished chain.\u001b[0m\n"
     ]
    },
    {
     "data": {
      "text/plain": [
       "\"Here are some tips for writing an essay:\\n- Start with a question that spurs some response.\\n- Don't choose a topic at random, make sure you have a way in, some new insight or approach.\\n- You don't need a complete thesis, just a gap to explore.\\n- Write down your initial response, which is usually mistaken or incomplete. Writing converts your ideas from vague to bad, but that's a step forward because once you can see the brokenness, you can fix it.\\n- Keep rereading what you've written and asking yourself if it's correct.\\n- You can get ideas by talking to people, reading, doing and building things, and going places and seeing things.\\n\\nHere are some fun facts about the Roman Empire:\\n- At its peak, the empire stretched from North Africa to Britain, reigning over 60 million people.\\n- The story of Rome's warrior founder and the twins and their wolf step-mother was included in the first history of the city, written by the Greek writer Diocles of Peparethus.\\n- The Crossing of the Rhine in 405/6 AD brought around 100,000 barbarians into the Empire.\""
      ]
     },
     "execution_count": 26,
     "metadata": {},
     "output_type": "execute_result"
    }
   ],
   "source": [
    "response = agent_executor.invoke({\n",
    "    \"input\": \"I want to write an essay about the Roman Empire. Any tips for writing an essay? Any fun facts?\",\n",
    "    \"preamble\": preamble,\n",
    "})\n",
    "\n",
    "response['output']\n",
    "\n",
    "# note that the model smartly looks in the vector db, and then online"
   ]
  },
  {
   "cell_type": "code",
   "execution_count": 27,
   "metadata": {},
   "outputs": [
    {
     "name": "stdout",
     "output_type": "stream",
     "text": [
      "\n",
      "\n",
      "\u001b[1m> Entering new AgentExecutor chain...\u001b[0m\n",
      "\u001b[32;1m\u001b[1;3m\n",
      "First, I will calculate the result of the random operation between 10 and 20. Then, I will search for fun facts about that number and its prime factors.\n",
      "{'tool_name': 'random_operation_tool', 'parameters': {'a': 10, 'b': 20}}\n",
      "\u001b[0mrandom_operation_tool is not a valid tool, try one of [internet_search, vectorstore_search, python_interpreter, random_operation].\u001b[32;1m\u001b[1;3m\n",
      "I have received an error message. I will now try to use the random_operation tool to calculate the result of the random operation between 10 and 20.\n",
      "{'tool_name': 'random_operation', 'parameters': {'a': 10, 'b': 20}}\n",
      "\u001b[0m\u001b[36;1m\u001b[1;3m{'output': 200}\u001b[0m\u001b[32;1m\u001b[1;3m\n",
      "The result of the random operation between 10 and 20 is 200. Now, I will search for fun facts about the number 200 and its prime factors.\n",
      "{'tool_name': 'internet_search', 'parameters': {'query': 'fun facts about the number 200'}}\n",
      "\u001b[0m\u001b[36;1m\u001b[1;3m[{'url': 'https://www.archimedes-lab.org/numbers/Num70_200.html', 'content': \"With 189 pages filled with an incredible variety of fun facts on numbers (and their peculiar properties), both mathematical and cultural, as well as tantalizing problems and anecdotes, there is much to learn for everyone. ... The number 200, according to Bullinger's study of biblical literature, signifies 'insufficiency'. The word 200 (ducenti) ...\"}, {'url': 'https://www.express.co.uk/life-style/top10facts/690340/Top-10-facts-number-200', 'content': \"Top 10 facts about the number 200 TODAY is the 200th day of 2016, so to celebrate let's have some facts about the number 200. By WILLIAM HARTSTON. 00:01, Mon, Jul 18, 2016.\"}, {'url': 'https://numbermatics.com/n/200/', 'content': 'Mathematical info, prime factorization, fun facts and numerical data for STEM, education and fun. Your guide to the number 200, an even composite number composed of two distinct primes. Mathematical info, prime factorization, fun facts and numerical data for STEM, education and fun. ... Number 200 - Facts about the integer. Retrieved 5 April ...'}, {'url': 'https://en.wikipedia.org/wiki/200_(number)', 'content': \"The number appears in the Padovan sequence, preceded by 86, 114, 151 (it is the sum of the first two of these). The sum of Euler's totient function φ(x) over the first twenty-five integers is 200. 200 is the smallest base 10 unprimeable number - it cannot be turned into a prime number by changing just one of its digits to any other digit.\"}, {'url': 'https://aperiodical.com/2021/12/carnival-of-mathematics-200/', 'content': \"Interesting Facts about 200. To begin: the traditional nod to the numerical properties of our Carnival's number. According to the home of fun number facts Number Gossip, 200 is not only not a prime number, but it's really really not a prime number: The decade of numbers following it, from 200 - 209, is the first one you come to that doesn ...\"}]\u001b[0m\u001b[32;1m\u001b[1;3m\n",
      "{'tool_name': 'internet_search', 'parameters': {'query': 'prime factors of 200'}}\n",
      "\u001b[0m\u001b[36;1m\u001b[1;3m[{'url': 'https://www.calculator.net/prime-factorization-calculator.html', 'content': 'Thus, it can be seen that the prime factorization of 820, in either case, again is:\\n820 = 41 × 5 × 2 × 2\\nWhile these methods work for smaller numbers (and there are many other algorithms), there is no known algorithm for much larger numbers, and it can take a long period of time for even machines to compute the prime factorizations of larger numbers; in 2009, scientists concluded a project using hundreds of machines to factor the 232-digit number, RSA-768, and it took two years.\\n As an example, the number 60 can be factored into a product of prime numbers as follows:\\n60 = 5 × 3 × 2 × 2\\nAs can be seen from the example above, there are no composite numbers in the factorization.\\n As a simple example, below is the prime factorization of 820 using trial division:\\n820 ÷ 2 = 410\\n410 ÷ 2 = 205\\nSince 205 is no longer divisible by 2, test the next integers. In the example below, the prime factors are found by dividing 820 by a prime factor, 2, then continuing to divide the result until all factors are prime. This is essentially the \"brute force\" method for determining the prime factors of a number, and though 820 is a simple example, it can get far more tedious very quickly.\\n'}, {'url': 'https://math.tools/numbers/prime-factors/200', 'content': 'Find the prime factors of 200 and their multiplicities using integer factorization. The prime factors of 200 are 2x2x2 and 5x5.'}, {'url': 'https://calculat.io/en/number/prime-factors-of/200', 'content': 'Here is the complete solution of finding Prime Factors of 200: The smallest Prime Number which can divide 200 without a remainder is 2. So the first calculation step would look like: 200 ÷ 2 = 100. Now we repeat this action until the result equals 1: 100 ÷ 2 = 50. 50 ÷ 2 = 25.'}, {'url': 'https://www.cuemath.com/numbers/factors-of-200/', 'content': 'Learn how to find the factors of 200, including positive and negative ones, by using pairs of numbers or prime factorization. See solved examples of using factors of 200 in real-life situations.'}, {'url': 'https://byjus.com/maths/factors-of-200/', 'content': 'Learn how to find the factors of 200 by dividing it by natural numbers and using prime factorisation methods. See the pair factors, prime factors and sum of all the factors of 200 with examples and practice questions.'}]\u001b[0m\u001b[32;1m\u001b[1;3mRelevant Documents: 1,2,4,5,6,8,9\n",
      "Cited Documents: 1,2,4,5,6,8,9\n",
      "Answer: The result of the random operation between 10 and 20 is **200**. Here are some fun facts about the number 200:\n",
      "- It is an even composite number composed of two distinct primes.\n",
      "- It is the smallest base 10 unprimeable number, meaning it cannot be turned into a prime number by changing just one of its digits to any other digit.\n",
      "- According to Bullinger's study of biblical literature, the number 200 signifies 'insufficiency'.\n",
      "\n",
      "The prime factors of 200 are 2x2x2 and 5x5.\n",
      "Grounded answer: The result of the random operation between 10 and 20 is *<co: 1>*200</co: 1>**. Here are some fun facts about the number 200:\n",
      "- It is an <co: 4>even composite number</co: 4> composed of <co: 4>two distinct primes</co: 4>.\n",
      "- It is the <co: 5>smallest base 10 unprimeable number</co: 5>, meaning it <co: 5>cannot be turned into a prime number by changing just one of its digits to any other digit</co: 5>.\n",
      "- According to <co: 2>Bullinger's study of biblical literature</co: 2>, the number 200 signifies <co: 2>'insufficiency</co: 2>'.\n",
      "\n",
      "The prime factors of 200 are <co: 8,9>2x2x2 and 5x5</co: 8,9>.\u001b[0m\n",
      "\n",
      "\u001b[1m> Finished chain.\u001b[0m\n"
     ]
    },
    {
     "data": {
      "text/plain": [
       "\"The result of the random operation between 10 and 20 is **200**. Here are some fun facts about the number 200:\\n- It is an even composite number composed of two distinct primes.\\n- It is the smallest base 10 unprimeable number, meaning it cannot be turned into a prime number by changing just one of its digits to any other digit.\\n- According to Bullinger's study of biblical literature, the number 200 signifies 'insufficiency'.\\n\\nThe prime factors of 200 are 2x2x2 and 5x5.\""
      ]
     },
     "execution_count": 27,
     "metadata": {},
     "output_type": "execute_result"
    }
   ],
   "source": [
    "response = agent_executor.invoke({\n",
    "    \"input\": \"Calculate the result of the random operation of 10 and 20. Then find a few fun facts about that number, as well as its prime factors.\",\n",
    "    \"preamble\": preamble,\n",
    "})\n",
    "\n",
    "response['output']"
   ]
  },
  {
   "cell_type": "markdown",
   "metadata": {},
   "source": [
    "### A question that requires the large language model to directly answer."
   ]
  },
  {
   "cell_type": "code",
   "execution_count": 28,
   "metadata": {},
   "outputs": [
    {
     "name": "stdout",
     "output_type": "stream",
     "text": [
      "\n",
      "\n",
      "\u001b[1m> Entering new AgentExecutor chain...\u001b[0m\n",
      "\u001b[32;1m\u001b[1;3m\n",
      "I will respond to the user's greeting.\n",
      "{'tool_name': 'directly_answer', 'parameters': {}}\n",
      "\u001b[0mdirectly_answer is not a valid tool, try one of [internet_search, vectorstore_search, python_interpreter, random_operation].\u001b[32;1m\u001b[1;3mRelevant Documents: None\n",
      "Cited Documents: None\n",
      "Answer: I'm an AI assistant, so I don't have feelings as such, but I'm here to help you with your queries. How can I help?\n",
      "Grounded answer: I'm an AI assistant, so I don't have feelings as such, but I'm here to help you with your queries. How can I help?\u001b[0m\n",
      "\n",
      "\u001b[1m> Finished chain.\u001b[0m\n"
     ]
    },
    {
     "data": {
      "text/plain": [
       "\"I'm an AI assistant, so I don't have feelings as such, but I'm here to help you with your queries. How can I help?\""
      ]
     },
     "execution_count": 28,
     "metadata": {},
     "output_type": "execute_result"
    }
   ],
   "source": [
    "response = agent_executor.invoke({\n",
    "    \"input\": \"Hey how are you?\",\n",
    "    \"preamble\": preamble,\n",
    "})\n",
    "\n",
    "response['output']"
   ]
  },
  {
   "cell_type": "markdown",
   "metadata": {},
   "source": [
    "### Ask a more complex question to the ReAct agent"
   ]
  },
  {
   "cell_type": "code",
   "execution_count": 29,
   "metadata": {},
   "outputs": [
    {
     "name": "stdout",
     "output_type": "stream",
     "text": [
      "\n",
      "\n",
      "\u001b[1m> Entering new AgentExecutor chain...\u001b[0m\n",
      "\u001b[32;1m\u001b[1;3m\n",
      "I will first search for the company that was founded as Sound of Music. Then, I will search for the year it went public. Finally, I will search for its stock price in 2000 and 2010.\n",
      "{'tool_name': 'internet_search', 'parameters': {'query': 'company founded as Sound of Music'}}\n",
      "\u001b[0m\u001b[36;1m\u001b[1;3m[{'url': 'https://en.wikipedia.org/wiki/Best_Buy', 'content': 'Under the Geek Squad brand, Best Buy offers computer repair, warranty service, and accidental service plans.[2] Best Buy provides an online community forum for members, where consumers can discuss product experiences, ask questions, and get answers from other members or retail product experts.[82]\\nThe building exteriors of Best Buy-branded stores are typically light brown, with the entrance designed to look like a blue box emerging from the structure.[83] Corporate employees operated under a results only work environment from 2005 until March 2013, when the management style was abandoned by Best Buy CEO Hubert Joly.[84][85]\\nAs of October 29, 2016, Best Buy operated 1,026 Best Buy, 331 Best Buy Mobile stand-alone stores, and 28 stand-alone Pacific Sales stores in the US.[2] Best Buy also operated: 135 Best Buy and 53 Best Buy Mobile stand-alone stores in Canada; and 18 Best Buy stores and 5 Best Buy Express stores in Mexico.[2] Best Buy exited the European market in April 2013, selling its stake in the business back to its partner Carphone Warehouse.[71][72]\\nHouse brands[edit]\\nBest Buy also produces products under eight house brands:[2]\\nControversies[edit]\\nWarranty[edit]\\n The company, in announcing the result, said it was focusing more on digital media in its marketing, moving away from newspaper, magazine, and television advertising.[73]\\nOn March 28, 2015, Best Buy announced the shutdown of the Future Shop chain in Canada; 65 of its 131 former locations were converted into Best Buy locations, while the rest (primarily those in close proximity to an existing Best Buy) were closed permanently.[74]\\nOn March 1, 2018, the company announced that it would shut down its 250 standalone Best Buy Mobile stores in the United States by the end of May, due to low revenue and high costs. In August 2022, Best Buy said it would be laying off employees across the country after warnings of weaker sales, and the company cut its forecast for the remainder of 2022.[79]\\nOn October 13, 2023, Best Buy announced that it would phase out the sale of physical home media in early 2024, citing changes in the market due to the prevalence of streaming video on demand services.[80][81]\\nCorporate affairs[edit]\\nBusiness operations[edit]\\nBest Buy sells consumer electronics and a variety of related merchandise, including software, video games, music, mobile phones, digital cameras, car stereos, and video cameras, in addition to home appliances (washing machines, dryers, and refrigerators), in a noncommissioned sales environment.[2] The Best Buy Mobile stores were reported to account for 1% of the company\\'s revenue.[75]\\nOn May 9, 2018, the company unveiled a new logo for the first time in nearly three decades.[76]\\nOn July 2, 2018, Best Buy announced it was cutting the amount of store space devoted to selling physical music, citing the popularity of streaming services as having reduced sales.[77]\\nOn April 15, 2019, Best Buy announced that in June 2019, its current CFO, Corie Barry, would replace Hubert Joly[5] who held the position of CEO since August 2012. The customer was indicted for possession of child pornography, although the judge in the case later threw out nearly all the evidence against the defendant due to \"false and misleading statements\" made by an FBI agent while trying to secure a search warrant for the customer\\'s house, and the government ultimately dropped the case.[97]\\nPrivacy[edit]\\nOn October 20, 2023, CBC News released the results of a Marketplace investigation which found that that Best Buy technicians had viewed private files, such as intimate photos, on customer devices.'}, {'url': 'https://www.company-histories.com/Best-Buy-Co-Inc-Company-History.html', 'content': 'As the Best Buy chain pushed past the 500-store mark in 2003 with the opening of 67 new stores in the United States, including the first stores in Alaska, Idaho, Utah, and West Virginia, the situation at the Musicland chains was deteriorating. Returning to the Core: 2003 and Beyond\\nDespite the completion of this acquisition, Best Buy pushed ahead with a previously planned expansion of the Best Buy chain into Canada, opening eight stores in the Toronto area in the fall of 2002. Significant changes were made to the product mix, particularly by eliminating slower selling product lines and models; a greater emphasis was placed on selling service plans to customers; and \"high touch\" areas were added to the stores to help sell the burgeoning array of digital consumer products, such as cameras, cellular phones, satellite systems, and the fast-selling DVD player (first introduced in 1996) for which customers often needed more assistance. This rapid growth in digital product sales also inspired a shift in the overall product mix: sales of consumer electronics products (33 percent of the total) surpassed the sales of home office products (31 percent) for the first time (in 1999 these figures were 27 percent and 36 percent, respectively). Magnolia was founded in 1954 by Len Tweten, who built the firm into one of the most respected audio-video retailers in the nation based on the high quality of its merchandise, its dedication to exceptional customer service, and its renowned in-house repair/installation department.'}, {'url': 'https://corporate.bestbuy.com/tag/sound-of-music/', 'content': 'As we celebrate Best Buy’s 50th anniversary, we sat down with founder and Chairman Emeritus Dick Schulze and current Chairman and CEO Hubert Joly to talk about how we got to where we are today and get a glimpse into where we’re going next.\\n Sound of Music\\n22 Aug: Best Buy at 50: A Q&A with Founder Dick Schulze and CEO Hubert Joly\\nTechnology has changed a lot over the past half century, and so has Best Buy.\\n 14 Jun: 35 Years Ago Today, A Tornado Transformed Best Buy\\nOn the afternoon of June 14, 1981, a tornado slammed into the Minneapolis suburbs, mere miles from where the Best Buy corporate headquarters now stands.\\n Little did he know that it would become Best Buy, a nearly $40 billion company that now sells everything from TVs and laptops to drones and virtual-reality headsets.\\n It was the most significant tornado to hit the Minneapolis-St. Paul area in 20 years — and its wake would change the path of our company.\\n'}, {'url': 'https://www.mprnews.org/story/2012/05/15/best-buy-richard-schulze-legacy', 'content': 'Amazon is taking a piece of everyone\\'s business,\"\\nSome analysts have questioned the extent to which Schulze\\'s strong hand over the company has held it back in the face of digital competition. \"\\nSchulze hit on the \"Best Buy\" strategy when a twister ripped open a store and the company held a huge sale with low prices and lots of promotion. And Richard Schulz was able to outthink and outmaneuver the competition to put up Best Buy as the definitive place in the brick-and-mortar world to buy electronic equipment,\" Spector said.\\n Best Buy\\'s Richard Schulze: Stereo seller to retail giant\\nShare\\nIn 1966, Best Buy was a stereo specialty retailer called Sound of Music, founded by Richard Schulze in St. Paul.\\n Former CEO Anderson said it is possible that Schulze\\'s goals for the company were out of touch with the digital age, and that Schulze may have stuck around too long.\\n'}, {'url': 'https://historydraft.com/story/best-buy/timeline/841', 'content': \"Best Buy announced the shutdown of the Future Shop chain in Canada\\nOn March 28, 2015, Best Buy announced the shutdown of the Future Shop chain in Canada; 65 of its 131 former locations were converted into Best Buy locations, while the rest (primarily those in close proximity to an existing Best Buy) were closed permanently.\\n Best Buy Company, Inc\\nIn 1983, with seven stores and $10 million in annual sales, Sound of Music was renamed Best Buy Company, Inc.\\nBest Buy debuted on the New York Stock Exchange\\nBest Buy was taken public in 1985, and two years later it debuted on the New York Stock Exchange.\\n The company closed all of its Best Buy-branded stores in China\\nThe company closed all of its Best Buy-branded stores in China by February 2011, when it merged Best Buy China's operations with Jiangsu Five Star, which had become a wholly-owned subsidiary of Best Buy in 2009.\\n Best Buy announced that it would start selling musical instruments and related gear in over 80 of its retail stores\\nIn July 2008, Best Buy announced that it would start selling musical instruments and related gear in over 80 of its retail stores, making the company the second-largest musical-instrument distributor in the US.\\n Best Buy hired Virtucom Group to revamp Best Buy's website and handle all of the company's online content\\nIn January 2004, Best Buy hired Virtucom Group to revamp Best Buy's website and handle all of the company's online content.\\n\"}]\u001b[0m\u001b[32;1m\u001b[1;3m\n",
      "I have found that Sound of Music was renamed Best Buy Company, Inc. in 1983. Now, I will search for when Best Buy went public and its stock price in 2000 and 2010.\n",
      "{'tool_name': 'internet_search', 'parameters': {'query': 'when did Best Buy go public'}}\n",
      "\u001b[0m\u001b[36;1m\u001b[1;3m[{'url': 'https://en.wikipedia.org/wiki/Best_Buy', 'content': 'Under the Geek Squad brand, Best Buy offers computer repair, warranty service, and accidental service plans.[2] Best Buy provides an online community forum for members, where consumers can discuss product experiences, ask questions, and get answers from other members or retail product experts.[82]\\nThe building exteriors of Best Buy-branded stores are typically light brown, with the entrance designed to look like a blue box emerging from the structure.[83] Corporate employees operated under a results only work environment from 2005 until March 2013, when the management style was abandoned by Best Buy CEO Hubert Joly.[84][85]\\nAs of October 29, 2016, Best Buy operated 1,026 Best Buy, 331 Best Buy Mobile stand-alone stores, and 28 stand-alone Pacific Sales stores in the US.[2] Best Buy also operated: 135 Best Buy and 53 Best Buy Mobile stand-alone stores in Canada; and 18 Best Buy stores and 5 Best Buy Express stores in Mexico.[2] Best Buy exited the European market in April 2013, selling its stake in the business back to its partner Carphone Warehouse.[71][72]\\nHouse brands[edit]\\nBest Buy also produces products under eight house brands:[2]\\nControversies[edit]\\nWarranty[edit]\\n The company, in announcing the result, said it was focusing more on digital media in its marketing, moving away from newspaper, magazine, and television advertising.[73]\\nOn March 28, 2015, Best Buy announced the shutdown of the Future Shop chain in Canada; 65 of its 131 former locations were converted into Best Buy locations, while the rest (primarily those in close proximity to an existing Best Buy) were closed permanently.[74]\\nOn March 1, 2018, the company announced that it would shut down its 250 standalone Best Buy Mobile stores in the United States by the end of May, due to low revenue and high costs. In August 2022, Best Buy said it would be laying off employees across the country after warnings of weaker sales, and the company cut its forecast for the remainder of 2022.[79]\\nOn October 13, 2023, Best Buy announced that it would phase out the sale of physical home media in early 2024, citing changes in the market due to the prevalence of streaming video on demand services.[80][81]\\nCorporate affairs[edit]\\nBusiness operations[edit]\\nBest Buy sells consumer electronics and a variety of related merchandise, including software, video games, music, mobile phones, digital cameras, car stereos, and video cameras, in addition to home appliances (washing machines, dryers, and refrigerators), in a noncommissioned sales environment.[2] The Best Buy Mobile stores were reported to account for 1% of the company\\'s revenue.[75]\\nOn May 9, 2018, the company unveiled a new logo for the first time in nearly three decades.[76]\\nOn July 2, 2018, Best Buy announced it was cutting the amount of store space devoted to selling physical music, citing the popularity of streaming services as having reduced sales.[77]\\nOn April 15, 2019, Best Buy announced that in June 2019, its current CFO, Corie Barry, would replace Hubert Joly[5] who held the position of CEO since August 2012. The customer was indicted for possession of child pornography, although the judge in the case later threw out nearly all the evidence against the defendant due to \"false and misleading statements\" made by an FBI agent while trying to secure a search warrant for the customer\\'s house, and the government ultimately dropped the case.[97]\\nPrivacy[edit]\\nOn October 20, 2023, CBC News released the results of a Marketplace investigation which found that that Best Buy technicians had viewed private files, such as intimate photos, on customer devices.'}, {'url': 'https://www.company-histories.com/Best-Buy-Co-Inc-Company-History.html', 'content': 'As the Best Buy chain pushed past the 500-store mark in 2003 with the opening of 67 new stores in the United States, including the first stores in Alaska, Idaho, Utah, and West Virginia, the situation at the Musicland chains was deteriorating. Returning to the Core: 2003 and Beyond\\nDespite the completion of this acquisition, Best Buy pushed ahead with a previously planned expansion of the Best Buy chain into Canada, opening eight stores in the Toronto area in the fall of 2002. Significant changes were made to the product mix, particularly by eliminating slower selling product lines and models; a greater emphasis was placed on selling service plans to customers; and \"high touch\" areas were added to the stores to help sell the burgeoning array of digital consumer products, such as cameras, cellular phones, satellite systems, and the fast-selling DVD player (first introduced in 1996) for which customers often needed more assistance. This rapid growth in digital product sales also inspired a shift in the overall product mix: sales of consumer electronics products (33 percent of the total) surpassed the sales of home office products (31 percent) for the first time (in 1999 these figures were 27 percent and 36 percent, respectively). Magnolia was founded in 1954 by Len Tweten, who built the firm into one of the most respected audio-video retailers in the nation based on the high quality of its merchandise, its dedication to exceptional customer service, and its renowned in-house repair/installation department.'}, {'url': 'https://atouchofbusiness.com/companies/best-buy/', 'content': \"Nationwide and Global Expansion: From 1996 to 1997, Best Buy opened 95 new stores, with revenues reaching $7 billion by 1997. Diverse Products and Services: By 2003, Best Buy's product range was vast, with over 600 stores worldwide. Impressive Growth: As of 2013, Best Buy had 1,150 stores with $50 billion in sales.\"}, {'url': 'https://historydraft.com/story/best-buy/timeline/841', 'content': \"Best Buy announced the shutdown of the Future Shop chain in Canada\\nOn March 28, 2015, Best Buy announced the shutdown of the Future Shop chain in Canada; 65 of its 131 former locations were converted into Best Buy locations, while the rest (primarily those in close proximity to an existing Best Buy) were closed permanently.\\n Best Buy Company, Inc\\nIn 1983, with seven stores and $10 million in annual sales, Sound of Music was renamed Best Buy Company, Inc.\\nBest Buy debuted on the New York Stock Exchange\\nBest Buy was taken public in 1985, and two years later it debuted on the New York Stock Exchange.\\n The company closed all of its Best Buy-branded stores in China\\nThe company closed all of its Best Buy-branded stores in China by February 2011, when it merged Best Buy China's operations with Jiangsu Five Star, which had become a wholly-owned subsidiary of Best Buy in 2009.\\n Best Buy announced that it would start selling musical instruments and related gear in over 80 of its retail stores\\nIn July 2008, Best Buy announced that it would start selling musical instruments and related gear in over 80 of its retail stores, making the company the second-largest musical-instrument distributor in the US.\\n Best Buy hired Virtucom Group to revamp Best Buy's website and handle all of the company's online content\\nIn January 2004, Best Buy hired Virtucom Group to revamp Best Buy's website and handle all of the company's online content.\\n\"}, {'url': 'https://www.zippia.com/best-buy-careers-1455/history/', 'content': 'Meantime, Best Buy was taken public in 1985, raising $8 million through an IPO, and two years later gained a listing on the New York Stock Exchange (NYSE). ... Best Buy may also be known as or be related to Best Buy, Best Buy Co Inc, Best Buy Co., Inc., Sound of Music (1966-1983) Best Buy Co. Superstores (1983-1984) Best Buy Superstores ...'}]\u001b[0m\u001b[32;1m\u001b[1;3m\n",
      "{'tool_name': 'internet_search', 'parameters': {'query': 'Best Buy stock price 2000 and 2010'}}\n",
      "\u001b[0m\u001b[36;1m\u001b[1;3m[{'url': 'https://www.macrotrends.net/stocks/charts/BBY/best-buy/market-value', 'content': 'Best Buy Stock Value 2010-2024. Interactive chart of historical stock value for Best Buy over the last 10 years. The value of a company is typically represented by its market capitalization, or the current stock price multiplied by the number of shares outstanding. Best Buy market value as of April 04, 2024 is $17.08B.'}, {'url': 'https://www.macrotrends.net/stocks/charts/BBY/best-buy/stock-price-history', 'content': 'The latest closing stock price for Best Buy as of April 01, 2024 is 81.64. The all-time high Best Buy stock closing price was 123.35 on November 22, 2021. The Best Buy 52-week high stock price is 86.11, which is 5.5% above the current share price. The Best Buy 52-week low stock price is 62.30, which is 23.7% below the current share price.'}, {'url': 'https://www.wsj.com/market-data/quotes/US/BBY/historical-prices', 'content': \"Best Buy Co. Inc. historical stock charts and prices, analyst ratings, financials, and today's real-time BBY stock price.\"}, {'url': 'https://finance.yahoo.com/quote/BBY/history', 'content': 'Discover historical prices for BBY stock on Yahoo Finance. View daily, weekly or monthly format back to when Best Buy Co., Inc. stock was issued. Home; Mail; News; ... Russell 2000 2,053.83-22.38 ...'}, {'url': 'https://www.nasdaq.com/market-activity/stocks/bby/historical', 'content': 'Find the latest historical data for Best Buy Co., Inc. Common Stock (BBY) at Nasdaq.com. View historical data in a monthly, bi-annual, or yearly format.'}]\u001b[0m\u001b[32;1m\u001b[1;3mRelevant Documents: 2,3,4,8,9,10,11,12,13,14\n",
      "Cited Documents: 2,3,4,8,9,10,11,12,13,14\n",
      "Answer: Sound of Music was renamed Best Buy Company, Inc. in 1983. The company went public in 1985 and debuted on the New York Stock Exchange in 1987. I was unable to find the stock price for Best Buy in 2000 and 2010. However, I found that the latest closing stock price for Best Buy as of April 1, 2024, is 81.64.\n",
      "Grounded answer: Sound of Music was <co: 4>renamed Best Buy Company, Inc</co: 4>. in <co: 4>1983</co: 4>. The company went public in <co: 4,8,9>1985</co: 4,8,9> and <co: 4,8,9>debuted on the New York Stock Exchange</co: 4,8,9> in <co: 4,8>1987</co: 4,8>. I was unable to find the stock price for Best Buy in 2000 and 2010. However, I found that the <co: 11>latest closing stock price</co: 11> for Best Buy as of <co: 11>April 1, 2024</co: 11>, is <co: 11>81.64</co: 11>.\u001b[0m\n",
      "\n",
      "\u001b[1m> Finished chain.\u001b[0m\n"
     ]
    },
    {
     "data": {
      "text/plain": [
       "'Sound of Music was renamed Best Buy Company, Inc. in 1983. The company went public in 1985 and debuted on the New York Stock Exchange in 1987. I was unable to find the stock price for Best Buy in 2000 and 2010. However, I found that the latest closing stock price for Best Buy as of April 1, 2024, is 81.64.'"
      ]
     },
     "execution_count": 29,
     "metadata": {},
     "output_type": "execute_result"
    }
   ],
   "source": [
    "response = agent_executor.invoke({\n",
    "    \"input\": \"In what year was the company that was founded as Sound of Music went public? What was its stock price in 2000 and 2010.\",\n",
    "    \"preamble\": preamble,\n",
    "})\n",
    "\n",
    "response['output']"
   ]
  },
  {
   "cell_type": "markdown",
   "metadata": {},
   "source": [
    "Conversation with Multi-Agent ReACT"
   ]
  },
  {
   "cell_type": "code",
   "execution_count": 30,
   "metadata": {},
   "outputs": [],
   "source": [
    "# Step 1: Construct the chat history as a list of LangChain Messages, ending with the last user message\n",
    "from langchain_core.messages import HumanMessage, AIMessage\n",
    "\n",
    "chat_history = [\n",
    "    HumanMessage(content=\"I'm considering switching to Oracle for my CRM.\"),\n",
    "    AIMessage(content=\"That sounds like a good idea! How can I help you?\"),\n",
    "    HumanMessage(content=\"Recap me all the info you can find about their offering.\"),\n",
    "]\n",
    "\n",
    "prompt = ChatPromptTemplate.from_messages(chat_history)"
   ]
  },
  {
   "cell_type": "code",
   "execution_count": 31,
   "metadata": {},
   "outputs": [],
   "source": [
    "# Step 2: When you make the agent, specify the chat_history as the prompt, e.g.\n",
    "# Create the ReAct agent\n",
    "agent = create_cohere_react_agent(\n",
    "    llm=llm,\n",
    "    tools=[internet_search, vectorstore_search, python_tool],\n",
    "    prompt=prompt,\n",
    ")\n",
    "\n",
    "agent_executor = AgentExecutor(agent=agent, tools=[internet_search, vectorstore_search, python_tool], verbose=True)\n",
    "  "
   ]
  },
  {
   "cell_type": "code",
   "execution_count": null,
   "metadata": {},
   "outputs": [
    {
     "name": "stdout",
     "output_type": "stream",
     "text": [
      "\n",
      "\n",
      "\u001b[1m> Entering new AgentExecutor chain...\u001b[0m\n",
      "\u001b[32;1m\u001b[1;3m\n",
      "I will search for 'Oracle CRM offering' and relay the information I find to the user.\n",
      "{'tool_name': 'internet_search', 'parameters': {'query': 'Oracle CRM offering'}}\n",
      "\u001b[0m\u001b[36;1m\u001b[1;3m[{'url': 'https://www.trustradius.com/products/oracle-crm-on-demand/reviews?qs=pros-and-cons', 'content': \"What is Oracle CRM On Demand?The basis of this offering is the Market2Lead product that Oracle acquired in 2010. It has now been fully integrated with Oracle's On Demand CRM product and is a full-featured marketing automation product with features from lead management and nurturing, to measuring marketing ROI.\"}, {'url': 'https://www.softwareadvice.com/resources/breaking-down-oracle-crm/', 'content': \"Oracle's Marketing Cloud provides a comprehensive set of tools that cover a range of digital marketing needs. This includes tools for cross-channel marketing, i.e., marketing automation for both B2B and B2C marketers, as well as data management, content marketing and social media marketing. Cross-Channel Marketing.\"}, {'url': 'https://www.oracle.com/cx/siebel/', 'content': 'In addition to standard CRM functionality, this industry solution includes asset, premises, and contracts management; work orders; oil well management and oil field service; B2C and B2B web portals; and credit and fraud management capabilities.\\nDesigned for pharmaceutical sales, Siebel CRM Life Sciences provides personalized content delivery tools to help sales and marketing teams deliver the right messages during each customer interaction.\\n Marketing, sales, and customer service applications are fully integrated and designed to manage the complex interactions and relationships between brand owners, their partners (including brokers and distributors), their customers, and the end consumer.\\n It leverages data and AI to transform CX–launching offers, acquiring and retaining customers, omnichannel ecommerce and customer care, and fulfilling and monetizing services.\\n It leverages data and AI to transform CX–launching offers, acquiring and retaining customers, omnichannel ecommerce and customer care, and fulfilling and monetizing services.\\n Provide world-class citizen services while delivering comprehensive, cost-efficient case management and policy management, including social services, justice and public safety, constituent services/311, self-service citizen portals, tax and revenue, and licensing and permitting.\\n'}, {'url': 'https://blogs.oracle.com/cx/post/rethinking-crm-the-latest-innovations-from-oracle-sales', 'content': \"The next-generation CRM experience puts the seller's ever-changing role at its core. Next-generation CRM is not a system of record that overlays new UIs on top of the same old data tables. Instead, it provides a prescriptive, intelligent seller experience, offering recommendations and guidance at every point along the sales journey.\"}, {'url': 'https://en.wikipedia.org/wiki/Oracle_CRM', 'content': 'Oracle CRM is a customer relationship management system created by Oracle Corporation. It includes a number of different cloud applications that can be deployed together or used individually to analyze customer data and help companies connect and manage sales, marketing, and customer support.'}]\u001b[0m\u001b[32;1m\u001b[1;3mRelevant Documents: 0,1,2,3,4\n",
      "Cited Documents: 0,1,2,3,4\n",
      "Answer: Oracle CRM is a customer relationship management system created by Oracle Corporation. It includes a number of different cloud applications that can be deployed together or used individually to analyse customer data and help companies connect and manage sales, marketing and customer support. \n",
      "\n",
      "Oracle CRM is based on the Market2Lead product that Oracle acquired in 2010. It has now been fully integrated with Oracle's On Demand CRM product and is a full-featured marketing automation product with features from lead management and nurturing, to measuring marketing ROI. \n",
      "\n",
      "Oracle's Marketing Cloud provides a comprehensive set of tools that cover a range of digital marketing needs. This includes tools for cross-channel marketing, i.e., marketing automation for both B2B and B2C marketers, as well as data management, content marketing and social media marketing. \n",
      "\n",
      "The next-generation Oracle CRM experience puts the seller's ever-changing role at its core. It provides a prescriptive, intelligent seller experience, offering recommendations and guidance at every point along the sales journey. \n",
      "\n",
      "In addition to standard CRM functionality, Oracle CRM includes asset, premises, and contracts management; work orders; oil well management and oil field service; B2C and B2B web portals; and credit and fraud management capabilities.\n",
      "Grounded answer: Oracle CRM is a <co: 4>customer relationship management system</co: 4> created by <co: 4>Oracle Corporation</co: 4>. It includes a <co: 4>number of different cloud applications</co: 4> that can be <co: 4>deployed together or used individually</co: 4> to <co: 4>analyse customer data</co: 4> and <co: 4>help companies connect and manage sales, marketing and customer support</co: 4>. \n",
      "\n",
      "Oracle CRM is based on the <co: 0>Market2Lead product</co: 0> that Oracle <co: 0>acquired in 2010</co: 0>. It has now been <co: 0>fully integrated with Oracle's On Demand CRM product</co: 0> and is a <co: 0>full-featured marketing automation product</co: 0> with features from <co: 0>lead management and nurturing</co: 0>, to <co: 0>measuring marketing ROI</co: 0>. \n",
      "\n",
      "Oracle's <co: 1>Marketing Cloud</co: 1> provides a <co: 1>comprehensive set of tools</co: 1> that cover a <co: 1>range of digital marketing needs</co: 1>. This includes tools for <co: 1>cross-channel marketing</co: 1>, i.e., <co: 1>marketing automation for both B2B and B2C marketers</co: 1>, as well as <co: 1>data management, content marketing and social media marketing</co: 1>. \n",
      "\n",
      "The <co: 3>next-generation</co: 3> Oracle CRM experience puts the <co: 3>seller's ever-changing role at its core</co: 3>. It provides a <co: 3>prescriptive, intelligent seller experience</co: 3>, offering <co: 3>recommendations and guidance at every point along the sales journey</co: 3>. \n",
      "\n",
      "In addition to <co: 2>standard CRM functionality</co: 2>, Oracle CRM includes <co: 2>asset, premises, and contracts management</co: 2>; <co: 2>work orders</co: 2>; <co: 2>oil well management and oil field service</co: 2>; <co: 2>B2C and B2B web portals</co: 2>; and <co: 2>credit and fraud management capabilities</co: 2>.\u001b[0m\n",
      "\n",
      "\u001b[1m> Finished chain.\u001b[0m\n"
     ]
    },
    {
     "data": {
      "text/plain": [
       "\"Oracle CRM is a customer relationship management system created by Oracle Corporation. It includes a number of different cloud applications that can be deployed together or used individually to analyse customer data and help companies connect and manage sales, marketing and customer support. \\n\\nOracle CRM is based on the Market2Lead product that Oracle acquired in 2010. It has now been fully integrated with Oracle's On Demand CRM product and is a full-featured marketing automation product with features from lead management and nurturing, to measuring marketing ROI. \\n\\nOracle's Marketing Cloud provides a comprehensive set of tools that cover a range of digital marketing needs. This includes tools for cross-channel marketing, i.e., marketing automation for both B2B and B2C marketers, as well as data management, content marketing and social media marketing. \\n\\nThe next-generation Oracle CRM experience puts the seller's ever-changing role at its core. It provides a prescriptive, intelligent seller experience, offering recommendations and guidance at every point along the sales journey. \\n\\nIn addition to standard CRM functionality, Oracle CRM includes asset, premises, and contracts management; work orders; oil well management and oil field service; B2C and B2B web portals; and credit and fraud management capabilities.\""
      ]
     },
     "execution_count": 15,
     "metadata": {},
     "output_type": "execute_result"
    }
   ],
   "source": [
    "# Step 3: When you invoke the agent_executor there's no need to pass anything else into invoke\n",
    "response = agent_executor.invoke({\n",
    "    \"preamble\": preamble,\n",
    "})\n",
    "\n",
    "response['output']"
   ]
  },
  {
   "cell_type": "code",
   "execution_count": null,
   "metadata": {},
   "outputs": [],
   "source": []
  }
 ],
 "metadata": {
  "kernelspec": {
   "display_name": "Python 3",
   "language": "python",
   "name": "python3"
  },
  "language_info": {
   "codemirror_mode": {
    "name": "ipython",
    "version": 3
   },
   "file_extension": ".py",
   "mimetype": "text/x-python",
   "name": "python",
   "nbconvert_exporter": "python",
   "pygments_lexer": "ipython3",
   "version": "3.9.7"
  }
 },
 "nbformat": 4,
 "nbformat_minor": 2
}
