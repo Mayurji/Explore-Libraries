{
 "cells": [
  {
   "cell_type": "markdown",
   "id": "46bd14ef",
   "metadata": {},
   "source": [
    "### PII Detection In Semi-Structured Data"
   ]
  },
  {
   "cell_type": "code",
   "execution_count": 3,
   "id": "cf99a517",
   "metadata": {},
   "outputs": [
    {
     "name": "stdout",
     "output_type": "stream",
     "text": [
      "       name   email\n",
      "0  REDACTED  <None>\n",
      "1  REDACTED  <None>\n"
     ]
    }
   ],
   "source": [
    "import pandas as pd\n",
    "from presidio_structured import StructuredEngine, PandasAnalysisBuilder\n",
    "from presidio_anonymizer.entities import OperatorConfig\n",
    "from faker import Faker # optionally using faker as an example\n",
    "\n",
    "# Initialize the engine with a Pandas data processor (default)\n",
    "pandas_engine = StructuredEngine()\n",
    "\n",
    "# Create a sample DataFrame\n",
    "sample_df = pd.DataFrame({'name': ['John Doe', 'Jane Smith'], 'email': ['john.doe@example.com', 'jane.smith@example.com']})\n",
    "\n",
    "# Generate a tabular analysis which detects the PII entities in the DataFrame.\n",
    "tabular_analysis = PandasAnalysisBuilder().generate_analysis(sample_df)\n",
    "\n",
    "# Define anonymization operators\n",
    "fake = Faker()\n",
    "operators = {\n",
    "    \"PERSON\": OperatorConfig(\"replace\", {\"new_value\": \"REDACTED\"}),\n",
    "    \"EMAIL_ADDRESS\": OperatorConfig(\"custom\", {\"lambda\": lambda x: fake.safe_email()})\n",
    "}\n",
    "\n",
    "# Anonymize DataFrame\n",
    "anonymized_df = pandas_engine.anonymize(sample_df, tabular_analysis, operators=operators)\n",
    "print(anonymized_df)"
   ]
  },
  {
   "cell_type": "code",
   "execution_count": null,
   "id": "ad2d82f8",
   "metadata": {},
   "outputs": [],
   "source": []
  }
 ],
 "metadata": {
  "kernelspec": {
   "display_name": "Python 3",
   "language": "python",
   "name": "python3"
  },
  "language_info": {
   "codemirror_mode": {
    "name": "ipython",
    "version": 3
   },
   "file_extension": ".py",
   "mimetype": "text/x-python",
   "name": "python",
   "nbconvert_exporter": "python",
   "pygments_lexer": "ipython3",
   "version": "3.10.12"
  }
 },
 "nbformat": 4,
 "nbformat_minor": 5
}
