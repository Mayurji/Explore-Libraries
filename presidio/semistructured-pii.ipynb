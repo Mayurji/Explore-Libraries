{
 "cells": [
  {
   "cell_type": "markdown",
   "id": "46bd14ef",
   "metadata": {},
   "source": [
    "### PII Detection In Semi-Structured Data"
   ]
  },
  {
   "cell_type": "code",
   "execution_count": 6,
   "id": "cf99a517",
   "metadata": {},
   "outputs": [],
   "source": [
    "import pandas as pd\n",
    "from presidio_structured import StructuredEngine, PandasAnalysisBuilder\n",
    "from presidio_anonymizer.entities import OperatorConfig\n",
    "from faker import Faker # optionally using faker as an example"
   ]
  },
  {
   "cell_type": "code",
   "execution_count": 7,
   "id": "ad2d82f8",
   "metadata": {},
   "outputs": [],
   "source": [
    "# Initialize the engine with a Pandas data processor (default)\n",
    "pandas_engine = StructuredEngine()\n",
    "\n",
    "# Create a sample DataFrame\n",
    "sample_df = pd.DataFrame({'name': ['John Doe', 'Jane Smith'], 'email': ['john.doe@example.com', 'jane.smith@example.com']})"
   ]
  },
  {
   "cell_type": "code",
   "execution_count": 9,
   "id": "a8700e78",
   "metadata": {},
   "outputs": [
    {
     "data": {
      "text/plain": [
       "StructuredAnalysis(entity_mapping={'name': 'PERSON', 'email': 'URL'})"
      ]
     },
     "execution_count": 9,
     "metadata": {},
     "output_type": "execute_result"
    }
   ],
   "source": [
    "# Generate a tabular analysis which detects the PII entities in the DataFrame.\n",
    "tabular_analysis = PandasAnalysisBuilder().generate_analysis(sample_df)\n",
    "tabular_analysis"
   ]
  },
  {
   "cell_type": "code",
   "execution_count": 10,
   "id": "f0994295",
   "metadata": {},
   "outputs": [],
   "source": [
    "# Define anonymization operators\n",
    "fake = Faker()\n",
    "operators = {\n",
    "    \"PERSON\": OperatorConfig(\"replace\", {\"new_value\": \"REDACTED\"}),\n",
    "    \"EMAIL_ADDRESS\": OperatorConfig(\"custom\", {\"lambda\": lambda x: fake.safe_email()})\n",
    "}"
   ]
  },
  {
   "cell_type": "code",
   "execution_count": 11,
   "id": "229730a5",
   "metadata": {},
   "outputs": [
    {
     "data": {
      "text/plain": [
       "{'PERSON': operator_name: replace, params: {'new_value': 'REDACTED'},\n",
       " 'EMAIL_ADDRESS': operator_name: custom, params: {'lambda': <function <lambda> at 0x728776403520>}}"
      ]
     },
     "execution_count": 11,
     "metadata": {},
     "output_type": "execute_result"
    }
   ],
   "source": [
    "operators"
   ]
  },
  {
   "cell_type": "code",
   "execution_count": 12,
   "id": "bdb430d7",
   "metadata": {},
   "outputs": [
    {
     "name": "stdout",
     "output_type": "stream",
     "text": [
      "       name   email\n",
      "0  REDACTED  <None>\n",
      "1  REDACTED  <None>\n"
     ]
    }
   ],
   "source": [
    "# Anonymize DataFrame\n",
    "anonymized_df = pandas_engine.anonymize(sample_df, tabular_analysis, operators=operators)\n",
    "print(anonymized_df)"
   ]
  },
  {
   "cell_type": "code",
   "execution_count": null,
   "id": "f75672ae",
   "metadata": {},
   "outputs": [],
   "source": []
  },
  {
   "cell_type": "code",
   "execution_count": null,
   "id": "475469d6",
   "metadata": {},
   "outputs": [],
   "source": []
  }
 ],
 "metadata": {
  "kernelspec": {
   "display_name": "Python 3",
   "language": "python",
   "name": "python3"
  },
  "language_info": {
   "codemirror_mode": {
    "name": "ipython",
    "version": 3
   },
   "file_extension": ".py",
   "mimetype": "text/x-python",
   "name": "python",
   "nbconvert_exporter": "python",
   "pygments_lexer": "ipython3",
   "version": "3.10.12"
  }
 },
 "nbformat": 4,
 "nbformat_minor": 5
}
