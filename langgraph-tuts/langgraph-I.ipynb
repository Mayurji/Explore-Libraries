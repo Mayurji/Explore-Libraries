{
 "cells": [
  {
   "cell_type": "markdown",
   "id": "d95ec18e",
   "metadata": {},
   "source": [
    "# Building a ChatBot using LangGraph Part - I\n",
    "\n",
    "- Simple bot with LLM\n",
    "- Adding Tool\n",
    "- Adding Memory\n",
    "- Add Human In the Loop"
   ]
  },
  {
   "cell_type": "markdown",
   "id": "f1b969e0",
   "metadata": {},
   "source": [
    "## Simple Bot With LLM"
   ]
  },
  {
   "cell_type": "markdown",
   "id": "51f56e4b",
   "metadata": {},
   "source": [
    "### Installing Packages"
   ]
  },
  {
   "cell_type": "code",
   "execution_count": null,
   "id": "432ee941",
   "metadata": {},
   "outputs": [],
   "source": [
    "#!pip install -U langgraph langsmith"
   ]
  },
  {
   "cell_type": "markdown",
   "id": "2f4e50a9",
   "metadata": {},
   "source": [
    "### Create a StateGraph"
   ]
  },
  {
   "cell_type": "code",
   "execution_count": 1,
   "id": "c6956463",
   "metadata": {},
   "outputs": [],
   "source": [
    "from typing import Annotated\n",
    "from langgraph.graph import StateGraph, START, END\n",
    "from typing_extensions import TypedDict\n",
    "from langgraph.graph.message import add_messages\n",
    "#from langsmith import traceable"
   ]
  },
  {
   "cell_type": "markdown",
   "id": "801fc2fc",
   "metadata": {},
   "source": [
    "\n",
    "1. StateGraph - It structures the chatbot as state machine. (messages is schema, and append to the list is done by reducer functions)\n",
    "2. Nodes - Calling LLM/Function.\n",
    "3. Edges - transistion between the functions."
   ]
  },
  {
   "cell_type": "code",
   "execution_count": 2,
   "id": "632c88ff",
   "metadata": {},
   "outputs": [],
   "source": [
    "class State(TypedDict):\n",
    "    messages: Annotated[list, add_messages]\n",
    "\n",
    "graph_builder = StateGraph(State)"
   ]
  },
  {
   "cell_type": "markdown",
   "id": "e236eda9",
   "metadata": {},
   "source": [
    "1. Each Node receives the current state as input, and outputs an update to the state.\n",
    "2. Updates to messages will be appended to the existing list.\n",
    "\n",
    "### Add a node"
   ]
  },
  {
   "cell_type": "code",
   "execution_count": null,
   "id": "753c5c04",
   "metadata": {},
   "outputs": [],
   "source": [
    "# !pip install -U \"langchain[google-genai]\""
   ]
  },
  {
   "cell_type": "code",
   "execution_count": 3,
   "id": "2c5e26d9",
   "metadata": {},
   "outputs": [],
   "source": [
    "import os\n",
    "from dotenv import load_dotenv\n",
    "from langchain.chat_models import init_chat_model\n",
    "\n",
    "load_dotenv()\n",
    "os.environ[\"GOOGLE_API_KEY\"] = os.getenv(\"GEMINI_API_KEY\")\n",
    "\n",
    "llm = init_chat_model(\"google_genai:gemini-2.0-flash\")"
   ]
  },
  {
   "cell_type": "code",
   "execution_count": 4,
   "id": "85e5c1fd",
   "metadata": {},
   "outputs": [
    {
     "data": {
      "text/plain": [
       "<langgraph.graph.state.StateGraph at 0x766815424d00>"
      ]
     },
     "execution_count": 4,
     "metadata": {},
     "output_type": "execute_result"
    }
   ],
   "source": [
    "def chatbot(state: State):\n",
    "    return {\"messages\": [llm.invoke(state[\"messages\"])]}\n",
    "\n",
    "graph_builder.add_node(\"chatbot\", chatbot)"
   ]
  },
  {
   "cell_type": "markdown",
   "id": "a684bc30",
   "metadata": {},
   "source": [
    "add_messages function in our state will append the LLM's response to messages list.\n",
    "\n",
    "### Adding an Entry Point\n",
    "\n",
    "It tells the graph where it should start its work each time it is run."
   ]
  },
  {
   "cell_type": "code",
   "execution_count": 5,
   "id": "80eec374",
   "metadata": {},
   "outputs": [
    {
     "data": {
      "text/plain": [
       "<langgraph.graph.state.StateGraph at 0x766815424d00>"
      ]
     },
     "execution_count": 5,
     "metadata": {},
     "output_type": "execute_result"
    }
   ],
   "source": [
    "graph_builder.add_edge(START, 'chatbot')"
   ]
  },
  {
   "cell_type": "markdown",
   "id": "69a2f99a",
   "metadata": {},
   "source": [
    "### Adding an Exit Point\n",
    "\n",
    "It indicates where the graph should finish execution."
   ]
  },
  {
   "cell_type": "code",
   "execution_count": 6,
   "id": "7e9610d6",
   "metadata": {},
   "outputs": [
    {
     "data": {
      "text/plain": [
       "<langgraph.graph.state.StateGraph at 0x766815424d00>"
      ]
     },
     "execution_count": 6,
     "metadata": {},
     "output_type": "execute_result"
    }
   ],
   "source": [
    "graph_builder.add_edge('chatbot', END)"
   ]
  },
  {
   "cell_type": "markdown",
   "id": "265f5bba",
   "metadata": {},
   "source": [
    "### Compile the Graph"
   ]
  },
  {
   "cell_type": "code",
   "execution_count": 7,
   "id": "2d7665cf",
   "metadata": {},
   "outputs": [],
   "source": [
    "simple_graph = graph_builder.compile()"
   ]
  },
  {
   "cell_type": "markdown",
   "id": "d0468ca1",
   "metadata": {},
   "source": [
    "### Visualize the graph"
   ]
  },
  {
   "cell_type": "code",
   "execution_count": 8,
   "id": "8e63c956",
   "metadata": {},
   "outputs": [
    {
     "data": {
      "image/png": "[encoded data removed]",
      "text/plain": [
       "<IPython.core.display.Image object>"
      ]
     },
     "metadata": {},
     "output_type": "display_data"
    }
   ],
   "source": [
    "from IPython.display import Image, display\n",
    "\n",
    "try:\n",
    "    display(Image(simple_graph.get_graph().draw_mermaid_png()))\n",
    "except Exception:\n",
    "    # This requires some extra dependencies and is optional\n",
    "    pass"
   ]
  },
  {
   "cell_type": "markdown",
   "id": "703d884d",
   "metadata": {},
   "source": [
    "### Run the Bot"
   ]
  },
  {
   "cell_type": "code",
   "execution_count": 9,
   "id": "5b64072f",
   "metadata": {},
   "outputs": [
    {
     "name": "stdout",
     "output_type": "stream",
     "text": [
      "Assistant: OpenAI is an artificial intelligence research and deployment company dedicated to ensuring that general-purpose AI benefits all of humanity.\n",
      "Goodbye!\n"
     ]
    }
   ],
   "source": [
    "\n",
    "def stream_graph_updates(user_input: str):\n",
    "    for event in simple_graph.stream({\"messages\": [{\"role\": \"user\", \"content\": user_input}]}):\n",
    "        for value in event.values():\n",
    "            print(\"Assistant:\", value[\"messages\"][-1].content)\n",
    "\n",
    "\n",
    "while True:\n",
    "    try:\n",
    "        user_input = input(\"User: \")\n",
    "        if user_input.lower() in [\"quit\", \"exit\", \"q\"]:\n",
    "            print(\"Goodbye!\")\n",
    "            break\n",
    "        stream_graph_updates(user_input)\n",
    "    except:\n",
    "        # fallback if input() is not available\n",
    "        user_input = \"What do you know about LangGraph?\"\n",
    "        print(\"User: \" + user_input)\n",
    "        stream_graph_updates(user_input)\n",
    "        break"
   ]
  },
  {
   "cell_type": "markdown",
   "id": "8e074c1f",
   "metadata": {},
   "source": [
    "### Chatbot with Tool"
   ]
  },
  {
   "cell_type": "code",
   "execution_count": null,
   "id": "2eb9a6c5",
   "metadata": {},
   "outputs": [],
   "source": [
    "#pip install -U langchain-tavily"
   ]
  },
  {
   "cell_type": "code",
   "execution_count": 10,
   "id": "2039de1e",
   "metadata": {},
   "outputs": [],
   "source": [
    "import os\n",
    "\n",
    "os.environ[\"TAVILY_API_KEY\"] = os.getenv(\"TAVILY_API_KEY\")"
   ]
  },
  {
   "cell_type": "markdown",
   "id": "0c5eba72",
   "metadata": {},
   "source": [
    "### Defining the tool"
   ]
  },
  {
   "cell_type": "code",
   "execution_count": 11,
   "id": "3b4cdd8c",
   "metadata": {},
   "outputs": [
    {
     "data": {
      "text/plain": [
       "{'query': \"What's a 'node' in LangGraph?\",\n",
       " 'follow_up_questions': None,\n",
       " 'answer': None,\n",
       " 'images': [],\n",
       " 'results': [{'url': 'https://langchain-ai.github.io/langgraphjs/concepts/low_level/',\n",
       "   'title': 'LangGraph Glossary',\n",
       "   'content': 'In LangGraph, nodes are typically JavaScript/TypeScript functions (sync or async ) where the first positional argument is the state, and (optionally), the',\n",
       "   'score': 0.9163571,\n",
       "   'raw_content': None}],\n",
       " 'response_time': 1.56,\n",
       " 'request_id': 'c70a7ed6-ce4f-48a6-b05e-19fe0ec31f75'}"
      ]
     },
     "execution_count": 11,
     "metadata": {},
     "output_type": "execute_result"
    }
   ],
   "source": [
    "from langchain_tavily import TavilySearch\n",
    "\n",
    "tool = TavilySearch(max_results=1)\n",
    "tools = [tool]\n",
    "tool.invoke(\"What's a 'node' in LangGraph?\")"
   ]
  },
  {
   "cell_type": "code",
   "execution_count": 12,
   "id": "cfc12fa9",
   "metadata": {},
   "outputs": [
    {
     "name": "stderr",
     "output_type": "stream",
     "text": [
      "Adding a node to a graph that has already been compiled. This will not be reflected in the compiled graph.\n"
     ]
    },
    {
     "data": {
      "text/plain": [
       "<langgraph.graph.state.StateGraph at 0x766815424d00>"
      ]
     },
     "execution_count": 12,
     "metadata": {},
     "output_type": "execute_result"
    }
   ],
   "source": [
    "llm_with_tools = llm.bind_tools(tools)\n",
    "\n",
    "def chatbot_with_tools(state: State):\n",
    "    return {\"messages\": [llm_with_tools.invoke(state[\"messages\"])]}\n",
    "\n",
    "graph_builder.add_node(\"chatbot_with_tools\", chatbot_with_tools)"
   ]
  },
  {
   "cell_type": "markdown",
   "id": "79ffcccd",
   "metadata": {},
   "source": [
    "### Create a function to run the tools"
   ]
  },
  {
   "cell_type": "code",
   "execution_count": 13,
   "id": "cf4a0415",
   "metadata": {},
   "outputs": [
    {
     "name": "stderr",
     "output_type": "stream",
     "text": [
      "Adding a node to a graph that has already been compiled. This will not be reflected in the compiled graph.\n"
     ]
    },
    {
     "data": {
      "text/plain": [
       "<langgraph.graph.state.StateGraph at 0x766815424d00>"
      ]
     },
     "execution_count": 13,
     "metadata": {},
     "output_type": "execute_result"
    }
   ],
   "source": [
    "import json\n",
    "\n",
    "from langchain_core.messages import ToolMessage\n",
    "\n",
    "\n",
    "class BasicToolNode:\n",
    "    \"\"\"A node that runs the tools requested in the last AIMessage.\"\"\"\n",
    "\n",
    "    def __init__(self, tools: list) -> None:\n",
    "        self.tools_by_name = {tool.name: tool for tool in tools}\n",
    "\n",
    "    def __call__(self, inputs: dict):\n",
    "        if messages := inputs.get(\"messages\", []):\n",
    "            message = messages[-1]\n",
    "        else:\n",
    "            raise ValueError(\"No message found in input\")\n",
    "        outputs = []\n",
    "        for tool_call in message.tool_calls:\n",
    "            tool_result = self.tools_by_name[tool_call[\"name\"]].invoke(\n",
    "                tool_call[\"args\"]\n",
    "            )\n",
    "            outputs.append(\n",
    "                ToolMessage(\n",
    "                    content=json.dumps(tool_result),\n",
    "                    name=tool_call[\"name\"],\n",
    "                    tool_call_id=tool_call[\"id\"],\n",
    "                )\n",
    "            )\n",
    "        return {\"messages\": outputs}\n",
    "\n",
    "\n",
    "tool_node = BasicToolNode(tools=[tool])\n",
    "graph_builder.add_node(\"tools\", tool_node)"
   ]
  },
  {
   "cell_type": "markdown",
   "id": "a7a6cade",
   "metadata": {},
   "source": [
    "### Adding Conditional Edges\n",
    "\n",
    "Edges control the flow from one node to next."
   ]
  },
  {
   "cell_type": "code",
   "execution_count": 14,
   "id": "b3c97707",
   "metadata": {},
   "outputs": [
    {
     "name": "stderr",
     "output_type": "stream",
     "text": [
      "Adding an edge to a graph that has already been compiled. This will not be reflected in the compiled graph.\n",
      "Adding an edge to a graph that has already been compiled. This will not be reflected in the compiled graph.\n",
      "Adding an edge to a graph that has already been compiled. This will not be reflected in the compiled graph.\n"
     ]
    }
   ],
   "source": [
    "def route_tools(\n",
    "    state: State,\n",
    "):\n",
    "    \"\"\"\n",
    "    Use in the conditional_edge to route to the ToolNode if the last message\n",
    "    has tool calls. Otherwise, route to the end.\n",
    "    \"\"\"\n",
    "    if isinstance(state, list):\n",
    "        ai_message = state[-1]\n",
    "    elif messages := state.get(\"messages\", []):\n",
    "        ai_message = messages[-1]\n",
    "    else:\n",
    "        raise ValueError(f\"No messages found in input state to tool_edge: {state}\")\n",
    "    if hasattr(ai_message, \"tool_calls\") and len(ai_message.tool_calls) > 0:\n",
    "        return \"tools\"\n",
    "    return END\n",
    "\n",
    "\n",
    "# The `tools_condition` function returns \"tools\" if the chatbot asks to use a tool, and \"END\" if\n",
    "# it is fine directly responding. This conditional routing defines the main agent loop.\n",
    "graph_builder.add_conditional_edges(\n",
    "    \"chatbot_with_tools\",\n",
    "    route_tools,\n",
    "    # The following dictionary lets you tell the graph to interpret the condition's outputs as a specific node\n",
    "    # It defaults to the identity function, but if you\n",
    "    # want to use a node named something else apart from \"tools\",\n",
    "    # You can update the value of the dictionary to something else\n",
    "    # e.g., \"tools\": \"my_tools\"\n",
    "    {\"tools\": \"tools\", END: END},\n",
    ")\n",
    "# Any time a tool is called, we return to the chatbot to decide the next step\n",
    "graph_builder.add_edge(\"tools\", \"chatbot_with_tools\")\n",
    "graph_builder.add_edge(START, \"chatbot_with_tools\")\n",
    "graph_with_tools = graph_builder.compile()"
   ]
  },
  {
   "cell_type": "markdown",
   "id": "cf40f3f3",
   "metadata": {},
   "source": [
    "### Visualize the graph"
   ]
  },
  {
   "cell_type": "code",
   "execution_count": 15,
   "id": "e08d4a58",
   "metadata": {},
   "outputs": [
    {
     "data": {
      "image/png": "[encoded data removed]",
      "text/plain": [
       "<IPython.core.display.Image object>"
      ]
     },
     "metadata": {},
     "output_type": "display_data"
    }
   ],
   "source": [
    "from IPython.display import Image, display\n",
    "\n",
    "try:\n",
    "    display(Image(graph_with_tools.get_graph().draw_mermaid_png()))\n",
    "except Exception:\n",
    "    # This requires some extra dependencies and is optional\n",
    "    pass"
   ]
  },
  {
   "cell_type": "markdown",
   "id": "1af57978",
   "metadata": {},
   "source": [
    "### Run the bot with tools"
   ]
  },
  {
   "cell_type": "code",
   "execution_count": 16,
   "id": "601cebb1",
   "metadata": {},
   "outputs": [
    {
     "name": "stdout",
     "output_type": "stream",
     "text": [
      "Assistant: \n",
      "Assistant: As an AI, I do not have access to real-time information, including live stock prices. Stock prices change constantly throughout the day.\n",
      "\n",
      "**To get the current stock price for Apple (AAPL), I recommend checking one of these sources:**\n",
      "\n",
      "*   **A financial website:** such as Google Finance, Yahoo Finance, Bloomberg, or MarketWatch.\n",
      "*   **Your brokerage account:** If you have a brokerage account, the current price will be displayed there.\n",
      "*   **A reliable financial news app.**\n",
      "Assistant: {\"query\": \"apple stock price\", \"follow_up_questions\": null, \"answer\": null, \"images\": [], \"results\": [{\"title\": \"Financial Analysis for AAPL\", \"url\": \"https://finance.yahoo.com/quote/AAPL/\", \"content\": \"Stock: AAPL\\nFinancial Analysis:\\nLatest Open Price: 232.51 Latest Close Price: 232.14 Highest Close Price: 258.10 Lowest Close Price: 163.82 Average Close Price (2 years): 205.27 Standard Deviation of Close Price: 23.74 Volume Traded (2 years): 28565119600 Total Return (2 years): 24.92% Annualized Return (2 years): 11.77% CAGR (2 years): 11.77% Sharpe Ratio (2 years): 0.50 Max Drawdown (2 years): 0.05% \", \"score\": 0.9889, \"raw_content\": null}], \"response_time\": 2.17, \"request_id\": \"ed247946-dd17-43e9-92ab-016f37857bfb\"}\n",
      "Assistant: According to the search results, the latest close price for Apple (AAPL) is 232.14.\n",
      "Goodbye!\n"
     ]
    }
   ],
   "source": [
    "def stream_graph_updates(user_input: str):\n",
    "    for event in graph_with_tools.stream({\"messages\": [{\"role\": \"user\", \"content\": user_input}]}):\n",
    "        for value in event.values():\n",
    "            print(\"Assistant:\", value[\"messages\"][-1].content)\n",
    "\n",
    "while True:\n",
    "    try:\n",
    "        user_input = input(\"User: \")\n",
    "        if user_input.lower() in [\"quit\", \"exit\", \"q\"]:\n",
    "            print(\"Goodbye!\")\n",
    "            break\n",
    "\n",
    "        stream_graph_updates(user_input)\n",
    "    except:\n",
    "        # fallback if input() is not available\n",
    "        user_input = \"What do you know about LangGraph?\"\n",
    "        print(\"User: \" + user_input)\n",
    "        stream_graph_updates(user_input)\n",
    "        break"
   ]
  },
  {
   "cell_type": "markdown",
   "id": "f02ce23e",
   "metadata": {},
   "source": [
    "Though the bot has access to tool for search, it cannot remember past interactions on its own, \\\n",
    "which limits its ability to have coherent, multi-turn conversations."
   ]
  },
  {
   "cell_type": "code",
   "execution_count": null,
   "id": "d8d25ec2",
   "metadata": {},
   "outputs": [],
   "source": []
  }
 ],
 "metadata": {
  "kernelspec": {
   "display_name": "Python 3",
   "language": "python",
   "name": "python3"
  },
  "language_info": {
   "codemirror_mode": {
    "name": "ipython",
    "version": 3
   },
   "file_extension": ".py",
   "mimetype": "text/x-python",
   "name": "python",
   "nbconvert_exporter": "python",
   "pygments_lexer": "ipython3",
   "version": "3.10.12"
  }
 },
 "nbformat": 4,
 "nbformat_minor": 5
}
