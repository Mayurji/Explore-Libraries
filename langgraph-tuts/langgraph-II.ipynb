{
 "cells": [
  {
   "cell_type": "markdown",
   "id": "d95ec18e",
   "metadata": {},
   "source": [
    "# Building a ChatBot using LangGraph Part - II\n",
    "\n",
    "- Bot From Part I\n",
    "- Adding Memory\n",
    "- Add Human In the Loop"
   ]
  },
  {
   "cell_type": "markdown",
   "id": "f1b969e0",
   "metadata": {},
   "source": [
    "## Bot With Memory and Human In the loop"
   ]
  },
  {
   "cell_type": "markdown",
   "id": "51f56e4b",
   "metadata": {},
   "source": [
    "### Installing Packages"
   ]
  },
  {
   "cell_type": "code",
   "execution_count": null,
   "id": "432ee941",
   "metadata": {},
   "outputs": [],
   "source": [
    "#!pip install -U langgraph langsmith"
   ]
  },
  {
   "cell_type": "markdown",
   "id": "2f4e50a9",
   "metadata": {},
   "source": [
    "### Create a StateGraph"
   ]
  },
  {
   "cell_type": "code",
   "execution_count": 1,
   "id": "c6956463",
   "metadata": {},
   "outputs": [],
   "source": [
    "from typing import Annotated\n",
    "from langgraph.graph import StateGraph, START, END\n",
    "from typing_extensions import TypedDict\n",
    "from langgraph.graph.message import add_messages"
   ]
  },
  {
   "cell_type": "markdown",
   "id": "801fc2fc",
   "metadata": {},
   "source": [
    "\n",
    "1. StateGraph - It structures the chatbot as state machine. (messages is schema, and append to the list is done by reducer functions)\n",
    "2. Nodes - Calling LLM/Function.\n",
    "3. Edges - transistion between the functions."
   ]
  },
  {
   "cell_type": "markdown",
   "id": "c6104e11",
   "metadata": {},
   "source": [
    "### Creating Structure of a Bot"
   ]
  },
  {
   "cell_type": "code",
   "execution_count": 2,
   "id": "632c88ff",
   "metadata": {},
   "outputs": [],
   "source": [
    "class State(TypedDict):\n",
    "    messages: Annotated[list, add_messages]\n",
    "\n",
    "graph_builder = StateGraph(State)"
   ]
  },
  {
   "cell_type": "markdown",
   "id": "fd8b5c85",
   "metadata": {},
   "source": [
    "### Loading API Keys"
   ]
  },
  {
   "cell_type": "code",
   "execution_count": 3,
   "id": "2c5e26d9",
   "metadata": {},
   "outputs": [],
   "source": [
    "import os\n",
    "from dotenv import load_dotenv\n",
    "from langchain.chat_models import init_chat_model\n",
    "\n",
    "load_dotenv()\n",
    "os.environ[\"GOOGLE_API_KEY\"] = os.getenv(\"GEMINI_API_KEY\")\n",
    "os.environ[\"TAVILY_API_KEY\"] = os.getenv(\"TAVILY_API_KEY\")\n",
    "\n",
    "llm = init_chat_model(\"google_genai:gemini-2.0-flash\")"
   ]
  },
  {
   "cell_type": "markdown",
   "id": "0c5eba72",
   "metadata": {},
   "source": [
    "### Defining the tool\n",
    "\n",
    "Adding Human In the Loop as a tool."
   ]
  },
  {
   "cell_type": "code",
   "execution_count": 4,
   "id": "3b4cdd8c",
   "metadata": {},
   "outputs": [],
   "source": [
    "from langchain_tavily import TavilySearch\n",
    "from langgraph.types import Command, interrupt\n",
    "from langgraph.checkpoint.memory import InMemorySaver\n",
    "from langchain_core.tools import tool\n",
    "\n",
    "@tool\n",
    "def human_assistance(query: str) -> str:\n",
    "    \"\"\"Request assistance from a human.\"\"\"\n",
    "    human_response = interrupt({\"query\": query})\n",
    "    return human_response[\"data\"]\n",
    "\n",
    "tool = TavilySearch(max_results=1)\n",
    "tools = [tool, human_assistance]"
   ]
  },
  {
   "cell_type": "markdown",
   "id": "b896c899",
   "metadata": {},
   "source": [
    "### Binding Tools with LLM"
   ]
  },
  {
   "cell_type": "code",
   "execution_count": 5,
   "id": "cfc12fa9",
   "metadata": {},
   "outputs": [],
   "source": [
    "llm_with_multiple_tools = llm.bind_tools(tools)"
   ]
  },
  {
   "cell_type": "markdown",
   "id": "47e54bc1",
   "metadata": {},
   "source": [
    "### Creating Bot as a Function"
   ]
  },
  {
   "cell_type": "code",
   "execution_count": 6,
   "id": "353a5978",
   "metadata": {},
   "outputs": [],
   "source": [
    "def chatbot_with_multiple_tools(state: State):\n",
    "    message = llm_with_multiple_tools.invoke(state[\"messages\"])\n",
    "    # Because we will be interrupting during tool execution,\n",
    "    # we disable parallel tool calling to avoid repeating any\n",
    "    # tool invocations when we resume.\n",
    "    assert len(message.tool_calls) <= 1\n",
    "    return {\"messages\": [message]}"
   ]
  },
  {
   "cell_type": "markdown",
   "id": "d19a4e71",
   "metadata": {},
   "source": [
    "### Adding Bot as a Node"
   ]
  },
  {
   "cell_type": "code",
   "execution_count": 7,
   "id": "e1207a43",
   "metadata": {},
   "outputs": [
    {
     "data": {
      "text/plain": [
       "<langgraph.graph.state.StateGraph at 0x7594a5434550>"
      ]
     },
     "execution_count": 7,
     "metadata": {},
     "output_type": "execute_result"
    }
   ],
   "source": [
    "graph_builder.add_node(\"chatbot_with_multiple_tools\", chatbot_with_multiple_tools)"
   ]
  },
  {
   "cell_type": "markdown",
   "id": "e9136395",
   "metadata": {},
   "source": [
    "### Entry Point to Bot"
   ]
  },
  {
   "cell_type": "code",
   "execution_count": 8,
   "id": "dfaf4dbd",
   "metadata": {},
   "outputs": [
    {
     "data": {
      "text/plain": [
       "<langgraph.graph.state.StateGraph at 0x7594a5434550>"
      ]
     },
     "execution_count": 8,
     "metadata": {},
     "output_type": "execute_result"
    }
   ],
   "source": [
    "graph_builder.add_edge(START, 'chatbot_with_multiple_tools')"
   ]
  },
  {
   "cell_type": "code",
   "execution_count": 10,
   "id": "ff50a44a",
   "metadata": {},
   "outputs": [
    {
     "data": {
      "text/plain": [
       "{'chatbot_with_multiple_tools': StateNodeSpec(runnable=chatbot_with_multiple_tools(tags=None, recurse=True, explode_args=False, func_accepts={}), metadata=None, input_schema=<class '__main__.State'>, retry_policy=None, cache_policy=None, ends=(), defer=False)}"
      ]
     },
     "execution_count": 10,
     "metadata": {},
     "output_type": "execute_result"
    }
   ],
   "source": [
    "graph_builder.nodes"
   ]
  },
  {
   "cell_type": "markdown",
   "id": "79ffcccd",
   "metadata": {},
   "source": [
    "### Create a function to run the tools"
   ]
  },
  {
   "cell_type": "code",
   "execution_count": 11,
   "id": "cf4a0415",
   "metadata": {},
   "outputs": [
    {
     "data": {
      "text/plain": [
       "<langgraph.graph.state.StateGraph at 0x7594a5434550>"
      ]
     },
     "execution_count": 11,
     "metadata": {},
     "output_type": "execute_result"
    }
   ],
   "source": [
    "import json\n",
    "\n",
    "from langchain_core.messages import ToolMessage\n",
    "\n",
    "\n",
    "class BasicToolNode:\n",
    "    \"\"\"A node that runs the tools requested in the last AIMessage.\"\"\"\n",
    "\n",
    "    def __init__(self, tools: list) -> None:\n",
    "        self.tools_by_name = {tool.name: tool for tool in tools}\n",
    "\n",
    "    def __call__(self, inputs: dict):\n",
    "        if messages := inputs.get(\"messages\", []):\n",
    "            message = messages[-1]\n",
    "        else:\n",
    "            raise ValueError(\"No message found in input\")\n",
    "        outputs = []\n",
    "        for tool_call in message.tool_calls:\n",
    "            tool_result = self.tools_by_name[tool_call[\"name\"]].invoke(\n",
    "                tool_call[\"args\"]\n",
    "            )\n",
    "            outputs.append(\n",
    "                ToolMessage(\n",
    "                    content=json.dumps(tool_result),\n",
    "                    name=tool_call[\"name\"],\n",
    "                    tool_call_id=tool_call[\"id\"],\n",
    "                )\n",
    "            )\n",
    "        return {\"messages\": outputs}\n",
    "\n",
    "\n",
    "multiple_tool_node = BasicToolNode(tools=tools)\n",
    "graph_builder.add_node(\"multiple_tools\", multiple_tool_node)"
   ]
  },
  {
   "cell_type": "code",
   "execution_count": 12,
   "id": "b5f9b627",
   "metadata": {},
   "outputs": [
    {
     "data": {
      "text/plain": [
       "{'chatbot_with_multiple_tools': StateNodeSpec(runnable=chatbot_with_multiple_tools(tags=None, recurse=True, explode_args=False, func_accepts={}), metadata=None, input_schema=<class '__main__.State'>, retry_policy=None, cache_policy=None, ends=(), defer=False),\n",
       " 'multiple_tools': StateNodeSpec(runnable=multiple_tools(tags=None, recurse=True, explode_args=False, func_accepts={}), metadata=None, input_schema=<class '__main__.State'>, retry_policy=None, cache_policy=None, ends=(), defer=False)}"
      ]
     },
     "execution_count": 12,
     "metadata": {},
     "output_type": "execute_result"
    }
   ],
   "source": [
    "graph_builder.nodes"
   ]
  },
  {
   "cell_type": "code",
   "execution_count": 13,
   "id": "b1b72086",
   "metadata": {},
   "outputs": [],
   "source": [
    "def route_multiple_tools(\n",
    "    state: State,\n",
    "):\n",
    "    \"\"\"\n",
    "    Use in the conditional_edge to route to the ToolNode if the last message\n",
    "    has tool calls. Otherwise, route to the end.\n",
    "    \"\"\"\n",
    "    if isinstance(state, list):\n",
    "        ai_message = state[-1]\n",
    "    elif messages := state.get(\"messages\", []):\n",
    "        ai_message = messages[-1]\n",
    "    else:\n",
    "        raise ValueError(f\"No messages found in input state to tool_edge: {state}\")\n",
    "    if hasattr(ai_message, \"tool_calls\") and len(ai_message.tool_calls) > 0:\n",
    "        return \"multiple_tools\"\n",
    "    return END\n",
    "\n",
    "\n",
    "# The `tools_condition` function returns \"tools\" if the chatbot asks to use a tool, and \"END\" if\n",
    "# it is fine directly responding. This conditional routing defines the main agent loop.\n",
    "graph_builder.add_conditional_edges(\n",
    "    \"chatbot_with_multiple_tools\",\n",
    "    route_multiple_tools,\n",
    "    # The following dictionary lets you tell the graph to interpret the condition's outputs as a specific node\n",
    "    # It defaults to the identity function, but if you\n",
    "    # want to use a node named something else apart from \"tools\",\n",
    "    # You can update the value of the dictionary to something else\n",
    "    # e.g., \"tools\": \"my_tools\"\n",
    "    {\"multiple_tools\": \"multiple_tools\", END: END},\n",
    ")\n",
    "# Any time a tool is called, we return to the chatbot to decide the next step\n",
    "\n",
    "graph_builder.add_edge(\"multiple_tools\", \"chatbot_with_multiple_tools\")\n",
    "memory = InMemorySaver()\n",
    "graph_with_humaninloop = graph_builder.compile(checkpointer=memory)"
   ]
  },
  {
   "cell_type": "code",
   "execution_count": 14,
   "id": "cd65ee8a",
   "metadata": {},
   "outputs": [
    {
     "data": {
      "image/png": "[encoded data removed]",
      "text/plain": [
       "<IPython.core.display.Image object>"
      ]
     },
     "metadata": {},
     "output_type": "display_data"
    }
   ],
   "source": [
    "from IPython.display import Image, display\n",
    "\n",
    "try:\n",
    "    display(Image(graph_with_humaninloop.get_graph().draw_mermaid_png()))\n",
    "except Exception:\n",
    "    # This requires some extra dependencies and is optional\n",
    "    pass"
   ]
  },
  {
   "cell_type": "code",
   "execution_count": 15,
   "id": "a007f4c8",
   "metadata": {},
   "outputs": [
    {
     "name": "stdout",
     "output_type": "stream",
     "text": [
      "================================\u001b[1m Human Message \u001b[0m=================================\n",
      "\n",
      "I need some expert guidance for building an AI agent. Could you request assistance for me?\n",
      "==================================\u001b[1m Ai Message \u001b[0m==================================\n",
      "Tool Calls:\n",
      "  human_assistance (8ac744f9-015e-4c2b-8b62-de5c194afb16)\n",
      " Call ID: 8ac744f9-015e-4c2b-8b62-de5c194afb16\n",
      "  Args:\n",
      "    query: I need expert guidance for building an AI agent.\n"
     ]
    }
   ],
   "source": [
    "user_input = \"I need some expert guidance for building an AI agent. Could you request assistance for me?\"\n",
    "config = {\"configurable\": {\"thread_id\": \"1\"}}\n",
    "\n",
    "events = graph_with_humaninloop.stream(\n",
    "    {\"messages\": [{\"role\": \"user\", \"content\": user_input}]},\n",
    "    config,\n",
    "    stream_mode=\"values\",\n",
    ")\n",
    "for event in events:\n",
    "    if \"messages\" in event:\n",
    "        event[\"messages\"][-1].pretty_print()"
   ]
  },
  {
   "cell_type": "code",
   "execution_count": 16,
   "id": "d6a270f4",
   "metadata": {},
   "outputs": [
    {
     "data": {
      "text/plain": [
       "('multiple_tools',)"
      ]
     },
     "execution_count": 16,
     "metadata": {},
     "output_type": "execute_result"
    }
   ],
   "source": [
    "snapshot = graph_with_humaninloop.get_state(config)\n",
    "snapshot.next"
   ]
  },
  {
   "cell_type": "code",
   "execution_count": 17,
   "id": "36947eee",
   "metadata": {},
   "outputs": [
    {
     "name": "stdout",
     "output_type": "stream",
     "text": [
      "==================================\u001b[1m Ai Message \u001b[0m==================================\n",
      "Tool Calls:\n",
      "  human_assistance (8ac744f9-015e-4c2b-8b62-de5c194afb16)\n",
      " Call ID: 8ac744f9-015e-4c2b-8b62-de5c194afb16\n",
      "  Args:\n",
      "    query: I need expert guidance for building an AI agent.\n",
      "=================================\u001b[1m Tool Message \u001b[0m=================================\n",
      "Name: human_assistance\n",
      "\n",
      "\"We, the experts are here to help! We'd recommend you check out LangGraph to build your agent. It's much more reliable and extensible than simple autonomous agents.\"\n",
      "==================================\u001b[1m Ai Message \u001b[0m==================================\n",
      "\n",
      "The experts recommend using LangGraph to build your AI agent. They say it's more reliable and extensible than simple autonomous agents.\n"
     ]
    }
   ],
   "source": [
    "human_response = (\n",
    "    \"We, the experts are here to help! We'd recommend you check out LangGraph to build your agent.\"\n",
    "    \" It's much more reliable and extensible than simple autonomous agents.\"\n",
    ")\n",
    "\n",
    "human_command = Command(resume={\"data\": human_response})\n",
    "\n",
    "events = graph_with_humaninloop.stream(human_command, config, stream_mode=\"values\")\n",
    "for event in events:\n",
    "    if \"messages\" in event:\n",
    "        event[\"messages\"][-1].pretty_print()"
   ]
  },
  {
   "cell_type": "markdown",
   "id": "bca31290",
   "metadata": {},
   "source": [
    "### Testing the Bot's Memory\n",
    "\n",
    "- Pick a thread to use as the key for this conversation\n",
    "- Call the bot\n",
    "- Ask follow up question"
   ]
  },
  {
   "cell_type": "code",
   "execution_count": 18,
   "id": "0d83c59e",
   "metadata": {},
   "outputs": [
    {
     "name": "stdout",
     "output_type": "stream",
     "text": [
      "================================\u001b[1m Human Message \u001b[0m=================================\n",
      "\n",
      "Hi there! My name is Will.\n",
      "==================================\u001b[1m Ai Message \u001b[0m==================================\n",
      "\n",
      "Hi Will! How can I help you today?\n"
     ]
    }
   ],
   "source": [
    "user_input = \"Hi there! My name is Will.\"\n",
    "\n",
    "# The config is the **second positional argument** to stream() or invoke()!\n",
    "events = graph_with_humaninloop.stream(\n",
    "    {\"messages\": [{\"role\": \"user\", \"content\": user_input}]},\n",
    "    config,\n",
    "    stream_mode=\"values\",\n",
    ")\n",
    "for event in events:\n",
    "    event[\"messages\"][-1].pretty_print()"
   ]
  },
  {
   "cell_type": "code",
   "execution_count": 19,
   "id": "e23a37da",
   "metadata": {},
   "outputs": [
    {
     "name": "stdout",
     "output_type": "stream",
     "text": [
      "================================\u001b[1m Human Message \u001b[0m=================================\n",
      "\n",
      "Remember my name?\n",
      "==================================\u001b[1m Ai Message \u001b[0m==================================\n",
      "\n",
      "Yes, your name is Will.\n"
     ]
    }
   ],
   "source": [
    "user_input = \"Remember my name?\"\n",
    "\n",
    "# The config is the **second positional argument** to stream() or invoke()!\n",
    "events = graph_with_humaninloop.stream(\n",
    "    {\"messages\": [{\"role\": \"user\", \"content\": user_input}]},\n",
    "    config,\n",
    "    stream_mode=\"values\",\n",
    ")\n",
    "for event in events:\n",
    "    event[\"messages\"][-1].pretty_print()"
   ]
  },
  {
   "cell_type": "markdown",
   "id": "d97d3b75",
   "metadata": {},
   "source": [
    "**Testing with Different Thread ID**"
   ]
  },
  {
   "cell_type": "code",
   "execution_count": 20,
   "id": "974939d2",
   "metadata": {},
   "outputs": [
    {
     "name": "stdout",
     "output_type": "stream",
     "text": [
      "================================\u001b[1m Human Message \u001b[0m=================================\n",
      "\n",
      "Remember my name?\n",
      "==================================\u001b[1m Ai Message \u001b[0m==================================\n",
      "\n",
      "I do not have access to any personally identifiable information about you. I don't have memory of past conversations.\n"
     ]
    }
   ],
   "source": [
    "# The only difference is we change the `thread_id` here to \"2\" instead of \"1\"\n",
    "events = graph_with_humaninloop.stream(\n",
    "    {\"messages\": [{\"role\": \"user\", \"content\": user_input}]},\n",
    "    {\"configurable\": {\"thread_id\": \"2\"}},\n",
    "    stream_mode=\"values\",\n",
    ")\n",
    "for event in events:\n",
    "    event[\"messages\"][-1].pretty_print()"
   ]
  },
  {
   "cell_type": "code",
   "execution_count": 21,
   "id": "98e3c13e",
   "metadata": {},
   "outputs": [
    {
     "data": {
      "text/plain": [
       "StateSnapshot(values={'messages': [HumanMessage(content='I need some expert guidance for building an AI agent. Could you request assistance for me?', additional_kwargs={}, response_metadata={}, id='673fa2d1-b413-40d7-8c4f-3590f812c7fd'), AIMessage(content='', additional_kwargs={'function_call': {'name': 'human_assistance', 'arguments': '{\"query\": \"I need expert guidance for building an AI agent.\"}'}}, response_metadata={'prompt_feedback': {'block_reason': 0, 'safety_ratings': []}, 'finish_reason': 'STOP', 'model_name': 'gemini-2.0-flash', 'safety_ratings': []}, id='run--2bf41437-e209-4d7c-9e3f-7b5c6ec042aa-0', tool_calls=[{'name': 'human_assistance', 'args': {'query': 'I need expert guidance for building an AI agent.'}, 'id': '8ac744f9-015e-4c2b-8b62-de5c194afb16', 'type': 'tool_call'}], usage_metadata={'input_tokens': 1122, 'output_tokens': 14, 'total_tokens': 1136, 'input_token_details': {'cache_read': 0}}), ToolMessage(content='\"We, the experts are here to help! We\\'d recommend you check out LangGraph to build your agent. It\\'s much more reliable and extensible than simple autonomous agents.\"', name='human_assistance', id='4ed25182-78d5-412d-94e4-007abaa0e46e', tool_call_id='8ac744f9-015e-4c2b-8b62-de5c194afb16'), AIMessage(content=\"The experts recommend using LangGraph to build your AI agent. They say it's more reliable and extensible than simple autonomous agents.\", additional_kwargs={}, response_metadata={'prompt_feedback': {'block_reason': 0, 'safety_ratings': []}, 'finish_reason': 'STOP', 'model_name': 'gemini-2.0-flash', 'safety_ratings': []}, id='run--faa58874-91af-4685-8ac7-16eecf8c95d0-0', usage_metadata={'input_tokens': 1176, 'output_tokens': 27, 'total_tokens': 1203, 'input_token_details': {'cache_read': 0}}), HumanMessage(content='Hi there! My name is Will.', additional_kwargs={}, response_metadata={}, id='542bd87e-68fb-4c25-8fc4-be49ce9e1ed4'), AIMessage(content='Hi Will! How can I help you today?', additional_kwargs={}, response_metadata={'prompt_feedback': {'block_reason': 0, 'safety_ratings': []}, 'finish_reason': 'STOP', 'model_name': 'gemini-2.0-flash', 'safety_ratings': []}, id='run--a359fe28-2ab8-4637-86a1-2a8d0cc9cd55-0', usage_metadata={'input_tokens': 1210, 'output_tokens': 11, 'total_tokens': 1221, 'input_token_details': {'cache_read': 0}}), HumanMessage(content='Remember my name?', additional_kwargs={}, response_metadata={}, id='db4a5661-2008-41bf-9df4-d70b40d1ceaa'), AIMessage(content='Yes, your name is Will.', additional_kwargs={}, response_metadata={'prompt_feedback': {'block_reason': 0, 'safety_ratings': []}, 'finish_reason': 'STOP', 'model_name': 'gemini-2.0-flash', 'safety_ratings': []}, id='run--c15e07e6-e700-4be0-bbbd-197d046fb9c4-0', usage_metadata={'input_tokens': 1224, 'output_tokens': 8, 'total_tokens': 1232, 'input_token_details': {'cache_read': 0}})]}, next=(), config={'configurable': {'thread_id': '1', 'checkpoint_ns': '', 'checkpoint_id': '1f088a79-c760-6110-8009-1d395e2758d0'}}, metadata={'source': 'loop', 'step': 9, 'parents': {}}, created_at='2025-09-03T09:23:11.438036+00:00', parent_config={'configurable': {'thread_id': '1', 'checkpoint_ns': '', 'checkpoint_id': '1f088a79-bf85-6903-8008-37256eab0a74'}}, tasks=(), interrupts=())"
      ]
     },
     "execution_count": 21,
     "metadata": {},
     "output_type": "execute_result"
    }
   ],
   "source": [
    "snapshot = graph_with_humaninloop.get_state(config)\n",
    "snapshot"
   ]
  },
  {
   "cell_type": "code",
   "execution_count": 22,
   "id": "9c9f043d",
   "metadata": {},
   "outputs": [
    {
     "data": {
      "text/plain": [
       "()"
      ]
     },
     "execution_count": 22,
     "metadata": {},
     "output_type": "execute_result"
    }
   ],
   "source": [
    "snapshot.next  # (since the graph ended this turn, `next` is empty. If you fetch a state from within a graph invocation, next tells which node will execute next)"
   ]
  },
  {
   "cell_type": "code",
   "execution_count": null,
   "id": "15d5ae44",
   "metadata": {},
   "outputs": [],
   "source": []
  }
 ],
 "metadata": {
  "kernelspec": {
   "display_name": "Python 3",
   "language": "python",
   "name": "python3"
  },
  "language_info": {
   "codemirror_mode": {
    "name": "ipython",
    "version": 3
   },
   "file_extension": ".py",
   "mimetype": "text/x-python",
   "name": "python",
   "nbconvert_exporter": "python",
   "pygments_lexer": "ipython3",
   "version": "3.10.12"
  }
 },
 "nbformat": 4,
 "nbformat_minor": 5
}
