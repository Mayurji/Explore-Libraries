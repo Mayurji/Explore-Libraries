{
 "cells": [
  {
   "cell_type": "code",
   "execution_count": 1,
   "metadata": {},
   "outputs": [
    {
     "name": "stdout",
     "output_type": "stream",
     "text": [
      "Requirement already satisfied: tf-models-official==2.13.* in /home/mayur/anaconda3/lib/python3.9/site-packages (2.13.2)\n",
      "Requirement already satisfied: Cython in /home/mayur/anaconda3/lib/python3.9/site-packages (from tf-models-official==2.13.*) (0.29.24)\n",
      "Requirement already satisfied: Pillow in /home/mayur/anaconda3/lib/python3.9/site-packages (from tf-models-official==2.13.*) (9.4.0)\n",
      "Requirement already satisfied: gin-config in /home/mayur/anaconda3/lib/python3.9/site-packages (from tf-models-official==2.13.*) (0.5.0)\n",
      "Requirement already satisfied: google-api-python-client>=1.6.7 in /home/mayur/anaconda3/lib/python3.9/site-packages (from tf-models-official==2.13.*) (2.117.0)\n",
      "Requirement already satisfied: immutabledict in /home/mayur/anaconda3/lib/python3.9/site-packages (from tf-models-official==2.13.*) (4.1.0)\n",
      "Requirement already satisfied: kaggle>=1.3.9 in /home/mayur/anaconda3/lib/python3.9/site-packages (from tf-models-official==2.13.*) (1.6.5)\n",
      "Requirement already satisfied: matplotlib in /home/mayur/anaconda3/lib/python3.9/site-packages (from tf-models-official==2.13.*) (3.4.3)\n",
      "Requirement already satisfied: numpy>=1.20 in /home/mayur/anaconda3/lib/python3.9/site-packages (from tf-models-official==2.13.*) (1.22.4)\n",
      "Requirement already satisfied: oauth2client in /home/mayur/anaconda3/lib/python3.9/site-packages (from tf-models-official==2.13.*) (4.1.3)\n",
      "Requirement already satisfied: opencv-python-headless in /home/mayur/anaconda3/lib/python3.9/site-packages (from tf-models-official==2.13.*) (4.5.4.60)\n",
      "Requirement already satisfied: pandas>=0.22.0 in /home/mayur/anaconda3/lib/python3.9/site-packages (from tf-models-official==2.13.*) (1.3.4)\n",
      "Requirement already satisfied: psutil>=5.4.3 in /home/mayur/anaconda3/lib/python3.9/site-packages (from tf-models-official==2.13.*) (5.9.5)\n",
      "Requirement already satisfied: py-cpuinfo>=3.3.0 in /home/mayur/anaconda3/lib/python3.9/site-packages (from tf-models-official==2.13.*) (9.0.0)\n",
      "Requirement already satisfied: pycocotools in /home/mayur/anaconda3/lib/python3.9/site-packages (from tf-models-official==2.13.*) (2.0.7)\n",
      "Requirement already satisfied: pyyaml>=6.0.0 in /home/mayur/anaconda3/lib/python3.9/site-packages (from tf-models-official==2.13.*) (6.0)\n",
      "Requirement already satisfied: sacrebleu in /home/mayur/anaconda3/lib/python3.9/site-packages (from tf-models-official==2.13.*) (2.4.0)\n",
      "Requirement already satisfied: scipy>=0.19.1 in /home/mayur/anaconda3/lib/python3.9/site-packages (from tf-models-official==2.13.*) (1.7.1)\n",
      "Requirement already satisfied: sentencepiece in /home/mayur/anaconda3/lib/python3.9/site-packages (from tf-models-official==2.13.*) (0.1.99)\n",
      "Requirement already satisfied: seqeval in /home/mayur/anaconda3/lib/python3.9/site-packages (from tf-models-official==2.13.*) (1.2.2)\n",
      "Requirement already satisfied: six in /home/mayur/anaconda3/lib/python3.9/site-packages (from tf-models-official==2.13.*) (1.16.0)\n",
      "Requirement already satisfied: tensorflow-datasets in /home/mayur/anaconda3/lib/python3.9/site-packages (from tf-models-official==2.13.*) (4.9.3)\n",
      "Requirement already satisfied: tensorflow-hub>=0.6.0 in /home/mayur/anaconda3/lib/python3.9/site-packages (from tf-models-official==2.13.*) (0.16.1)\n",
      "Requirement already satisfied: tensorflow-model-optimization>=0.4.1 in /home/mayur/anaconda3/lib/python3.9/site-packages (from tf-models-official==2.13.*) (0.7.3)\n",
      "Requirement already satisfied: tensorflow-text~=2.13.0 in /home/mayur/anaconda3/lib/python3.9/site-packages (from tf-models-official==2.13.*) (2.13.0)\n",
      "Requirement already satisfied: tensorflow~=2.13.0 in /home/mayur/anaconda3/lib/python3.9/site-packages (from tf-models-official==2.13.*) (2.13.1)\n",
      "Requirement already satisfied: tf-slim>=1.1.0 in /home/mayur/anaconda3/lib/python3.9/site-packages (from tf-models-official==2.13.*) (1.1.0)\n",
      "Requirement already satisfied: httplib2<1.dev0,>=0.15.0 in /home/mayur/anaconda3/lib/python3.9/site-packages (from google-api-python-client>=1.6.7->tf-models-official==2.13.*) (0.22.0)\n",
      "Requirement already satisfied: google-auth<3.0.0.dev0,>=1.19.0 in /home/mayur/anaconda3/lib/python3.9/site-packages (from google-api-python-client>=1.6.7->tf-models-official==2.13.*) (2.17.2)\n",
      "Requirement already satisfied: google-auth-httplib2>=0.1.0 in /home/mayur/anaconda3/lib/python3.9/site-packages (from google-api-python-client>=1.6.7->tf-models-official==2.13.*) (0.2.0)\n",
      "Requirement already satisfied: google-api-core!=2.0.*,!=2.1.*,!=2.2.*,!=2.3.0,<3.0.0.dev0,>=1.31.5 in /home/mayur/anaconda3/lib/python3.9/site-packages (from google-api-python-client>=1.6.7->tf-models-official==2.13.*) (2.12.0)\n",
      "Requirement already satisfied: uritemplate<5,>=3.0.1 in /home/mayur/anaconda3/lib/python3.9/site-packages (from google-api-python-client>=1.6.7->tf-models-official==2.13.*) (4.1.1)\n",
      "Requirement already satisfied: certifi in /home/mayur/anaconda3/lib/python3.9/site-packages (from kaggle>=1.3.9->tf-models-official==2.13.*) (2021.5.30)\n",
      "Requirement already satisfied: python-dateutil in /home/mayur/anaconda3/lib/python3.9/site-packages (from kaggle>=1.3.9->tf-models-official==2.13.*) (2.8.2)\n",
      "Requirement already satisfied: requests in /home/mayur/anaconda3/lib/python3.9/site-packages (from kaggle>=1.3.9->tf-models-official==2.13.*) (2.31.0)\n",
      "Requirement already satisfied: tqdm in /home/mayur/anaconda3/lib/python3.9/site-packages (from kaggle>=1.3.9->tf-models-official==2.13.*) (4.62.3)\n",
      "Requirement already satisfied: python-slugify in /home/mayur/anaconda3/lib/python3.9/site-packages (from kaggle>=1.3.9->tf-models-official==2.13.*) (5.0.2)\n",
      "Requirement already satisfied: urllib3 in /home/mayur/anaconda3/lib/python3.9/site-packages (from kaggle>=1.3.9->tf-models-official==2.13.*) (1.26.6)\n",
      "Requirement already satisfied: bleach in /home/mayur/anaconda3/lib/python3.9/site-packages (from kaggle>=1.3.9->tf-models-official==2.13.*) (4.0.0)\n",
      "Requirement already satisfied: pytz>=2017.3 in /home/mayur/anaconda3/lib/python3.9/site-packages (from pandas>=0.22.0->tf-models-official==2.13.*) (2021.3)\n",
      "Requirement already satisfied: absl-py>=1.0.0 in /home/mayur/anaconda3/lib/python3.9/site-packages (from tensorflow~=2.13.0->tf-models-official==2.13.*) (1.4.0)\n",
      "Requirement already satisfied: astunparse>=1.6.0 in /home/mayur/anaconda3/lib/python3.9/site-packages (from tensorflow~=2.13.0->tf-models-official==2.13.*) (1.6.3)\n",
      "Requirement already satisfied: flatbuffers>=23.1.21 in /home/mayur/anaconda3/lib/python3.9/site-packages (from tensorflow~=2.13.0->tf-models-official==2.13.*) (23.5.26)\n",
      "Requirement already satisfied: gast<=0.4.0,>=0.2.1 in /home/mayur/anaconda3/lib/python3.9/site-packages (from tensorflow~=2.13.0->tf-models-official==2.13.*) (0.4.0)\n",
      "Requirement already satisfied: google-pasta>=0.1.1 in /home/mayur/anaconda3/lib/python3.9/site-packages (from tensorflow~=2.13.0->tf-models-official==2.13.*) (0.2.0)\n",
      "Requirement already satisfied: grpcio<2.0,>=1.24.3 in /home/mayur/anaconda3/lib/python3.9/site-packages (from tensorflow~=2.13.0->tf-models-official==2.13.*) (1.53.0)\n",
      "Requirement already satisfied: h5py>=2.9.0 in /home/mayur/anaconda3/lib/python3.9/site-packages (from tensorflow~=2.13.0->tf-models-official==2.13.*) (3.3.0)\n",
      "Requirement already satisfied: keras<2.14,>=2.13.1 in /home/mayur/anaconda3/lib/python3.9/site-packages (from tensorflow~=2.13.0->tf-models-official==2.13.*) (2.13.1)\n",
      "Requirement already satisfied: libclang>=13.0.0 in /home/mayur/anaconda3/lib/python3.9/site-packages (from tensorflow~=2.13.0->tf-models-official==2.13.*) (16.0.0)\n",
      "Requirement already satisfied: opt-einsum>=2.3.2 in /home/mayur/anaconda3/lib/python3.9/site-packages (from tensorflow~=2.13.0->tf-models-official==2.13.*) (3.3.0)\n",
      "Requirement already satisfied: packaging in /home/mayur/anaconda3/lib/python3.9/site-packages (from tensorflow~=2.13.0->tf-models-official==2.13.*) (22.0)\n",
      "Requirement already satisfied: protobuf!=4.21.0,!=4.21.1,!=4.21.2,!=4.21.3,!=4.21.4,!=4.21.5,<5.0.0dev,>=3.20.3 in /home/mayur/anaconda3/lib/python3.9/site-packages (from tensorflow~=2.13.0->tf-models-official==2.13.*) (3.20.3)\n",
      "Requirement already satisfied: setuptools in /home/mayur/anaconda3/lib/python3.9/site-packages (from tensorflow~=2.13.0->tf-models-official==2.13.*) (58.0.4)\n",
      "Requirement already satisfied: tensorboard<2.14,>=2.13 in /home/mayur/anaconda3/lib/python3.9/site-packages (from tensorflow~=2.13.0->tf-models-official==2.13.*) (2.13.0)\n",
      "Requirement already satisfied: tensorflow-estimator<2.14,>=2.13.0 in /home/mayur/anaconda3/lib/python3.9/site-packages (from tensorflow~=2.13.0->tf-models-official==2.13.*) (2.13.0)\n",
      "Requirement already satisfied: termcolor>=1.1.0 in /home/mayur/anaconda3/lib/python3.9/site-packages (from tensorflow~=2.13.0->tf-models-official==2.13.*) (2.2.0)\n",
      "Requirement already satisfied: typing-extensions<4.6.0,>=3.6.6 in /home/mayur/anaconda3/lib/python3.9/site-packages (from tensorflow~=2.13.0->tf-models-official==2.13.*) (4.5.0)\n",
      "Requirement already satisfied: wrapt>=1.11.0 in /home/mayur/anaconda3/lib/python3.9/site-packages (from tensorflow~=2.13.0->tf-models-official==2.13.*) (1.12.1)\n",
      "Requirement already satisfied: tensorflow-io-gcs-filesystem>=0.23.1 in /home/mayur/anaconda3/lib/python3.9/site-packages (from tensorflow~=2.13.0->tf-models-official==2.13.*) (0.32.0)\n",
      "Requirement already satisfied: tf-keras>=2.14.1 in /home/mayur/anaconda3/lib/python3.9/site-packages (from tensorflow-hub>=0.6.0->tf-models-official==2.13.*) (2.15.0)\n",
      "Requirement already satisfied: dm-tree~=0.1.1 in /home/mayur/anaconda3/lib/python3.9/site-packages (from tensorflow-model-optimization>=0.4.1->tf-models-official==2.13.*) (0.1.8)\n",
      "Requirement already satisfied: cycler>=0.10 in /home/mayur/anaconda3/lib/python3.9/site-packages (from matplotlib->tf-models-official==2.13.*) (0.10.0)\n",
      "Requirement already satisfied: kiwisolver>=1.0.1 in /home/mayur/anaconda3/lib/python3.9/site-packages (from matplotlib->tf-models-official==2.13.*) (1.3.1)\n",
      "Requirement already satisfied: pyparsing>=2.2.1 in /home/mayur/anaconda3/lib/python3.9/site-packages (from matplotlib->tf-models-official==2.13.*) (3.0.4)\n",
      "Requirement already satisfied: pyasn1>=0.1.7 in /home/mayur/anaconda3/lib/python3.9/site-packages (from oauth2client->tf-models-official==2.13.*) (0.4.8)\n",
      "Requirement already satisfied: pyasn1-modules>=0.0.5 in /home/mayur/anaconda3/lib/python3.9/site-packages (from oauth2client->tf-models-official==2.13.*) (0.2.8)\n",
      "Requirement already satisfied: rsa>=3.1.4 in /home/mayur/anaconda3/lib/python3.9/site-packages (from oauth2client->tf-models-official==2.13.*) (4.9)\n",
      "Requirement already satisfied: portalocker in /home/mayur/anaconda3/lib/python3.9/site-packages (from sacrebleu->tf-models-official==2.13.*) (2.8.2)\n",
      "Requirement already satisfied: regex in /home/mayur/anaconda3/lib/python3.9/site-packages (from sacrebleu->tf-models-official==2.13.*) (2023.10.3)\n",
      "Requirement already satisfied: tabulate>=0.8.9 in /home/mayur/anaconda3/lib/python3.9/site-packages (from sacrebleu->tf-models-official==2.13.*) (0.9.0)\n",
      "Requirement already satisfied: colorama in /home/mayur/anaconda3/lib/python3.9/site-packages (from sacrebleu->tf-models-official==2.13.*) (0.4.4)\n",
      "Requirement already satisfied: lxml in /home/mayur/anaconda3/lib/python3.9/site-packages (from sacrebleu->tf-models-official==2.13.*) (4.6.3)\n",
      "Requirement already satisfied: scikit-learn>=0.21.3 in /home/mayur/anaconda3/lib/python3.9/site-packages (from seqeval->tf-models-official==2.13.*) (0.24.2)\n",
      "Requirement already satisfied: array-record in /home/mayur/anaconda3/lib/python3.9/site-packages (from tensorflow-datasets->tf-models-official==2.13.*) (0.5.0)\n",
      "Requirement already satisfied: click in /home/mayur/anaconda3/lib/python3.9/site-packages (from tensorflow-datasets->tf-models-official==2.13.*) (8.1.7)\n",
      "Requirement already satisfied: etils>=0.9.0 in /home/mayur/anaconda3/lib/python3.9/site-packages (from etils[enp,epath,etree]>=0.9.0->tensorflow-datasets->tf-models-official==2.13.*) (1.5.2)\n",
      "Requirement already satisfied: promise in /home/mayur/anaconda3/lib/python3.9/site-packages (from tensorflow-datasets->tf-models-official==2.13.*) (2.3)\n",
      "Requirement already satisfied: tensorflow-metadata in /home/mayur/anaconda3/lib/python3.9/site-packages (from tensorflow-datasets->tf-models-official==2.13.*) (1.14.0)\n",
      "Requirement already satisfied: toml in /home/mayur/anaconda3/lib/python3.9/site-packages (from tensorflow-datasets->tf-models-official==2.13.*) (0.10.2)\n",
      "Requirement already satisfied: wheel<1.0,>=0.23.0 in /home/mayur/anaconda3/lib/python3.9/site-packages (from astunparse>=1.6.0->tensorflow~=2.13.0->tf-models-official==2.13.*) (0.37.0)\n",
      "Requirement already satisfied: fsspec in /home/mayur/anaconda3/lib/python3.9/site-packages (from etils[enp,epath,etree]>=0.9.0->tensorflow-datasets->tf-models-official==2.13.*) (2023.9.2)\n",
      "Requirement already satisfied: importlib_resources in /home/mayur/anaconda3/lib/python3.9/site-packages (from etils[enp,epath,etree]>=0.9.0->tensorflow-datasets->tf-models-official==2.13.*) (6.1.1)\n",
      "Requirement already satisfied: zipp in /home/mayur/anaconda3/lib/python3.9/site-packages (from etils[enp,epath,etree]>=0.9.0->tensorflow-datasets->tf-models-official==2.13.*) (3.6.0)\n",
      "Requirement already satisfied: googleapis-common-protos<2.0.dev0,>=1.56.2 in /home/mayur/anaconda3/lib/python3.9/site-packages (from google-api-core!=2.0.*,!=2.1.*,!=2.2.*,!=2.3.0,<3.0.0.dev0,>=1.31.5->google-api-python-client>=1.6.7->tf-models-official==2.13.*) (1.61.0)\n",
      "Requirement already satisfied: cachetools<6.0,>=2.0.0 in /home/mayur/anaconda3/lib/python3.9/site-packages (from google-auth<3.0.0.dev0,>=1.19.0->google-api-python-client>=1.6.7->tf-models-official==2.13.*) (5.3.0)\n",
      "Requirement already satisfied: charset-normalizer<4,>=2 in /home/mayur/anaconda3/lib/python3.9/site-packages (from requests->kaggle>=1.3.9->tf-models-official==2.13.*) (2.0.4)\n",
      "Requirement already satisfied: idna<4,>=2.5 in /home/mayur/anaconda3/lib/python3.9/site-packages (from requests->kaggle>=1.3.9->tf-models-official==2.13.*) (2.10)\n",
      "Requirement already satisfied: joblib>=0.11 in /home/mayur/anaconda3/lib/python3.9/site-packages (from scikit-learn>=0.21.3->seqeval->tf-models-official==2.13.*) (1.1.0)\n",
      "Requirement already satisfied: threadpoolctl>=2.0.0 in /home/mayur/anaconda3/lib/python3.9/site-packages (from scikit-learn>=0.21.3->seqeval->tf-models-official==2.13.*) (2.2.0)\n",
      "Requirement already satisfied: google-auth-oauthlib<1.1,>=0.5 in /home/mayur/anaconda3/lib/python3.9/site-packages (from tensorboard<2.14,>=2.13->tensorflow~=2.13.0->tf-models-official==2.13.*) (1.0.0)\n",
      "Requirement already satisfied: markdown>=2.6.8 in /home/mayur/anaconda3/lib/python3.9/site-packages (from tensorboard<2.14,>=2.13->tensorflow~=2.13.0->tf-models-official==2.13.*) (3.4.3)\n",
      "Requirement already satisfied: tensorboard-data-server<0.8.0,>=0.7.0 in /home/mayur/anaconda3/lib/python3.9/site-packages (from tensorboard<2.14,>=2.13->tensorflow~=2.13.0->tf-models-official==2.13.*) (0.7.0)\n",
      "Requirement already satisfied: werkzeug>=1.0.1 in /home/mayur/anaconda3/lib/python3.9/site-packages (from tensorboard<2.14,>=2.13->tensorflow~=2.13.0->tf-models-official==2.13.*) (2.0.2)\n",
      "Requirement already satisfied: webencodings in /home/mayur/anaconda3/lib/python3.9/site-packages (from bleach->kaggle>=1.3.9->tf-models-official==2.13.*) (0.5.1)\n",
      "Requirement already satisfied: text-unidecode>=1.3 in /home/mayur/anaconda3/lib/python3.9/site-packages (from python-slugify->kaggle>=1.3.9->tf-models-official==2.13.*) (1.3)\n",
      "Requirement already satisfied: requests-oauthlib>=0.7.0 in /home/mayur/anaconda3/lib/python3.9/site-packages (from google-auth-oauthlib<1.1,>=0.5->tensorboard<2.14,>=2.13->tensorflow~=2.13.0->tf-models-official==2.13.*) (1.3.1)\n",
      "Requirement already satisfied: importlib-metadata>=4.4 in /home/mayur/anaconda3/lib/python3.9/site-packages (from markdown>=2.6.8->tensorboard<2.14,>=2.13->tensorflow~=2.13.0->tf-models-official==2.13.*) (6.1.0)\n",
      "Requirement already satisfied: oauthlib>=3.0.0 in /home/mayur/anaconda3/lib/python3.9/site-packages (from requests-oauthlib>=0.7.0->google-auth-oauthlib<1.1,>=0.5->tensorboard<2.14,>=2.13->tensorflow~=2.13.0->tf-models-official==2.13.*) (3.2.2)\n",
      "\u001b[33mDEPRECATION: pyodbc 4.0.0-unsupported has a non-standard version number. pip 24.0 will enforce this behaviour change. A possible replacement is to upgrade to a newer version of pyodbc or contact the author to suggest that they release a version with a conforming version number. Discussion can be found at https://github.com/pypa/pip/issues/12063\u001b[0m\u001b[33m\n",
      "\u001b[0m\n",
      "\u001b[1m[\u001b[0m\u001b[34;49mnotice\u001b[0m\u001b[1;39;49m]\u001b[0m\u001b[39;49m A new release of pip is available: \u001b[0m\u001b[31;49m23.3.2\u001b[0m\u001b[39;49m -> \u001b[0m\u001b[32;49m24.0\u001b[0m\n",
      "\u001b[1m[\u001b[0m\u001b[34;49mnotice\u001b[0m\u001b[1;39;49m]\u001b[0m\u001b[39;49m To update, run: \u001b[0m\u001b[32;49mpip install --upgrade pip\u001b[0m\n"
     ]
    }
   ],
   "source": [
    "!pip install \"tf-models-official==2.13.*\""
   ]
  },
  {
   "cell_type": "code",
   "execution_count": 10,
   "metadata": {},
   "outputs": [],
   "source": [
    "import os\n",
    "import shutil\n",
    "\n",
    "import tensorflow as tf\n",
    "import tensorflow_hub as hub # repo of trained machine learning models ready for fine tuning\n",
    "from official.nlp import optimization  # to create AdamW optimizer\n",
    "import tensorflow_text as text\n",
    "import matplotlib.pyplot as plt\n",
    "\n",
    "tf.get_logger().setLevel('ERROR')"
   ]
  },
  {
   "cell_type": "code",
   "execution_count": 3,
   "metadata": {},
   "outputs": [],
   "source": [
    "url = 'https://ai.stanford.edu/~amaas/data/sentiment/aclImdb_v1.tar.gz'\n",
    "\n",
    "dataset = tf.keras.utils.get_file('aclImdb_v1.tar.gz', url,\n",
    "                                  untar=True, cache_dir='.',\n",
    "                                  cache_subdir='')\n",
    "\n",
    "dataset_dir = os.path.join(os.path.dirname(dataset), 'aclImdb')\n",
    "\n",
    "train_dir = os.path.join(dataset_dir, 'train')\n",
    "\n",
    "# remove unused folders to make it easier to load the data\n",
    "remove_dir = os.path.join(train_dir, 'unsup')\n",
    "shutil.rmtree(remove_dir)"
   ]
  },
  {
   "cell_type": "code",
   "execution_count": 4,
   "metadata": {},
   "outputs": [
    {
     "name": "stdout",
     "output_type": "stream",
     "text": [
      "Found 25000 files belonging to 2 classes.\n",
      "Using 20000 files for training.\n"
     ]
    },
    {
     "name": "stderr",
     "output_type": "stream",
     "text": [
      "2024-02-17 13:52:52.170259: I tensorflow/compiler/xla/stream_executor/cuda/cuda_gpu_executor.cc:995] successful NUMA node read from SysFS had negative value (-1), but there must be at least one NUMA node, so returning NUMA node zero. See more at https://github.com/torvalds/linux/blob/v6.0/Documentation/ABI/testing/sysfs-bus-pci#L344-L355\n",
      "2024-02-17 13:52:53.565734: W tensorflow/core/common_runtime/gpu/gpu_device.cc:1960] Cannot dlopen some GPU libraries. Please make sure the missing libraries mentioned above are installed properly if you would like to use GPU. Follow the guide at https://www.tensorflow.org/install/gpu for how to download and setup the required libraries for your platform.\n",
      "Skipping registering GPU devices...\n"
     ]
    },
    {
     "name": "stdout",
     "output_type": "stream",
     "text": [
      "Found 25000 files belonging to 2 classes.\n",
      "Using 5000 files for validation.\n",
      "Found 25000 files belonging to 2 classes.\n"
     ]
    }
   ],
   "source": [
    "AUTOTUNE = tf.data.AUTOTUNE\n",
    "batch_size = 32\n",
    "seed = 42\n",
    "\n",
    "raw_train_ds = tf.keras.utils.text_dataset_from_directory(\n",
    "    'aclImdb/train',\n",
    "    batch_size=batch_size,\n",
    "    validation_split=0.2,\n",
    "    subset='training',\n",
    "    seed=seed)\n",
    "\n",
    "class_names = raw_train_ds.class_names\n",
    "train_ds = raw_train_ds.cache().prefetch(buffer_size=AUTOTUNE)\n",
    "\n",
    "val_ds = tf.keras.utils.text_dataset_from_directory(\n",
    "    'aclImdb/train',\n",
    "    batch_size=batch_size,\n",
    "    validation_split=0.2,\n",
    "    subset='validation',\n",
    "    seed=seed)\n",
    "\n",
    "val_ds = val_ds.cache().prefetch(buffer_size=AUTOTUNE)\n",
    "\n",
    "test_ds = tf.keras.utils.text_dataset_from_directory(\n",
    "    'aclImdb/test',\n",
    "    batch_size=batch_size)\n",
    "\n",
    "test_ds = test_ds.cache().prefetch(buffer_size=AUTOTUNE)"
   ]
  },
  {
   "cell_type": "code",
   "execution_count": 5,
   "metadata": {},
   "outputs": [
    {
     "name": "stdout",
     "output_type": "stream",
     "text": [
      "Review: b'\"Pandemonium\" is a horror movie spoof that comes off more stupid than funny. Believe me when I tell you, I love comedies. Especially comedy spoofs. \"Airplane\", \"The Naked Gun\" trilogy, \"Blazing Saddles\", \"High Anxiety\", and \"Spaceballs\" are some of my favorite comedies that spoof a particular genre. \"Pandemonium\" is not up there with those films. Most of the scenes in this movie had me sitting there in stunned silence because the movie wasn\\'t all that funny. There are a few laughs in the film, but when you watch a comedy, you expect to laugh a lot more than a few times and that\\'s all this film has going for it. Geez, \"Scream\" had more laughs than this film and that was more of a horror film. How bizarre is that?<br /><br />*1/2 (out of four)'\n",
      "Label : 0 (neg)\n",
      "Review: b\"David Mamet is a very interesting and a very un-equal director. His first movie 'House of Games' was the one I liked best, and it set a series of films with characters whose perspective of life changes as they get into complicated situations, and so does the perspective of the viewer.<br /><br />So is 'Homicide' which from the title tries to set the mind of the viewer to the usual crime drama. The principal characters are two cops, one Jewish and one Irish who deal with a racially charged area. The murder of an old Jewish shop owner who proves to be an ancient veteran of the Israeli Independence war triggers the Jewish identity in the mind and heart of the Jewish detective.<br /><br />This is were the flaws of the film are the more obvious. The process of awakening is theatrical and hard to believe, the group of Jewish militants is operatic, and the way the detective eventually walks to the final violent confrontation is pathetic. The end of the film itself is Mamet-like smart, but disappoints from a human emotional perspective.<br /><br />Joe Mantegna and William Macy give strong performances, but the flaws of the story are too evident to be easily compensated.\"\n",
      "Label : 0 (neg)\n",
      "Review: b'Great documentary about the lives of NY firefighters during the worst terrorist attack of all time.. That reason alone is why this should be a must see collectors item.. What shocked me was not only the attacks, but the\"High Fat Diet\" and physical appearance of some of these firefighters. I think a lot of Doctors would agree with me that,in the physical shape they were in, some of these firefighters would NOT of made it to the 79th floor carrying over 60 lbs of gear. Having said that i now have a greater respect for firefighters and i realize becoming a firefighter is a life altering job. The French have a history of making great documentary\\'s and that is what this is, a Great Documentary.....'\n",
      "Label : 1 (pos)\n"
     ]
    },
    {
     "name": "stderr",
     "output_type": "stream",
     "text": [
      "2024-02-17 13:52:57.820116: W tensorflow/core/kernels/data/cache_dataset_ops.cc:854] The calling iterator did not fully read the dataset being cached. In order to avoid unexpected truncation of the dataset, the partially cached contents of the dataset  will be discarded. This can happen if you have an input pipeline similar to `dataset.cache().take(k).repeat()`. You should use `dataset.take(k).cache().repeat()` instead.\n"
     ]
    }
   ],
   "source": [
    "for text_batch, label_batch in train_ds.take(1):\n",
    "  for i in range(3):\n",
    "    print(f'Review: {text_batch.numpy()[i]}')\n",
    "    label = label_batch.numpy()[i]\n",
    "    print(f'Label : {label} ({class_names[label]})')"
   ]
  },
  {
   "cell_type": "code",
   "execution_count": 23,
   "metadata": {},
   "outputs": [],
   "source": [
    "tfhub_handle_preprocess = 'https://tfhub.dev/tensorflow/bert_en_uncased_preprocess/3'\n",
    "tfhub_handle_encoder = 'https://tfhub.dev/tensorflow/small_bert/bert_en_uncased_L-4_H-512_A-8/1'"
   ]
  },
  {
   "cell_type": "code",
   "execution_count": 24,
   "metadata": {},
   "outputs": [],
   "source": [
    "bert_preprocess_model = hub.KerasLayer(tfhub_handle_preprocess)"
   ]
  },
  {
   "cell_type": "code",
   "execution_count": 14,
   "metadata": {},
   "outputs": [
    {
     "name": "stdout",
     "output_type": "stream",
     "text": [
      "Keys       : ['input_mask', 'input_word_ids', 'input_type_ids']\n",
      "Shape      : (1, 128)\n",
      "Word Ids   : [ 101 2023 2003 2107 2019 6429 3185  999  102    0    0    0]\n",
      "Input Mask : [1 1 1 1 1 1 1 1 1 0 0 0]\n",
      "Type Ids   : [0 0 0 0 0 0 0 0 0 0 0 0]\n"
     ]
    }
   ],
   "source": [
    "text_test = ['this is such an amazing movie!']\n",
    "text_preprocessed = bert_preprocess_model(text_test)\n",
    "\n",
    "print(f'Keys       : {list(text_preprocessed.keys())}')\n",
    "print(f'Shape      : {text_preprocessed[\"input_word_ids\"].shape}')\n",
    "print(f'Word Ids   : {text_preprocessed[\"input_word_ids\"][0, :12]}')\n",
    "print(f'Input Mask : {text_preprocessed[\"input_mask\"][0, :12]}')\n",
    "print(f'Type Ids   : {text_preprocessed[\"input_type_ids\"][0, :12]}')"
   ]
  },
  {
   "cell_type": "code",
   "execution_count": 25,
   "metadata": {},
   "outputs": [],
   "source": [
    "bert_model = hub.KerasLayer(tfhub_handle_encoder)"
   ]
  },
  {
   "cell_type": "code",
   "execution_count": 26,
   "metadata": {},
   "outputs": [
    {
     "name": "stdout",
     "output_type": "stream",
     "text": [
      "Loaded BERT: https://tfhub.dev/tensorflow/small_bert/bert_en_uncased_L-4_H-512_A-8/1\n",
      "Pooled Outputs Shape:(1, 512)\n",
      "Pooled Outputs Values:[ 0.76262873  0.99280983 -0.18611862  0.3667386   0.15233737  0.655045\n",
      "  0.9681154  -0.9486271   0.00216189 -0.9877732   0.06842682 -0.97630584]\n",
      "Sequence Outputs Shape:(1, 128, 512)\n",
      "Sequence Outputs Values:[[-0.28946328  0.34321278  0.33231485 ...  0.2130081   0.71020764\n",
      "  -0.05771211]\n",
      " [-0.28742057  0.3198098  -0.23018594 ...  0.5845512  -0.2132977\n",
      "   0.7269211 ]\n",
      " [-0.66156983  0.688768   -0.87433    ...  0.10877225 -0.26173186\n",
      "   0.47855383]\n",
      " ...\n",
      " [-0.22561114 -0.28925622 -0.07064427 ...  0.47566044  0.8327712\n",
      "   0.4002537 ]\n",
      " [-0.29824275 -0.27473134 -0.05450525 ...  0.4884977   1.0955353\n",
      "   0.18163392]\n",
      " [-0.44378215  0.00930744  0.07223701 ...  0.17290083  1.1833246\n",
      "   0.07897998]]\n"
     ]
    }
   ],
   "source": [
    "bert_results = bert_model(text_preprocessed)\n",
    "\n",
    "print(f'Loaded BERT: {tfhub_handle_encoder}')\n",
    "print(f'Pooled Outputs Shape:{bert_results[\"pooled_output\"].shape}')\n",
    "print(f'Pooled Outputs Values:{bert_results[\"pooled_output\"][0, :12]}')\n",
    "print(f'Sequence Outputs Shape:{bert_results[\"sequence_output\"].shape}')\n",
    "print(f'Sequence Outputs Values:{bert_results[\"sequence_output\"][0, :12]}')\n"
   ]
  },
  {
   "cell_type": "code",
   "execution_count": 17,
   "metadata": {},
   "outputs": [],
   "source": [
    "def build_classifier_model():\n",
    "  text_input = tf.keras.layers.Input(shape=(), dtype=tf.string, name='text')\n",
    "  preprocessing_layer = hub.KerasLayer(tfhub_handle_preprocess, name='preprocessing')\n",
    "  encoder_inputs = preprocessing_layer(text_input)\n",
    "  encoder = hub.KerasLayer(tfhub_handle_encoder, trainable=True, name='BERT_encoder')\n",
    "  outputs = encoder(encoder_inputs)\n",
    "  net = outputs['pooled_output']\n",
    "  net = tf.keras.layers.Dropout(0.1)(net)\n",
    "  net = tf.keras.layers.Dense(1, activation=None, name='classifier')(net)\n",
    "  return tf.keras.Model(text_input, net)"
   ]
  },
  {
   "cell_type": "code",
   "execution_count": 27,
   "metadata": {},
   "outputs": [
    {
     "name": "stdout",
     "output_type": "stream",
     "text": [
      "tf.Tensor([[0.57777876]], shape=(1, 1), dtype=float32)\n"
     ]
    }
   ],
   "source": [
    "classifier_model = build_classifier_model()\n",
    "bert_raw_result = classifier_model(tf.constant(text_test))\n",
    "print(tf.sigmoid(bert_raw_result))"
   ]
  },
  {
   "cell_type": "code",
   "execution_count": 20,
   "metadata": {},
   "outputs": [],
   "source": [
    "loss = tf.keras.losses.BinaryCrossentropy(from_logits=True)\n",
    "metrics = tf.metrics.BinaryAccuracy()\n"
   ]
  },
  {
   "cell_type": "code",
   "execution_count": 21,
   "metadata": {},
   "outputs": [],
   "source": [
    "epochs = 5\n",
    "steps_per_epoch = tf.data.experimental.cardinality(train_ds).numpy()\n",
    "num_train_steps = steps_per_epoch * epochs\n",
    "num_warmup_steps = int(0.1*num_train_steps)\n",
    "\n",
    "init_lr = 3e-5\n",
    "optimizer = optimization.create_optimizer(init_lr=init_lr,\n",
    "                                          num_train_steps=num_train_steps,\n",
    "                                          num_warmup_steps=num_warmup_steps,\n",
    "                                          optimizer_type='adamw')"
   ]
  },
  {
   "cell_type": "code",
   "execution_count": 22,
   "metadata": {},
   "outputs": [],
   "source": [
    "classifier_model.compile(optimizer=optimizer,\n",
    "                         loss=loss,\n",
    "                         metrics=metrics)"
   ]
  },
  {
   "cell_type": "code",
   "execution_count": 21,
   "metadata": {},
   "outputs": [
    {
     "name": "stdout",
     "output_type": "stream",
     "text": [
      "Training model with https://tfhub.dev/tensorflow/small_bert/bert_en_uncased_L-4_H-512_A-8/1\n",
      "Epoch 1/5\n",
      "625/625 [==============================] - 1100s 2s/step - loss: 0.5022 - binary_accuracy: 0.7324 - val_loss: 0.3819 - val_binary_accuracy: 0.8340\n",
      "Epoch 2/5\n",
      "625/625 [==============================] - 1096s 2s/step - loss: 0.3326 - binary_accuracy: 0.8511 - val_loss: 0.3799 - val_binary_accuracy: 0.8442\n",
      "Epoch 3/5\n",
      "625/625 [==============================] - 1087s 2s/step - loss: 0.2528 - binary_accuracy: 0.8929 - val_loss: 0.4055 - val_binary_accuracy: 0.8470\n",
      "Epoch 4/5\n",
      "625/625 [==============================] - 1087s 2s/step - loss: 0.2015 - binary_accuracy: 0.9183 - val_loss: 0.4450 - val_binary_accuracy: 0.8470\n",
      "Epoch 5/5\n",
      "625/625 [==============================] - 1080s 2s/step - loss: 0.1581 - binary_accuracy: 0.9387 - val_loss: 0.4918 - val_binary_accuracy: 0.8468\n"
     ]
    }
   ],
   "source": [
    "print(f'Training model with {tfhub_handle_encoder}')\n",
    "history = classifier_model.fit(x=train_ds,\n",
    "                               validation_data=val_ds,\n",
    "                               epochs=epochs)"
   ]
  },
  {
   "cell_type": "code",
   "execution_count": 22,
   "metadata": {},
   "outputs": [
    {
     "name": "stdout",
     "output_type": "stream",
     "text": [
      "782/782 [==============================] - 341s 436ms/step - loss: 0.4574 - binary_accuracy: 0.8525\n",
      "Loss: 0.45738962292671204\n",
      "Accuracy: 0.8525199890136719\n"
     ]
    }
   ],
   "source": [
    "loss, accuracy = classifier_model.evaluate(test_ds)\n",
    "\n",
    "print(f'Loss: {loss}')\n",
    "print(f'Accuracy: {accuracy}')"
   ]
  }
 ],
 "metadata": {
  "kernelspec": {
   "display_name": "base",
   "language": "python",
   "name": "python3"
  },
  "language_info": {
   "codemirror_mode": {
    "name": "ipython",
    "version": 3
   },
   "file_extension": ".py",
   "mimetype": "text/x-python",
   "name": "python",
   "nbconvert_exporter": "python",
   "pygments_lexer": "ipython3",
   "version": "3.9.7"
  }
 },
 "nbformat": 4,
 "nbformat_minor": 2
}
