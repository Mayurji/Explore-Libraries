{
 "cells": [
  {
   "cell_type": "markdown",
   "metadata": {},
   "source": [
    "[TextBlob](https://textblob.readthedocs.io/en/dev/)\n",
    "\n",
    "1. Tokenization\n",
    "2. Noun Phrase Extraction\n",
    "3. Sentiment Analysis\n",
    "4. Spell Checking\n",
    "5. Pos-Tagging"
   ]
  },
  {
   "cell_type": "code",
   "execution_count": 1,
   "metadata": {},
   "outputs": [],
   "source": [
    "text = \"One of this films biggest strengths is it's script and the \\\n",
    "way it's characters pull the dialogue off the page. \\\n",
    "And they do so in a way that is so consistently funny and entertaining.\""
   ]
  },
  {
   "cell_type": "code",
   "execution_count": 26,
   "metadata": {},
   "outputs": [],
   "source": [
    "from textblob import TextBlob\n",
    "from textblob import Word, WordList"
   ]
  },
  {
   "cell_type": "code",
   "execution_count": 4,
   "metadata": {},
   "outputs": [],
   "source": [
    "tb = TextBlob(text)"
   ]
  },
  {
   "cell_type": "markdown",
   "metadata": {},
   "source": [
    "### Tokenization"
   ]
  },
  {
   "cell_type": "code",
   "execution_count": 5,
   "metadata": {
    "collapsed": true
   },
   "outputs": [
    {
     "data": {
      "text/plain": [
       "[Sentence(\"One of this films biggest strengths is it's script and the way it's characters pull the dialogue off the page.\"),\n",
       " Sentence(\"And they do so in a way that is so consistently funny and entertaining.\")]"
      ]
     },
     "execution_count": 5,
     "metadata": {},
     "output_type": "execute_result"
    }
   ],
   "source": [
    "tb.sentences"
   ]
  },
  {
   "cell_type": "code",
   "execution_count": 6,
   "metadata": {
    "collapsed": true
   },
   "outputs": [
    {
     "data": {
      "text/plain": [
       "WordList(['One', 'of', 'this', 'films', 'biggest', 'strengths', 'is', 'it', \"'s\", 'script', 'and', 'the', 'way', 'it', \"'s\", 'characters', 'pull', 'the', 'dialogue', 'off', 'the', 'page', 'And', 'they', 'do', 'so', 'in', 'a', 'way', 'that', 'is', 'so', 'consistently', 'funny', 'and', 'entertaining'])"
      ]
     },
     "execution_count": 6,
     "metadata": {},
     "output_type": "execute_result"
    }
   ],
   "source": [
    "tb.words"
   ]
  },
  {
   "cell_type": "code",
   "execution_count": 7,
   "metadata": {
    "collapsed": true
   },
   "outputs": [
    {
     "data": {
      "text/plain": [
       "defaultdict(int,\n",
       "            {'one': 1,\n",
       "             'of': 1,\n",
       "             'this': 1,\n",
       "             'films': 1,\n",
       "             'biggest': 1,\n",
       "             'strengths': 1,\n",
       "             'is': 2,\n",
       "             'it': 2,\n",
       "             's': 2,\n",
       "             'script': 1,\n",
       "             'and': 3,\n",
       "             'the': 3,\n",
       "             'way': 2,\n",
       "             'characters': 1,\n",
       "             'pull': 1,\n",
       "             'dialogue': 1,\n",
       "             'off': 1,\n",
       "             'page': 1,\n",
       "             'they': 1,\n",
       "             'do': 1,\n",
       "             'so': 2,\n",
       "             'in': 1,\n",
       "             'a': 1,\n",
       "             'that': 1,\n",
       "             'consistently': 1,\n",
       "             'funny': 1,\n",
       "             'entertaining': 1})"
      ]
     },
     "execution_count": 7,
     "metadata": {},
     "output_type": "execute_result"
    }
   ],
   "source": [
    "tb.word_counts"
   ]
  },
  {
   "cell_type": "markdown",
   "metadata": {},
   "source": [
    "### Noun-Phrase Extraction"
   ]
  },
  {
   "cell_type": "code",
   "execution_count": 8,
   "metadata": {},
   "outputs": [
    {
     "data": {
      "text/plain": [
       "WordList([\"'s script\", \"'s characters pull\"])"
      ]
     },
     "execution_count": 8,
     "metadata": {},
     "output_type": "execute_result"
    }
   ],
   "source": [
    "tb.noun_phrases"
   ]
  },
  {
   "cell_type": "markdown",
   "metadata": {},
   "source": [
    "### Sentiment Analysis"
   ]
  },
  {
   "cell_type": "code",
   "execution_count": 14,
   "metadata": {},
   "outputs": [],
   "source": [
    "sent = str(tb.sentences[1])"
   ]
  },
  {
   "cell_type": "code",
   "execution_count": 35,
   "metadata": {},
   "outputs": [],
   "source": [
    "sent = TextBlob(sent)"
   ]
  },
  {
   "cell_type": "code",
   "execution_count": 36,
   "metadata": {},
   "outputs": [
    {
     "data": {
      "text/plain": [
       "Sentiment(polarity=0.375, subjectivity=0.85, assessments=[(['consistently', 'funny'], 0.25, 1.0, None), (['entertaining'], 0.5, 0.7, None)])"
      ]
     },
     "execution_count": 36,
     "metadata": {},
     "output_type": "execute_result"
    }
   ],
   "source": [
    "sent.sentiment_assessments"
   ]
  },
  {
   "cell_type": "code",
   "execution_count": 17,
   "metadata": {
    "collapsed": true
   },
   "outputs": [
    {
     "data": {
      "text/plain": [
       "'\\nPolarity [-1, 1], -1 means -ve sentence, +1 means +ve sentence, \\n0.0 means its neutral.\\n\\nSubjective [0, 1], 0 means the sentence is objective and \\n1 mean it is subjective\\n'"
      ]
     },
     "execution_count": 17,
     "metadata": {},
     "output_type": "execute_result"
    }
   ],
   "source": [
    "\"\"\"\n",
    "Polarity [-1, 1], -1 means -ve sentence, +1 means +ve sentence, \n",
    "0.0 means its neutral.\n",
    "\n",
    "Subjective [0, 1], 0 means the sentence is objective and \n",
    "1 mean it is subjective\n",
    "\"\"\""
   ]
  },
  {
   "cell_type": "markdown",
   "metadata": {},
   "source": [
    "### Spell Checking"
   ]
  },
  {
   "cell_type": "code",
   "execution_count": 24,
   "metadata": {},
   "outputs": [],
   "source": [
    "sent_misspelled = \"caar\""
   ]
  },
  {
   "cell_type": "code",
   "execution_count": 25,
   "metadata": {},
   "outputs": [
    {
     "data": {
      "text/plain": [
       "TextBlob(\"car\")"
      ]
     },
     "execution_count": 25,
     "metadata": {},
     "output_type": "execute_result"
    }
   ],
   "source": [
    "TextBlob(sent_misspelled).correct()"
   ]
  },
  {
   "cell_type": "code",
   "execution_count": 28,
   "metadata": {},
   "outputs": [
    {
     "data": {
      "text/plain": [
       "[('accommodate', 1.0)]"
      ]
     },
     "execution_count": 28,
     "metadata": {},
     "output_type": "execute_result"
    }
   ],
   "source": [
    "Word(\"accomdate\").spellcheck()"
   ]
  },
  {
   "cell_type": "markdown",
   "metadata": {},
   "source": [
    "NER => Named Entity Recognition, it tried to find words like name, place, things, currency, number, etc"
   ]
  },
  {
   "cell_type": "markdown",
   "metadata": {},
   "source": [
    "### POS-Tagging"
   ]
  },
  {
   "cell_type": "code",
   "execution_count": 29,
   "metadata": {},
   "outputs": [],
   "source": [
    "text = \"The book is on the table.\""
   ]
  },
  {
   "cell_type": "code",
   "execution_count": 31,
   "metadata": {},
   "outputs": [],
   "source": [
    "tx = TextBlob(text)"
   ]
  },
  {
   "cell_type": "code",
   "execution_count": 32,
   "metadata": {},
   "outputs": [
    {
     "data": {
      "text/plain": [
       "[('The', 'DT'),\n",
       " ('book', 'NN'),\n",
       " ('is', 'VBZ'),\n",
       " ('on', 'IN'),\n",
       " ('the', 'DT'),\n",
       " ('table', 'NN')]"
      ]
     },
     "execution_count": 32,
     "metadata": {},
     "output_type": "execute_result"
    }
   ],
   "source": [
    "tx.pos_tags"
   ]
  },
  {
   "cell_type": "code",
   "execution_count": 33,
   "metadata": {},
   "outputs": [],
   "source": [
    "text_2 = \"The fire was banked up to last throughout the night.\""
   ]
  },
  {
   "cell_type": "code",
   "execution_count": 34,
   "metadata": {},
   "outputs": [
    {
     "data": {
      "text/plain": [
       "[('The', 'DT'),\n",
       " ('fire', 'NN'),\n",
       " ('was', 'VBD'),\n",
       " ('banked', 'VBN'),\n",
       " ('up', 'RP'),\n",
       " ('to', 'TO'),\n",
       " ('last', 'JJ'),\n",
       " ('throughout', 'IN'),\n",
       " ('the', 'DT'),\n",
       " ('night', 'NN')]"
      ]
     },
     "execution_count": 34,
     "metadata": {},
     "output_type": "execute_result"
    }
   ],
   "source": [
    "tx = TextBlob(text_2)\n",
    "tx.pos_tags"
   ]
  },
  {
   "cell_type": "code",
   "execution_count": null,
   "metadata": {},
   "outputs": [],
   "source": []
  }
 ],
 "metadata": {
  "kernelspec": {
   "display_name": "Python 3",
   "language": "python",
   "name": "python3"
  },
  "language_info": {
   "codemirror_mode": {
    "name": "ipython",
    "version": 3
   },
   "file_extension": ".py",
   "mimetype": "text/x-python",
   "name": "python",
   "nbconvert_exporter": "python",
   "pygments_lexer": "ipython3",
   "version": "3.7.3"
  }
 },
 "nbformat": 4,
 "nbformat_minor": 2
}
