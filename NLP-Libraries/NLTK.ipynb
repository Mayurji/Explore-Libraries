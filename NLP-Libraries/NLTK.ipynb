{
 "cells": [
  {
   "cell_type": "markdown",
   "metadata": {},
   "source": [
    "1. Tokenization\n",
    "2. Stopwords\n",
    "3. Stemming\n",
    "4. NLTK Functions\n",
    "    - Dispersion plot\n",
    "    - Freq Dist.\n",
    "    - Concordance"
   ]
  },
  {
   "cell_type": "code",
   "execution_count": 53,
   "metadata": {},
   "outputs": [],
   "source": [
    "import nltk\n",
    "from nltk.tokenize import word_tokenize, sent_tokenize\n",
    "from nltk.corpus import stopwords\n",
    "from nltk import PorterStemmer\n",
    "from nltk import FreqDist\n",
    "import matplotlib.pyplot as plt\n",
    "from string import punctuation"
   ]
  },
  {
   "cell_type": "code",
   "execution_count": 55,
   "metadata": {},
   "outputs": [],
   "source": [
    "stopwords = set(stopwords.words(\"english\"))"
   ]
  },
  {
   "cell_type": "markdown",
   "metadata": {},
   "source": [
    "### Tokenization"
   ]
  },
  {
   "cell_type": "code",
   "execution_count": 48,
   "metadata": {},
   "outputs": [],
   "source": [
    "review = \"The Batman is a fantastic film. This movie really explores batman in a very different way. Robert Pattinson does a phenomenal job as the caped crusader, so much so that when you look at batman, you also see Bruce Wayne and his inner torment and darkness lurking within. The scenes with Bruce without the suit interacting and Alfred were very effective and powerful.\""
   ]
  },
  {
   "cell_type": "code",
   "execution_count": 49,
   "metadata": {},
   "outputs": [],
   "source": [
    "sent_tokens = sent_tokenize(review)"
   ]
  },
  {
   "cell_type": "code",
   "execution_count": 50,
   "metadata": {
    "collapsed": true
   },
   "outputs": [
    {
     "data": {
      "text/plain": [
       "['The Batman is a fantastic film.',\n",
       " 'This movie really explores batman in a very different way.',\n",
       " 'Robert Pattinson does a phenomenal job as the caped crusader, so much so that when you look at batman, you also see Bruce Wayne and his inner torment and darkness lurking within.',\n",
       " 'The scenes with Bruce without the suit interacting and Alfred were very effective and powerful.']"
      ]
     },
     "execution_count": 50,
     "metadata": {},
     "output_type": "execute_result"
    }
   ],
   "source": [
    "sent_tokens"
   ]
  },
  {
   "cell_type": "code",
   "execution_count": 51,
   "metadata": {},
   "outputs": [],
   "source": [
    "word_tokens = word_tokenize(review)"
   ]
  },
  {
   "cell_type": "code",
   "execution_count": 52,
   "metadata": {
    "collapsed": true
   },
   "outputs": [
    {
     "data": {
      "text/plain": [
       "['The',\n",
       " 'Batman',\n",
       " 'is',\n",
       " 'a',\n",
       " 'fantastic',\n",
       " 'film',\n",
       " '.',\n",
       " 'This',\n",
       " 'movie',\n",
       " 'really',\n",
       " 'explores',\n",
       " 'batman',\n",
       " 'in',\n",
       " 'a',\n",
       " 'very',\n",
       " 'different',\n",
       " 'way',\n",
       " '.',\n",
       " 'Robert',\n",
       " 'Pattinson',\n",
       " 'does',\n",
       " 'a',\n",
       " 'phenomenal',\n",
       " 'job',\n",
       " 'as',\n",
       " 'the',\n",
       " 'caped',\n",
       " 'crusader',\n",
       " ',',\n",
       " 'so',\n",
       " 'much',\n",
       " 'so',\n",
       " 'that',\n",
       " 'when',\n",
       " 'you',\n",
       " 'look',\n",
       " 'at',\n",
       " 'batman',\n",
       " ',',\n",
       " 'you',\n",
       " 'also',\n",
       " 'see',\n",
       " 'Bruce',\n",
       " 'Wayne',\n",
       " 'and',\n",
       " 'his',\n",
       " 'inner',\n",
       " 'torment',\n",
       " 'and',\n",
       " 'darkness',\n",
       " 'lurking',\n",
       " 'within',\n",
       " '.',\n",
       " 'The',\n",
       " 'scenes',\n",
       " 'with',\n",
       " 'Bruce',\n",
       " 'without',\n",
       " 'the',\n",
       " 'suit',\n",
       " 'interacting',\n",
       " 'and',\n",
       " 'Alfred',\n",
       " 'were',\n",
       " 'very',\n",
       " 'effective',\n",
       " 'and',\n",
       " 'powerful',\n",
       " '.']"
      ]
     },
     "execution_count": 52,
     "metadata": {},
     "output_type": "execute_result"
    }
   ],
   "source": [
    "word_tokens"
   ]
  },
  {
   "cell_type": "markdown",
   "metadata": {},
   "source": [
    "### Stopwords"
   ]
  },
  {
   "cell_type": "code",
   "execution_count": 65,
   "metadata": {},
   "outputs": [],
   "source": [
    "for i in punctuation:\n",
    "    stopwords.add(i)"
   ]
  },
  {
   "cell_type": "code",
   "execution_count": 67,
   "metadata": {},
   "outputs": [],
   "source": [
    "#stopwords"
   ]
  },
  {
   "cell_type": "code",
   "execution_count": 99,
   "metadata": {},
   "outputs": [],
   "source": [
    "def removeStopwords(word_tkns):\n",
    "    tkns = [wrd for wrd in word_tkns if wrd not in stopwords]\n",
    "    return \" \".join(tkns)"
   ]
  },
  {
   "cell_type": "code",
   "execution_count": 69,
   "metadata": {},
   "outputs": [
    {
     "data": {
      "text/plain": [
       "'The Batman fantastic film This movie really explores batman different way Robert Pattinson phenomenal job caped crusader much look batman also see Bruce Wayne inner torment darkness lurking within The scenes Bruce without suit interacting Alfred effective powerful'"
      ]
     },
     "execution_count": 69,
     "metadata": {},
     "output_type": "execute_result"
    }
   ],
   "source": [
    "removeStopwords(word_tokens)"
   ]
  },
  {
   "cell_type": "code",
   "execution_count": 70,
   "metadata": {},
   "outputs": [
    {
     "data": {
      "text/plain": [
       "'The Batman is a fantastic film. This movie really explores batman in a very different way. Robert Pattinson does a phenomenal job as the caped crusader, so much so that when you look at batman, you also see Bruce Wayne and his inner torment and darkness lurking within. The scenes with Bruce without the suit interacting and Alfred were very effective and powerful.'"
      ]
     },
     "execution_count": 70,
     "metadata": {},
     "output_type": "execute_result"
    }
   ],
   "source": [
    "review"
   ]
  },
  {
   "cell_type": "markdown",
   "metadata": {},
   "source": [
    "### Stemming"
   ]
  },
  {
   "cell_type": "code",
   "execution_count": 71,
   "metadata": {},
   "outputs": [],
   "source": [
    "stemmer = PorterStemmer()"
   ]
  },
  {
   "cell_type": "code",
   "execution_count": 72,
   "metadata": {},
   "outputs": [],
   "source": [
    "def stemmedWords(word_tkns):\n",
    "    stemmedWrds = [stemmer.stem(word) for word in word_tkns]\n",
    "    return \" \".join(stemmedWrds)"
   ]
  },
  {
   "cell_type": "code",
   "execution_count": 73,
   "metadata": {},
   "outputs": [
    {
     "data": {
      "text/plain": [
       "'the batman is a fantast film . thi movi realli explor batman in a veri differ way . robert pattinson doe a phenomen job as the cape crusad , so much so that when you look at batman , you also see bruce wayn and hi inner torment and dark lurk within . the scene with bruce without the suit interact and alfr were veri effect and power .'"
      ]
     },
     "execution_count": 73,
     "metadata": {},
     "output_type": "execute_result"
    }
   ],
   "source": [
    "stemmedWords(word_tokens)"
   ]
  },
  {
   "cell_type": "markdown",
   "metadata": {},
   "source": [
    "### NLTK Functions"
   ]
  },
  {
   "cell_type": "code",
   "execution_count": 75,
   "metadata": {},
   "outputs": [],
   "source": [
    "from nltk.corpus import gutenberg, genesis\n",
    "from nltk.text import Text"
   ]
  },
  {
   "cell_type": "code",
   "execution_count": 77,
   "metadata": {
    "collapsed": true
   },
   "outputs": [
    {
     "name": "stdout",
     "output_type": "stream",
     "text": [
      "Displaying 25 of 1447 matches:\n",
      "having been a valetudinarian all his life , without activity of mind or body ,\n",
      "if she had spent all the rest of her life at Hartfield . Emma smiled and chatt\n",
      "must be , at Miss Taylor ' s time of life , to be settled in a home of her own\n",
      "ation , but , on succeeding early in life to a small independence , had become\n",
      "and when the chances of his military life had introduced him to Miss Churchill\n",
      "e as he could . A complete change of life became desirable . He quitted the mi\n",
      "next eighteen or twenty years of his life passed cheerfully away . He had , by\n",
      " that he had never been there in his life . His coming to visit his father had\n",
      "er saw such a handsome letter in his life .\" It was , indeed , a highly prized\n",
      "f the comforts of Mr . Woodhouse ' s life ; and upon being applied to , he cou\n",
      "hout distinction , and her middle of life was devoted to the care of a failing\n",
      "highly becoming her own situation in life , her leisure , and powers . She was\n",
      "ill he be at Mr . Weston ' s time of life ?\" \" There is no saying , indeed ,\" \n",
      "figure , and look , and situation in life seem to allow it ; but if any young \n",
      "sex , after being used to it all her life . I can imagine your objection to Ha\n",
      "to the varieties of her situation in life .-- They only give a little polish .\n",
      " . I never saw such a likeness in my life . We must allow for the effect of sh\n",
      "f the illiterate and vulgar all your life ! I wonder how the young man could h\n",
      " , at seventeen , just entering into life , just beginning to be known , to be\n",
      "rs . Goddard ' s all the rest of her life -- or , at least , ( for Harriet Smi\n",
      "on she was making for the evening of life , was the collecting and transcribin\n",
      " ever , any thing of the kind in his life . The stupidest fellow ! He was afra\n",
      "ould convince you . For once in your life you would be obliged to own yourself\n",
      "der it as the proudest moment of his life .\" After this speech he was gone as \n",
      "rriet , she found , had never in her life been within side the Vicarage , and \n"
     ]
    }
   ],
   "source": [
    "Text(gutenberg.words()).concordance(\"life\")"
   ]
  },
  {
   "cell_type": "code",
   "execution_count": 78,
   "metadata": {
    "collapsed": true
   },
   "outputs": [
    {
     "name": "stdout",
     "output_type": "stream",
     "text": [
      "Displaying 25 of 64 matches:\n",
      "dantly the moving creature that hath life , and fowl that may fly above the ea\n",
      "th upon the earth , wherein there is life , I have given every green herb for \n",
      "thed into his nostrils the breath of life ; and man became a living soul . And\n",
      "ht , and good for food ; the tree of life also in the midst of the garden , an\n",
      "t thou eat of it all the days of thy life ; Thorns also and thistles shall it \n",
      " hand , and take also of the tree of life , and eat , and live for ev Therefor\n",
      "way , to keep the way of the tree of life . And Adam knew Eve his wife ; and s\n",
      "all flesh , wherein is the breath of life , from under heaven ; and every thin\n",
      "n the six hundredth year of Noah ' s life , in the second month , the seventee\n",
      "all flesh , wherein is the breath of life . And they that went in , went in ma\n",
      " in whose nostrils was the breath of life , of all that was in the dry land , \n",
      " you all things . But flesh with the life thereof , which is the blood thereof\n",
      "y man ' s brother will I require the life of man . Whoso sheddeth man ' s bloo\n",
      "n unto thee according to the time of life ; and , lo , Sarah thy wife shall ha\n",
      "unto thee , according to the time of life , and Sarah shall have a son . Then \n",
      "road , that he said , Escape for thy life ; look not behind thee , neither sta\n",
      "hou hast shewed unto me in saving my life ; and I cannot escape to the mountai\n",
      "rs old : these were the years of the life of Sarah . And Sarah died in Kirjath\n",
      "the days of the years of Abraham ' s life which he lived , an hundred threesco\n",
      "ons . And these are the years of the life of Ishmael , an hundred and thirty a\n",
      "kah said to Isaac , I am weary of my life because of the daughters of He if Ja\n",
      "ers of the land , what good shall my life do me ? And Isaac called Jacob , and\n",
      " have seen God face to face , and my life is preserved . And as he passed over\n",
      "i Hereby ye shall be proved : By the life of Pharaoh ye shall not go forth hen\n",
      "ere be any truth in y or else by the life of Pharaoh surely ye are spies . And\n"
     ]
    }
   ],
   "source": [
    "Text(genesis.words()).concordance(\"life\")"
   ]
  },
  {
   "cell_type": "code",
   "execution_count": 79,
   "metadata": {},
   "outputs": [
    {
     "data": {
      "image/png": "[encoded data removed]",
      "text/plain": [
       "<Figure size 432x288 with 1 Axes>"
      ]
     },
     "metadata": {
      "needs_background": "light"
     },
     "output_type": "display_data"
    }
   ],
   "source": [
    "Text(gutenberg.words()).dispersion_plot([\"life\", \"love\", \"making\", \"car\", \"lost\", \"pain\"])"
   ]
  },
  {
   "cell_type": "code",
   "execution_count": 80,
   "metadata": {
    "scrolled": true
   },
   "outputs": [
    {
     "data": {
      "image/png": "[encoded data removed]",
      "text/plain": [
       "<Figure size 432x288 with 1 Axes>"
      ]
     },
     "metadata": {
      "needs_background": "light"
     },
     "output_type": "display_data"
    }
   ],
   "source": [
    "Text(genesis.words()).dispersion_plot([\"life\", \"love\", \"making\", \"car\", \"lost\", \"pain\"])"
   ]
  },
  {
   "cell_type": "code",
   "execution_count": 88,
   "metadata": {},
   "outputs": [],
   "source": [
    "genesis_word_list = list(genesis.words())"
   ]
  },
  {
   "cell_type": "code",
   "execution_count": 100,
   "metadata": {},
   "outputs": [],
   "source": [
    "genesis_without_sw_punt = removeStopwords(genesis_word_list)"
   ]
  },
  {
   "cell_type": "code",
   "execution_count": 101,
   "metadata": {},
   "outputs": [],
   "source": [
    "words = genesis_without_sw_punt[:10000].split(\" \")"
   ]
  },
  {
   "cell_type": "code",
   "execution_count": 102,
   "metadata": {},
   "outputs": [
    {
     "data": {
      "text/plain": [
       "FreqDist({'God': 65, 'said': 37, 'thou': 34, 'unto': 32, 'LORD': 32, 'begat': 30, 'earth': 29, 'shall': 26, 'every': 25, 'hundred': 24, ...})"
      ]
     },
     "execution_count": 102,
     "metadata": {},
     "output_type": "execute_result"
    }
   ],
   "source": [
    "FreqDist(words)"
   ]
  },
  {
   "cell_type": "code",
   "execution_count": 98,
   "metadata": {},
   "outputs": [],
   "source": [
    "stopwords.add(\"And\")"
   ]
  },
  {
   "cell_type": "code",
   "execution_count": null,
   "metadata": {},
   "outputs": [],
   "source": []
  }
 ],
 "metadata": {
  "kernelspec": {
   "display_name": "Python 3",
   "language": "python",
   "name": "python3"
  },
  "language_info": {
   "codemirror_mode": {
    "name": "ipython",
    "version": 3
   },
   "file_extension": ".py",
   "mimetype": "text/x-python",
   "name": "python",
   "nbconvert_exporter": "python",
   "pygments_lexer": "ipython3",
   "version": "3.7.3"
  }
 },
 "nbformat": 4,
 "nbformat_minor": 2
}
