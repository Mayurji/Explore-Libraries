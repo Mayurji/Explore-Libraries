{
 "cells": [
  {
   "cell_type": "markdown",
   "id": "04f31f82",
   "metadata": {},
   "source": [
    "### Fine-tuning transformer model with enhanced model management using MLFlow\n",
    "\n",
    "- Training Cycle\n",
    "- Model Logging and Management\n",
    "- Inference and Deployment"
   ]
  },
  {
   "cell_type": "code",
   "execution_count": 28,
   "id": "167fda0b",
   "metadata": {},
   "outputs": [
    {
     "name": "stdout",
     "output_type": "stream",
     "text": [
      "env: TOKENIZERS_PARALLELISM=false\n"
     ]
    }
   ],
   "source": [
    "# Disable tokenizers warnings when constructing pipelines\n",
    "%env TOKENIZERS_PARALLELISM=false\n",
    "\n",
    "import warnings\n",
    "\n",
    "# Disable a few less-than-useful UserWarnings from setuptools and pydantic\n",
    "warnings.filterwarnings(\"ignore\", category=UserWarning)"
   ]
  },
  {
   "cell_type": "markdown",
   "id": "ddd74ec4",
   "metadata": {},
   "source": [
    "### Preparing the dataset for the model"
   ]
  },
  {
   "cell_type": "code",
   "execution_count": 29,
   "id": "2fefc419",
   "metadata": {},
   "outputs": [],
   "source": [
    "import evaluate\n",
    "import numpy as np\n",
    "from datasets import load_dataset\n",
    "from transformers import (\n",
    "  AutoModelForSequenceClassification,\n",
    "  AutoTokenizer,\n",
    "  Trainer,\n",
    "  TrainingArguments,\n",
    "  pipeline,\n",
    ")\n",
    "\n",
    "import mlflow\n",
    "\n",
    "# Load the \"sms_spam\" dataset.\n",
    "sms_dataset = load_dataset(\"sms_spam\")\n",
    "\n",
    "# Split train/test by an 8/2 ratio.\n",
    "sms_train_test = sms_dataset[\"train\"].train_test_split(test_size=0.2)\n",
    "train_dataset = sms_train_test[\"train\"]\n",
    "test_dataset = sms_train_test[\"test\"]"
   ]
  },
  {
   "cell_type": "markdown",
   "id": "78472bfa",
   "metadata": {},
   "source": [
    "### Tokenization Process"
   ]
  },
  {
   "cell_type": "code",
   "execution_count": 30,
   "id": "a6b000f9",
   "metadata": {},
   "outputs": [
    {
     "name": "stderr",
     "output_type": "stream",
     "text": [
      "Map: 100%|██████████| 4459/4459 [00:01<00:00, 2471.93 examples/s]\n",
      "Map: 100%|██████████| 1115/1115 [00:00<00:00, 2227.46 examples/s]\n"
     ]
    }
   ],
   "source": [
    "# Load the tokenizer for \"distilbert-base-uncased\" model.\n",
    "tokenizer = AutoTokenizer.from_pretrained(\"distilbert-base-uncased\")\n",
    "\n",
    "\n",
    "def tokenize_function(examples):\n",
    "  # Pad/truncate each text to 512 tokens. Enforcing the same shape\n",
    "  # could make the training faster.\n",
    "  return tokenizer(\n",
    "      examples[\"sms\"],\n",
    "      padding=\"max_length\",\n",
    "      truncation=True,\n",
    "      max_length=128,\n",
    "  )\n",
    "\n",
    "\n",
    "seed = 22\n",
    "\n",
    "# Tokenize the train and test datasets\n",
    "train_tokenized = train_dataset.map(tokenize_function)\n",
    "train_tokenized = train_tokenized.remove_columns([\"sms\"]).shuffle(seed=seed)\n",
    "\n",
    "test_tokenized = test_dataset.map(tokenize_function)\n",
    "test_tokenized = test_tokenized.remove_columns([\"sms\"]).shuffle(seed=seed)"
   ]
  },
  {
   "cell_type": "markdown",
   "id": "a8efe855",
   "metadata": {},
   "source": [
    "### Label Mapping and Model Initialization"
   ]
  },
  {
   "cell_type": "code",
   "execution_count": 31,
   "id": "f0c158fa",
   "metadata": {},
   "outputs": [
    {
     "name": "stderr",
     "output_type": "stream",
     "text": [
      "Some weights of DistilBertForSequenceClassification were not initialized from the model checkpoint at distilbert-base-uncased and are newly initialized: ['classifier.bias', 'classifier.weight', 'pre_classifier.bias', 'pre_classifier.weight']\n",
      "You should probably TRAIN this model on a down-stream task to be able to use it for predictions and inference.\n"
     ]
    }
   ],
   "source": [
    "# Set the mapping between int label and its meaning.\n",
    "id2label = {0: \"ham\", 1: \"spam\"}\n",
    "label2id = {\"ham\": 0, \"spam\": 1}\n",
    "\n",
    "# Acquire the model from the Hugging Face Hub, providing label and id mappings so that both we and the model can 'speak' the same language.\n",
    "model = AutoModelForSequenceClassification.from_pretrained(\n",
    "  \"distilbert-base-uncased\",\n",
    "  num_labels=2,\n",
    "  label2id=label2id,\n",
    "  id2label=id2label,\n",
    ")"
   ]
  },
  {
   "cell_type": "markdown",
   "id": "cae1f788",
   "metadata": {},
   "source": [
    "### Setting up Evaluation Metrics"
   ]
  },
  {
   "cell_type": "code",
   "execution_count": 32,
   "id": "071acf4e",
   "metadata": {},
   "outputs": [
    {
     "name": "stderr",
     "output_type": "stream",
     "text": [
      "Downloading builder script: 4.20kB [00:00, 7.06MB/s]\n"
     ]
    }
   ],
   "source": [
    "# Define the target optimization metric\n",
    "metric = evaluate.load(\"accuracy\")\n",
    "\n",
    "\n",
    "# Define a function for calculating our defined target optimization metric during training\n",
    "def compute_metrics(eval_pred):\n",
    "  logits, labels = eval_pred\n",
    "  predictions = np.argmax(logits, axis=-1)\n",
    "  return metric.compute(predictions=predictions, references=labels)"
   ]
  },
  {
   "cell_type": "markdown",
   "id": "c24c2256",
   "metadata": {},
   "source": [
    "### Configuring the training environment"
   ]
  },
  {
   "cell_type": "code",
   "execution_count": 33,
   "id": "2ddf7e8e",
   "metadata": {},
   "outputs": [],
   "source": [
    "# Checkpoints will be output to this `training_output_dir`.\n",
    "training_output_dir = \"/tmp/sms_trainer\"\n",
    "training_args = TrainingArguments(\n",
    "  output_dir=training_output_dir,\n",
    "  eval_strategy='epoch',\n",
    "  per_device_train_batch_size=8,\n",
    "  per_device_eval_batch_size=8,\n",
    "  logging_steps=8,\n",
    "  num_train_epochs=3,\n",
    ")\n",
    "\n",
    "# Instantiate a `Trainer` instance that will be used to initiate a training run.\n",
    "trainer = Trainer(\n",
    "  model=model,\n",
    "  args=training_args,\n",
    "  train_dataset=train_tokenized,\n",
    "  eval_dataset=test_tokenized,\n",
    "  compute_metrics=compute_metrics,\n",
    ")"
   ]
  },
  {
   "cell_type": "markdown",
   "id": "22307e22",
   "metadata": {},
   "source": [
    "### Setting the tracking URI"
   ]
  },
  {
   "cell_type": "code",
   "execution_count": 34,
   "id": "a05e87d0",
   "metadata": {},
   "outputs": [],
   "source": [
    "mlflow.set_tracking_uri(\"http://127.0.0.1:5000\")"
   ]
  },
  {
   "cell_type": "markdown",
   "id": "5fb7fcac",
   "metadata": {},
   "source": [
    "### Creating MLFlow Experiment, Initiating MLFlow Run, and Monitoring the training progress"
   ]
  },
  {
   "cell_type": "code",
   "execution_count": 37,
   "id": "611bee0d",
   "metadata": {},
   "outputs": [
    {
     "data": {
      "text/html": [
       "\n",
       "    <div>\n",
       "      \n",
       "      <progress value='1674' max='1674' style='width:300px; height:20px; vertical-align: middle;'></progress>\n",
       "      [1674/1674 02:55, Epoch 3/3]\n",
       "    </div>\n",
       "    <table border=\"1\" class=\"dataframe\">\n",
       "  <thead>\n",
       " <tr style=\"text-align: left;\">\n",
       "      <th>Epoch</th>\n",
       "      <th>Training Loss</th>\n",
       "      <th>Validation Loss</th>\n",
       "      <th>Accuracy</th>\n",
       "    </tr>\n",
       "  </thead>\n",
       "  <tbody>\n",
       "    <tr>\n",
       "      <td>1</td>\n",
       "      <td>0.197300</td>\n",
       "      <td>0.032793</td>\n",
       "      <td>0.992825</td>\n",
       "    </tr>\n",
       "    <tr>\n",
       "      <td>2</td>\n",
       "      <td>0.000100</td>\n",
       "      <td>0.044225</td>\n",
       "      <td>0.993722</td>\n",
       "    </tr>\n",
       "    <tr>\n",
       "      <td>3</td>\n",
       "      <td>0.000100</td>\n",
       "      <td>0.043742</td>\n",
       "      <td>0.994619</td>\n",
       "    </tr>\n",
       "  </tbody>\n",
       "</table><p>"
      ],
      "text/plain": [
       "<IPython.core.display.HTML object>"
      ]
     },
     "metadata": {},
     "output_type": "display_data"
    },
    {
     "name": "stdout",
     "output_type": "stream",
     "text": [
      "🏃 View run sassy-crab-361 at: http://127.0.0.1:5000/#/experiments/804052913340005351/runs/38e365b5613b45ce9407b26df438d373\n",
      "🧪 View experiment at: http://127.0.0.1:5000/#/experiments/804052913340005351\n"
     ]
    }
   ],
   "source": [
    "# Pick a name that you like and reflects the nature of the runs that you will be recording to the experiment.\n",
    "mlflow.set_experiment(\"Spam Classifier fine tuning\")\n",
    "with mlflow.start_run() as run:\n",
    "  trainer.train()"
   ]
  },
  {
   "cell_type": "markdown",
   "id": "efcb0b18",
   "metadata": {},
   "source": [
    "### Creating a Pipeline with the Fine-Tuned Model"
   ]
  },
  {
   "cell_type": "code",
   "execution_count": 38,
   "id": "27e2be12",
   "metadata": {},
   "outputs": [
    {
     "name": "stderr",
     "output_type": "stream",
     "text": [
      "Device set to use cuda\n"
     ]
    }
   ],
   "source": [
    "# If you're going to run this on something other than a Macbook Pro, change the device to the applicable type. \"mps\" is for Apple Silicon architecture in torch.\n",
    "\n",
    "tuned_pipeline = pipeline(\n",
    "  task=\"text-classification\",\n",
    "  model=trainer.model,\n",
    "  batch_size=8,\n",
    "  tokenizer=tokenizer,\n",
    "  device=\"cuda\",\n",
    ")"
   ]
  },
  {
   "cell_type": "markdown",
   "id": "fa458418",
   "metadata": {},
   "source": [
    "### Validating Fine-tuned model"
   ]
  },
  {
   "cell_type": "code",
   "execution_count": 39,
   "id": "575328d5",
   "metadata": {},
   "outputs": [
    {
     "data": {
      "text/plain": [
       "[{'label': 'ham', 'score': 0.9999444484710693}]"
      ]
     },
     "execution_count": 39,
     "metadata": {},
     "output_type": "execute_result"
    }
   ],
   "source": [
    "# Perform a validation of our assembled pipeline that contains our fine-tuned model.\n",
    "quick_check = (\n",
    "  \"I have a question regarding the project development timeline and allocated resources; \"\n",
    "  \"specifically, how certain are you that John and Ringo can work together on writing this next song? \"\n",
    "  \"Do we need to get Paul involved here, or do you truly believe, as you said, 'nah, they got this'?\"\n",
    ")\n",
    "\n",
    "tuned_pipeline(quick_check)"
   ]
  },
  {
   "cell_type": "markdown",
   "id": "f8f1415d",
   "metadata": {},
   "source": [
    "### Model Configuration and Signature Inference"
   ]
  },
  {
   "cell_type": "code",
   "execution_count": 40,
   "id": "88a4f0c4",
   "metadata": {},
   "outputs": [],
   "source": [
    "# Define a set of parameters that we would like to be able to flexibly override at inference time, along with their default values\n",
    "model_config = {\"batch_size\": 8}\n",
    "\n",
    "# Infer the model signature, including a representative input, the expected output, and the parameters that we would like to be able to override at inference time.\n",
    "signature = mlflow.models.infer_signature(\n",
    "  [\"This is a test!\", \"And this is also a test.\"],\n",
    "  mlflow.transformers.generate_signature_output(\n",
    "      tuned_pipeline, [\"This is a test response!\", \"So is this.\"]\n",
    "  ),\n",
    "  params=model_config,\n",
    ")"
   ]
  },
  {
   "cell_type": "markdown",
   "id": "819eb3c8",
   "metadata": {},
   "source": [
    "### Model Logging"
   ]
  },
  {
   "cell_type": "code",
   "execution_count": 41,
   "id": "a32297b2",
   "metadata": {},
   "outputs": [
    {
     "name": "stderr",
     "output_type": "stream",
     "text": [
      "2025/07/06 18:26:05 WARNING mlflow.transformers.model_io: Could not specify device parameter for this pipeline type.Falling back to loading the model with the default device.\n",
      "Device set to use cuda:0\n",
      "2025/07/06 18:26:05 WARNING mlflow.transformers: params provided to the `predict` method will override the inference configuration saved with the model. If the params provided are not valid for the pipeline, MlflowException will be raised.\n"
     ]
    },
    {
     "name": "stdout",
     "output_type": "stream",
     "text": [
      "🏃 View run sassy-crab-361 at: http://127.0.0.1:5000/#/experiments/804052913340005351/runs/38e365b5613b45ce9407b26df438d373\n",
      "🧪 View experiment at: http://127.0.0.1:5000/#/experiments/804052913340005351\n"
     ]
    }
   ],
   "source": [
    "# Log the pipeline to the existing training run\n",
    "with mlflow.start_run(run_id=run.info.run_id):\n",
    "  model_info = mlflow.transformers.log_model(\n",
    "      transformers_model=tuned_pipeline,\n",
    "      name=\"fine_tuned\",\n",
    "      signature=signature,\n",
    "      input_example=[\"Pass in a string\", \"And have it mark as spam or not.\"],\n",
    "      model_config=model_config,\n",
    "  )"
   ]
  },
  {
   "cell_type": "markdown",
   "id": "a321ee15",
   "metadata": {},
   "source": [
    "### Loading and Testing the Model from MLflow"
   ]
  },
  {
   "cell_type": "code",
   "execution_count": 42,
   "id": "68097e04",
   "metadata": {},
   "outputs": [
    {
     "name": "stderr",
     "output_type": "stream",
     "text": [
      "Downloading artifacts: 100%|██████████| 15/15 [00:07<00:00,  2.01it/s] \n",
      "2025/07/06 18:26:59 INFO mlflow.transformers: 'models:/m-476bbb2842dc487f868a2c70934fc805' resolved as 'mlflow-artifacts:/804052913340005351/models/m-476bbb2842dc487f868a2c70934fc805/artifacts'\n",
      "Downloading artifacts: 100%|██████████| 1/1 [00:00<00:00, 220.06it/s]\n",
      "2025/07/06 18:26:59 WARNING mlflow.transformers.model_io: Could not specify device parameter for this pipeline type.Falling back to loading the model with the default device.\n",
      "Device set to use cuda:0\n"
     ]
    },
    {
     "data": {
      "text/plain": [
       "[{'label': 'spam', 'score': 0.99962317943573}]"
      ]
     },
     "execution_count": 42,
     "metadata": {},
     "output_type": "execute_result"
    }
   ],
   "source": [
    "# Load our saved model in the native transformers format\n",
    "loaded = mlflow.transformers.load_model(model_uri=model_info.model_uri)\n",
    "\n",
    "# Define a test example that we expect to be classified as spam\n",
    "validation_text = (\n",
    "  \"Want to learn how to make MILLIONS with no effort? Click HERE now! See for yourself! Guaranteed to make you instantly rich! \"\n",
    "  \"Don't miss out you could be a winner!\"\n",
    ")\n",
    "\n",
    "# validate the performance of our fine-tuning\n",
    "loaded(validation_text)"
   ]
  },
  {
   "cell_type": "code",
   "execution_count": null,
   "id": "da9e37c0",
   "metadata": {},
   "outputs": [],
   "source": []
  }
 ],
 "metadata": {
  "kernelspec": {
   "display_name": "Python 3",
   "language": "python",
   "name": "python3"
  },
  "language_info": {
   "codemirror_mode": {
    "name": "ipython",
    "version": 3
   },
   "file_extension": ".py",
   "mimetype": "text/x-python",
   "name": "python",
   "nbconvert_exporter": "python",
   "pygments_lexer": "ipython3",
   "version": "3.10.12"
  }
 },
 "nbformat": 4,
 "nbformat_minor": 5
}
