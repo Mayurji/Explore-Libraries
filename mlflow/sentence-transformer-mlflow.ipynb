{
 "cells": [
  {
   "cell_type": "markdown",
   "id": "09433fb8",
   "metadata": {},
   "source": [
    "### Building and logging Semantic Search Systems"
   ]
  },
  {
   "cell_type": "markdown",
   "id": "97ecab90",
   "metadata": {},
   "source": [
    "### Importing Packages"
   ]
  },
  {
   "cell_type": "code",
   "execution_count": 4,
   "id": "96361736",
   "metadata": {},
   "outputs": [],
   "source": [
    "import mlflow\n",
    "import numpy as np\n",
    "import pandas as pd\n",
    "from sentence_transformers import SentenceTransformer, util\n",
    "from mlflow.models import infer_signature"
   ]
  },
  {
   "cell_type": "markdown",
   "id": "282a1125",
   "metadata": {},
   "source": [
    "### Setting MLflow Experiment and tracking URI"
   ]
  },
  {
   "cell_type": "code",
   "execution_count": 5,
   "id": "4cf2070f",
   "metadata": {},
   "outputs": [
    {
     "name": "stderr",
     "output_type": "stream",
     "text": [
      "2025/07/07 14:04:17 INFO mlflow.tracking.fluent: Experiment with name 'Semantic Search' does not exist. Creating a new experiment.\n"
     ]
    },
    {
     "data": {
      "text/plain": [
       "<Experiment: artifact_location='mlflow-artifacts:/952327830813475046', creation_time=1751877257966, experiment_id='952327830813475046', last_update_time=1751877257966, lifecycle_stage='active', name='Semantic Search', tags={}>"
      ]
     },
     "execution_count": 5,
     "metadata": {},
     "output_type": "execute_result"
    }
   ],
   "source": [
    "mlflow.set_tracking_uri('http://127.0.0.1:5000')\n",
    "mlflow.set_experiment('Semantic Search')"
   ]
  },
  {
   "cell_type": "markdown",
   "id": "bff645ac",
   "metadata": {},
   "source": [
    "### Setting the Search Space"
   ]
  },
  {
   "cell_type": "code",
   "execution_count": 6,
   "id": "9df41a0f",
   "metadata": {},
   "outputs": [],
   "source": [
    "# Sample document corpus\n",
    "documents = [\n",
    "    \"Machine learning is a subset of artificial intelligence.\",\n",
    "    \"Deep learning uses neural networks with multiple layers.\",\n",
    "    \"Natural language processing helps computers understand text.\",\n",
    "    \"Computer vision enables machines to interpret visual information.\",\n",
    "    \"Reinforcement learning trains agents through trial and error.\",\n",
    "    \"Data science combines statistics and programming for insights.\",\n",
    "    \"Cloud computing provides scalable infrastructure resources.\",\n",
    "    \"MLflow helps manage the machine learning lifecycle.\",\n",
    "]"
   ]
  },
  {
   "cell_type": "markdown",
   "id": "c1efaf52",
   "metadata": {},
   "source": [
    "### Building and Logging the Semantic Search System"
   ]
  },
  {
   "cell_type": "code",
   "execution_count": 7,
   "id": "d4029c3b",
   "metadata": {},
   "outputs": [
    {
     "name": "stdout",
     "output_type": "stream",
     "text": [
      "Encoding document corpus...\n",
      "\n",
      "Searching for: 'What is artificial intelligence?'\n",
      "  Score: 0.6593 - Machine learning is a subset of artificial intelligence.\n",
      "  Score: 0.3906 - Natural language processing helps computers understand text.\n",
      "  Score: 0.3812 - Computer vision enables machines to interpret visual information.\n",
      "\n",
      "Searching for: 'How do neural networks work?'\n",
      "  Score: 0.6108 - Deep learning uses neural networks with multiple layers.\n",
      "  Score: 0.3995 - Computer vision enables machines to interpret visual information.\n",
      "  Score: 0.3719 - Machine learning is a subset of artificial intelligence.\n",
      "\n",
      "Searching for: 'Tell me about text processing'\n",
      "  Score: 0.6680 - Natural language processing helps computers understand text.\n",
      "  Score: 0.2696 - Computer vision enables machines to interpret visual information.\n",
      "  Score: 0.2294 - Data science combines statistics and programming for insights.\n",
      "\n",
      "Searching for: 'What tools help with ML development?'\n",
      "  Score: 0.5608 - MLflow helps manage the machine learning lifecycle.\n",
      "  Score: 0.3635 - Data science combines statistics and programming for insights.\n",
      "  Score: 0.3284 - Machine learning is a subset of artificial intelligence.\n",
      "\n",
      "Model logged successfully!\n",
      "Average top-1 similarity: 0.6247\n",
      "Average top-3 similarity: 0.4361\n",
      "🏃 View run semantic_search_system at: http://127.0.0.1:5000/#/experiments/952327830813475046/runs/38666e692c044d8dbfb114adedb4ced4\n",
      "🧪 View experiment at: http://127.0.0.1:5000/#/experiments/952327830813475046\n"
     ]
    }
   ],
   "source": [
    "\n",
    "def build_semantic_search_system():\n",
    "    \"\"\"Build and log a complete semantic search system.\"\"\"\n",
    "\n",
    "    with mlflow.start_run(run_name=\"semantic_search_system\"):\n",
    "        # Load the sentence transformer\n",
    "        model = SentenceTransformer(\"all-MiniLM-L6-v2\")\n",
    "\n",
    "        # Log model parameters\n",
    "        mlflow.log_params(\n",
    "            {\n",
    "                \"model_name\": \"all-MiniLM-L6-v2\",\n",
    "                \"embedding_dimension\": model.get_sentence_embedding_dimension(),\n",
    "                \"max_seq_length\": model.max_seq_length,\n",
    "                \"corpus_size\": len(documents),\n",
    "            }\n",
    "        )\n",
    "\n",
    "        # Encode the document corpus\n",
    "        print(\"Encoding document corpus...\")\n",
    "        corpus_embeddings = model.encode(documents, convert_to_tensor=True)\n",
    "\n",
    "        # Save corpus and embeddings as artifacts\n",
    "        corpus_df = pd.DataFrame({\"documents\": documents})\n",
    "        corpus_df.to_csv(\"corpus.csv\", index=False)\n",
    "        mlflow.log_artifact(\"corpus.csv\")\n",
    "\n",
    "        # Example queries for testing\n",
    "        test_queries = [\n",
    "            \"What is artificial intelligence?\",\n",
    "            \"How do neural networks work?\",\n",
    "            \"Tell me about text processing\",\n",
    "            \"What tools help with ML development?\",\n",
    "        ]\n",
    "\n",
    "        # Perform semantic search for each query\n",
    "        search_results = []\n",
    "        for query in test_queries:\n",
    "            print(f\"\\nSearching for: '{query}'\")\n",
    "\n",
    "            # Encode the query\n",
    "            query_embedding = model.encode(query, convert_to_tensor=True)\n",
    "\n",
    "            # Calculate similarities\n",
    "            similarities = util.semantic_search(\n",
    "                query_embedding, corpus_embeddings, top_k=3\n",
    "            )[0]\n",
    "\n",
    "            # Store results\n",
    "            for hit in similarities:\n",
    "                search_results.append(\n",
    "                    {\n",
    "                        \"query\": query,\n",
    "                        \"document\": documents[hit[\"corpus_id\"]],\n",
    "                        \"similarity_score\": hit[\"score\"],\n",
    "                        \"rank\": len([r for r in search_results if r[\"query\"] == query])\n",
    "                        + 1,\n",
    "                    }\n",
    "                )\n",
    "\n",
    "            # Print top results\n",
    "            for hit in similarities:\n",
    "                print(f\"  Score: {hit['score']:.4f} - {documents[hit['corpus_id']]}\")\n",
    "\n",
    "        # Log search results\n",
    "        results_df = pd.DataFrame(search_results)\n",
    "        results_df.to_csv(\"search_results.csv\", index=False)\n",
    "        mlflow.log_artifact(\"search_results.csv\")\n",
    "\n",
    "        # Calculate evaluation metrics\n",
    "        avg_top1_score = results_df[results_df[\"rank\"] == 1][\"similarity_score\"].mean()\n",
    "        avg_top3_score = results_df[\"similarity_score\"].mean()\n",
    "\n",
    "        mlflow.log_metrics(\n",
    "            {\n",
    "                \"avg_top1_similarity\": avg_top1_score,\n",
    "                \"avg_top3_similarity\": avg_top3_score,\n",
    "                \"total_queries_tested\": len(test_queries),\n",
    "            }\n",
    "        )\n",
    "\n",
    "        # Log the model with inference signature\n",
    "        signature = infer_signature(test_queries, model.encode(test_queries))\n",
    "\n",
    "        model_info = mlflow.sentence_transformers.log_model(\n",
    "            model=model,\n",
    "            name=\"semantic_search_model\",\n",
    "            signature=signature,\n",
    "            input_example=test_queries[:2],\n",
    "        )\n",
    "\n",
    "        print(f\"\\nModel logged successfully!\")\n",
    "        print(f\"Average top-1 similarity: {avg_top1_score:.4f}\")\n",
    "        print(f\"Average top-3 similarity: {avg_top3_score:.4f}\")\n",
    "\n",
    "        return model_info\n",
    "\n",
    "\n",
    "# Run the semantic search system\n",
    "model_info = build_semantic_search_system()"
   ]
  },
  {
   "cell_type": "code",
   "execution_count": null,
   "id": "080f448f",
   "metadata": {},
   "outputs": [],
   "source": []
  }
 ],
 "metadata": {
  "kernelspec": {
   "display_name": "Python 3",
   "language": "python",
   "name": "python3"
  },
  "language_info": {
   "codemirror_mode": {
    "name": "ipython",
    "version": 3
   },
   "file_extension": ".py",
   "mimetype": "text/x-python",
   "name": "python",
   "nbconvert_exporter": "python",
   "pygments_lexer": "ipython3",
   "version": "3.10.12"
  }
 },
 "nbformat": 4,
 "nbformat_minor": 5
}
