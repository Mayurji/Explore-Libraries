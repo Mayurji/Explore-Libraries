{
 "cells": [
  {
   "cell_type": "markdown",
   "id": "3e83a72e",
   "metadata": {},
   "source": [
    "### SKTime"
   ]
  },
  {
   "cell_type": "code",
   "execution_count": null,
   "id": "1d93e8bf",
   "metadata": {},
   "outputs": [],
   "source": [
    "import sktime\n",
    "import numpy as np\n",
    "from sktime.datasets import load_airline\n",
    "from sktime.forecasting.naive import NaiveForecaster"
   ]
  },
  {
   "cell_type": "markdown",
   "id": "0bcee28a",
   "metadata": {},
   "source": [
    "### Timeseries Forecasting"
   ]
  },
  {
   "cell_type": "code",
   "execution_count": null,
   "id": "db741bb7",
   "metadata": {},
   "outputs": [],
   "source": [
    "y = load_airline()"
   ]
  },
  {
   "cell_type": "code",
   "execution_count": null,
   "id": "9d3d38b4",
   "metadata": {},
   "outputs": [],
   "source": [
    "y"
   ]
  },
  {
   "cell_type": "code",
   "execution_count": null,
   "id": "6f9dca88",
   "metadata": {},
   "outputs": [],
   "source": [
    "# step 1: specify the forecasting algorithm\n",
    "forecaster = NaiveForecaster(strategy=\"last\", sp=12) #mean, drift\n",
    "\n",
    "# step 2: specify forecasting horizon\n",
    "fh = np.arange(1, 37)  # we want to predict the next 36 months\n",
    "\n",
    "# step 3: fit the forecaster\n",
    "forecaster.fit(y, fh=fh)\n",
    "\n",
    "# step 4: make the forecast\n",
    "y_pred = forecaster.predict()"
   ]
  },
  {
   "cell_type": "code",
   "execution_count": null,
   "id": "dbaee3f4",
   "metadata": {},
   "outputs": [],
   "source": [
    "from sktime.utils.plotting import plot_series\n",
    "\n",
    "fig, ax = plot_series(y, y_pred, labels=[\"train\", \"forecast\"])"
   ]
  },
  {
   "cell_type": "markdown",
   "id": "a02850be",
   "metadata": {},
   "source": [
    "### Timeseries Classification"
   ]
  },
  {
   "cell_type": "code",
   "execution_count": null,
   "id": "498d3120",
   "metadata": {},
   "outputs": [],
   "source": [
    "# get the data\n",
    "from sktime.datasets import load_osuleaf #http://www.timeseriesclassification.com/description.php?Dataset=OSULeaf\n",
    "from sklearn.metrics import classification_report, accuracy_score\n",
    "\n",
    "# for training\n",
    "X_train, y_train = load_osuleaf(split=\"train\", return_type=\"numpy3D\")\n",
    "#cat /proc/sys/fs/inotify/max_user_watches\n",
    "\n",
    "# for prediction\n",
    "X_new, y_test = load_osuleaf(split=\"test\", return_type=\"numpy3D\")\n",
    "X_new = X_new[:100]\n",
    "y_test = y_test[:100]"
   ]
  },
  {
   "cell_type": "code",
   "execution_count": null,
   "id": "0267240d",
   "metadata": {},
   "outputs": [],
   "source": [
    "from sktime.classification.distance_based import KNeighborsTimeSeriesClassifier\n",
    "from sktime.dists_kernels import ScipyDist\n",
    "from sktime.dists_kernels.compose_tab_to_panel import AggrDist\n",
    "\n",
    "# step 1 - specify the classifier\n",
    "#ScipyDist()\n",
    "mean_eucl_dist = AggrDist(ScipyDist())\n",
    "clf = KNeighborsTimeSeriesClassifier(n_neighbors=3, distance=mean_eucl_dist)\n",
    "\n",
    "# step 2 - fit the classifier\n",
    "clf.fit(X_train, y_train)\n",
    "\n",
    "# step 3 - predict labels on new data\n",
    "y_pred = clf.predict(X_new)"
   ]
  },
  {
   "cell_type": "code",
   "execution_count": null,
   "id": "dc54f920",
   "metadata": {},
   "outputs": [],
   "source": [
    "X_train[:2]"
   ]
  },
  {
   "cell_type": "code",
   "execution_count": null,
   "id": "1bcf773c",
   "metadata": {},
   "outputs": [],
   "source": [
    "X_train.shape, y_train.shape, X_new.shape, y_pred.shape"
   ]
  },
  {
   "cell_type": "code",
   "execution_count": null,
   "id": "47aa8404",
   "metadata": {},
   "outputs": [],
   "source": [
    "print(classification_report(y_test, y_pred))"
   ]
  },
  {
   "cell_type": "code",
   "execution_count": null,
   "id": "37b28222",
   "metadata": {},
   "outputs": [],
   "source": [
    "accuracy_score(y_test, y_pred)"
   ]
  },
  {
   "cell_type": "markdown",
   "id": "b603eb9c",
   "metadata": {},
   "source": [
    "### Multivariate Forecaster"
   ]
  },
  {
   "cell_type": "code",
   "execution_count": null,
   "id": "70b7b561",
   "metadata": {},
   "outputs": [],
   "source": [
    "from sktime.datasets import load_longley\n",
    "from sktime.forecasting.var import VAR\n",
    "\n",
    "_, y = load_longley()\n",
    "\n",
    "# y = y.drop(columns=[\"UNEMP\", \"ARMED\", \"POP\"])\n",
    "\n",
    "forecaster = VAR() #vector autoregression\n",
    "forecaster.fit(y, fh=[1, 2, 3])\n",
    "\n",
    "y_pred = forecaster.predict()"
   ]
  },
  {
   "cell_type": "code",
   "execution_count": null,
   "id": "bc724896",
   "metadata": {},
   "outputs": [],
   "source": [
    "y"
   ]
  },
  {
   "cell_type": "code",
   "execution_count": null,
   "id": "13cae7c1",
   "metadata": {},
   "outputs": [],
   "source": [
    "y_pred"
   ]
  },
  {
   "cell_type": "code",
   "execution_count": null,
   "id": "e9d96625",
   "metadata": {},
   "outputs": [],
   "source": [
    "from sktime.registry import all_estimators\n",
    "\n",
    "for forecaster in all_estimators(filter_tags={\"scitype:y\": [\"multivariate\", \"both\"]}):\n",
    "    print(forecaster[0])"
   ]
  },
  {
   "cell_type": "markdown",
   "id": "a095a21b",
   "metadata": {},
   "source": [
    "### Univariate Forecaster"
   ]
  },
  {
   "cell_type": "code",
   "execution_count": null,
   "id": "b085c364",
   "metadata": {},
   "outputs": [],
   "source": [
    "from sktime.datasets import load_longley\n",
    "from sktime.forecasting.arima import ARIMA\n",
    "\n",
    "_, y = load_longley()\n",
    "\n",
    "y = y.drop(columns=[\"UNEMP\", \"ARMED\", \"POP\"])\n",
    "\n",
    "forecaster = ARIMA()\n",
    "forecaster.fit(y, fh=[1, 2, 3])\n",
    "\n",
    "forecaster.forecasters_"
   ]
  },
  {
   "cell_type": "code",
   "execution_count": null,
   "id": "faf79423",
   "metadata": {},
   "outputs": [],
   "source": []
  },
  {
   "cell_type": "code",
   "execution_count": null,
   "id": "89f272ba",
   "metadata": {},
   "outputs": [],
   "source": []
  }
 ],
 "metadata": {
  "kernelspec": {
   "display_name": "timeseries-env",
   "language": "python",
   "name": "python3"
  },
  "language_info": {
   "codemirror_mode": {
    "name": "ipython",
    "version": 3
   },
   "file_extension": ".py",
   "mimetype": "text/x-python",
   "name": "python",
   "nbconvert_exporter": "python",
   "pygments_lexer": "ipython3",
   "version": "3.9.23"
  }
 },
 "nbformat": 4,
 "nbformat_minor": 5
}
