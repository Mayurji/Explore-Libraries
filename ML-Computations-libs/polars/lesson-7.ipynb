{
 "cells": [
  {
   "cell_type": "markdown",
   "metadata": {},
   "source": [
    "## Polars: Pivot"
   ]
  },
  {
   "cell_type": "code",
   "execution_count": 1,
   "metadata": {},
   "outputs": [],
   "source": [
    "import polars as pl"
   ]
  },
  {
   "cell_type": "code",
   "execution_count": null,
   "metadata": {},
   "outputs": [],
   "source": [
    "import polars as pl"
   ]
  },
  {
   "cell_type": "code",
   "execution_count": 17,
   "metadata": {},
   "outputs": [
    {
     "data": {
      "text/html": [
       "<div><style>\n",
       ".dataframe > thead > tr,\n",
       ".dataframe > tbody > tr {\n",
       "  text-align: right;\n",
       "  white-space: pre-wrap;\n",
       "}\n",
       "</style>\n",
       "<small>shape: (4, 4)</small><table border=\"1\" class=\"dataframe\"><thead><tr><th>name</th><th>subject</th><th>test_1</th><th>test_2</th></tr><tr><td>str</td><td>str</td><td>i64</td><td>i64</td></tr></thead><tbody><tr><td>&quot;Cady&quot;</td><td>&quot;maths&quot;</td><td>98</td><td>100</td></tr><tr><td>&quot;Cady&quot;</td><td>&quot;physics&quot;</td><td>99</td><td>100</td></tr><tr><td>&quot;Karen&quot;</td><td>&quot;maths&quot;</td><td>61</td><td>60</td></tr><tr><td>&quot;Karen&quot;</td><td>&quot;physics&quot;</td><td>58</td><td>60</td></tr></tbody></table></div>"
      ],
      "text/plain": [
       "shape: (4, 4)\n",
       "┌───────┬─────────┬────────┬────────┐\n",
       "│ name  ┆ subject ┆ test_1 ┆ test_2 │\n",
       "│ ---   ┆ ---     ┆ ---    ┆ ---    │\n",
       "│ str   ┆ str     ┆ i64    ┆ i64    │\n",
       "╞═══════╪═════════╪════════╪════════╡\n",
       "│ Cady  ┆ maths   ┆ 98     ┆ 100    │\n",
       "│ Cady  ┆ physics ┆ 99     ┆ 100    │\n",
       "│ Karen ┆ maths   ┆ 61     ┆ 60     │\n",
       "│ Karen ┆ physics ┆ 58     ┆ 60     │\n",
       "└───────┴─────────┴────────┴────────┘"
      ]
     },
     "execution_count": 17,
     "metadata": {},
     "output_type": "execute_result"
    }
   ],
   "source": [
    "df = pl.DataFrame(\n",
    "    {\n",
    "        \"name\": [\"Cady\", \"Cady\", \"Karen\", \"Karen\"],\n",
    "        \"subject\": [\"maths\", \"physics\", \"maths\", \"physics\"],\n",
    "        \"test_1\": [98, 99, 61, 58],\n",
    "        \"test_2\": [100, 100, 60, 60],\n",
    "    }\n",
    ")\n",
    "df"
   ]
  },
  {
   "cell_type": "code",
   "execution_count": 18,
   "metadata": {},
   "outputs": [
    {
     "data": {
      "text/html": [
       "<div><style>\n",
       ".dataframe > thead > tr,\n",
       ".dataframe > tbody > tr {\n",
       "  text-align: right;\n",
       "  white-space: pre-wrap;\n",
       "}\n",
       "</style>\n",
       "<small>shape: (2, 3)</small><table border=\"1\" class=\"dataframe\"><thead><tr><th>name</th><th>maths</th><th>physics</th></tr><tr><td>str</td><td>i64</td><td>i64</td></tr></thead><tbody><tr><td>&quot;Cady&quot;</td><td>98</td><td>99</td></tr><tr><td>&quot;Karen&quot;</td><td>61</td><td>58</td></tr></tbody></table></div>"
      ],
      "text/plain": [
       "shape: (2, 3)\n",
       "┌───────┬───────┬─────────┐\n",
       "│ name  ┆ maths ┆ physics │\n",
       "│ ---   ┆ ---   ┆ ---     │\n",
       "│ str   ┆ i64   ┆ i64     │\n",
       "╞═══════╪═══════╪═════════╡\n",
       "│ Cady  ┆ 98    ┆ 99      │\n",
       "│ Karen ┆ 61    ┆ 58      │\n",
       "└───────┴───────┴─────────┘"
      ]
     },
     "execution_count": 18,
     "metadata": {},
     "output_type": "execute_result"
    }
   ],
   "source": [
    "df.pivot(\"subject\", index=\"name\", values=\"test_1\")"
   ]
  },
  {
   "cell_type": "code",
   "execution_count": 20,
   "metadata": {},
   "outputs": [
    {
     "data": {
      "text/html": [
       "<div><style>\n",
       ".dataframe > thead > tr,\n",
       ".dataframe > tbody > tr {\n",
       "  text-align: right;\n",
       "  white-space: pre-wrap;\n",
       "}\n",
       "</style>\n",
       "<small>shape: (2, 5)</small><table border=\"1\" class=\"dataframe\"><thead><tr><th>name</th><th>test_1_maths</th><th>test_1_physics</th><th>test_2_maths</th><th>test_2_physics</th></tr><tr><td>str</td><td>i64</td><td>i64</td><td>i64</td><td>i64</td></tr></thead><tbody><tr><td>&quot;Cady&quot;</td><td>98</td><td>99</td><td>100</td><td>100</td></tr><tr><td>&quot;Karen&quot;</td><td>61</td><td>58</td><td>60</td><td>60</td></tr></tbody></table></div>"
      ],
      "text/plain": [
       "shape: (2, 5)\n",
       "┌───────┬──────────────┬────────────────┬──────────────┬────────────────┐\n",
       "│ name  ┆ test_1_maths ┆ test_1_physics ┆ test_2_maths ┆ test_2_physics │\n",
       "│ ---   ┆ ---          ┆ ---            ┆ ---          ┆ ---            │\n",
       "│ str   ┆ i64          ┆ i64            ┆ i64          ┆ i64            │\n",
       "╞═══════╪══════════════╪════════════════╪══════════════╪════════════════╡\n",
       "│ Cady  ┆ 98           ┆ 99             ┆ 100          ┆ 100            │\n",
       "│ Karen ┆ 61           ┆ 58             ┆ 60           ┆ 60             │\n",
       "└───────┴──────────────┴────────────────┴──────────────┴────────────────┘"
      ]
     },
     "execution_count": 20,
     "metadata": {},
     "output_type": "execute_result"
    }
   ],
   "source": [
    "import polars.selectors as cs\n",
    "df.pivot(\"subject\", values=cs.starts_with(\"test\"))"
   ]
  },
  {
   "cell_type": "code",
   "execution_count": 21,
   "metadata": {},
   "outputs": [],
   "source": [
    "df = pl.DataFrame(\n",
    "    {\n",
    "        \"ix\": [1, 1, 2, 2, 1, 2],\n",
    "        \"col\": [\"a\", \"a\", \"a\", \"a\", \"b\", \"b\"],\n",
    "        \"foo\": [0, 1, 2, 2, 7, 1],\n",
    "        \"bar\": [0, 2, 0, 0, 9, 4],\n",
    "    }\n",
    ")"
   ]
  },
  {
   "cell_type": "code",
   "execution_count": 22,
   "metadata": {},
   "outputs": [
    {
     "data": {
      "text/html": [
       "<div><style>\n",
       ".dataframe > thead > tr,\n",
       ".dataframe > tbody > tr {\n",
       "  text-align: right;\n",
       "  white-space: pre-wrap;\n",
       "}\n",
       "</style>\n",
       "<small>shape: (2, 5)</small><table border=\"1\" class=\"dataframe\"><thead><tr><th>ix</th><th>foo_a</th><th>foo_b</th><th>bar_a</th><th>bar_b</th></tr><tr><td>i64</td><td>i64</td><td>i64</td><td>i64</td><td>i64</td></tr></thead><tbody><tr><td>1</td><td>1</td><td>7</td><td>2</td><td>9</td></tr><tr><td>2</td><td>4</td><td>1</td><td>0</td><td>4</td></tr></tbody></table></div>"
      ],
      "text/plain": [
       "shape: (2, 5)\n",
       "┌─────┬───────┬───────┬───────┬───────┐\n",
       "│ ix  ┆ foo_a ┆ foo_b ┆ bar_a ┆ bar_b │\n",
       "│ --- ┆ ---   ┆ ---   ┆ ---   ┆ ---   │\n",
       "│ i64 ┆ i64   ┆ i64   ┆ i64   ┆ i64   │\n",
       "╞═════╪═══════╪═══════╪═══════╪═══════╡\n",
       "│ 1   ┆ 1     ┆ 7     ┆ 2     ┆ 9     │\n",
       "│ 2   ┆ 4     ┆ 1     ┆ 0     ┆ 4     │\n",
       "└─────┴───────┴───────┴───────┴───────┘"
      ]
     },
     "execution_count": 22,
     "metadata": {},
     "output_type": "execute_result"
    }
   ],
   "source": [
    "df.pivot(\"col\", index=\"ix\", aggregate_function=\"sum\")"
   ]
  },
  {
   "cell_type": "code",
   "execution_count": null,
   "metadata": {},
   "outputs": [],
   "source": []
  }
 ],
 "metadata": {
  "kernelspec": {
   "display_name": "Python 3",
   "language": "python",
   "name": "python3"
  },
  "language_info": {
   "codemirror_mode": {
    "name": "ipython",
    "version": 3
   },
   "file_extension": ".py",
   "mimetype": "text/x-python",
   "name": "python",
   "nbconvert_exporter": "python",
   "pygments_lexer": "ipython3",
   "version": "3.9.7"
  }
 },
 "nbformat": 4,
 "nbformat_minor": 2
}
