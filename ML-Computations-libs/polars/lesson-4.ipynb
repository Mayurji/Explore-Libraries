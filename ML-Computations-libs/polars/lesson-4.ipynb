{
 "cells": [
  {
   "cell_type": "markdown",
   "metadata": {},
   "source": [
    "## Polars: Join"
   ]
  },
  {
   "cell_type": "code",
   "execution_count": 2,
   "metadata": {},
   "outputs": [],
   "source": [
    "import polars as pl"
   ]
  },
  {
   "cell_type": "code",
   "execution_count": 2,
   "metadata": {},
   "outputs": [],
   "source": [
    "person = pl.DataFrame(\n",
    "    {\n",
    "        \"id\" : [1, 2, 3, 4, 5, 6, 7, 8],\n",
    "        \"name\": ['A', 'B', 'C', 'D', 'E', 'F', 'G', 'H'],\n",
    "        \"city\": ['CH', 'BG', 'CH', 'CH', 'BG', 'BG', 'BG', 'CH'],\n",
    "        \"age\": [23, 27, 25, 25, 26, 23, 31, 29]\n",
    "        \n",
    "    }\n",
    ")\n",
    "\n",
    "department = pl.DataFrame(\n",
    "    {\n",
    "        \"id\" : [1, 2, 3, 4, 5, 8, 9, 10],\n",
    "        \"dpt_name\": ['PA', 'PB', 'PA', 'PA', 'PB', 'PB', 'PC', 'PC'],\n",
    "        \"dpt_salary\": [4500, 7000, 4500, 5000, 9000, 8000, 1000, 1500]\n",
    "        \n",
    "    }\n",
    ")"
   ]
  },
  {
   "cell_type": "code",
   "execution_count": 4,
   "metadata": {},
   "outputs": [
    {
     "data": {
      "text/html": [
       "<div><style>\n",
       ".dataframe > thead > tr,\n",
       ".dataframe > tbody > tr {\n",
       "  text-align: right;\n",
       "  white-space: pre-wrap;\n",
       "}\n",
       "</style>\n",
       "<small>shape: (8, 3)</small><table border=\"1\" class=\"dataframe\"><thead><tr><th>id</th><th>dpt_name</th><th>dpt_salary</th></tr><tr><td>i64</td><td>str</td><td>i64</td></tr></thead><tbody><tr><td>1</td><td>&quot;PA&quot;</td><td>4500</td></tr><tr><td>2</td><td>&quot;PB&quot;</td><td>7000</td></tr><tr><td>3</td><td>&quot;PA&quot;</td><td>4500</td></tr><tr><td>4</td><td>&quot;PA&quot;</td><td>5000</td></tr><tr><td>5</td><td>&quot;PB&quot;</td><td>9000</td></tr><tr><td>8</td><td>&quot;PB&quot;</td><td>8000</td></tr><tr><td>9</td><td>&quot;PC&quot;</td><td>1000</td></tr><tr><td>10</td><td>&quot;PC&quot;</td><td>1500</td></tr></tbody></table></div>"
      ],
      "text/plain": [
       "shape: (8, 3)\n",
       "┌─────┬──────────┬────────────┐\n",
       "│ id  ┆ dpt_name ┆ dpt_salary │\n",
       "│ --- ┆ ---      ┆ ---        │\n",
       "│ i64 ┆ str      ┆ i64        │\n",
       "╞═════╪══════════╪════════════╡\n",
       "│ 1   ┆ PA       ┆ 4500       │\n",
       "│ 2   ┆ PB       ┆ 7000       │\n",
       "│ 3   ┆ PA       ┆ 4500       │\n",
       "│ 4   ┆ PA       ┆ 5000       │\n",
       "│ 5   ┆ PB       ┆ 9000       │\n",
       "│ 8   ┆ PB       ┆ 8000       │\n",
       "│ 9   ┆ PC       ┆ 1000       │\n",
       "│ 10  ┆ PC       ┆ 1500       │\n",
       "└─────┴──────────┴────────────┘"
      ]
     },
     "execution_count": 4,
     "metadata": {},
     "output_type": "execute_result"
    }
   ],
   "source": [
    "department"
   ]
  },
  {
   "cell_type": "code",
   "execution_count": 51,
   "metadata": {},
   "outputs": [
    {
     "data": {
      "text/html": [
       "<div><style>\n",
       ".dataframe > thead > tr,\n",
       ".dataframe > tbody > tr {\n",
       "  text-align: right;\n",
       "  white-space: pre-wrap;\n",
       "}\n",
       "</style>\n",
       "<small>shape: (6, 6)</small><table border=\"1\" class=\"dataframe\"><thead><tr><th>id</th><th>name</th><th>city</th><th>age</th><th>dpt_name</th><th>dpt_salary</th></tr><tr><td>i64</td><td>str</td><td>str</td><td>i64</td><td>str</td><td>i64</td></tr></thead><tbody><tr><td>1</td><td>&quot;A&quot;</td><td>&quot;CH&quot;</td><td>23</td><td>&quot;PA&quot;</td><td>4500</td></tr><tr><td>2</td><td>&quot;B&quot;</td><td>&quot;BG&quot;</td><td>27</td><td>&quot;PB&quot;</td><td>7000</td></tr><tr><td>3</td><td>&quot;C&quot;</td><td>&quot;CH&quot;</td><td>25</td><td>&quot;PA&quot;</td><td>4500</td></tr><tr><td>4</td><td>&quot;D&quot;</td><td>&quot;CH&quot;</td><td>25</td><td>&quot;PA&quot;</td><td>5000</td></tr><tr><td>5</td><td>&quot;E&quot;</td><td>&quot;BG&quot;</td><td>26</td><td>&quot;PB&quot;</td><td>9000</td></tr><tr><td>8</td><td>&quot;H&quot;</td><td>&quot;CH&quot;</td><td>29</td><td>&quot;PB&quot;</td><td>8000</td></tr></tbody></table></div>"
      ],
      "text/plain": [
       "shape: (6, 6)\n",
       "┌─────┬──────┬──────┬─────┬──────────┬────────────┐\n",
       "│ id  ┆ name ┆ city ┆ age ┆ dpt_name ┆ dpt_salary │\n",
       "│ --- ┆ ---  ┆ ---  ┆ --- ┆ ---      ┆ ---        │\n",
       "│ i64 ┆ str  ┆ str  ┆ i64 ┆ str      ┆ i64        │\n",
       "╞═════╪══════╪══════╪═════╪══════════╪════════════╡\n",
       "│ 1   ┆ A    ┆ CH   ┆ 23  ┆ PA       ┆ 4500       │\n",
       "│ 2   ┆ B    ┆ BG   ┆ 27  ┆ PB       ┆ 7000       │\n",
       "│ 3   ┆ C    ┆ CH   ┆ 25  ┆ PA       ┆ 4500       │\n",
       "│ 4   ┆ D    ┆ CH   ┆ 25  ┆ PA       ┆ 5000       │\n",
       "│ 5   ┆ E    ┆ BG   ┆ 26  ┆ PB       ┆ 9000       │\n",
       "│ 8   ┆ H    ┆ CH   ┆ 29  ┆ PB       ┆ 8000       │\n",
       "└─────┴──────┴──────┴─────┴──────────┴────────────┘"
      ]
     },
     "execution_count": 51,
     "metadata": {},
     "output_type": "execute_result"
    }
   ],
   "source": [
    "\"\"\"Simple Join on Two Dataframes\"\"\"\n",
    "\n",
    "person.join(department, on='id')"
   ]
  },
  {
   "cell_type": "code",
   "execution_count": 52,
   "metadata": {},
   "outputs": [
    {
     "data": {
      "text/html": [
       "<div><style>\n",
       ".dataframe > thead > tr,\n",
       ".dataframe > tbody > tr {\n",
       "  text-align: right;\n",
       "  white-space: pre-wrap;\n",
       "}\n",
       "</style>\n",
       "<small>shape: (6, 6)</small><table border=\"1\" class=\"dataframe\"><thead><tr><th>id</th><th>name</th><th>city</th><th>age</th><th>dpt_name</th><th>dpt_salary</th></tr><tr><td>i64</td><td>str</td><td>str</td><td>i64</td><td>str</td><td>i64</td></tr></thead><tbody><tr><td>1</td><td>&quot;A&quot;</td><td>&quot;CH&quot;</td><td>23</td><td>&quot;PA&quot;</td><td>4500</td></tr><tr><td>2</td><td>&quot;B&quot;</td><td>&quot;BG&quot;</td><td>27</td><td>&quot;PB&quot;</td><td>7000</td></tr><tr><td>3</td><td>&quot;C&quot;</td><td>&quot;CH&quot;</td><td>25</td><td>&quot;PA&quot;</td><td>4500</td></tr><tr><td>4</td><td>&quot;D&quot;</td><td>&quot;CH&quot;</td><td>25</td><td>&quot;PA&quot;</td><td>5000</td></tr><tr><td>5</td><td>&quot;E&quot;</td><td>&quot;BG&quot;</td><td>26</td><td>&quot;PB&quot;</td><td>9000</td></tr><tr><td>8</td><td>&quot;H&quot;</td><td>&quot;CH&quot;</td><td>29</td><td>&quot;PB&quot;</td><td>8000</td></tr></tbody></table></div>"
      ],
      "text/plain": [
       "shape: (6, 6)\n",
       "┌─────┬──────┬──────┬─────┬──────────┬────────────┐\n",
       "│ id  ┆ name ┆ city ┆ age ┆ dpt_name ┆ dpt_salary │\n",
       "│ --- ┆ ---  ┆ ---  ┆ --- ┆ ---      ┆ ---        │\n",
       "│ i64 ┆ str  ┆ str  ┆ i64 ┆ str      ┆ i64        │\n",
       "╞═════╪══════╪══════╪═════╪══════════╪════════════╡\n",
       "│ 1   ┆ A    ┆ CH   ┆ 23  ┆ PA       ┆ 4500       │\n",
       "│ 2   ┆ B    ┆ BG   ┆ 27  ┆ PB       ┆ 7000       │\n",
       "│ 3   ┆ C    ┆ CH   ┆ 25  ┆ PA       ┆ 4500       │\n",
       "│ 4   ┆ D    ┆ CH   ┆ 25  ┆ PA       ┆ 5000       │\n",
       "│ 5   ┆ E    ┆ BG   ┆ 26  ┆ PB       ┆ 9000       │\n",
       "│ 8   ┆ H    ┆ CH   ┆ 29  ┆ PB       ┆ 8000       │\n",
       "└─────┴──────┴──────┴─────┴──────────┴────────────┘"
      ]
     },
     "execution_count": 52,
     "metadata": {},
     "output_type": "execute_result"
    }
   ],
   "source": [
    "person.join(department, on='id', how='inner')"
   ]
  },
  {
   "cell_type": "code",
   "execution_count": 53,
   "metadata": {},
   "outputs": [
    {
     "data": {
      "text/html": [
       "<div><style>\n",
       ".dataframe > thead > tr,\n",
       ".dataframe > tbody > tr {\n",
       "  text-align: right;\n",
       "  white-space: pre-wrap;\n",
       "}\n",
       "</style>\n",
       "<small>shape: (8, 6)</small><table border=\"1\" class=\"dataframe\"><thead><tr><th>id</th><th>name</th><th>city</th><th>age</th><th>dpt_name</th><th>dpt_salary</th></tr><tr><td>i64</td><td>str</td><td>str</td><td>i64</td><td>str</td><td>i64</td></tr></thead><tbody><tr><td>1</td><td>&quot;A&quot;</td><td>&quot;CH&quot;</td><td>23</td><td>&quot;PA&quot;</td><td>4500</td></tr><tr><td>2</td><td>&quot;B&quot;</td><td>&quot;BG&quot;</td><td>27</td><td>&quot;PB&quot;</td><td>7000</td></tr><tr><td>3</td><td>&quot;C&quot;</td><td>&quot;CH&quot;</td><td>25</td><td>&quot;PA&quot;</td><td>4500</td></tr><tr><td>4</td><td>&quot;D&quot;</td><td>&quot;CH&quot;</td><td>25</td><td>&quot;PA&quot;</td><td>5000</td></tr><tr><td>5</td><td>&quot;E&quot;</td><td>&quot;BG&quot;</td><td>26</td><td>&quot;PB&quot;</td><td>9000</td></tr><tr><td>6</td><td>&quot;F&quot;</td><td>&quot;BG&quot;</td><td>23</td><td>null</td><td>null</td></tr><tr><td>7</td><td>&quot;G&quot;</td><td>&quot;BG&quot;</td><td>31</td><td>null</td><td>null</td></tr><tr><td>8</td><td>&quot;H&quot;</td><td>&quot;CH&quot;</td><td>29</td><td>&quot;PB&quot;</td><td>8000</td></tr></tbody></table></div>"
      ],
      "text/plain": [
       "shape: (8, 6)\n",
       "┌─────┬──────┬──────┬─────┬──────────┬────────────┐\n",
       "│ id  ┆ name ┆ city ┆ age ┆ dpt_name ┆ dpt_salary │\n",
       "│ --- ┆ ---  ┆ ---  ┆ --- ┆ ---      ┆ ---        │\n",
       "│ i64 ┆ str  ┆ str  ┆ i64 ┆ str      ┆ i64        │\n",
       "╞═════╪══════╪══════╪═════╪══════════╪════════════╡\n",
       "│ 1   ┆ A    ┆ CH   ┆ 23  ┆ PA       ┆ 4500       │\n",
       "│ 2   ┆ B    ┆ BG   ┆ 27  ┆ PB       ┆ 7000       │\n",
       "│ 3   ┆ C    ┆ CH   ┆ 25  ┆ PA       ┆ 4500       │\n",
       "│ 4   ┆ D    ┆ CH   ┆ 25  ┆ PA       ┆ 5000       │\n",
       "│ 5   ┆ E    ┆ BG   ┆ 26  ┆ PB       ┆ 9000       │\n",
       "│ 6   ┆ F    ┆ BG   ┆ 23  ┆ null     ┆ null       │\n",
       "│ 7   ┆ G    ┆ BG   ┆ 31  ┆ null     ┆ null       │\n",
       "│ 8   ┆ H    ┆ CH   ┆ 29  ┆ PB       ┆ 8000       │\n",
       "└─────┴──────┴──────┴─────┴──────────┴────────────┘"
      ]
     },
     "execution_count": 53,
     "metadata": {},
     "output_type": "execute_result"
    }
   ],
   "source": [
    "\"\"\"Left Join to return all data\"\"\"\n",
    "\n",
    "person.join(department, on='id', how='left')"
   ]
  },
  {
   "cell_type": "code",
   "execution_count": 54,
   "metadata": {},
   "outputs": [
    {
     "data": {
      "text/html": [
       "<div><style>\n",
       ".dataframe > thead > tr,\n",
       ".dataframe > tbody > tr {\n",
       "  text-align: right;\n",
       "  white-space: pre-wrap;\n",
       "}\n",
       "</style>\n",
       "<small>shape: (8, 6)</small><table border=\"1\" class=\"dataframe\"><thead><tr><th>name</th><th>city</th><th>age</th><th>id</th><th>dpt_name</th><th>dpt_salary</th></tr><tr><td>str</td><td>str</td><td>i64</td><td>i64</td><td>str</td><td>i64</td></tr></thead><tbody><tr><td>&quot;A&quot;</td><td>&quot;CH&quot;</td><td>23</td><td>1</td><td>&quot;PA&quot;</td><td>4500</td></tr><tr><td>&quot;B&quot;</td><td>&quot;BG&quot;</td><td>27</td><td>2</td><td>&quot;PB&quot;</td><td>7000</td></tr><tr><td>&quot;C&quot;</td><td>&quot;CH&quot;</td><td>25</td><td>3</td><td>&quot;PA&quot;</td><td>4500</td></tr><tr><td>&quot;D&quot;</td><td>&quot;CH&quot;</td><td>25</td><td>4</td><td>&quot;PA&quot;</td><td>5000</td></tr><tr><td>&quot;E&quot;</td><td>&quot;BG&quot;</td><td>26</td><td>5</td><td>&quot;PB&quot;</td><td>9000</td></tr><tr><td>&quot;H&quot;</td><td>&quot;CH&quot;</td><td>29</td><td>8</td><td>&quot;PB&quot;</td><td>8000</td></tr><tr><td>null</td><td>null</td><td>null</td><td>9</td><td>&quot;PC&quot;</td><td>1000</td></tr><tr><td>null</td><td>null</td><td>null</td><td>10</td><td>&quot;PC&quot;</td><td>1500</td></tr></tbody></table></div>"
      ],
      "text/plain": [
       "shape: (8, 6)\n",
       "┌──────┬──────┬──────┬─────┬──────────┬────────────┐\n",
       "│ name ┆ city ┆ age  ┆ id  ┆ dpt_name ┆ dpt_salary │\n",
       "│ ---  ┆ ---  ┆ ---  ┆ --- ┆ ---      ┆ ---        │\n",
       "│ str  ┆ str  ┆ i64  ┆ i64 ┆ str      ┆ i64        │\n",
       "╞══════╪══════╪══════╪═════╪══════════╪════════════╡\n",
       "│ A    ┆ CH   ┆ 23   ┆ 1   ┆ PA       ┆ 4500       │\n",
       "│ B    ┆ BG   ┆ 27   ┆ 2   ┆ PB       ┆ 7000       │\n",
       "│ C    ┆ CH   ┆ 25   ┆ 3   ┆ PA       ┆ 4500       │\n",
       "│ D    ┆ CH   ┆ 25   ┆ 4   ┆ PA       ┆ 5000       │\n",
       "│ E    ┆ BG   ┆ 26   ┆ 5   ┆ PB       ┆ 9000       │\n",
       "│ H    ┆ CH   ┆ 29   ┆ 8   ┆ PB       ┆ 8000       │\n",
       "│ null ┆ null ┆ null ┆ 9   ┆ PC       ┆ 1000       │\n",
       "│ null ┆ null ┆ null ┆ 10  ┆ PC       ┆ 1500       │\n",
       "└──────┴──────┴──────┴─────┴──────────┴────────────┘"
      ]
     },
     "execution_count": 54,
     "metadata": {},
     "output_type": "execute_result"
    }
   ],
   "source": [
    "\"\"\"Right Join to return all data\"\"\"\n",
    "\n",
    "person.join(department, on='id', how='right')"
   ]
  },
  {
   "cell_type": "code",
   "execution_count": 55,
   "metadata": {},
   "outputs": [
    {
     "data": {
      "text/html": [
       "<div><style>\n",
       ".dataframe > thead > tr,\n",
       ".dataframe > tbody > tr {\n",
       "  text-align: right;\n",
       "  white-space: pre-wrap;\n",
       "}\n",
       "</style>\n",
       "<small>shape: (10, 7)</small><table border=\"1\" class=\"dataframe\"><thead><tr><th>id</th><th>name</th><th>city</th><th>age</th><th>id_right</th><th>dpt_name</th><th>dpt_salary</th></tr><tr><td>i64</td><td>str</td><td>str</td><td>i64</td><td>i64</td><td>str</td><td>i64</td></tr></thead><tbody><tr><td>1</td><td>&quot;A&quot;</td><td>&quot;CH&quot;</td><td>23</td><td>1</td><td>&quot;PA&quot;</td><td>4500</td></tr><tr><td>2</td><td>&quot;B&quot;</td><td>&quot;BG&quot;</td><td>27</td><td>2</td><td>&quot;PB&quot;</td><td>7000</td></tr><tr><td>3</td><td>&quot;C&quot;</td><td>&quot;CH&quot;</td><td>25</td><td>3</td><td>&quot;PA&quot;</td><td>4500</td></tr><tr><td>4</td><td>&quot;D&quot;</td><td>&quot;CH&quot;</td><td>25</td><td>4</td><td>&quot;PA&quot;</td><td>5000</td></tr><tr><td>5</td><td>&quot;E&quot;</td><td>&quot;BG&quot;</td><td>26</td><td>5</td><td>&quot;PB&quot;</td><td>9000</td></tr><tr><td>8</td><td>&quot;H&quot;</td><td>&quot;CH&quot;</td><td>29</td><td>8</td><td>&quot;PB&quot;</td><td>8000</td></tr><tr><td>null</td><td>null</td><td>null</td><td>null</td><td>9</td><td>&quot;PC&quot;</td><td>1000</td></tr><tr><td>null</td><td>null</td><td>null</td><td>null</td><td>10</td><td>&quot;PC&quot;</td><td>1500</td></tr><tr><td>6</td><td>&quot;F&quot;</td><td>&quot;BG&quot;</td><td>23</td><td>null</td><td>null</td><td>null</td></tr><tr><td>7</td><td>&quot;G&quot;</td><td>&quot;BG&quot;</td><td>31</td><td>null</td><td>null</td><td>null</td></tr></tbody></table></div>"
      ],
      "text/plain": [
       "shape: (10, 7)\n",
       "┌──────┬──────┬──────┬──────┬──────────┬──────────┬────────────┐\n",
       "│ id   ┆ name ┆ city ┆ age  ┆ id_right ┆ dpt_name ┆ dpt_salary │\n",
       "│ ---  ┆ ---  ┆ ---  ┆ ---  ┆ ---      ┆ ---      ┆ ---        │\n",
       "│ i64  ┆ str  ┆ str  ┆ i64  ┆ i64      ┆ str      ┆ i64        │\n",
       "╞══════╪══════╪══════╪══════╪══════════╪══════════╪════════════╡\n",
       "│ 1    ┆ A    ┆ CH   ┆ 23   ┆ 1        ┆ PA       ┆ 4500       │\n",
       "│ 2    ┆ B    ┆ BG   ┆ 27   ┆ 2        ┆ PB       ┆ 7000       │\n",
       "│ 3    ┆ C    ┆ CH   ┆ 25   ┆ 3        ┆ PA       ┆ 4500       │\n",
       "│ 4    ┆ D    ┆ CH   ┆ 25   ┆ 4        ┆ PA       ┆ 5000       │\n",
       "│ 5    ┆ E    ┆ BG   ┆ 26   ┆ 5        ┆ PB       ┆ 9000       │\n",
       "│ 8    ┆ H    ┆ CH   ┆ 29   ┆ 8        ┆ PB       ┆ 8000       │\n",
       "│ null ┆ null ┆ null ┆ null ┆ 9        ┆ PC       ┆ 1000       │\n",
       "│ null ┆ null ┆ null ┆ null ┆ 10       ┆ PC       ┆ 1500       │\n",
       "│ 6    ┆ F    ┆ BG   ┆ 23   ┆ null     ┆ null     ┆ null       │\n",
       "│ 7    ┆ G    ┆ BG   ┆ 31   ┆ null     ┆ null     ┆ null       │\n",
       "└──────┴──────┴──────┴──────┴──────────┴──────────┴────────────┘"
      ]
     },
     "execution_count": 55,
     "metadata": {},
     "output_type": "execute_result"
    }
   ],
   "source": [
    "\"\"\"Get all rows\"\"\"\n",
    "\n",
    "person.join(department, on='id', how='full')"
   ]
  },
  {
   "cell_type": "markdown",
   "metadata": {},
   "source": [
    "### Cross Join"
   ]
  },
  {
   "cell_type": "code",
   "execution_count": 56,
   "metadata": {},
   "outputs": [],
   "source": [
    "df_colors = pl.DataFrame(\n",
    "    {\n",
    "        \"color\": [\"red\", \"blue\", \"green\"],\n",
    "    }\n",
    ")\n",
    "df_sizes = pl.DataFrame(\n",
    "    {\n",
    "        \"size\": [\"S\", \"M\", \"L\"],\n",
    "    }\n",
    ")"
   ]
  },
  {
   "cell_type": "code",
   "execution_count": 57,
   "metadata": {},
   "outputs": [
    {
     "data": {
      "text/html": [
       "<div><style>\n",
       ".dataframe > thead > tr,\n",
       ".dataframe > tbody > tr {\n",
       "  text-align: right;\n",
       "  white-space: pre-wrap;\n",
       "}\n",
       "</style>\n",
       "<small>shape: (9, 2)</small><table border=\"1\" class=\"dataframe\"><thead><tr><th>color</th><th>size</th></tr><tr><td>str</td><td>str</td></tr></thead><tbody><tr><td>&quot;red&quot;</td><td>&quot;S&quot;</td></tr><tr><td>&quot;red&quot;</td><td>&quot;M&quot;</td></tr><tr><td>&quot;red&quot;</td><td>&quot;L&quot;</td></tr><tr><td>&quot;blue&quot;</td><td>&quot;S&quot;</td></tr><tr><td>&quot;blue&quot;</td><td>&quot;M&quot;</td></tr><tr><td>&quot;blue&quot;</td><td>&quot;L&quot;</td></tr><tr><td>&quot;green&quot;</td><td>&quot;S&quot;</td></tr><tr><td>&quot;green&quot;</td><td>&quot;M&quot;</td></tr><tr><td>&quot;green&quot;</td><td>&quot;L&quot;</td></tr></tbody></table></div>"
      ],
      "text/plain": [
       "shape: (9, 2)\n",
       "┌───────┬──────┐\n",
       "│ color ┆ size │\n",
       "│ ---   ┆ ---  │\n",
       "│ str   ┆ str  │\n",
       "╞═══════╪══════╡\n",
       "│ red   ┆ S    │\n",
       "│ red   ┆ M    │\n",
       "│ red   ┆ L    │\n",
       "│ blue  ┆ S    │\n",
       "│ blue  ┆ M    │\n",
       "│ blue  ┆ L    │\n",
       "│ green ┆ S    │\n",
       "│ green ┆ M    │\n",
       "│ green ┆ L    │\n",
       "└───────┴──────┘"
      ]
     },
     "execution_count": 57,
     "metadata": {},
     "output_type": "execute_result"
    }
   ],
   "source": [
    "df_colors.join(df_sizes, how='cross')"
   ]
  },
  {
   "cell_type": "markdown",
   "metadata": {},
   "source": [
    "### Semi Join"
   ]
  },
  {
   "cell_type": "code",
   "execution_count": 5,
   "metadata": {},
   "outputs": [],
   "source": [
    "df_cars = pl.DataFrame(\n",
    "    {\n",
    "        \"id\": [\"a\", \"b\", \"c\", \"c\"],\n",
    "        \"make\": [\"ford\", \"toyota\", \"bmw\", \"tesla\"],\n",
    "    }\n",
    ")\n",
    "\n",
    "df_repairs = pl.DataFrame(\n",
    "    {\n",
    "        \"id\": [\"c\", \"c\"],\n",
    "        \"cost\": [100, 200],\n",
    "    }\n",
    ")"
   ]
  },
  {
   "cell_type": "code",
   "execution_count": 6,
   "metadata": {},
   "outputs": [
    {
     "data": {
      "text/html": [
       "<div><style>\n",
       ".dataframe > thead > tr,\n",
       ".dataframe > tbody > tr {\n",
       "  text-align: right;\n",
       "  white-space: pre-wrap;\n",
       "}\n",
       "</style>\n",
       "<small>shape: (2, 2)</small><table border=\"1\" class=\"dataframe\"><thead><tr><th>id</th><th>make</th></tr><tr><td>str</td><td>str</td></tr></thead><tbody><tr><td>&quot;c&quot;</td><td>&quot;bmw&quot;</td></tr><tr><td>&quot;c&quot;</td><td>&quot;tesla&quot;</td></tr></tbody></table></div>"
      ],
      "text/plain": [
       "shape: (2, 2)\n",
       "┌─────┬───────┐\n",
       "│ id  ┆ make  │\n",
       "│ --- ┆ ---   │\n",
       "│ str ┆ str   │\n",
       "╞═════╪═══════╡\n",
       "│ c   ┆ bmw   │\n",
       "│ c   ┆ tesla │\n",
       "└─────┴───────┘"
      ]
     },
     "execution_count": 6,
     "metadata": {},
     "output_type": "execute_result"
    }
   ],
   "source": [
    "\"\"\"Which car got repaired?\"\"\"\n",
    "\n",
    "df_cars.join(df_repairs, on='id' ,how='semi')"
   ]
  },
  {
   "cell_type": "markdown",
   "metadata": {},
   "source": [
    "### Anti Join"
   ]
  },
  {
   "cell_type": "code",
   "execution_count": 7,
   "metadata": {},
   "outputs": [
    {
     "data": {
      "text/html": [
       "<div><style>\n",
       ".dataframe > thead > tr,\n",
       ".dataframe > tbody > tr {\n",
       "  text-align: right;\n",
       "  white-space: pre-wrap;\n",
       "}\n",
       "</style>\n",
       "<small>shape: (2, 2)</small><table border=\"1\" class=\"dataframe\"><thead><tr><th>id</th><th>make</th></tr><tr><td>str</td><td>str</td></tr></thead><tbody><tr><td>&quot;a&quot;</td><td>&quot;ford&quot;</td></tr><tr><td>&quot;b&quot;</td><td>&quot;toyota&quot;</td></tr></tbody></table></div>"
      ],
      "text/plain": [
       "shape: (2, 2)\n",
       "┌─────┬────────┐\n",
       "│ id  ┆ make   │\n",
       "│ --- ┆ ---    │\n",
       "│ str ┆ str    │\n",
       "╞═════╪════════╡\n",
       "│ a   ┆ ford   │\n",
       "│ b   ┆ toyota │\n",
       "└─────┴────────┘"
      ]
     },
     "execution_count": 7,
     "metadata": {},
     "output_type": "execute_result"
    }
   ],
   "source": [
    "\"\"\"Which cars didn't get repaired?\"\"\"\n",
    "\n",
    "df_cars.join(df_repairs, on='id' ,how='anti')"
   ]
  },
  {
   "cell_type": "code",
   "execution_count": 63,
   "metadata": {},
   "outputs": [
    {
     "data": {
      "text/html": [
       "<div><style>\n",
       ".dataframe > thead > tr,\n",
       ".dataframe > tbody > tr {\n",
       "  text-align: right;\n",
       "  white-space: pre-wrap;\n",
       "}\n",
       "</style>\n",
       "<small>shape: (1, 6)</small><table border=\"1\" class=\"dataframe\"><thead><tr><th>id</th><th>name</th><th>city</th><th>age</th><th>dpt_name</th><th>dpt_salary</th></tr><tr><td>i64</td><td>str</td><td>str</td><td>i64</td><td>str</td><td>i64</td></tr></thead><tbody><tr><td>5</td><td>&quot;E&quot;</td><td>&quot;BG&quot;</td><td>26</td><td>&quot;PB&quot;</td><td>9000</td></tr></tbody></table></div>"
      ],
      "text/plain": [
       "shape: (1, 6)\n",
       "┌─────┬──────┬──────┬─────┬──────────┬────────────┐\n",
       "│ id  ┆ name ┆ city ┆ age ┆ dpt_name ┆ dpt_salary │\n",
       "│ --- ┆ ---  ┆ ---  ┆ --- ┆ ---      ┆ ---        │\n",
       "│ i64 ┆ str  ┆ str  ┆ i64 ┆ str      ┆ i64        │\n",
       "╞═════╪══════╪══════╪═════╪══════════╪════════════╡\n",
       "│ 5   ┆ E    ┆ BG   ┆ 26  ┆ PB       ┆ 9000       │\n",
       "└─────┴──────┴──────┴─────┴──────────┴────────────┘"
      ]
     },
     "execution_count": 63,
     "metadata": {},
     "output_type": "execute_result"
    }
   ],
   "source": [
    "\"\"\"Number of Employee from BG city whose salary is great than 8000\"\"\"\n",
    "\n",
    "person.filter(pl.col('city')=='BG').join(department, on='id', how='left').filter(pl.col('dpt_salary')>8000)"
   ]
  },
  {
   "cell_type": "code",
   "execution_count": 65,
   "metadata": {},
   "outputs": [
    {
     "data": {
      "text/html": [
       "<div><style>\n",
       ".dataframe > thead > tr,\n",
       ".dataframe > tbody > tr {\n",
       "  text-align: right;\n",
       "  white-space: pre-wrap;\n",
       "}\n",
       "</style>\n",
       "<small>shape: (3, 3)</small><table border=\"1\" class=\"dataframe\"><thead><tr><th>name</th><th>dpt_name</th><th>dpt_salary</th></tr><tr><td>str</td><td>str</td><td>i64</td></tr></thead><tbody><tr><td>&quot;E&quot;</td><td>&quot;PB&quot;</td><td>9000</td></tr><tr><td>&quot;H&quot;</td><td>&quot;PB&quot;</td><td>8000</td></tr><tr><td>&quot;B&quot;</td><td>&quot;PB&quot;</td><td>7000</td></tr></tbody></table></div>"
      ],
      "text/plain": [
       "shape: (3, 3)\n",
       "┌──────┬──────────┬────────────┐\n",
       "│ name ┆ dpt_name ┆ dpt_salary │\n",
       "│ ---  ┆ ---      ┆ ---        │\n",
       "│ str  ┆ str      ┆ i64        │\n",
       "╞══════╪══════════╪════════════╡\n",
       "│ E    ┆ PB       ┆ 9000       │\n",
       "│ H    ┆ PB       ┆ 8000       │\n",
       "│ B    ┆ PB       ┆ 7000       │\n",
       "└──────┴──────────┴────────────┘"
      ]
     },
     "execution_count": 65,
     "metadata": {},
     "output_type": "execute_result"
    }
   ],
   "source": [
    "\"\"\"Top 3 individual with highest salary\"\"\"\n",
    "\n",
    "department.bottom_k(reverse=True, k=3, by='dpt_salary').join(person, on='id', how='left')[['name', 'dpt_name', 'dpt_salary']]"
   ]
  },
  {
   "cell_type": "code",
   "execution_count": 69,
   "metadata": {},
   "outputs": [
    {
     "data": {
      "text/html": [
       "<div><style>\n",
       ".dataframe > thead > tr,\n",
       ".dataframe > tbody > tr {\n",
       "  text-align: right;\n",
       "  white-space: pre-wrap;\n",
       "}\n",
       "</style>\n",
       "<small>shape: (2, 2)</small><table border=\"1\" class=\"dataframe\"><thead><tr><th>city</th><th>dpt_salary</th></tr><tr><td>str</td><td>f64</td></tr></thead><tbody><tr><td>&quot;CH&quot;</td><td>5500.0</td></tr><tr><td>&quot;BG&quot;</td><td>8000.0</td></tr></tbody></table></div>"
      ],
      "text/plain": [
       "shape: (2, 2)\n",
       "┌──────┬────────────┐\n",
       "│ city ┆ dpt_salary │\n",
       "│ ---  ┆ ---        │\n",
       "│ str  ┆ f64        │\n",
       "╞══════╪════════════╡\n",
       "│ CH   ┆ 5500.0     │\n",
       "│ BG   ┆ 8000.0     │\n",
       "└──────┴────────────┘"
      ]
     },
     "execution_count": 69,
     "metadata": {},
     "output_type": "execute_result"
    }
   ],
   "source": [
    "\"\"\"Avg. salary based on City: Join, GroupBy, Agg\"\"\"\n",
    "\n",
    "person.join(department, on='id', how='left').group_by('city').agg(pl.mean('dpt_salary'))"
   ]
  },
  {
   "cell_type": "code",
   "execution_count": 70,
   "metadata": {},
   "outputs": [
    {
     "data": {
      "text/html": [
       "<div><style>\n",
       ".dataframe > thead > tr,\n",
       ".dataframe > tbody > tr {\n",
       "  text-align: right;\n",
       "  white-space: pre-wrap;\n",
       "}\n",
       "</style>\n",
       "<small>shape: (3, 2)</small><table border=\"1\" class=\"dataframe\"><thead><tr><th>dpt_name</th><th>dpt_salary</th></tr><tr><td>str</td><td>f64</td></tr></thead><tbody><tr><td>&quot;PA&quot;</td><td>4666.666667</td></tr><tr><td>&quot;PB&quot;</td><td>8000.0</td></tr><tr><td>&quot;PC&quot;</td><td>1250.0</td></tr></tbody></table></div>"
      ],
      "text/plain": [
       "shape: (3, 2)\n",
       "┌──────────┬─────────────┐\n",
       "│ dpt_name ┆ dpt_salary  │\n",
       "│ ---      ┆ ---         │\n",
       "│ str      ┆ f64         │\n",
       "╞══════════╪═════════════╡\n",
       "│ PA       ┆ 4666.666667 │\n",
       "│ PB       ┆ 8000.0      │\n",
       "│ PC       ┆ 1250.0      │\n",
       "└──────────┴─────────────┘"
      ]
     },
     "execution_count": 70,
     "metadata": {},
     "output_type": "execute_result"
    }
   ],
   "source": [
    "\"\"\"Avg. salary based on Department: GroupBy, Agg\"\"\"\n",
    "\n",
    "department.group_by('dpt_name').agg(pl.mean('dpt_salary'))"
   ]
  },
  {
   "cell_type": "code",
   "execution_count": null,
   "metadata": {},
   "outputs": [],
   "source": []
  }
 ],
 "metadata": {
  "kernelspec": {
   "display_name": ".venv",
   "language": "python",
   "name": "python3"
  },
  "language_info": {
   "codemirror_mode": {
    "name": "ipython",
    "version": 3
   },
   "file_extension": ".py",
   "mimetype": "text/x-python",
   "name": "python",
   "nbconvert_exporter": "python",
   "pygments_lexer": "ipython3",
   "version": "3.9.21"
  }
 },
 "nbformat": 4,
 "nbformat_minor": 2
}
