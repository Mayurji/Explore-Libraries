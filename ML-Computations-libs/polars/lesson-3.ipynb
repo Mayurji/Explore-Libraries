{
 "cells": [
  {
   "cell_type": "markdown",
   "metadata": {},
   "source": [
    "### Polars Series - Lesson III - GroupBy and Simple Data Analysis"
   ]
  },
  {
   "cell_type": "code",
   "execution_count": 103,
   "metadata": {},
   "outputs": [],
   "source": [
    "import polars as pl"
   ]
  },
  {
   "cell_type": "code",
   "execution_count": 104,
   "metadata": {},
   "outputs": [
    {
     "data": {
      "text/html": [
       "<div><style>\n",
       ".dataframe > thead > tr,\n",
       ".dataframe > tbody > tr {\n",
       "  text-align: right;\n",
       "  white-space: pre-wrap;\n",
       "}\n",
       "</style>\n",
       "<small>shape: (5, 12)</small><table border=\"1\" class=\"dataframe\"><thead><tr><th>PassengerId</th><th>Survived</th><th>Pclass</th><th>Name</th><th>Sex</th><th>Age</th><th>SibSp</th><th>Parch</th><th>Ticket</th><th>Fare</th><th>Cabin</th><th>Embarked</th></tr><tr><td>i64</td><td>i64</td><td>i64</td><td>str</td><td>str</td><td>f64</td><td>i64</td><td>i64</td><td>str</td><td>f64</td><td>str</td><td>str</td></tr></thead><tbody><tr><td>1</td><td>0</td><td>3</td><td>&quot;Braund, Mr. Owen Harris&quot;</td><td>&quot;male&quot;</td><td>22.0</td><td>1</td><td>0</td><td>&quot;A/5 21171&quot;</td><td>7.25</td><td>null</td><td>&quot;S&quot;</td></tr><tr><td>2</td><td>1</td><td>1</td><td>&quot;Cumings, Mrs. John Bradley (Fl…</td><td>&quot;female&quot;</td><td>38.0</td><td>1</td><td>0</td><td>&quot;PC 17599&quot;</td><td>71.2833</td><td>&quot;C85&quot;</td><td>&quot;C&quot;</td></tr><tr><td>3</td><td>1</td><td>3</td><td>&quot;Heikkinen, Miss. Laina&quot;</td><td>&quot;female&quot;</td><td>26.0</td><td>0</td><td>0</td><td>&quot;STON/O2. 3101282&quot;</td><td>7.925</td><td>null</td><td>&quot;S&quot;</td></tr><tr><td>4</td><td>1</td><td>1</td><td>&quot;Futrelle, Mrs. Jacques Heath (…</td><td>&quot;female&quot;</td><td>35.0</td><td>1</td><td>0</td><td>&quot;113803&quot;</td><td>53.1</td><td>&quot;C123&quot;</td><td>&quot;S&quot;</td></tr><tr><td>5</td><td>0</td><td>3</td><td>&quot;Allen, Mr. William Henry&quot;</td><td>&quot;male&quot;</td><td>35.0</td><td>0</td><td>0</td><td>&quot;373450&quot;</td><td>8.05</td><td>null</td><td>&quot;S&quot;</td></tr></tbody></table></div>"
      ],
      "text/plain": [
       "shape: (5, 12)\n",
       "┌─────────────┬──────────┬────────┬───────────────────┬───┬───────────┬─────────┬───────┬──────────┐\n",
       "│ PassengerId ┆ Survived ┆ Pclass ┆ Name              ┆ … ┆ Ticket    ┆ Fare    ┆ Cabin ┆ Embarked │\n",
       "│ ---         ┆ ---      ┆ ---    ┆ ---               ┆   ┆ ---       ┆ ---     ┆ ---   ┆ ---      │\n",
       "│ i64         ┆ i64      ┆ i64    ┆ str               ┆   ┆ str       ┆ f64     ┆ str   ┆ str      │\n",
       "╞═════════════╪══════════╪════════╪═══════════════════╪═══╪═══════════╪═════════╪═══════╪══════════╡\n",
       "│ 1           ┆ 0        ┆ 3      ┆ Braund, Mr. Owen  ┆ … ┆ A/5 21171 ┆ 7.25    ┆ null  ┆ S        │\n",
       "│             ┆          ┆        ┆ Harris            ┆   ┆           ┆         ┆       ┆          │\n",
       "│ 2           ┆ 1        ┆ 1      ┆ Cumings, Mrs.     ┆ … ┆ PC 17599  ┆ 71.2833 ┆ C85   ┆ C        │\n",
       "│             ┆          ┆        ┆ John Bradley (Fl… ┆   ┆           ┆         ┆       ┆          │\n",
       "│ 3           ┆ 1        ┆ 3      ┆ Heikkinen, Miss.  ┆ … ┆ STON/O2.  ┆ 7.925   ┆ null  ┆ S        │\n",
       "│             ┆          ┆        ┆ Laina             ┆   ┆ 3101282   ┆         ┆       ┆          │\n",
       "│ 4           ┆ 1        ┆ 1      ┆ Futrelle, Mrs.    ┆ … ┆ 113803    ┆ 53.1    ┆ C123  ┆ S        │\n",
       "│             ┆          ┆        ┆ Jacques Heath (…  ┆   ┆           ┆         ┆       ┆          │\n",
       "│ 5           ┆ 0        ┆ 3      ┆ Allen, Mr.        ┆ … ┆ 373450    ┆ 8.05    ┆ null  ┆ S        │\n",
       "│             ┆          ┆        ┆ William Henry     ┆   ┆           ┆         ┆       ┆          │\n",
       "└─────────────┴──────────┴────────┴───────────────────┴───┴───────────┴─────────┴───────┴──────────┘"
      ]
     },
     "execution_count": 104,
     "metadata": {},
     "output_type": "execute_result"
    }
   ],
   "source": [
    "data = pl.read_csv('./titanic.csv')\n",
    "data.head()"
   ]
  },
  {
   "cell_type": "code",
   "execution_count": 105,
   "metadata": {},
   "outputs": [
    {
     "data": {
      "text/html": [
       "<div><style>\n",
       ".dataframe > thead > tr,\n",
       ".dataframe > tbody > tr {\n",
       "  text-align: right;\n",
       "  white-space: pre-wrap;\n",
       "}\n",
       "</style>\n",
       "<small>shape: (2, 2)</small><table border=\"1\" class=\"dataframe\"><thead><tr><th>Sex</th><th>len</th></tr><tr><td>str</td><td>u32</td></tr></thead><tbody><tr><td>&quot;male&quot;</td><td>577</td></tr><tr><td>&quot;female&quot;</td><td>314</td></tr></tbody></table></div>"
      ],
      "text/plain": [
       "shape: (2, 2)\n",
       "┌────────┬─────┐\n",
       "│ Sex    ┆ len │\n",
       "│ ---    ┆ --- │\n",
       "│ str    ┆ u32 │\n",
       "╞════════╪═════╡\n",
       "│ male   ┆ 577 │\n",
       "│ female ┆ 314 │\n",
       "└────────┴─────┘"
      ]
     },
     "execution_count": 105,
     "metadata": {},
     "output_type": "execute_result"
    }
   ],
   "source": [
    "\"\"\"Simple GroupBy operation: How many men and women?\"\"\"\n",
    "\n",
    "data.group_by('Sex').len()"
   ]
  },
  {
   "cell_type": "code",
   "execution_count": 106,
   "metadata": {},
   "outputs": [
    {
     "data": {
      "text/html": [
       "<div><style>\n",
       ".dataframe > thead > tr,\n",
       ".dataframe > tbody > tr {\n",
       "  text-align: right;\n",
       "  white-space: pre-wrap;\n",
       "}\n",
       "</style>\n",
       "<small>shape: (2, 3)</small><table border=\"1\" class=\"dataframe\"><thead><tr><th>Sex</th><th>len</th><th>Percent</th></tr><tr><td>str</td><td>u32</td><td>f64</td></tr></thead><tbody><tr><td>&quot;female&quot;</td><td>314</td><td>0.352413</td></tr><tr><td>&quot;male&quot;</td><td>577</td><td>0.647587</td></tr></tbody></table></div>"
      ],
      "text/plain": [
       "shape: (2, 3)\n",
       "┌────────┬─────┬──────────┐\n",
       "│ Sex    ┆ len ┆ Percent  │\n",
       "│ ---    ┆ --- ┆ ---      │\n",
       "│ str    ┆ u32 ┆ f64      │\n",
       "╞════════╪═════╪══════════╡\n",
       "│ female ┆ 314 ┆ 0.352413 │\n",
       "│ male   ┆ 577 ┆ 0.647587 │\n",
       "└────────┴─────┴──────────┘"
      ]
     },
     "execution_count": 106,
     "metadata": {},
     "output_type": "execute_result"
    }
   ],
   "source": [
    "\"\"\"Creating percentage for the above result.\"\"\"\n",
    "\n",
    "data.group_by('Sex').len().with_columns((pl.col('len')/pl.sum('len')).alias('Percent'))"
   ]
  },
  {
   "cell_type": "code",
   "execution_count": 108,
   "metadata": {},
   "outputs": [
    {
     "data": {
      "text/html": [
       "<div><style>\n",
       ".dataframe > thead > tr,\n",
       ".dataframe > tbody > tr {\n",
       "  text-align: right;\n",
       "  white-space: pre-wrap;\n",
       "}\n",
       "</style>\n",
       "<small>shape: (4, 4)</small><table border=\"1\" class=\"dataframe\"><thead><tr><th>Sex</th><th>Survived</th><th>len</th><th>Percent</th></tr><tr><td>str</td><td>i64</td><td>u32</td><td>f64</td></tr></thead><tbody><tr><td>&quot;female&quot;</td><td>0</td><td>81</td><td>0.090909</td></tr><tr><td>&quot;male&quot;</td><td>0</td><td>468</td><td>0.525253</td></tr><tr><td>&quot;male&quot;</td><td>1</td><td>109</td><td>0.122334</td></tr><tr><td>&quot;female&quot;</td><td>1</td><td>233</td><td>0.261504</td></tr></tbody></table></div>"
      ],
      "text/plain": [
       "shape: (4, 4)\n",
       "┌────────┬──────────┬─────┬──────────┐\n",
       "│ Sex    ┆ Survived ┆ len ┆ Percent  │\n",
       "│ ---    ┆ ---      ┆ --- ┆ ---      │\n",
       "│ str    ┆ i64      ┆ u32 ┆ f64      │\n",
       "╞════════╪══════════╪═════╪══════════╡\n",
       "│ female ┆ 0        ┆ 81  ┆ 0.090909 │\n",
       "│ male   ┆ 0        ┆ 468 ┆ 0.525253 │\n",
       "│ male   ┆ 1        ┆ 109 ┆ 0.122334 │\n",
       "│ female ┆ 1        ┆ 233 ┆ 0.261504 │\n",
       "└────────┴──────────┴─────┴──────────┘"
      ]
     },
     "execution_count": 108,
     "metadata": {},
     "output_type": "execute_result"
    }
   ],
   "source": [
    "\"\"\"GroupBy operation with multiple columns: Gender and Survival in percentage terms\"\"\"\n",
    "\n",
    "data.group_by(['Sex', 'Survived']).len().with_columns((pl.col('len')/pl.sum('len')).alias('Percent'))"
   ]
  },
  {
   "cell_type": "code",
   "execution_count": 109,
   "metadata": {},
   "outputs": [
    {
     "data": {
      "text/html": [
       "<div><style>\n",
       ".dataframe > thead > tr,\n",
       ".dataframe > tbody > tr {\n",
       "  text-align: right;\n",
       "  white-space: pre-wrap;\n",
       "}\n",
       "</style>\n",
       "<small>shape: (2, 2)</small><table border=\"1\" class=\"dataframe\"><thead><tr><th>Sex</th><th>Fare</th></tr><tr><td>str</td><td>f64</td></tr></thead><tbody><tr><td>&quot;female&quot;</td><td>44.479818</td></tr><tr><td>&quot;male&quot;</td><td>25.523893</td></tr></tbody></table></div>"
      ],
      "text/plain": [
       "shape: (2, 2)\n",
       "┌────────┬───────────┐\n",
       "│ Sex    ┆ Fare      │\n",
       "│ ---    ┆ ---       │\n",
       "│ str    ┆ f64       │\n",
       "╞════════╪═══════════╡\n",
       "│ female ┆ 44.479818 │\n",
       "│ male   ┆ 25.523893 │\n",
       "└────────┴───────────┘"
      ]
     },
     "execution_count": 109,
     "metadata": {},
     "output_type": "execute_result"
    }
   ],
   "source": [
    "\"\"\"Simple GroupBy with aggregations: Gender and mean Fare\"\"\"\n",
    "\n",
    "data.group_by('Sex').agg(pl.mean('Fare'))"
   ]
  },
  {
   "cell_type": "code",
   "execution_count": 111,
   "metadata": {},
   "outputs": [
    {
     "data": {
      "text/html": [
       "<div><style>\n",
       ".dataframe > thead > tr,\n",
       ".dataframe > tbody > tr {\n",
       "  text-align: right;\n",
       "  white-space: pre-wrap;\n",
       "}\n",
       "</style>\n",
       "<small>shape: (6, 3)</small><table border=\"1\" class=\"dataframe\"><thead><tr><th>Pclass</th><th>Sex</th><th>Survived</th></tr><tr><td>i64</td><td>str</td><td>list[struct[2]]</td></tr></thead><tbody><tr><td>3</td><td>&quot;female&quot;</td><td>[{0,72}, {1,72}]</td></tr><tr><td>1</td><td>&quot;female&quot;</td><td>[{1,91}, {0,3}]</td></tr><tr><td>2</td><td>&quot;female&quot;</td><td>[{0,6}, {1,70}]</td></tr><tr><td>3</td><td>&quot;male&quot;</td><td>[{1,47}, {0,300}]</td></tr><tr><td>1</td><td>&quot;male&quot;</td><td>[{1,45}, {0,77}]</td></tr><tr><td>2</td><td>&quot;male&quot;</td><td>[{1,17}, {0,91}]</td></tr></tbody></table></div>"
      ],
      "text/plain": [
       "shape: (6, 3)\n",
       "┌────────┬────────┬───────────────────┐\n",
       "│ Pclass ┆ Sex    ┆ Survived          │\n",
       "│ ---    ┆ ---    ┆ ---               │\n",
       "│ i64    ┆ str    ┆ list[struct[2]]   │\n",
       "╞════════╪════════╪═══════════════════╡\n",
       "│ 3      ┆ female ┆ [{0,72}, {1,72}]  │\n",
       "│ 1      ┆ female ┆ [{1,91}, {0,3}]   │\n",
       "│ 2      ┆ female ┆ [{0,6}, {1,70}]   │\n",
       "│ 3      ┆ male   ┆ [{1,47}, {0,300}] │\n",
       "│ 1      ┆ male   ┆ [{1,45}, {0,77}]  │\n",
       "│ 2      ┆ male   ┆ [{1,17}, {0,91}]  │\n",
       "└────────┴────────┴───────────────────┘"
      ]
     },
     "execution_count": 111,
     "metadata": {},
     "output_type": "execute_result"
    }
   ],
   "source": [
    "\"\"\"Complex GroupBy with Aggregation - I: Which Pclass with Sex has survived?\"\"\"\n",
    "\n",
    "data.group_by(['Pclass', 'Sex']).agg(pl.col('Survived').value_counts())"
   ]
  },
  {
   "cell_type": "code",
   "execution_count": 115,
   "metadata": {},
   "outputs": [
    {
     "data": {
      "text/html": [
       "<div><style>\n",
       ".dataframe > thead > tr,\n",
       ".dataframe > tbody > tr {\n",
       "  text-align: right;\n",
       "  white-space: pre-wrap;\n",
       "}\n",
       "</style>\n",
       "<small>shape: (2, 3)</small><table border=\"1\" class=\"dataframe\"><thead><tr><th>Survived</th><th>Sex</th><th>Percent</th></tr><tr><td>i64</td><td>u32</td><td>f64</td></tr></thead><tbody><tr><td>0</td><td>468</td><td>0.811092</td></tr><tr><td>1</td><td>109</td><td>0.188908</td></tr></tbody></table></div>"
      ],
      "text/plain": [
       "shape: (2, 3)\n",
       "┌──────────┬─────┬──────────┐\n",
       "│ Survived ┆ Sex ┆ Percent  │\n",
       "│ ---      ┆ --- ┆ ---      │\n",
       "│ i64      ┆ u32 ┆ f64      │\n",
       "╞══════════╪═════╪══════════╡\n",
       "│ 0        ┆ 468 ┆ 0.811092 │\n",
       "│ 1        ┆ 109 ┆ 0.188908 │\n",
       "└──────────┴─────┴──────────┘"
      ]
     },
     "execution_count": 115,
     "metadata": {},
     "output_type": "execute_result"
    }
   ],
   "source": [
    "\"\"\"Complex Groupby with aggregation - II: Percentage of male survived?\"\"\"\n",
    "\n",
    "data.group_by('Survived').agg(pl.arg_where(pl.col('Sex')=='male').len()).with_columns((pl.col('Sex')/pl.sum('Sex')).alias('Percent'))"
   ]
  },
  {
   "cell_type": "code",
   "execution_count": 116,
   "metadata": {},
   "outputs": [
    {
     "data": {
      "text/html": [
       "<div><style>\n",
       ".dataframe > thead > tr,\n",
       ".dataframe > tbody > tr {\n",
       "  text-align: right;\n",
       "  white-space: pre-wrap;\n",
       "}\n",
       "</style>\n",
       "<small>shape: (2, 3)</small><table border=\"1\" class=\"dataframe\"><thead><tr><th>Survived</th><th>Sex</th><th>Percent</th></tr><tr><td>i64</td><td>u32</td><td>f64</td></tr></thead><tbody><tr><td>0</td><td>81</td><td>0.257962</td></tr><tr><td>1</td><td>233</td><td>0.742038</td></tr></tbody></table></div>"
      ],
      "text/plain": [
       "shape: (2, 3)\n",
       "┌──────────┬─────┬──────────┐\n",
       "│ Survived ┆ Sex ┆ Percent  │\n",
       "│ ---      ┆ --- ┆ ---      │\n",
       "│ i64      ┆ u32 ┆ f64      │\n",
       "╞══════════╪═════╪══════════╡\n",
       "│ 0        ┆ 81  ┆ 0.257962 │\n",
       "│ 1        ┆ 233 ┆ 0.742038 │\n",
       "└──────────┴─────┴──────────┘"
      ]
     },
     "execution_count": 116,
     "metadata": {},
     "output_type": "execute_result"
    }
   ],
   "source": [
    "\"\"\"Percentage of female survived?\"\"\"\n",
    "\n",
    "data.group_by('Survived').agg(pl.arg_where(pl.col('Sex')=='female').len()).with_columns((pl.col('Sex')/pl.sum('Sex')).alias('Percent'))"
   ]
  },
  {
   "cell_type": "markdown",
   "metadata": {},
   "source": [
    "**Simple Data Analysis**"
   ]
  },
  {
   "cell_type": "code",
   "execution_count": 117,
   "metadata": {},
   "outputs": [
    {
     "data": {
      "text/html": [
       "<div><style>\n",
       ".dataframe > thead > tr,\n",
       ".dataframe > tbody > tr {\n",
       "  text-align: right;\n",
       "  white-space: pre-wrap;\n",
       "}\n",
       "</style>\n",
       "<small>shape: (2, 2)</small><table border=\"1\" class=\"dataframe\"><thead><tr><th>Survived</th><th>Fare</th></tr><tr><td>i64</td><td>f64</td></tr></thead><tbody><tr><td>0</td><td>22.117887</td></tr><tr><td>1</td><td>48.395408</td></tr></tbody></table></div>"
      ],
      "text/plain": [
       "shape: (2, 2)\n",
       "┌──────────┬───────────┐\n",
       "│ Survived ┆ Fare      │\n",
       "│ ---      ┆ ---       │\n",
       "│ i64      ┆ f64       │\n",
       "╞══════════╪═══════════╡\n",
       "│ 0        ┆ 22.117887 │\n",
       "│ 1        ┆ 48.395408 │\n",
       "└──────────┴───────────┘"
      ]
     },
     "execution_count": 117,
     "metadata": {},
     "output_type": "execute_result"
    }
   ],
   "source": [
    "\"\"\"How money matter for survival?\"\"\"\n",
    "\n",
    "data.group_by('Survived').agg(pl.mean('Fare'))"
   ]
  },
  {
   "cell_type": "code",
   "execution_count": 118,
   "metadata": {},
   "outputs": [
    {
     "data": {
      "text/html": [
       "<div><style>\n",
       ".dataframe > thead > tr,\n",
       ".dataframe > tbody > tr {\n",
       "  text-align: right;\n",
       "  white-space: pre-wrap;\n",
       "}\n",
       "</style>\n",
       "<small>shape: (2, 2)</small><table border=\"1\" class=\"dataframe\"><thead><tr><th>Survived</th><th>Age</th></tr><tr><td>i64</td><td>f64</td></tr></thead><tbody><tr><td>0</td><td>30.626179</td></tr><tr><td>1</td><td>28.34369</td></tr></tbody></table></div>"
      ],
      "text/plain": [
       "shape: (2, 2)\n",
       "┌──────────┬───────────┐\n",
       "│ Survived ┆ Age       │\n",
       "│ ---      ┆ ---       │\n",
       "│ i64      ┆ f64       │\n",
       "╞══════════╪═══════════╡\n",
       "│ 0        ┆ 30.626179 │\n",
       "│ 1        ┆ 28.34369  │\n",
       "└──────────┴───────────┘"
      ]
     },
     "execution_count": 118,
     "metadata": {},
     "output_type": "execute_result"
    }
   ],
   "source": [
    "\"\"\"Does Age matters for survival?\"\"\"\n",
    "\n",
    "data.group_by('Survived').agg(pl.mean('Age'))"
   ]
  },
  {
   "cell_type": "code",
   "execution_count": 120,
   "metadata": {},
   "outputs": [
    {
     "data": {
      "text/html": [
       "<div><style>\n",
       ".dataframe > thead > tr,\n",
       ".dataframe > tbody > tr {\n",
       "  text-align: right;\n",
       "  white-space: pre-wrap;\n",
       "}\n",
       "</style>\n",
       "<small>shape: (2, 2)</small><table border=\"1\" class=\"dataframe\"><thead><tr><th>Sex</th><th>count</th></tr><tr><td>str</td><td>u32</td></tr></thead><tbody><tr><td>&quot;female&quot;</td><td>233</td></tr><tr><td>&quot;male&quot;</td><td>109</td></tr></tbody></table></div>"
      ],
      "text/plain": [
       "shape: (2, 2)\n",
       "┌────────┬───────┐\n",
       "│ Sex    ┆ count │\n",
       "│ ---    ┆ ---   │\n",
       "│ str    ┆ u32   │\n",
       "╞════════╪═══════╡\n",
       "│ female ┆ 233   │\n",
       "│ male   ┆ 109   │\n",
       "└────────┴───────┘"
      ]
     },
     "execution_count": 120,
     "metadata": {},
     "output_type": "execute_result"
    }
   ],
   "source": [
    "\"\"\"Does Gender matters for survival?\"\"\"\n",
    "\n",
    "data.filter(pl.col('Survived')==1)['Sex'].value_counts()"
   ]
  },
  {
   "cell_type": "code",
   "execution_count": null,
   "metadata": {},
   "outputs": [],
   "source": []
  }
 ],
 "metadata": {
  "kernelspec": {
   "display_name": "Python 3",
   "language": "python",
   "name": "python3"
  },
  "language_info": {
   "codemirror_mode": {
    "name": "ipython",
    "version": 3
   },
   "file_extension": ".py",
   "mimetype": "text/x-python",
   "name": "python",
   "nbconvert_exporter": "python",
   "pygments_lexer": "ipython3",
   "version": "3.9.7"
  }
 },
 "nbformat": 4,
 "nbformat_minor": 2
}
