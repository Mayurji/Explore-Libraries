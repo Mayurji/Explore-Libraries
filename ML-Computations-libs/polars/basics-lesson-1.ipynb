{
 "cells": [
  {
   "cell_type": "markdown",
   "metadata": {},
   "source": [
    "Why Polars over Pandas?\n",
    "\n",
    "Polars was built from the ground up to be blazingly fast and can do common operations around 5–10 times faster than pandas. In addition, the memory requirement for Polars operations is significantly smaller than for pandas: pandas requires around 5 to 10 times as much RAM as the size of the dataset to carry out operations, compared to the 2 to 4 times needed for Polars.\n",
    "\n",
    "- Written in Rust, similar to C, C++ in terms of execution speed.\n",
    "- Pandas built on top of Python package Numpy which uses C, and struggles with how it handles string.\n",
    "- Better concurrency (all cores can be utilized)\n",
    "- Based on apache arrow, interoperability.\n",
    "    - It uses standarized data format that can be used across different popular library pandas, spark, kudu, parquet, etc.\n",
    "    - Avoidin serialize and deserialization."
   ]
  },
  {
   "cell_type": "code",
   "execution_count": 23,
   "metadata": {},
   "outputs": [],
   "source": [
    "#!pip install polars \n",
    "\n",
    "import polars as pl"
   ]
  },
  {
   "cell_type": "code",
   "execution_count": 24,
   "metadata": {},
   "outputs": [
    {
     "data": {
      "text/html": [
       "<div><style>\n",
       ".dataframe > thead > tr,\n",
       ".dataframe > tbody > tr {\n",
       "  text-align: right;\n",
       "  white-space: pre-wrap;\n",
       "}\n",
       "</style>\n",
       "<small>shape: (3, 2)</small><table border=\"1\" class=\"dataframe\"><thead><tr><th>name</th><th>age</th></tr><tr><td>str</td><td>i64</td></tr></thead><tbody><tr><td>&quot;A&quot;</td><td>1</td></tr><tr><td>&quot;B&quot;</td><td>2</td></tr><tr><td>&quot;C&quot;</td><td>3</td></tr></tbody></table></div>"
      ],
      "text/plain": [
       "shape: (3, 2)\n",
       "┌──────┬─────┐\n",
       "│ name ┆ age │\n",
       "│ ---  ┆ --- │\n",
       "│ str  ┆ i64 │\n",
       "╞══════╪═════╡\n",
       "│ A    ┆ 1   │\n",
       "│ B    ┆ 2   │\n",
       "│ C    ┆ 3   │\n",
       "└──────┴─────┘"
      ]
     },
     "execution_count": 24,
     "metadata": {},
     "output_type": "execute_result"
    }
   ],
   "source": [
    "\"\"\"Create Polars Dataframe\"\"\"\n",
    "\n",
    "pl.DataFrame(\n",
    "    {\n",
    "        \"name\" : [\"A\", \"B\",\"C\"],\n",
    "        \"age\": [1, 2, 3]\n",
    "    }\n",
    ")"
   ]
  },
  {
   "cell_type": "code",
   "execution_count": 25,
   "metadata": {},
   "outputs": [
    {
     "data": {
      "text/html": [
       "<div><style>\n",
       ".dataframe > thead > tr,\n",
       ".dataframe > tbody > tr {\n",
       "  text-align: right;\n",
       "  white-space: pre-wrap;\n",
       "}\n",
       "</style>\n",
       "<small>shape: (5, 12)</small><table border=\"1\" class=\"dataframe\"><thead><tr><th>PassengerId</th><th>Survived</th><th>Pclass</th><th>Name</th><th>Sex</th><th>Age</th><th>SibSp</th><th>Parch</th><th>Ticket</th><th>Fare</th><th>Cabin</th><th>Embarked</th></tr><tr><td>i64</td><td>i64</td><td>i64</td><td>str</td><td>str</td><td>f64</td><td>i64</td><td>i64</td><td>str</td><td>f64</td><td>str</td><td>str</td></tr></thead><tbody><tr><td>1</td><td>0</td><td>3</td><td>&quot;Braund, Mr. Owen Harris&quot;</td><td>&quot;male&quot;</td><td>22.0</td><td>1</td><td>0</td><td>&quot;A/5 21171&quot;</td><td>7.25</td><td>null</td><td>&quot;S&quot;</td></tr><tr><td>2</td><td>1</td><td>1</td><td>&quot;Cumings, Mrs. John Bradley (Fl…</td><td>&quot;female&quot;</td><td>38.0</td><td>1</td><td>0</td><td>&quot;PC 17599&quot;</td><td>71.2833</td><td>&quot;C85&quot;</td><td>&quot;C&quot;</td></tr><tr><td>3</td><td>1</td><td>3</td><td>&quot;Heikkinen, Miss. Laina&quot;</td><td>&quot;female&quot;</td><td>26.0</td><td>0</td><td>0</td><td>&quot;STON/O2. 3101282&quot;</td><td>7.925</td><td>null</td><td>&quot;S&quot;</td></tr><tr><td>4</td><td>1</td><td>1</td><td>&quot;Futrelle, Mrs. Jacques Heath (…</td><td>&quot;female&quot;</td><td>35.0</td><td>1</td><td>0</td><td>&quot;113803&quot;</td><td>53.1</td><td>&quot;C123&quot;</td><td>&quot;S&quot;</td></tr><tr><td>5</td><td>0</td><td>3</td><td>&quot;Allen, Mr. William Henry&quot;</td><td>&quot;male&quot;</td><td>35.0</td><td>0</td><td>0</td><td>&quot;373450&quot;</td><td>8.05</td><td>null</td><td>&quot;S&quot;</td></tr></tbody></table></div>"
      ],
      "text/plain": [
       "shape: (5, 12)\n",
       "┌─────────────┬──────────┬────────┬───────────────────┬───┬───────────┬─────────┬───────┬──────────┐\n",
       "│ PassengerId ┆ Survived ┆ Pclass ┆ Name              ┆ … ┆ Ticket    ┆ Fare    ┆ Cabin ┆ Embarked │\n",
       "│ ---         ┆ ---      ┆ ---    ┆ ---               ┆   ┆ ---       ┆ ---     ┆ ---   ┆ ---      │\n",
       "│ i64         ┆ i64      ┆ i64    ┆ str               ┆   ┆ str       ┆ f64     ┆ str   ┆ str      │\n",
       "╞═════════════╪══════════╪════════╪═══════════════════╪═══╪═══════════╪═════════╪═══════╪══════════╡\n",
       "│ 1           ┆ 0        ┆ 3      ┆ Braund, Mr. Owen  ┆ … ┆ A/5 21171 ┆ 7.25    ┆ null  ┆ S        │\n",
       "│             ┆          ┆        ┆ Harris            ┆   ┆           ┆         ┆       ┆          │\n",
       "│ 2           ┆ 1        ┆ 1      ┆ Cumings, Mrs.     ┆ … ┆ PC 17599  ┆ 71.2833 ┆ C85   ┆ C        │\n",
       "│             ┆          ┆        ┆ John Bradley (Fl… ┆   ┆           ┆         ┆       ┆          │\n",
       "│ 3           ┆ 1        ┆ 3      ┆ Heikkinen, Miss.  ┆ … ┆ STON/O2.  ┆ 7.925   ┆ null  ┆ S        │\n",
       "│             ┆          ┆        ┆ Laina             ┆   ┆ 3101282   ┆         ┆       ┆          │\n",
       "│ 4           ┆ 1        ┆ 1      ┆ Futrelle, Mrs.    ┆ … ┆ 113803    ┆ 53.1    ┆ C123  ┆ S        │\n",
       "│             ┆          ┆        ┆ Jacques Heath (…  ┆   ┆           ┆         ┆       ┆          │\n",
       "│ 5           ┆ 0        ┆ 3      ┆ Allen, Mr.        ┆ … ┆ 373450    ┆ 8.05    ┆ null  ┆ S        │\n",
       "│             ┆          ┆        ┆ William Henry     ┆   ┆           ┆         ┆       ┆          │\n",
       "└─────────────┴──────────┴────────┴───────────────────┴───┴───────────┴─────────┴───────┴──────────┘"
      ]
     },
     "execution_count": 25,
     "metadata": {},
     "output_type": "execute_result"
    }
   ],
   "source": [
    "\"\"\"Read a csv using polars.read_csv\"\"\"\n",
    "\n",
    "data = pl.read_csv('./titanic.csv')\n",
    "data.head()"
   ]
  },
  {
   "cell_type": "code",
   "execution_count": 26,
   "metadata": {},
   "outputs": [
    {
     "data": {
      "text/plain": [
       "[Int64,\n",
       " Int64,\n",
       " Int64,\n",
       " String,\n",
       " String,\n",
       " Float64,\n",
       " Int64,\n",
       " Int64,\n",
       " String,\n",
       " Float64,\n",
       " String,\n",
       " String]"
      ]
     },
     "execution_count": 26,
     "metadata": {},
     "output_type": "execute_result"
    }
   ],
   "source": [
    "\"\"\"data type of columns\"\"\"\n",
    "\n",
    "data.dtypes"
   ]
  },
  {
   "cell_type": "code",
   "execution_count": 27,
   "metadata": {},
   "outputs": [
    {
     "data": {
      "text/plain": [
       "Schema([('PassengerId', Int64),\n",
       "        ('Survived', Int64),\n",
       "        ('Pclass', Int64),\n",
       "        ('Name', String),\n",
       "        ('Sex', String),\n",
       "        ('Age', Float64),\n",
       "        ('SibSp', Int64),\n",
       "        ('Parch', Int64),\n",
       "        ('Ticket', String),\n",
       "        ('Fare', Float64),\n",
       "        ('Cabin', String),\n",
       "        ('Embarked', String)])"
      ]
     },
     "execution_count": 27,
     "metadata": {},
     "output_type": "execute_result"
    }
   ],
   "source": [
    "\"\"\"schema or columns of your data\"\"\"\n",
    "\n",
    "data.schema"
   ]
  },
  {
   "cell_type": "code",
   "execution_count": 28,
   "metadata": {},
   "outputs": [
    {
     "data": {
      "text/html": [
       "<div><style>\n",
       ".dataframe > thead > tr,\n",
       ".dataframe > tbody > tr {\n",
       "  text-align: right;\n",
       "  white-space: pre-wrap;\n",
       "}\n",
       "</style>\n",
       "<small>shape: (5, 12)</small><table border=\"1\" class=\"dataframe\"><thead><tr><th>PassengerId</th><th>Survived</th><th>Pclass</th><th>Name</th><th>Sex</th><th>Age</th><th>SibSp</th><th>Parch</th><th>Ticket</th><th>Fare</th><th>Cabin</th><th>Embarked</th></tr><tr><td>str</td><td>str</td><td>str</td><td>str</td><td>str</td><td>str</td><td>str</td><td>str</td><td>str</td><td>str</td><td>str</td><td>str</td></tr></thead><tbody><tr><td>&quot;1&quot;</td><td>&quot;0&quot;</td><td>&quot;3&quot;</td><td>&quot;Braund, Mr. Owen Harris&quot;</td><td>&quot;male&quot;</td><td>&quot;22&quot;</td><td>&quot;1&quot;</td><td>&quot;0&quot;</td><td>&quot;A/5 21171&quot;</td><td>&quot;7.25&quot;</td><td>null</td><td>&quot;S&quot;</td></tr><tr><td>&quot;2&quot;</td><td>&quot;1&quot;</td><td>&quot;1&quot;</td><td>&quot;Cumings, Mrs. John Bradley (Fl…</td><td>&quot;female&quot;</td><td>&quot;38&quot;</td><td>&quot;1&quot;</td><td>&quot;0&quot;</td><td>&quot;PC 17599&quot;</td><td>&quot;71.2833&quot;</td><td>&quot;C85&quot;</td><td>&quot;C&quot;</td></tr><tr><td>&quot;3&quot;</td><td>&quot;1&quot;</td><td>&quot;3&quot;</td><td>&quot;Heikkinen, Miss. Laina&quot;</td><td>&quot;female&quot;</td><td>&quot;26&quot;</td><td>&quot;0&quot;</td><td>&quot;0&quot;</td><td>&quot;STON/O2. 3101282&quot;</td><td>&quot;7.925&quot;</td><td>null</td><td>&quot;S&quot;</td></tr><tr><td>&quot;4&quot;</td><td>&quot;1&quot;</td><td>&quot;1&quot;</td><td>&quot;Futrelle, Mrs. Jacques Heath (…</td><td>&quot;female&quot;</td><td>&quot;35&quot;</td><td>&quot;1&quot;</td><td>&quot;0&quot;</td><td>&quot;113803&quot;</td><td>&quot;53.1&quot;</td><td>&quot;C123&quot;</td><td>&quot;S&quot;</td></tr><tr><td>&quot;5&quot;</td><td>&quot;0&quot;</td><td>&quot;3&quot;</td><td>&quot;Allen, Mr. William Henry&quot;</td><td>&quot;male&quot;</td><td>&quot;35&quot;</td><td>&quot;0&quot;</td><td>&quot;0&quot;</td><td>&quot;373450&quot;</td><td>&quot;8.05&quot;</td><td>null</td><td>&quot;S&quot;</td></tr></tbody></table></div>"
      ],
      "text/plain": [
       "shape: (5, 12)\n",
       "┌─────────────┬──────────┬────────┬───────────────────┬───┬───────────┬─────────┬───────┬──────────┐\n",
       "│ PassengerId ┆ Survived ┆ Pclass ┆ Name              ┆ … ┆ Ticket    ┆ Fare    ┆ Cabin ┆ Embarked │\n",
       "│ ---         ┆ ---      ┆ ---    ┆ ---               ┆   ┆ ---       ┆ ---     ┆ ---   ┆ ---      │\n",
       "│ str         ┆ str      ┆ str    ┆ str               ┆   ┆ str       ┆ str     ┆ str   ┆ str      │\n",
       "╞═════════════╪══════════╪════════╪═══════════════════╪═══╪═══════════╪═════════╪═══════╪══════════╡\n",
       "│ 1           ┆ 0        ┆ 3      ┆ Braund, Mr. Owen  ┆ … ┆ A/5 21171 ┆ 7.25    ┆ null  ┆ S        │\n",
       "│             ┆          ┆        ┆ Harris            ┆   ┆           ┆         ┆       ┆          │\n",
       "│ 2           ┆ 1        ┆ 1      ┆ Cumings, Mrs.     ┆ … ┆ PC 17599  ┆ 71.2833 ┆ C85   ┆ C        │\n",
       "│             ┆          ┆        ┆ John Bradley (Fl… ┆   ┆           ┆         ┆       ┆          │\n",
       "│ 3           ┆ 1        ┆ 3      ┆ Heikkinen, Miss.  ┆ … ┆ STON/O2.  ┆ 7.925   ┆ null  ┆ S        │\n",
       "│             ┆          ┆        ┆ Laina             ┆   ┆ 3101282   ┆         ┆       ┆          │\n",
       "│ 4           ┆ 1        ┆ 1      ┆ Futrelle, Mrs.    ┆ … ┆ 113803    ┆ 53.1    ┆ C123  ┆ S        │\n",
       "│             ┆          ┆        ┆ Jacques Heath (…  ┆   ┆           ┆         ┆       ┆          │\n",
       "│ 5           ┆ 0        ┆ 3      ┆ Allen, Mr.        ┆ … ┆ 373450    ┆ 8.05    ┆ null  ┆ S        │\n",
       "│             ┆          ┆        ┆ William Henry     ┆   ┆           ┆         ┆       ┆          │\n",
       "└─────────────┴──────────┴────────┴───────────────────┴───┴───────────┴─────────┴───────┴──────────┘"
      ]
     },
     "execution_count": 28,
     "metadata": {},
     "output_type": "execute_result"
    }
   ],
   "source": [
    "pl.read_csv('./titanic.csv', infer_schema=False).head()"
   ]
  },
  {
   "cell_type": "code",
   "execution_count": 29,
   "metadata": {},
   "outputs": [
    {
     "data": {
      "text/plain": [
       "['PassengerId',\n",
       " 'Survived',\n",
       " 'Pclass',\n",
       " 'Name',\n",
       " 'Sex',\n",
       " 'Age',\n",
       " 'SibSp',\n",
       " 'Parch',\n",
       " 'Ticket',\n",
       " 'Fare',\n",
       " 'Cabin',\n",
       " 'Embarked']"
      ]
     },
     "execution_count": 29,
     "metadata": {},
     "output_type": "execute_result"
    }
   ],
   "source": [
    "\"\"\"Only columns of the data\"\"\"\n",
    "\n",
    "data.columns"
   ]
  },
  {
   "cell_type": "code",
   "execution_count": 30,
   "metadata": {},
   "outputs": [
    {
     "data": {
      "text/plain": [
       "(891, 12)"
      ]
     },
     "execution_count": 30,
     "metadata": {},
     "output_type": "execute_result"
    }
   ],
   "source": [
    "\"\"\"Rows and Columns\"\"\"\n",
    "\n",
    "data.shape"
   ]
  },
  {
   "cell_type": "code",
   "execution_count": 31,
   "metadata": {},
   "outputs": [
    {
     "data": {
      "text/html": [
       "<div><style>\n",
       ".dataframe > thead > tr,\n",
       ".dataframe > tbody > tr {\n",
       "  text-align: right;\n",
       "  white-space: pre-wrap;\n",
       "}\n",
       "</style>\n",
       "<small>shape: (9, 13)</small><table border=\"1\" class=\"dataframe\"><thead><tr><th>statistic</th><th>PassengerId</th><th>Survived</th><th>Pclass</th><th>Name</th><th>Sex</th><th>Age</th><th>SibSp</th><th>Parch</th><th>Ticket</th><th>Fare</th><th>Cabin</th><th>Embarked</th></tr><tr><td>str</td><td>f64</td><td>f64</td><td>f64</td><td>str</td><td>str</td><td>f64</td><td>f64</td><td>f64</td><td>str</td><td>f64</td><td>str</td><td>str</td></tr></thead><tbody><tr><td>&quot;count&quot;</td><td>891.0</td><td>891.0</td><td>891.0</td><td>&quot;891&quot;</td><td>&quot;891&quot;</td><td>714.0</td><td>891.0</td><td>891.0</td><td>&quot;891&quot;</td><td>891.0</td><td>&quot;204&quot;</td><td>&quot;889&quot;</td></tr><tr><td>&quot;null_count&quot;</td><td>0.0</td><td>0.0</td><td>0.0</td><td>&quot;0&quot;</td><td>&quot;0&quot;</td><td>177.0</td><td>0.0</td><td>0.0</td><td>&quot;0&quot;</td><td>0.0</td><td>&quot;687&quot;</td><td>&quot;2&quot;</td></tr><tr><td>&quot;mean&quot;</td><td>446.0</td><td>0.383838</td><td>2.308642</td><td>null</td><td>null</td><td>29.699118</td><td>0.523008</td><td>0.381594</td><td>null</td><td>32.204208</td><td>null</td><td>null</td></tr><tr><td>&quot;std&quot;</td><td>257.353842</td><td>0.486592</td><td>0.836071</td><td>null</td><td>null</td><td>14.526497</td><td>1.102743</td><td>0.806057</td><td>null</td><td>49.693429</td><td>null</td><td>null</td></tr><tr><td>&quot;min&quot;</td><td>1.0</td><td>0.0</td><td>1.0</td><td>&quot;Abbing, Mr. Anthony&quot;</td><td>&quot;female&quot;</td><td>0.42</td><td>0.0</td><td>0.0</td><td>&quot;110152&quot;</td><td>0.0</td><td>&quot;A10&quot;</td><td>&quot;C&quot;</td></tr><tr><td>&quot;25%&quot;</td><td>224.0</td><td>0.0</td><td>2.0</td><td>null</td><td>null</td><td>20.0</td><td>0.0</td><td>0.0</td><td>null</td><td>7.925</td><td>null</td><td>null</td></tr><tr><td>&quot;50%&quot;</td><td>446.0</td><td>0.0</td><td>3.0</td><td>null</td><td>null</td><td>28.0</td><td>0.0</td><td>0.0</td><td>null</td><td>14.4542</td><td>null</td><td>null</td></tr><tr><td>&quot;75%&quot;</td><td>669.0</td><td>1.0</td><td>3.0</td><td>null</td><td>null</td><td>38.0</td><td>1.0</td><td>0.0</td><td>null</td><td>31.0</td><td>null</td><td>null</td></tr><tr><td>&quot;max&quot;</td><td>891.0</td><td>1.0</td><td>3.0</td><td>&quot;van Melkebeke, Mr. Philemon&quot;</td><td>&quot;male&quot;</td><td>80.0</td><td>8.0</td><td>6.0</td><td>&quot;WE/P 5735&quot;</td><td>512.3292</td><td>&quot;T&quot;</td><td>&quot;S&quot;</td></tr></tbody></table></div>"
      ],
      "text/plain": [
       "shape: (9, 13)\n",
       "┌────────────┬─────────────┬──────────┬──────────┬───┬───────────┬───────────┬───────┬──────────┐\n",
       "│ statistic  ┆ PassengerId ┆ Survived ┆ Pclass   ┆ … ┆ Ticket    ┆ Fare      ┆ Cabin ┆ Embarked │\n",
       "│ ---        ┆ ---         ┆ ---      ┆ ---      ┆   ┆ ---       ┆ ---       ┆ ---   ┆ ---      │\n",
       "│ str        ┆ f64         ┆ f64      ┆ f64      ┆   ┆ str       ┆ f64       ┆ str   ┆ str      │\n",
       "╞════════════╪═════════════╪══════════╪══════════╪═══╪═══════════╪═══════════╪═══════╪══════════╡\n",
       "│ count      ┆ 891.0       ┆ 891.0    ┆ 891.0    ┆ … ┆ 891       ┆ 891.0     ┆ 204   ┆ 889      │\n",
       "│ null_count ┆ 0.0         ┆ 0.0      ┆ 0.0      ┆ … ┆ 0         ┆ 0.0       ┆ 687   ┆ 2        │\n",
       "│ mean       ┆ 446.0       ┆ 0.383838 ┆ 2.308642 ┆ … ┆ null      ┆ 32.204208 ┆ null  ┆ null     │\n",
       "│ std        ┆ 257.353842  ┆ 0.486592 ┆ 0.836071 ┆ … ┆ null      ┆ 49.693429 ┆ null  ┆ null     │\n",
       "│ min        ┆ 1.0         ┆ 0.0      ┆ 1.0      ┆ … ┆ 110152    ┆ 0.0       ┆ A10   ┆ C        │\n",
       "│ 25%        ┆ 224.0       ┆ 0.0      ┆ 2.0      ┆ … ┆ null      ┆ 7.925     ┆ null  ┆ null     │\n",
       "│ 50%        ┆ 446.0       ┆ 0.0      ┆ 3.0      ┆ … ┆ null      ┆ 14.4542   ┆ null  ┆ null     │\n",
       "│ 75%        ┆ 669.0       ┆ 1.0      ┆ 3.0      ┆ … ┆ null      ┆ 31.0      ┆ null  ┆ null     │\n",
       "│ max        ┆ 891.0       ┆ 1.0      ┆ 3.0      ┆ … ┆ WE/P 5735 ┆ 512.3292  ┆ T     ┆ S        │\n",
       "└────────────┴─────────────┴──────────┴──────────┴───┴───────────┴───────────┴───────┴──────────┘"
      ]
     },
     "execution_count": 31,
     "metadata": {},
     "output_type": "execute_result"
    }
   ],
   "source": [
    "\"\"\"Basic Stats on data\"\"\"\n",
    "\n",
    "data.describe()"
   ]
  },
  {
   "cell_type": "code",
   "execution_count": 35,
   "metadata": {},
   "outputs": [
    {
     "data": {
      "text/html": [
       "<div><style>\n",
       ".dataframe > thead > tr,\n",
       ".dataframe > tbody > tr {\n",
       "  text-align: right;\n",
       "  white-space: pre-wrap;\n",
       "}\n",
       "</style>\n",
       "<small>shape: (10, 12)</small><table border=\"1\" class=\"dataframe\"><thead><tr><th>PassengerId</th><th>Survived</th><th>Pclass</th><th>Name</th><th>Sex</th><th>Age</th><th>SibSp</th><th>Parch</th><th>Ticket</th><th>Fare</th><th>Cabin</th><th>Embarked</th></tr><tr><td>i64</td><td>i64</td><td>i64</td><td>str</td><td>str</td><td>f64</td><td>i64</td><td>i64</td><td>str</td><td>f64</td><td>str</td><td>str</td></tr></thead><tbody><tr><td>395</td><td>1</td><td>3</td><td>&quot;Sandstrom, Mrs. Hjalmar (Agnes…</td><td>&quot;female&quot;</td><td>24.0</td><td>0</td><td>2</td><td>&quot;PP 9549&quot;</td><td>16.7</td><td>&quot;G6&quot;</td><td>&quot;S&quot;</td></tr><tr><td>388</td><td>1</td><td>2</td><td>&quot;Buss, Miss. Kate&quot;</td><td>&quot;female&quot;</td><td>36.0</td><td>0</td><td>0</td><td>&quot;27849&quot;</td><td>13.0</td><td>null</td><td>&quot;S&quot;</td></tr><tr><td>867</td><td>1</td><td>2</td><td>&quot;Duran y More, Miss. Asuncion&quot;</td><td>&quot;female&quot;</td><td>27.0</td><td>1</td><td>0</td><td>&quot;SC/PARIS 2149&quot;</td><td>13.8583</td><td>null</td><td>&quot;C&quot;</td></tr><tr><td>410</td><td>0</td><td>3</td><td>&quot;Lefebre, Miss. Ida&quot;</td><td>&quot;female&quot;</td><td>null</td><td>3</td><td>1</td><td>&quot;4133&quot;</td><td>25.4667</td><td>null</td><td>&quot;S&quot;</td></tr><tr><td>795</td><td>0</td><td>3</td><td>&quot;Dantcheff, Mr. Ristiu&quot;</td><td>&quot;male&quot;</td><td>25.0</td><td>0</td><td>0</td><td>&quot;349203&quot;</td><td>7.8958</td><td>null</td><td>&quot;S&quot;</td></tr><tr><td>837</td><td>0</td><td>3</td><td>&quot;Pasic, Mr. Jakob&quot;</td><td>&quot;male&quot;</td><td>21.0</td><td>0</td><td>0</td><td>&quot;315097&quot;</td><td>8.6625</td><td>null</td><td>&quot;S&quot;</td></tr><tr><td>523</td><td>0</td><td>3</td><td>&quot;Lahoud, Mr. Sarkis&quot;</td><td>&quot;male&quot;</td><td>null</td><td>0</td><td>0</td><td>&quot;2624&quot;</td><td>7.225</td><td>null</td><td>&quot;C&quot;</td></tr><tr><td>406</td><td>0</td><td>2</td><td>&quot;Gale, Mr. Shadrach&quot;</td><td>&quot;male&quot;</td><td>34.0</td><td>1</td><td>0</td><td>&quot;28664&quot;</td><td>21.0</td><td>null</td><td>&quot;S&quot;</td></tr><tr><td>352</td><td>0</td><td>1</td><td>&quot;Williams-Lambert, Mr. Fletcher…</td><td>&quot;male&quot;</td><td>null</td><td>0</td><td>0</td><td>&quot;113510&quot;</td><td>35.0</td><td>&quot;C128&quot;</td><td>&quot;S&quot;</td></tr><tr><td>730</td><td>0</td><td>3</td><td>&quot;Ilmakangas, Miss. Pieta Sofia&quot;</td><td>&quot;female&quot;</td><td>25.0</td><td>1</td><td>0</td><td>&quot;STON/O2. 3101271&quot;</td><td>7.925</td><td>null</td><td>&quot;S&quot;</td></tr></tbody></table></div>"
      ],
      "text/plain": [
       "shape: (10, 12)\n",
       "┌─────────────┬──────────┬────────┬───────────────┬───┬───────────────┬─────────┬───────┬──────────┐\n",
       "│ PassengerId ┆ Survived ┆ Pclass ┆ Name          ┆ … ┆ Ticket        ┆ Fare    ┆ Cabin ┆ Embarked │\n",
       "│ ---         ┆ ---      ┆ ---    ┆ ---           ┆   ┆ ---           ┆ ---     ┆ ---   ┆ ---      │\n",
       "│ i64         ┆ i64      ┆ i64    ┆ str           ┆   ┆ str           ┆ f64     ┆ str   ┆ str      │\n",
       "╞═════════════╪══════════╪════════╪═══════════════╪═══╪═══════════════╪═════════╪═══════╪══════════╡\n",
       "│ 395         ┆ 1        ┆ 3      ┆ Sandstrom,    ┆ … ┆ PP 9549       ┆ 16.7    ┆ G6    ┆ S        │\n",
       "│             ┆          ┆        ┆ Mrs. Hjalmar  ┆   ┆               ┆         ┆       ┆          │\n",
       "│             ┆          ┆        ┆ (Agnes…       ┆   ┆               ┆         ┆       ┆          │\n",
       "│ 388         ┆ 1        ┆ 2      ┆ Buss, Miss.   ┆ … ┆ 27849         ┆ 13.0    ┆ null  ┆ S        │\n",
       "│             ┆          ┆        ┆ Kate          ┆   ┆               ┆         ┆       ┆          │\n",
       "│ 867         ┆ 1        ┆ 2      ┆ Duran y More, ┆ … ┆ SC/PARIS 2149 ┆ 13.8583 ┆ null  ┆ C        │\n",
       "│             ┆          ┆        ┆ Miss.         ┆   ┆               ┆         ┆       ┆          │\n",
       "│             ┆          ┆        ┆ Asuncion      ┆   ┆               ┆         ┆       ┆          │\n",
       "│ 410         ┆ 0        ┆ 3      ┆ Lefebre,      ┆ … ┆ 4133          ┆ 25.4667 ┆ null  ┆ S        │\n",
       "│             ┆          ┆        ┆ Miss. Ida     ┆   ┆               ┆         ┆       ┆          │\n",
       "│ 795         ┆ 0        ┆ 3      ┆ Dantcheff,    ┆ … ┆ 349203        ┆ 7.8958  ┆ null  ┆ S        │\n",
       "│             ┆          ┆        ┆ Mr. Ristiu    ┆   ┆               ┆         ┆       ┆          │\n",
       "│ 837         ┆ 0        ┆ 3      ┆ Pasic, Mr.    ┆ … ┆ 315097        ┆ 8.6625  ┆ null  ┆ S        │\n",
       "│             ┆          ┆        ┆ Jakob         ┆   ┆               ┆         ┆       ┆          │\n",
       "│ 523         ┆ 0        ┆ 3      ┆ Lahoud, Mr.   ┆ … ┆ 2624          ┆ 7.225   ┆ null  ┆ C        │\n",
       "│             ┆          ┆        ┆ Sarkis        ┆   ┆               ┆         ┆       ┆          │\n",
       "│ 406         ┆ 0        ┆ 2      ┆ Gale, Mr.     ┆ … ┆ 28664         ┆ 21.0    ┆ null  ┆ S        │\n",
       "│             ┆          ┆        ┆ Shadrach      ┆   ┆               ┆         ┆       ┆          │\n",
       "│ 352         ┆ 0        ┆ 1      ┆ Williams-Lamb ┆ … ┆ 113510        ┆ 35.0    ┆ C128  ┆ S        │\n",
       "│             ┆          ┆        ┆ ert, Mr.      ┆   ┆               ┆         ┆       ┆          │\n",
       "│             ┆          ┆        ┆ Fletcher…     ┆   ┆               ┆         ┆       ┆          │\n",
       "│ 730         ┆ 0        ┆ 3      ┆ Ilmakangas,   ┆ … ┆ STON/O2.      ┆ 7.925   ┆ null  ┆ S        │\n",
       "│             ┆          ┆        ┆ Miss. Pieta   ┆   ┆ 3101271       ┆         ┆       ┆          │\n",
       "│             ┆          ┆        ┆ Sofia         ┆   ┆               ┆         ┆       ┆          │\n",
       "└─────────────┴──────────┴────────┴───────────────┴───┴───────────────┴─────────┴───────┴──────────┘"
      ]
     },
     "execution_count": 35,
     "metadata": {},
     "output_type": "execute_result"
    }
   ],
   "source": [
    "\"\"\"Pick Random Samples with replacement\"\"\"\n",
    "\n",
    "data.sample(n=10, seed=0)"
   ]
  },
  {
   "cell_type": "code",
   "execution_count": 39,
   "metadata": {},
   "outputs": [
    {
     "data": {
      "text/html": [
       "<div><style>\n",
       ".dataframe > thead > tr,\n",
       ".dataframe > tbody > tr {\n",
       "  text-align: right;\n",
       "  white-space: pre-wrap;\n",
       "}\n",
       "</style>\n",
       "<small>shape: (891,)</small><table border=\"1\" class=\"dataframe\"><thead><tr><th></th></tr><tr><td>u64</td></tr></thead><tbody><tr><td>12390185154443768781</td></tr><tr><td>4272254447490207055</td></tr><tr><td>11748959180842246540</td></tr><tr><td>6284992647284586780</td></tr><tr><td>10595624317311043842</td></tr><tr><td>&hellip;</td></tr><tr><td>13511004476170039329</td></tr><tr><td>6740564057463475827</td></tr><tr><td>14819379494895030569</td></tr><tr><td>12041094271256195589</td></tr><tr><td>16566577748700670310</td></tr></tbody></table></div>"
      ],
      "text/plain": [
       "shape: (891,)\n",
       "Series: '' [u64]\n",
       "[\n",
       "\t12390185154443768781\n",
       "\t4272254447490207055\n",
       "\t11748959180842246540\n",
       "\t6284992647284586780\n",
       "\t10595624317311043842\n",
       "\t…\n",
       "\t13511004476170039329\n",
       "\t6740564057463475827\n",
       "\t14819379494895030569\n",
       "\t12041094271256195589\n",
       "\t16566577748700670310\n",
       "]"
      ]
     },
     "execution_count": 39,
     "metadata": {},
     "output_type": "execute_result"
    }
   ],
   "source": [
    "\"\"\"Handle sensitive information using hash_rows\"\"\"\n",
    "\n",
    "data.hash_rows()"
   ]
  },
  {
   "cell_type": "code",
   "execution_count": 42,
   "metadata": {},
   "outputs": [
    {
     "data": {
      "text/plain": [
       "0.08188438415527344"
      ]
     },
     "execution_count": 42,
     "metadata": {},
     "output_type": "execute_result"
    }
   ],
   "source": [
    "\"\"\"Get size of the dataframe\"\"\"\n",
    "\n",
    "data.estimated_size('mb')"
   ]
  },
  {
   "cell_type": "code",
   "execution_count": 43,
   "metadata": {},
   "outputs": [
    {
     "data": {
      "text/html": [
       "<div><style>\n",
       ".dataframe > thead > tr,\n",
       ".dataframe > tbody > tr {\n",
       "  text-align: right;\n",
       "  white-space: pre-wrap;\n",
       "}\n",
       "</style>\n",
       "<small>shape: (1, 12)</small><table border=\"1\" class=\"dataframe\"><thead><tr><th>PassengerId</th><th>Survived</th><th>Pclass</th><th>Name</th><th>Sex</th><th>Age</th><th>SibSp</th><th>Parch</th><th>Ticket</th><th>Fare</th><th>Cabin</th><th>Embarked</th></tr><tr><td>u32</td><td>u32</td><td>u32</td><td>u32</td><td>u32</td><td>u32</td><td>u32</td><td>u32</td><td>u32</td><td>u32</td><td>u32</td><td>u32</td></tr></thead><tbody><tr><td>891</td><td>891</td><td>891</td><td>891</td><td>891</td><td>714</td><td>891</td><td>891</td><td>891</td><td>891</td><td>204</td><td>889</td></tr></tbody></table></div>"
      ],
      "text/plain": [
       "shape: (1, 12)\n",
       "┌─────────────┬──────────┬────────┬──────┬───┬────────┬──────┬───────┬──────────┐\n",
       "│ PassengerId ┆ Survived ┆ Pclass ┆ Name ┆ … ┆ Ticket ┆ Fare ┆ Cabin ┆ Embarked │\n",
       "│ ---         ┆ ---      ┆ ---    ┆ ---  ┆   ┆ ---    ┆ ---  ┆ ---   ┆ ---      │\n",
       "│ u32         ┆ u32      ┆ u32    ┆ u32  ┆   ┆ u32    ┆ u32  ┆ u32   ┆ u32      │\n",
       "╞═════════════╪══════════╪════════╪══════╪═══╪════════╪══════╪═══════╪══════════╡\n",
       "│ 891         ┆ 891      ┆ 891    ┆ 891  ┆ … ┆ 891    ┆ 891  ┆ 204   ┆ 889      │\n",
       "└─────────────┴──────────┴────────┴──────┴───┴────────┴──────┴───────┴──────────┘"
      ]
     },
     "execution_count": 43,
     "metadata": {},
     "output_type": "execute_result"
    }
   ],
   "source": [
    "\"\"\"Getting count across columns\"\"\"\n",
    "\n",
    "data.count()"
   ]
  },
  {
   "cell_type": "code",
   "execution_count": 44,
   "metadata": {},
   "outputs": [
    {
     "data": {
      "text/html": [
       "<div><style>\n",
       ".dataframe > thead > tr,\n",
       ".dataframe > tbody > tr {\n",
       "  text-align: right;\n",
       "  white-space: pre-wrap;\n",
       "}\n",
       "</style>\n",
       "<small>shape: (1, 12)</small><table border=\"1\" class=\"dataframe\"><thead><tr><th>PassengerId</th><th>Survived</th><th>Pclass</th><th>Name</th><th>Sex</th><th>Age</th><th>SibSp</th><th>Parch</th><th>Ticket</th><th>Fare</th><th>Cabin</th><th>Embarked</th></tr><tr><td>u32</td><td>u32</td><td>u32</td><td>u32</td><td>u32</td><td>u32</td><td>u32</td><td>u32</td><td>u32</td><td>u32</td><td>u32</td><td>u32</td></tr></thead><tbody><tr><td>0</td><td>0</td><td>0</td><td>0</td><td>0</td><td>177</td><td>0</td><td>0</td><td>0</td><td>0</td><td>687</td><td>2</td></tr></tbody></table></div>"
      ],
      "text/plain": [
       "shape: (1, 12)\n",
       "┌─────────────┬──────────┬────────┬──────┬───┬────────┬──────┬───────┬──────────┐\n",
       "│ PassengerId ┆ Survived ┆ Pclass ┆ Name ┆ … ┆ Ticket ┆ Fare ┆ Cabin ┆ Embarked │\n",
       "│ ---         ┆ ---      ┆ ---    ┆ ---  ┆   ┆ ---    ┆ ---  ┆ ---   ┆ ---      │\n",
       "│ u32         ┆ u32      ┆ u32    ┆ u32  ┆   ┆ u32    ┆ u32  ┆ u32   ┆ u32      │\n",
       "╞═════════════╪══════════╪════════╪══════╪═══╪════════╪══════╪═══════╪══════════╡\n",
       "│ 0           ┆ 0        ┆ 0      ┆ 0    ┆ … ┆ 0      ┆ 0    ┆ 687   ┆ 2        │\n",
       "└─────────────┴──────────┴────────┴──────┴───┴────────┴──────┴───────┴──────────┘"
      ]
     },
     "execution_count": 44,
     "metadata": {},
     "output_type": "execute_result"
    }
   ],
   "source": [
    "\"\"\"Find nulls across columns\"\"\"\n",
    "\n",
    "data.null_count()"
   ]
  },
  {
   "cell_type": "code",
   "execution_count": 45,
   "metadata": {},
   "outputs": [
    {
     "data": {
      "text/html": [
       "<div><style>\n",
       ".dataframe > thead > tr,\n",
       ".dataframe > tbody > tr {\n",
       "  text-align: right;\n",
       "  white-space: pre-wrap;\n",
       "}\n",
       "</style>\n",
       "<small>shape: (183, 12)</small><table border=\"1\" class=\"dataframe\"><thead><tr><th>PassengerId</th><th>Survived</th><th>Pclass</th><th>Name</th><th>Sex</th><th>Age</th><th>SibSp</th><th>Parch</th><th>Ticket</th><th>Fare</th><th>Cabin</th><th>Embarked</th></tr><tr><td>i64</td><td>i64</td><td>i64</td><td>str</td><td>str</td><td>f64</td><td>i64</td><td>i64</td><td>str</td><td>f64</td><td>str</td><td>str</td></tr></thead><tbody><tr><td>2</td><td>1</td><td>1</td><td>&quot;Cumings, Mrs. John Bradley (Fl…</td><td>&quot;female&quot;</td><td>38.0</td><td>1</td><td>0</td><td>&quot;PC 17599&quot;</td><td>71.2833</td><td>&quot;C85&quot;</td><td>&quot;C&quot;</td></tr><tr><td>4</td><td>1</td><td>1</td><td>&quot;Futrelle, Mrs. Jacques Heath (…</td><td>&quot;female&quot;</td><td>35.0</td><td>1</td><td>0</td><td>&quot;113803&quot;</td><td>53.1</td><td>&quot;C123&quot;</td><td>&quot;S&quot;</td></tr><tr><td>7</td><td>0</td><td>1</td><td>&quot;McCarthy, Mr. Timothy J&quot;</td><td>&quot;male&quot;</td><td>54.0</td><td>0</td><td>0</td><td>&quot;17463&quot;</td><td>51.8625</td><td>&quot;E46&quot;</td><td>&quot;S&quot;</td></tr><tr><td>11</td><td>1</td><td>3</td><td>&quot;Sandstrom, Miss. Marguerite Ru…</td><td>&quot;female&quot;</td><td>4.0</td><td>1</td><td>1</td><td>&quot;PP 9549&quot;</td><td>16.7</td><td>&quot;G6&quot;</td><td>&quot;S&quot;</td></tr><tr><td>12</td><td>1</td><td>1</td><td>&quot;Bonnell, Miss. Elizabeth&quot;</td><td>&quot;female&quot;</td><td>58.0</td><td>0</td><td>0</td><td>&quot;113783&quot;</td><td>26.55</td><td>&quot;C103&quot;</td><td>&quot;S&quot;</td></tr><tr><td>&hellip;</td><td>&hellip;</td><td>&hellip;</td><td>&hellip;</td><td>&hellip;</td><td>&hellip;</td><td>&hellip;</td><td>&hellip;</td><td>&hellip;</td><td>&hellip;</td><td>&hellip;</td><td>&hellip;</td></tr><tr><td>872</td><td>1</td><td>1</td><td>&quot;Beckwith, Mrs. Richard Leonard…</td><td>&quot;female&quot;</td><td>47.0</td><td>1</td><td>1</td><td>&quot;11751&quot;</td><td>52.5542</td><td>&quot;D35&quot;</td><td>&quot;S&quot;</td></tr><tr><td>873</td><td>0</td><td>1</td><td>&quot;Carlsson, Mr. Frans Olof&quot;</td><td>&quot;male&quot;</td><td>33.0</td><td>0</td><td>0</td><td>&quot;695&quot;</td><td>5.0</td><td>&quot;B51 B53 B55&quot;</td><td>&quot;S&quot;</td></tr><tr><td>880</td><td>1</td><td>1</td><td>&quot;Potter, Mrs. Thomas Jr (Lily A…</td><td>&quot;female&quot;</td><td>56.0</td><td>0</td><td>1</td><td>&quot;11767&quot;</td><td>83.1583</td><td>&quot;C50&quot;</td><td>&quot;C&quot;</td></tr><tr><td>888</td><td>1</td><td>1</td><td>&quot;Graham, Miss. Margaret Edith&quot;</td><td>&quot;female&quot;</td><td>19.0</td><td>0</td><td>0</td><td>&quot;112053&quot;</td><td>30.0</td><td>&quot;B42&quot;</td><td>&quot;S&quot;</td></tr><tr><td>890</td><td>1</td><td>1</td><td>&quot;Behr, Mr. Karl Howell&quot;</td><td>&quot;male&quot;</td><td>26.0</td><td>0</td><td>0</td><td>&quot;111369&quot;</td><td>30.0</td><td>&quot;C148&quot;</td><td>&quot;C&quot;</td></tr></tbody></table></div>"
      ],
      "text/plain": [
       "shape: (183, 12)\n",
       "┌─────────────┬──────────┬────────┬──────────────┬───┬──────────┬─────────┬─────────────┬──────────┐\n",
       "│ PassengerId ┆ Survived ┆ Pclass ┆ Name         ┆ … ┆ Ticket   ┆ Fare    ┆ Cabin       ┆ Embarked │\n",
       "│ ---         ┆ ---      ┆ ---    ┆ ---          ┆   ┆ ---      ┆ ---     ┆ ---         ┆ ---      │\n",
       "│ i64         ┆ i64      ┆ i64    ┆ str          ┆   ┆ str      ┆ f64     ┆ str         ┆ str      │\n",
       "╞═════════════╪══════════╪════════╪══════════════╪═══╪══════════╪═════════╪═════════════╪══════════╡\n",
       "│ 2           ┆ 1        ┆ 1      ┆ Cumings,     ┆ … ┆ PC 17599 ┆ 71.2833 ┆ C85         ┆ C        │\n",
       "│             ┆          ┆        ┆ Mrs. John    ┆   ┆          ┆         ┆             ┆          │\n",
       "│             ┆          ┆        ┆ Bradley (Fl… ┆   ┆          ┆         ┆             ┆          │\n",
       "│ 4           ┆ 1        ┆ 1      ┆ Futrelle,    ┆ … ┆ 113803   ┆ 53.1    ┆ C123        ┆ S        │\n",
       "│             ┆          ┆        ┆ Mrs. Jacques ┆   ┆          ┆         ┆             ┆          │\n",
       "│             ┆          ┆        ┆ Heath (…     ┆   ┆          ┆         ┆             ┆          │\n",
       "│ 7           ┆ 0        ┆ 1      ┆ McCarthy,    ┆ … ┆ 17463    ┆ 51.8625 ┆ E46         ┆ S        │\n",
       "│             ┆          ┆        ┆ Mr. Timothy  ┆   ┆          ┆         ┆             ┆          │\n",
       "│             ┆          ┆        ┆ J            ┆   ┆          ┆         ┆             ┆          │\n",
       "│ 11          ┆ 1        ┆ 3      ┆ Sandstrom,   ┆ … ┆ PP 9549  ┆ 16.7    ┆ G6          ┆ S        │\n",
       "│             ┆          ┆        ┆ Miss.        ┆   ┆          ┆         ┆             ┆          │\n",
       "│             ┆          ┆        ┆ Marguerite   ┆   ┆          ┆         ┆             ┆          │\n",
       "│             ┆          ┆        ┆ Ru…          ┆   ┆          ┆         ┆             ┆          │\n",
       "│ 12          ┆ 1        ┆ 1      ┆ Bonnell,     ┆ … ┆ 113783   ┆ 26.55   ┆ C103        ┆ S        │\n",
       "│             ┆          ┆        ┆ Miss.        ┆   ┆          ┆         ┆             ┆          │\n",
       "│             ┆          ┆        ┆ Elizabeth    ┆   ┆          ┆         ┆             ┆          │\n",
       "│ …           ┆ …        ┆ …      ┆ …            ┆ … ┆ …        ┆ …       ┆ …           ┆ …        │\n",
       "│ 872         ┆ 1        ┆ 1      ┆ Beckwith,    ┆ … ┆ 11751    ┆ 52.5542 ┆ D35         ┆ S        │\n",
       "│             ┆          ┆        ┆ Mrs. Richard ┆   ┆          ┆         ┆             ┆          │\n",
       "│             ┆          ┆        ┆ Leonard…     ┆   ┆          ┆         ┆             ┆          │\n",
       "│ 873         ┆ 0        ┆ 1      ┆ Carlsson,    ┆ … ┆ 695      ┆ 5.0     ┆ B51 B53 B55 ┆ S        │\n",
       "│             ┆          ┆        ┆ Mr. Frans    ┆   ┆          ┆         ┆             ┆          │\n",
       "│             ┆          ┆        ┆ Olof         ┆   ┆          ┆         ┆             ┆          │\n",
       "│ 880         ┆ 1        ┆ 1      ┆ Potter, Mrs. ┆ … ┆ 11767    ┆ 83.1583 ┆ C50         ┆ C        │\n",
       "│             ┆          ┆        ┆ Thomas Jr    ┆   ┆          ┆         ┆             ┆          │\n",
       "│             ┆          ┆        ┆ (Lily A…     ┆   ┆          ┆         ┆             ┆          │\n",
       "│ 888         ┆ 1        ┆ 1      ┆ Graham,      ┆ … ┆ 112053   ┆ 30.0    ┆ B42         ┆ S        │\n",
       "│             ┆          ┆        ┆ Miss.        ┆   ┆          ┆         ┆             ┆          │\n",
       "│             ┆          ┆        ┆ Margaret     ┆   ┆          ┆         ┆             ┆          │\n",
       "│             ┆          ┆        ┆ Edith        ┆   ┆          ┆         ┆             ┆          │\n",
       "│ 890         ┆ 1        ┆ 1      ┆ Behr, Mr.    ┆ … ┆ 111369   ┆ 30.0    ┆ C148        ┆ C        │\n",
       "│             ┆          ┆        ┆ Karl Howell  ┆   ┆          ┆         ┆             ┆          │\n",
       "└─────────────┴──────────┴────────┴──────────────┴───┴──────────┴─────────┴─────────────┴──────────┘"
      ]
     },
     "execution_count": 45,
     "metadata": {},
     "output_type": "execute_result"
    }
   ],
   "source": [
    "\"\"\"Remove rows containing single null in a column\"\"\"\n",
    "\n",
    "data.drop_nulls()"
   ]
  },
  {
   "cell_type": "code",
   "execution_count": null,
   "metadata": {},
   "outputs": [],
   "source": []
  }
 ],
 "metadata": {
  "kernelspec": {
   "display_name": "py38",
   "language": "python",
   "name": "python3"
  },
  "language_info": {
   "codemirror_mode": {
    "name": "ipython",
    "version": 3
   },
   "file_extension": ".py",
   "mimetype": "text/x-python",
   "name": "python",
   "nbconvert_exporter": "python",
   "pygments_lexer": "ipython3",
   "version": "3.9.7"
  }
 },
 "nbformat": 4,
 "nbformat_minor": 2
}
