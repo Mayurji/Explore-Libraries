{
 "cells": [
  {
   "cell_type": "markdown",
   "metadata": {},
   "source": [
    "#### Reading CSV, Parquet, ORC with cuDF, dask_cudf, and Pandas"
   ]
  },
  {
   "cell_type": "code",
   "execution_count": 1,
   "metadata": {},
   "outputs": [
    {
     "name": "stdout",
     "output_type": "stream",
     "text": [
      "Defaulting to user installation because normal site-packages is not writeable\n",
      "Looking in indexes: https://pypi.org/simple, https://pypi.nvidia.com\n",
      "Requirement already satisfied: cudf-cu11 in /home/mayur/.local/lib/python3.10/site-packages (24.10.1)\n",
      "Requirement already satisfied: numpy<3.0a0,>=1.23 in /home/mayur/.local/lib/python3.10/site-packages (from cudf-cu11) (1.26.4)\n",
      "Requirement already satisfied: nvtx>=0.2.1 in /home/mayur/.local/lib/python3.10/site-packages (from cudf-cu11) (0.2.10)\n",
      "Requirement already satisfied: libcudf-cu11==24.10.* in /home/mayur/.local/lib/python3.10/site-packages (from cudf-cu11) (24.10.1)\n",
      "Requirement already satisfied: pylibcudf-cu11==24.10.* in /home/mayur/.local/lib/python3.10/site-packages (from cudf-cu11) (24.10.1)\n",
      "Requirement already satisfied: numba>=0.57 in /home/mayur/.local/lib/python3.10/site-packages (from cudf-cu11) (0.60.0)\n",
      "Requirement already satisfied: ptxcompiler-cu11 in /home/mayur/.local/lib/python3.10/site-packages (from cudf-cu11) (0.8.1.post2)\n",
      "Requirement already satisfied: pyarrow<18.0.0a0,>=14.0.0 in /home/mayur/.local/lib/python3.10/site-packages (from cudf-cu11) (17.0.0)\n",
      "Requirement already satisfied: cachetools in /home/mayur/.local/lib/python3.10/site-packages (from cudf-cu11) (5.5.0)\n",
      "Requirement already satisfied: rmm-cu11==24.10.* in /home/mayur/.local/lib/python3.10/site-packages (from cudf-cu11) (24.10.0)\n",
      "Requirement already satisfied: typing_extensions>=4.0.0 in /home/mayur/.local/lib/python3.10/site-packages (from cudf-cu11) (4.12.2)\n",
      "Requirement already satisfied: packaging in /home/mayur/.local/lib/python3.10/site-packages (from cudf-cu11) (24.1)\n",
      "Requirement already satisfied: rich in /home/mayur/.local/lib/python3.10/site-packages (from cudf-cu11) (13.9.3)\n",
      "Requirement already satisfied: cupy-cuda11x>=12.0.0 in /home/mayur/.local/lib/python3.10/site-packages (from cudf-cu11) (13.3.0)\n",
      "Requirement already satisfied: cuda-python<12.0a0,>=11.7.1 in /home/mayur/.local/lib/python3.10/site-packages (from cudf-cu11) (11.8.3)\n",
      "Requirement already satisfied: pandas<2.2.3dev0,>=2.0 in /home/mayur/.local/lib/python3.10/site-packages (from cudf-cu11) (2.2.2)\n",
      "Requirement already satisfied: fsspec>=0.6.0 in /home/mayur/.local/lib/python3.10/site-packages (from cudf-cu11) (2024.9.0)\n",
      "Requirement already satisfied: cubinlinker-cu11 in /home/mayur/.local/lib/python3.10/site-packages (from cudf-cu11) (0.3.0.post2)\n",
      "Requirement already satisfied: fastrlock>=0.5 in /home/mayur/.local/lib/python3.10/site-packages (from cupy-cuda11x>=12.0.0->cudf-cu11) (0.8.2)\n",
      "Requirement already satisfied: llvmlite<0.44,>=0.43.0dev0 in /home/mayur/.local/lib/python3.10/site-packages (from numba>=0.57->cudf-cu11) (0.43.0)\n",
      "Requirement already satisfied: pytz>=2020.1 in /usr/lib/python3/dist-packages (from pandas<2.2.3dev0,>=2.0->cudf-cu11) (2022.1)\n",
      "Requirement already satisfied: tzdata>=2022.7 in /home/mayur/.local/lib/python3.10/site-packages (from pandas<2.2.3dev0,>=2.0->cudf-cu11) (2024.2)\n",
      "Requirement already satisfied: python-dateutil>=2.8.2 in /home/mayur/.local/lib/python3.10/site-packages (from pandas<2.2.3dev0,>=2.0->cudf-cu11) (2.9.0.post0)\n",
      "Requirement already satisfied: pygments<3.0.0,>=2.13.0 in /home/mayur/.local/lib/python3.10/site-packages (from rich->cudf-cu11) (2.18.0)\n",
      "Requirement already satisfied: markdown-it-py>=2.2.0 in /home/mayur/.local/lib/python3.10/site-packages (from rich->cudf-cu11) (3.0.0)\n",
      "Requirement already satisfied: mdurl~=0.1 in /home/mayur/.local/lib/python3.10/site-packages (from markdown-it-py>=2.2.0->rich->cudf-cu11) (0.1.2)\n",
      "Requirement already satisfied: six>=1.5 in /usr/lib/python3/dist-packages (from python-dateutil>=2.8.2->pandas<2.2.3dev0,>=2.0->cudf-cu11) (1.16.0)\n"
     ]
    }
   ],
   "source": [
    "#!pip install cudf dask-cudf-cu11\n",
    "!pip install --extra-index-url=https://pypi.nvidia.com cudf-cu11"
   ]
  },
  {
   "cell_type": "code",
   "execution_count": 2,
   "metadata": {},
   "outputs": [
    {
     "ename": "OSError",
     "evalue": "libcudart.so: cannot open shared object file: No such file or directory",
     "output_type": "error",
     "traceback": [
      "\u001b[0;31m---------------------------------------------------------------------------\u001b[0m",
      "\u001b[0;31mOSError\u001b[0m                                   Traceback (most recent call last)",
      "Cell \u001b[0;32mIn[2], line 1\u001b[0m\n\u001b[0;32m----> 1\u001b[0m \u001b[38;5;28;01mimport\u001b[39;00m \u001b[38;5;21;01mcudf\u001b[39;00m \u001b[38;5;66;03m# GPU\u001b[39;00m\n\u001b[1;32m      2\u001b[0m \u001b[38;5;28;01mimport\u001b[39;00m \u001b[38;5;21;01mpandas\u001b[39;00m \u001b[38;5;28;01mas\u001b[39;00m \u001b[38;5;21;01mpd\u001b[39;00m \u001b[38;5;66;03m# CPU\u001b[39;00m\n\u001b[1;32m      3\u001b[0m \u001b[38;5;28;01mimport\u001b[39;00m \u001b[38;5;21;01mdask_cudf\u001b[39;00m \u001b[38;5;66;03m# Distributed Computing with GPU\u001b[39;00m\n",
      "File \u001b[0;32m~/.local/lib/python3.10/site-packages/cudf/__init__.py:20\u001b[0m\n\u001b[1;32m     17\u001b[0m \u001b[38;5;28;01mfrom\u001b[39;00m \u001b[38;5;21;01mcudf\u001b[39;00m\u001b[38;5;21;01m.\u001b[39;00m\u001b[38;5;21;01mutils\u001b[39;00m\u001b[38;5;21;01m.\u001b[39;00m\u001b[38;5;21;01mgpu_utils\u001b[39;00m \u001b[38;5;28;01mimport\u001b[39;00m validate_setup\n\u001b[1;32m     19\u001b[0m _setup_numba()\n\u001b[0;32m---> 20\u001b[0m \u001b[43mvalidate_setup\u001b[49m\u001b[43m(\u001b[49m\u001b[43m)\u001b[49m\n\u001b[1;32m     22\u001b[0m \u001b[38;5;28;01mimport\u001b[39;00m \u001b[38;5;21;01mcupy\u001b[39;00m\n\u001b[1;32m     23\u001b[0m \u001b[38;5;28;01mfrom\u001b[39;00m \u001b[38;5;21;01mnumba\u001b[39;00m \u001b[38;5;28;01mimport\u001b[39;00m config \u001b[38;5;28;01mas\u001b[39;00m numba_config, cuda\n",
      "File \u001b[0;32m~/.local/lib/python3.10/site-packages/cudf/utils/gpu_utils.py:96\u001b[0m, in \u001b[0;36mvalidate_setup\u001b[0;34m()\u001b[0m\n\u001b[1;32m     86\u001b[0m     minor_version \u001b[38;5;241m=\u001b[39m getDeviceAttribute(\n\u001b[1;32m     87\u001b[0m         cudaDeviceAttr\u001b[38;5;241m.\u001b[39mcudaDevAttrComputeCapabilityMinor, \u001b[38;5;241m0\u001b[39m\n\u001b[1;32m     88\u001b[0m     )\n\u001b[1;32m     89\u001b[0m     \u001b[38;5;28;01mraise\u001b[39;00m UnsupportedCUDAError(\n\u001b[1;32m     90\u001b[0m         \u001b[38;5;124m\"\u001b[39m\u001b[38;5;124mA GPU with NVIDIA Volta™ (Compute Capability 7.0) \u001b[39m\u001b[38;5;124m\"\u001b[39m\n\u001b[1;32m     91\u001b[0m         \u001b[38;5;124m\"\u001b[39m\u001b[38;5;124mor newer architecture is required.\u001b[39m\u001b[38;5;130;01m\\n\u001b[39;00m\u001b[38;5;124m\"\u001b[39m\n\u001b[1;32m     92\u001b[0m         \u001b[38;5;124mf\u001b[39m\u001b[38;5;124m\"\u001b[39m\u001b[38;5;124mDetected GPU 0: \u001b[39m\u001b[38;5;132;01m{\u001b[39;00mdevice_name\u001b[38;5;132;01m}\u001b[39;00m\u001b[38;5;130;01m\\n\u001b[39;00m\u001b[38;5;124m\"\u001b[39m\n\u001b[1;32m     93\u001b[0m         \u001b[38;5;124mf\u001b[39m\u001b[38;5;124m\"\u001b[39m\u001b[38;5;124mDetected Compute Capability: \u001b[39m\u001b[38;5;132;01m{\u001b[39;00mmajor_version\u001b[38;5;132;01m}\u001b[39;00m\u001b[38;5;124m.\u001b[39m\u001b[38;5;132;01m{\u001b[39;00mminor_version\u001b[38;5;132;01m}\u001b[39;00m\u001b[38;5;124m\"\u001b[39m\n\u001b[1;32m     94\u001b[0m     )\n\u001b[0;32m---> 96\u001b[0m cuda_runtime_version \u001b[38;5;241m=\u001b[39m \u001b[43mruntimeGetVersion\u001b[49m\u001b[43m(\u001b[49m\u001b[43m)\u001b[49m\n\u001b[1;32m     98\u001b[0m \u001b[38;5;28;01mif\u001b[39;00m cuda_runtime_version \u001b[38;5;241m<\u001b[39m \u001b[38;5;241m11000\u001b[39m:\n\u001b[1;32m     99\u001b[0m     \u001b[38;5;66;03m# Require CUDA Runtime version 11.0 or greater.\u001b[39;00m\n\u001b[1;32m    100\u001b[0m     major_version \u001b[38;5;241m=\u001b[39m cuda_runtime_version \u001b[38;5;241m/\u001b[39m\u001b[38;5;241m/\u001b[39m \u001b[38;5;241m1000\u001b[39m\n",
      "File \u001b[0;32m~/.local/lib/python3.10/site-packages/rmm/_cuda/gpu.py:88\u001b[0m, in \u001b[0;36mruntimeGetVersion\u001b[0;34m()\u001b[0m\n\u001b[1;32m     84\u001b[0m \u001b[38;5;66;03m# TODO: Replace this with `cuda.cudart.cudaRuntimeGetVersion()` when the\u001b[39;00m\n\u001b[1;32m     85\u001b[0m \u001b[38;5;66;03m# limitation is fixed.\u001b[39;00m\n\u001b[1;32m     86\u001b[0m \u001b[38;5;28;01mimport\u001b[39;00m \u001b[38;5;21;01mnumba\u001b[39;00m\u001b[38;5;21;01m.\u001b[39;00m\u001b[38;5;21;01mcuda\u001b[39;00m\n\u001b[0;32m---> 88\u001b[0m major, minor \u001b[38;5;241m=\u001b[39m \u001b[43mnumba\u001b[49m\u001b[38;5;241;43m.\u001b[39;49m\u001b[43mcuda\u001b[49m\u001b[38;5;241;43m.\u001b[39;49m\u001b[43mruntime\u001b[49m\u001b[38;5;241;43m.\u001b[39;49m\u001b[43mget_version\u001b[49m\u001b[43m(\u001b[49m\u001b[43m)\u001b[49m\n\u001b[1;32m     89\u001b[0m \u001b[38;5;28;01mreturn\u001b[39;00m major \u001b[38;5;241m*\u001b[39m \u001b[38;5;241m1000\u001b[39m \u001b[38;5;241m+\u001b[39m minor \u001b[38;5;241m*\u001b[39m \u001b[38;5;241m10\u001b[39m\n",
      "File \u001b[0;32m~/.local/lib/python3.10/site-packages/numba/cuda/cudadrv/runtime.py:111\u001b[0m, in \u001b[0;36mRuntime.get_version\u001b[0;34m(self)\u001b[0m\n\u001b[1;32m    107\u001b[0m \u001b[38;5;250m\u001b[39m\u001b[38;5;124;03m\"\"\"\u001b[39;00m\n\u001b[1;32m    108\u001b[0m \u001b[38;5;124;03mReturns the CUDA Runtime version as a tuple (major, minor).\u001b[39;00m\n\u001b[1;32m    109\u001b[0m \u001b[38;5;124;03m\"\"\"\u001b[39;00m\n\u001b[1;32m    110\u001b[0m rtver \u001b[38;5;241m=\u001b[39m ctypes\u001b[38;5;241m.\u001b[39mc_int()\n\u001b[0;32m--> 111\u001b[0m \u001b[38;5;28;43mself\u001b[39;49m\u001b[38;5;241;43m.\u001b[39;49m\u001b[43mcudaRuntimeGetVersion\u001b[49m(ctypes\u001b[38;5;241m.\u001b[39mbyref(rtver))\n\u001b[1;32m    112\u001b[0m \u001b[38;5;66;03m# The version is encoded as (1000 * major) + (10 * minor)\u001b[39;00m\n\u001b[1;32m    113\u001b[0m major \u001b[38;5;241m=\u001b[39m rtver\u001b[38;5;241m.\u001b[39mvalue \u001b[38;5;241m/\u001b[39m\u001b[38;5;241m/\u001b[39m \u001b[38;5;241m1000\u001b[39m\n",
      "File \u001b[0;32m~/.local/lib/python3.10/site-packages/numba/cuda/cudadrv/runtime.py:65\u001b[0m, in \u001b[0;36mRuntime.__getattr__\u001b[0;34m(self, fname)\u001b[0m\n\u001b[1;32m     62\u001b[0m argtypes \u001b[38;5;241m=\u001b[39m proto[\u001b[38;5;241m1\u001b[39m:]\n\u001b[1;32m     64\u001b[0m \u001b[38;5;28;01mif\u001b[39;00m \u001b[38;5;129;01mnot\u001b[39;00m \u001b[38;5;28mself\u001b[39m\u001b[38;5;241m.\u001b[39mis_initialized:\n\u001b[0;32m---> 65\u001b[0m     \u001b[38;5;28;43mself\u001b[39;49m\u001b[38;5;241;43m.\u001b[39;49m\u001b[43m_initialize\u001b[49m\u001b[43m(\u001b[49m\u001b[43m)\u001b[49m\n\u001b[1;32m     67\u001b[0m \u001b[38;5;66;03m# Find function in runtime library\u001b[39;00m\n\u001b[1;32m     68\u001b[0m libfn \u001b[38;5;241m=\u001b[39m \u001b[38;5;28mself\u001b[39m\u001b[38;5;241m.\u001b[39m_find_api(fname)\n",
      "File \u001b[0;32m~/.local/lib/python3.10/site-packages/numba/cuda/cudadrv/runtime.py:51\u001b[0m, in \u001b[0;36mRuntime._initialize\u001b[0;34m(self)\u001b[0m\n\u001b[1;32m     47\u001b[0m     msg \u001b[38;5;241m=\u001b[39m (\u001b[38;5;124m\"\u001b[39m\u001b[38;5;124mCUDA is disabled due to setting NUMBA_DISABLE_CUDA=1 \u001b[39m\u001b[38;5;124m\"\u001b[39m\n\u001b[1;32m     48\u001b[0m            \u001b[38;5;124m\"\u001b[39m\u001b[38;5;124min the environment, or because CUDA is unsupported on \u001b[39m\u001b[38;5;124m\"\u001b[39m\n\u001b[1;32m     49\u001b[0m            \u001b[38;5;124m\"\u001b[39m\u001b[38;5;124m32-bit systems.\u001b[39m\u001b[38;5;124m\"\u001b[39m)\n\u001b[1;32m     50\u001b[0m     \u001b[38;5;28;01mraise\u001b[39;00m CudaSupportError(msg)\n\u001b[0;32m---> 51\u001b[0m \u001b[38;5;28mself\u001b[39m\u001b[38;5;241m.\u001b[39mlib \u001b[38;5;241m=\u001b[39m \u001b[43mopen_cudalib\u001b[49m\u001b[43m(\u001b[49m\u001b[38;5;124;43m'\u001b[39;49m\u001b[38;5;124;43mcudart\u001b[39;49m\u001b[38;5;124;43m'\u001b[39;49m\u001b[43m)\u001b[49m\n\u001b[1;32m     53\u001b[0m \u001b[38;5;28mself\u001b[39m\u001b[38;5;241m.\u001b[39mis_initialized \u001b[38;5;241m=\u001b[39m \u001b[38;5;28;01mTrue\u001b[39;00m\n",
      "File \u001b[0;32m~/.local/lib/python3.10/site-packages/numba/cuda/cudadrv/libs.py:65\u001b[0m, in \u001b[0;36mopen_cudalib\u001b[0;34m(lib)\u001b[0m\n\u001b[1;32m     63\u001b[0m \u001b[38;5;28;01mdef\u001b[39;00m \u001b[38;5;21mopen_cudalib\u001b[39m(lib):\n\u001b[1;32m     64\u001b[0m     path \u001b[38;5;241m=\u001b[39m get_cudalib(lib)\n\u001b[0;32m---> 65\u001b[0m     \u001b[38;5;28;01mreturn\u001b[39;00m \u001b[43mctypes\u001b[49m\u001b[38;5;241;43m.\u001b[39;49m\u001b[43mCDLL\u001b[49m\u001b[43m(\u001b[49m\u001b[43mpath\u001b[49m\u001b[43m)\u001b[49m\n",
      "File \u001b[0;32m/usr/lib/python3.10/ctypes/__init__.py:374\u001b[0m, in \u001b[0;36mCDLL.__init__\u001b[0;34m(self, name, mode, handle, use_errno, use_last_error, winmode)\u001b[0m\n\u001b[1;32m    371\u001b[0m \u001b[38;5;28mself\u001b[39m\u001b[38;5;241m.\u001b[39m_FuncPtr \u001b[38;5;241m=\u001b[39m _FuncPtr\n\u001b[1;32m    373\u001b[0m \u001b[38;5;28;01mif\u001b[39;00m handle \u001b[38;5;129;01mis\u001b[39;00m \u001b[38;5;28;01mNone\u001b[39;00m:\n\u001b[0;32m--> 374\u001b[0m     \u001b[38;5;28mself\u001b[39m\u001b[38;5;241m.\u001b[39m_handle \u001b[38;5;241m=\u001b[39m \u001b[43m_dlopen\u001b[49m\u001b[43m(\u001b[49m\u001b[38;5;28;43mself\u001b[39;49m\u001b[38;5;241;43m.\u001b[39;49m\u001b[43m_name\u001b[49m\u001b[43m,\u001b[49m\u001b[43m \u001b[49m\u001b[43mmode\u001b[49m\u001b[43m)\u001b[49m\n\u001b[1;32m    375\u001b[0m \u001b[38;5;28;01melse\u001b[39;00m:\n\u001b[1;32m    376\u001b[0m     \u001b[38;5;28mself\u001b[39m\u001b[38;5;241m.\u001b[39m_handle \u001b[38;5;241m=\u001b[39m handle\n",
      "\u001b[0;31mOSError\u001b[0m: libcudart.so: cannot open shared object file: No such file or directory"
     ]
    }
   ],
   "source": [
    "import cudf # GPU\n",
    "import pandas as pd # CPU\n",
    "import dask_cudf # Distributed Computing with GPU"
   ]
  },
  {
   "cell_type": "code",
   "execution_count": 3,
   "metadata": {},
   "outputs": [],
   "source": [
    "file = \"../../../benchmark_2GB.csv\"\n",
    "group_files= \"../../../flights_month/\""
   ]
  },
  {
   "cell_type": "markdown",
   "metadata": {},
   "source": [
    "### Loading Large File"
   ]
  },
  {
   "cell_type": "code",
   "execution_count": 3,
   "metadata": {},
   "outputs": [
    {
     "name": "stdout",
     "output_type": "stream",
     "text": [
      "CPU times: user 1.35 s, sys: 385 ms, total: 1.73 s\n",
      "Wall time: 1.73 s\n"
     ]
    }
   ],
   "source": [
    "%%time\n",
    "\n",
    "cudf_file = cudf.read_csv(file)\n",
    "del cudf_file"
   ]
  },
  {
   "cell_type": "code",
   "execution_count": 4,
   "metadata": {},
   "outputs": [
    {
     "name": "stdout",
     "output_type": "stream",
     "text": [
      "CPU times: user 11.1 s, sys: 536 ms, total: 11.6 s\n",
      "Wall time: 11.6 s\n"
     ]
    }
   ],
   "source": [
    "\n",
    "%%time\n",
    "\n",
    "pd_file = pd.read_csv(file)\n",
    "del pd_file"
   ]
  },
  {
   "cell_type": "code",
   "execution_count": 5,
   "metadata": {},
   "outputs": [
    {
     "name": "stdout",
     "output_type": "stream",
     "text": [
      "CPU times: user 10.8 ms, sys: 11.8 ms, total: 22.7 ms\n",
      "Wall time: 23.4 ms\n"
     ]
    }
   ],
   "source": [
    "%%time\n",
    "\n",
    "dask_cudf_file = dask_cudf.read_csv(file)\n",
    "del dask_cudf_file"
   ]
  },
  {
   "cell_type": "markdown",
   "metadata": {},
   "source": [
    "### Loading group of files"
   ]
  },
  {
   "cell_type": "code",
   "execution_count": 7,
   "metadata": {},
   "outputs": [],
   "source": [
    "#pd.read_csv(group_files+\"*.csv\")"
   ]
  },
  {
   "cell_type": "code",
   "execution_count": 5,
   "metadata": {},
   "outputs": [],
   "source": [
    "# %%time\n",
    "\n",
    "# group_cudf = cudf.read_csv(group_files+\"*.csv\")\n",
    "# del group_cudf"
   ]
  },
  {
   "cell_type": "code",
   "execution_count": 8,
   "metadata": {},
   "outputs": [
    {
     "name": "stdout",
     "output_type": "stream",
     "text": [
      "CPU times: user 6.99 ms, sys: 20.1 ms, total: 27.1 ms\n",
      "Wall time: 27.7 ms\n"
     ]
    }
   ],
   "source": [
    "%%time\n",
    "\n",
    "group_dsk_cudf = dask_cudf.read_csv(group_files+\"*.csv\")\n",
    "del group_dsk_cudf"
   ]
  },
  {
   "cell_type": "markdown",
   "metadata": {},
   "source": [
    "### Reading Parquet File - small file"
   ]
  },
  {
   "cell_type": "code",
   "execution_count": 9,
   "metadata": {},
   "outputs": [
    {
     "name": "stdout",
     "output_type": "stream",
     "text": [
      "CPU times: user 13.7 ms, sys: 23.1 ms, total: 36.8 ms\n",
      "Wall time: 36.5 ms\n"
     ]
    }
   ],
   "source": [
    "%%time\n",
    "\n",
    "df = cudf.read_parquet(\"../../../flight_1\")\n",
    "del df\n"
   ]
  },
  {
   "cell_type": "code",
   "execution_count": 10,
   "metadata": {},
   "outputs": [
    {
     "name": "stdout",
     "output_type": "stream",
     "text": [
      "CPU times: user 28.8 ms, sys: 1.71 ms, total: 30.5 ms\n",
      "Wall time: 12.4 ms\n"
     ]
    }
   ],
   "source": [
    "%%time\n",
    "\n",
    "df = pd.read_parquet(\"../../../flight_1\")\n",
    "del df\n"
   ]
  },
  {
   "cell_type": "code",
   "execution_count": 11,
   "metadata": {},
   "outputs": [
    {
     "name": "stdout",
     "output_type": "stream",
     "text": [
      "CPU times: user 16.9 ms, sys: 120 µs, total: 17.1 ms\n",
      "Wall time: 16.7 ms\n"
     ]
    }
   ],
   "source": [
    "%%time\n",
    "\n",
    "df = dask_cudf.read_parquet(\"../../../flight_1\")\n",
    "del df"
   ]
  },
  {
   "cell_type": "markdown",
   "metadata": {},
   "source": [
    "### Reading ORC file - small file"
   ]
  },
  {
   "cell_type": "code",
   "execution_count": 12,
   "metadata": {},
   "outputs": [
    {
     "name": "stdout",
     "output_type": "stream",
     "text": [
      "CPU times: user 14.3 ms, sys: 4.52 ms, total: 18.8 ms\n",
      "Wall time: 34.6 ms\n"
     ]
    }
   ],
   "source": [
    "%%time\n",
    "df = pd.read_orc(\"../../../file.orc\")\n",
    "\n",
    "del df"
   ]
  },
  {
   "cell_type": "code",
   "execution_count": 13,
   "metadata": {},
   "outputs": [
    {
     "name": "stdout",
     "output_type": "stream",
     "text": [
      "CPU times: user 4.14 ms, sys: 21.4 ms, total: 25.6 ms\n",
      "Wall time: 26.4 ms\n"
     ]
    }
   ],
   "source": [
    "%%time\n",
    "\n",
    "df = cudf.read_orc(\"../../../file.orc\")\n",
    "del df"
   ]
  },
  {
   "cell_type": "code",
   "execution_count": 14,
   "metadata": {},
   "outputs": [
    {
     "name": "stdout",
     "output_type": "stream",
     "text": [
      "CPU times: user 9.71 ms, sys: 3.56 ms, total: 13.3 ms\n",
      "Wall time: 12.9 ms\n"
     ]
    }
   ],
   "source": [
    "%%time\n",
    "\n",
    "df = dask_cudf.read_orc(\"../../../file.orc\")\n",
    "del df"
   ]
  },
  {
   "cell_type": "markdown",
   "metadata": {},
   "source": [
    "### Reading Parquet File - Large File"
   ]
  },
  {
   "cell_type": "code",
   "execution_count": 15,
   "metadata": {},
   "outputs": [
    {
     "name": "stdout",
     "output_type": "stream",
     "text": [
      "CPU times: user 1.58 s, sys: 1.88 s, total: 3.47 s\n",
      "Wall time: 562 ms\n"
     ]
    }
   ],
   "source": [
    "%%time \n",
    "\n",
    "df = pd.read_parquet(\"../../../benchmark\")\n",
    "del df"
   ]
  },
  {
   "cell_type": "code",
   "execution_count": 16,
   "metadata": {},
   "outputs": [
    {
     "name": "stdout",
     "output_type": "stream",
     "text": [
      "CPU times: user 134 ms, sys: 199 ms, total: 333 ms\n",
      "Wall time: 410 ms\n"
     ]
    }
   ],
   "source": [
    "%%time \n",
    "\n",
    "df = cudf.read_parquet(\"../../../benchmark\")\n",
    "del df"
   ]
  },
  {
   "cell_type": "code",
   "execution_count": 17,
   "metadata": {},
   "outputs": [
    {
     "name": "stdout",
     "output_type": "stream",
     "text": [
      "CPU times: user 16 ms, sys: 0 ns, total: 16 ms\n",
      "Wall time: 15.3 ms\n"
     ]
    }
   ],
   "source": [
    "%%time \n",
    "\n",
    "df = dask_cudf.read_parquet(\"../../../benchmark\")\n",
    "del df"
   ]
  },
  {
   "cell_type": "markdown",
   "metadata": {},
   "source": [
    "### Reading ORC file - Large File"
   ]
  },
  {
   "cell_type": "code",
   "execution_count": 18,
   "metadata": {},
   "outputs": [
    {
     "name": "stdout",
     "output_type": "stream",
     "text": [
      "CPU times: user 550 ms, sys: 1.01 s, total: 1.56 s\n",
      "Wall time: 514 ms\n"
     ]
    }
   ],
   "source": [
    "%%time \n",
    "\n",
    "df = pd.read_orc(\"../../../benchmark.orc\")\n",
    "del df"
   ]
  },
  {
   "cell_type": "code",
   "execution_count": 19,
   "metadata": {},
   "outputs": [
    {
     "name": "stdout",
     "output_type": "stream",
     "text": [
      "CPU times: user 91.1 ms, sys: 131 ms, total: 222 ms\n",
      "Wall time: 219 ms\n"
     ]
    }
   ],
   "source": [
    "%%time \n",
    "\n",
    "df = cudf.read_orc(\"../../../benchmark.orc\")\n",
    "del df"
   ]
  },
  {
   "cell_type": "code",
   "execution_count": 20,
   "metadata": {},
   "outputs": [
    {
     "name": "stdout",
     "output_type": "stream",
     "text": [
      "CPU times: user 15.7 ms, sys: 28.6 ms, total: 44.3 ms\n",
      "Wall time: 43.9 ms\n"
     ]
    }
   ],
   "source": [
    "%%time \n",
    "\n",
    "df = dask_cudf.read_orc(\"../../../benchmark.orc\")\n",
    "del df"
   ]
  },
  {
   "cell_type": "code",
   "execution_count": null,
   "metadata": {},
   "outputs": [],
   "source": []
  }
 ],
 "metadata": {
  "kernelspec": {
   "display_name": "Python 3",
   "language": "python",
   "name": "python3"
  },
  "language_info": {
   "codemirror_mode": {
    "name": "ipython",
    "version": 3
   },
   "file_extension": ".py",
   "mimetype": "text/x-python",
   "name": "python",
   "nbconvert_exporter": "python",
   "pygments_lexer": "ipython3",
   "version": "3.10.12"
  }
 },
 "nbformat": 4,
 "nbformat_minor": 2
}
