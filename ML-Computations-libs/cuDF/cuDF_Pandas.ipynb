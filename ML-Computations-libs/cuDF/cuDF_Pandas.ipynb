{
  "nbformat": 4,
  "nbformat_minor": 0,
  "metadata": {
    "colab": {
      "provenance": [],
      "gpuType": "T4"
    },
    "kernelspec": {
      "name": "python3",
      "display_name": "Python 3"
    },
    "language_info": {
      "name": "python"
    },
    "accelerator": "GPU"
  },
  "cells": [
    {
      "cell_type": "markdown",
      "source": [
        "### Pandas vs cuDF"
      ],
      "metadata": {
        "id": "1YhCqq7Gw3qc"
      }
    },
    {
      "cell_type": "code",
      "execution_count": 2,
      "metadata": {
        "id": "clavyZ3kw22l",
        "colab": {
          "base_uri": "https://localhost:8080/"
        },
        "outputId": "a2cbd6f3-c353-4335-fa08-debb350d8fc0"
      },
      "outputs": [
        {
          "output_type": "stream",
          "name": "stdout",
          "text": [
            "Sat Dec 30 11:33:27 2023       \n",
            "+---------------------------------------------------------------------------------------+\n",
            "| NVIDIA-SMI 535.104.05             Driver Version: 535.104.05   CUDA Version: 12.2     |\n",
            "|-----------------------------------------+----------------------+----------------------+\n",
            "| GPU  Name                 Persistence-M | Bus-Id        Disp.A | Volatile Uncorr. ECC |\n",
            "| Fan  Temp   Perf          Pwr:Usage/Cap |         Memory-Usage | GPU-Util  Compute M. |\n",
            "|                                         |                      |               MIG M. |\n",
            "|=========================================+======================+======================|\n",
            "|   0  Tesla T4                       Off | 00000000:00:04.0 Off |                    0 |\n",
            "| N/A   43C    P8               9W /  70W |      0MiB / 15360MiB |      0%      Default |\n",
            "|                                         |                      |                  N/A |\n",
            "+-----------------------------------------+----------------------+----------------------+\n",
            "                                                                                         \n",
            "+---------------------------------------------------------------------------------------+\n",
            "| Processes:                                                                            |\n",
            "|  GPU   GI   CI        PID   Type   Process name                            GPU Memory |\n",
            "|        ID   ID                                                             Usage      |\n",
            "|=======================================================================================|\n",
            "|  No running processes found                                                           |\n",
            "+---------------------------------------------------------------------------------------+\n"
          ]
        }
      ],
      "source": [
        "!nvidia-smi"
      ]
    },
    {
      "cell_type": "code",
      "source": [
        "!git clone https://github.com/rapidsai/rapidsai-csp-utils.git\n",
        "!python rapidsai-csp-utils/colab/pip-install.py"
      ],
      "metadata": {
        "id": "CIWHlrAwxAGw",
        "colab": {
          "base_uri": "https://localhost:8080/"
        },
        "outputId": "c3cfd617-d2b7-4830-c209-149d34fd5825"
      },
      "execution_count": 3,
      "outputs": [
        {
          "output_type": "stream",
          "name": "stdout",
          "text": [
            "Requirement already satisfied: jsonschema-specifications>=2023.03.6 in /usr/local/lib/python3.10/dist-packages (from jsonschema>=2.6->nbformat>=5.2.0->jupyter-server>=1.0->jupyter-server-proxy->cuxfilter-cu12==23.12.*) (2023.11.2)\n",
            "Requirement already satisfied: referencing>=0.28.4 in /usr/local/lib/python3.10/dist-packages (from jsonschema>=2.6->nbformat>=5.2.0->jupyter-server>=1.0->jupyter-server-proxy->cuxfilter-cu12==23.12.*) (0.32.0)\n",
            "Requirement already satisfied: rpds-py>=0.7.1 in /usr/local/lib/python3.10/dist-packages (from jsonschema>=2.6->nbformat>=5.2.0->jupyter-server>=1.0->jupyter-server-proxy->cuxfilter-cu12==23.12.*) (0.15.2)\n",
            "Requirement already satisfied: cffi>=1.0.1 in /usr/local/lib/python3.10/dist-packages (from argon2-cffi-bindings->argon2-cffi->jupyter-server>=1.0->jupyter-server-proxy->cuxfilter-cu12==23.12.*) (1.16.0)\n",
            "Requirement already satisfied: soupsieve>1.2 in /usr/local/lib/python3.10/dist-packages (from beautifulsoup4->nbconvert>=6.4.4->jupyter-server>=1.0->jupyter-server-proxy->cuxfilter-cu12==23.12.*) (2.5)\n",
            "Requirement already satisfied: pycparser in /usr/local/lib/python3.10/dist-packages (from cffi>=1.0.1->argon2-cffi-bindings->argon2-cffi->jupyter-server>=1.0->jupyter-server-proxy->cuxfilter-cu12==23.12.*) (2.21)\n",
            "Collecting cupy-cuda12x\n",
            "  Using cached cupy_cuda12x-12.3.0-cp310-cp310-manylinux2014_x86_64.whl (81.8 MB)\n",
            "Requirement already satisfied: numpy<1.29,>=1.20 in /usr/local/lib/python3.10/dist-packages (from cupy-cuda12x) (1.23.5)\n",
            "Requirement already satisfied: fastrlock>=0.5 in /usr/local/lib/python3.10/dist-packages (from cupy-cuda12x) (0.8.2)\n",
            "Installing collected packages: cupy-cuda12x\n",
            "Successfully installed cupy-cuda12x-12.3.0\n",
            "\n",
            "        ***********************************************************************\n",
            "        The pip install of RAPIDS is complete.\n",
            "        \n",
            "        Please do not run any further installation from the conda based installation methods, as they may cause issues!\n",
            "        \n",
            "        Please ensure that you're pulling from the git repo to remain updated with the latest working install scripts.\n",
            "\n",
            "        Troubleshooting:\n",
            "            - If there is an installation failure, please check back on RAPIDSAI owned templates/notebooks to see how to update your personal files. \n",
            "            - If an installation failure persists when using the latest script, please make an issue on https://github.com/rapidsai-community/rapidsai-csp-utils\n",
            "        ***********************************************************************\n",
            "        \n"
          ]
        }
      ]
    },
    {
      "cell_type": "code",
      "source": [
        "import re\n",
        "import pandas as pd\n",
        "import cudf\n",
        "import timeit"
      ],
      "metadata": {
        "id": "i2HJJBwl7q-E"
      },
      "execution_count": 4,
      "outputs": []
    },
    {
      "cell_type": "code",
      "source": [
        "read_csv = []\n",
        "reverse = []\n",
        "concat = []\n",
        "drop = []\n",
        "merge = []"
      ],
      "metadata": {
        "id": "wXcJHST7FNF9"
      },
      "execution_count": 5,
      "outputs": []
    },
    {
      "cell_type": "code",
      "source": [
        "def display_time(time_took, message):\n",
        "    print(f\"{message}: {time_took:.6f}s\")"
      ],
      "metadata": {
        "id": "d8vTcu4l_olz"
      },
      "execution_count": 6,
      "outputs": []
    },
    {
      "cell_type": "code",
      "source": [
        "def get_read_csv(filename, method='cudf'):\n",
        "    column_names = ['column 1', 'column 2']\n",
        "    if method == 'df':\n",
        "        return pd.read_csv(filename, sep='\\t', header=None,\n",
        "                           names=column_names, dtype='unicode')\n",
        "    return cudf.read_csv(filename, sep='\\t', header=None,\n",
        "                         names=column_names)"
      ],
      "metadata": {
        "id": "jfrwRP4e_oW7"
      },
      "execution_count": 7,
      "outputs": []
    },
    {
      "cell_type": "code",
      "source": [
        "def get_reverse(relation):\n",
        "    column_names = ['column 1', 'column 2']\n",
        "    reverse_relation = relation[relation.columns[::-1]]\n",
        "    reverse_relation.columns = column_names\n",
        "    return reverse_relation"
      ],
      "metadata": {
        "id": "syML_lqB_oHz"
      },
      "execution_count": 8,
      "outputs": []
    },
    {
      "cell_type": "code",
      "source": [
        "def get_merge(relation_1, relation_2):\n",
        "    column_names = ['column 1', 'column 2']\n",
        "    return relation_1.merge(relation_2, on=column_names[0],\n",
        "                            how=\"inner\",\n",
        "                            suffixes=('_relation_1', '_relation_2'))"
      ],
      "metadata": {
        "id": "aQ8csj-X_nWs"
      },
      "execution_count": 9,
      "outputs": []
    },
    {
      "cell_type": "code",
      "source": [
        "def get_drop(result):\n",
        "    column_names = ['column 1', 'column 2']\n",
        "    temp = result.drop([column_names[0]], axis=1).drop_duplicates()\n",
        "    temp.columns = column_names\n",
        "    return temp"
      ],
      "metadata": {
        "id": "hMksJPD3_5yr"
      },
      "execution_count": 10,
      "outputs": []
    },
    {
      "cell_type": "code",
      "source": [
        "def get_concat(relation_1, relation_2, method='cudf'):\n",
        "    if method == 'df':\n",
        "        return pd.concat([relation_1, relation_2], ignore_index=True)\n",
        "    return cudf.concat([relation_1, relation_2], ignore_index=True)"
      ],
      "metadata": {
        "id": "u37bMx4WD3ok"
      },
      "execution_count": 11,
      "outputs": []
    },
    {
      "cell_type": "code",
      "source": [
        "dataset = \"./roadrail.txt\"\n",
        "repeat = 10"
      ],
      "metadata": {
        "id": "rTPaXHmIBorZ"
      },
      "execution_count": 12,
      "outputs": []
    },
    {
      "cell_type": "code",
      "source": [
        "cudf_csv_read = timeit.timeit('get_read_csv(dataset)',\n",
        "                                  number=repeat,\n",
        "                                  globals=globals())\n",
        "display_time(cudf_csv_read, \"CUDF read csv\")\n",
        "relation_1_cudf = get_read_csv(dataset)\n",
        "read_csv.append(cudf_csv_read)"
      ],
      "metadata": {
        "id": "K5UIA1TOBoa5",
        "colab": {
          "base_uri": "https://localhost:8080/"
        },
        "outputId": "4129d7fa-fb35-4e5c-ab7a-6db5ffcd368a"
      },
      "execution_count": 13,
      "outputs": [
        {
          "output_type": "stream",
          "name": "stdout",
          "text": [
            "CUDF read csv: 0.922596s\n"
          ]
        }
      ]
    },
    {
      "cell_type": "code",
      "source": [
        "method = 'df'\n",
        "pandas_csv_read = timeit.timeit('get_read_csv(dataset, method)',\n",
        "                                number=repeat,\n",
        "                                globals=globals())\n",
        "display_time(pandas_csv_read, \"Pandas read csv\")\n",
        "relation_1_pd = get_read_csv(dataset, method)\n",
        "read_csv.append(pandas_csv_read)"
      ],
      "metadata": {
        "id": "tGhJVuPLBoRR",
        "colab": {
          "base_uri": "https://localhost:8080/"
        },
        "outputId": "d2be3d07-cc7b-4786-dfa4-07e00116914c"
      },
      "execution_count": 14,
      "outputs": [
        {
          "output_type": "stream",
          "name": "stdout",
          "text": [
            "Pandas read csv: 26.842199s\n"
          ]
        }
      ]
    },
    {
      "cell_type": "code",
      "source": [
        "cudf_reverse_df = timeit.timeit('get_reverse(relation_1_cudf)',\n",
        "                                    number=repeat,\n",
        "                                    globals=globals())\n",
        "display_time(cudf_reverse_df, \"CUDF reverse dataframe\")\n",
        "relation_2_cudf = get_reverse(relation_1_cudf)\n",
        "reverse.append(cudf_reverse_df)"
      ],
      "metadata": {
        "id": "le0oLSijBoHh",
        "colab": {
          "base_uri": "https://localhost:8080/"
        },
        "outputId": "198560d1-4c74-4a5a-f25b-a8085309e7d5"
      },
      "execution_count": 15,
      "outputs": [
        {
          "output_type": "stream",
          "name": "stdout",
          "text": [
            "CUDF reverse dataframe: 0.008096s\n"
          ]
        }
      ]
    },
    {
      "cell_type": "code",
      "source": [
        "pandas_reverse_df = timeit.timeit('get_reverse(relation_1_pd)',\n",
        "                                      number=repeat,\n",
        "                                      globals=globals())\n",
        "display_time(pandas_reverse_df, \"Pandas reverse dataframe\")\n",
        "relation_2_pd = get_reverse(relation_1_pd)\n",
        "reverse.append(pandas_reverse_df)"
      ],
      "metadata": {
        "id": "27PNsQrLBn55",
        "colab": {
          "base_uri": "https://localhost:8080/"
        },
        "outputId": "5cc70ae5-cc39-4399-f724-b6bab9906aad"
      },
      "execution_count": 16,
      "outputs": [
        {
          "output_type": "stream",
          "name": "stdout",
          "text": [
            "Pandas reverse dataframe: 2.305187s\n"
          ]
        }
      ]
    },
    {
      "cell_type": "code",
      "source": [
        "cudf_merge_df = timeit.timeit('get_merge(relation_1_cudf, relation_2_cudf)',\n",
        "                                  number=repeat,\n",
        "                                  globals=globals())\n",
        "display_time(cudf_merge_df, \"CUDF merge dataframes\")\n",
        "result_cudf = get_merge(relation_1_cudf, relation_2_cudf)\n",
        "merge.append(cudf_merge_df)"
      ],
      "metadata": {
        "id": "ZlDdKSRpBnaa",
        "colab": {
          "base_uri": "https://localhost:8080/"
        },
        "outputId": "b2f74f32-4e9e-4b56-f88b-85348c4fc12e"
      },
      "execution_count": 17,
      "outputs": [
        {
          "output_type": "stream",
          "name": "stdout",
          "text": [
            "CUDF merge dataframes: 0.893337s\n"
          ]
        }
      ]
    },
    {
      "cell_type": "code",
      "source": [
        "pandas_merge_df = timeit.timeit('get_merge(relation_1_pd, relation_2_pd)',\n",
        "                                    number=repeat,\n",
        "                                    globals=globals())\n",
        "display_time(pandas_merge_df, \"Pandas merge dataframes\")\n",
        "result_pd = get_merge(relation_1_pd, relation_2_pd)\n",
        "merge.append(pandas_merge_df)"
      ],
      "metadata": {
        "id": "5qW2orm7DS4C",
        "colab": {
          "base_uri": "https://localhost:8080/"
        },
        "outputId": "ef27ac1d-6bc1-4100-a0dc-1639a9e9d7e0"
      },
      "execution_count": 18,
      "outputs": [
        {
          "output_type": "stream",
          "name": "stdout",
          "text": [
            "Pandas merge dataframes: 59.117822s\n"
          ]
        }
      ]
    },
    {
      "cell_type": "code",
      "source": [
        "cudf_drop = timeit.timeit('get_drop(result_cudf)',\n",
        "                              number=repeat,\n",
        "                              globals=globals())\n",
        "display_time(cudf_drop, \"CUDF drop rows\")\n",
        "result = get_drop(result_cudf)\n",
        "drop.append(cudf_drop)"
      ],
      "metadata": {
        "id": "iRLUWqSvDbwH",
        "colab": {
          "base_uri": "https://localhost:8080/"
        },
        "outputId": "0f976c0a-16c8-4014-ed4a-0819d5046491"
      },
      "execution_count": 19,
      "outputs": [
        {
          "output_type": "stream",
          "name": "stdout",
          "text": [
            "CUDF drop rows: 1.155152s\n"
          ]
        }
      ]
    },
    {
      "cell_type": "code",
      "source": [
        "pandas_drop = timeit.timeit('get_drop(result_pd)',\n",
        "                            number=repeat,\n",
        "                            globals=globals())\n",
        "display_time(pandas_drop, \"Pandas drop rows\")\n",
        "result = get_drop(result_pd)\n",
        "drop.append(pandas_drop)"
      ],
      "metadata": {
        "id": "LC4R4aQuDiLC",
        "colab": {
          "base_uri": "https://localhost:8080/"
        },
        "outputId": "62a6309a-ae80-44b4-f821-b291da9184b1"
      },
      "execution_count": 20,
      "outputs": [
        {
          "output_type": "stream",
          "name": "stdout",
          "text": [
            "Pandas drop rows: 98.584534s\n"
          ]
        }
      ]
    },
    {
      "cell_type": "code",
      "source": [
        "cudf_concat = timeit.timeit('get_concat(relation_1_cudf, relation_2_cudf)',\n",
        "                            number=repeat,\n",
        "                            globals=globals())\n",
        "display_time(cudf_concat, \"CUDF concat relations\")\n",
        "result = get_concat(relation_1_cudf, relation_2_cudf)\n",
        "print(f\"CUDF final result length: {len(result)}\")\n",
        "\n",
        "pandas_concat = timeit.timeit('get_concat(relation_1_pd, relation_2_pd, method)',\n",
        "                              number=repeat,\n",
        "                              globals=globals())\n",
        "display_time(pandas_concat, \"Pandas concat relations\")\n",
        "result = get_concat(relation_1_pd, relation_2_pd, method)\n",
        "print(f\"Pandas final result length: {len(result)}\")\n",
        "concat.append(cudf_concat)\n",
        "concat.append(pandas_concat)"
      ],
      "metadata": {
        "id": "G1BdSHLuyT6G",
        "colab": {
          "base_uri": "https://localhost:8080/"
        },
        "outputId": "d8ddac3c-702d-435d-d4c3-639dce6bf12d"
      },
      "execution_count": 21,
      "outputs": [
        {
          "output_type": "stream",
          "name": "stdout",
          "text": [
            "CUDF concat relations: 0.092265s\n",
            "CUDF final result length: 11066430\n",
            "Pandas concat relations: 4.067704s\n",
            "Pandas final result length: 11066430\n"
          ]
        }
      ]
    },
    {
      "cell_type": "code",
      "source": [
        "import matplotlib.pyplot as plt"
      ],
      "metadata": {
        "id": "hgnNf9mS8IVH"
      },
      "execution_count": 22,
      "outputs": []
    },
    {
      "cell_type": "code",
      "source": [
        "plt.rcParams[\"figure.figsize\"] = [4, 4]\n",
        "plt.rcParams[\"figure.autolayout\"] = True\n",
        "plt.bar(read_csv, read_csv)\n",
        "plt.show()"
      ],
      "metadata": {
        "id": "OtrJx9DWGsCT",
        "colab": {
          "base_uri": "https://localhost:8080/",
          "height": 407
        },
        "outputId": "c30cadac-ff01-4721-f9a5-b5ac67ea2428"
      },
      "execution_count": 23,
      "outputs": [
        {
          "output_type": "display_data",
          "data": {
            "text/plain": [
              "<Figure size 400x400 with 1 Axes>"
            ],
            "image/png": "[encoded data removed]"
          },
          "metadata": {}
        }
      ]
    },
    {
      "cell_type": "code",
      "source": [
        "plt.rcParams[\"figure.figsize\"] = [4, 4]\n",
        "plt.rcParams[\"figure.autolayout\"] = True\n",
        "plt.bar(drop, drop)\n",
        "plt.show()"
      ],
      "metadata": {
        "id": "wGd7lh13HlHy",
        "colab": {
          "base_uri": "https://localhost:8080/",
          "height": 407
        },
        "outputId": "5ff54de4-274e-4b9e-98a6-fa049733d2b6"
      },
      "execution_count": 24,
      "outputs": [
        {
          "output_type": "display_data",
          "data": {
            "text/plain": [
              "<Figure size 400x400 with 1 Axes>"
            ],
            "image/png": "[encoded data removed]"
          },
          "metadata": {}
        }
      ]
    },
    {
      "cell_type": "code",
      "source": [
        "plt.rcParams[\"figure.figsize\"] = [4, 4]\n",
        "plt.rcParams[\"figure.autolayout\"] = True\n",
        "plt.bar(merge, merge)\n",
        "plt.show()"
      ],
      "metadata": {
        "id": "hqeS7AIzH7Ma",
        "colab": {
          "base_uri": "https://localhost:8080/",
          "height": 407
        },
        "outputId": "2f6ba73e-a9c9-4e74-edd2-fe0a27fac7e4"
      },
      "execution_count": 25,
      "outputs": [
        {
          "output_type": "display_data",
          "data": {
            "text/plain": [
              "<Figure size 400x400 with 1 Axes>"
            ],
            "image/png": "[encoded data removed]"
          },
          "metadata": {}
        }
      ]
    },
    {
      "cell_type": "code",
      "source": [
        "plt.rcParams[\"figure.figsize\"] = [4, 4]\n",
        "plt.rcParams[\"figure.autolayout\"] = True\n",
        "plt.bar(concat, concat)\n",
        "plt.show()"
      ],
      "metadata": {
        "id": "3o4yE8pRIJy6",
        "colab": {
          "base_uri": "https://localhost:8080/",
          "height": 407
        },
        "outputId": "0dd1e9b9-93a4-4ff8-f2fe-69104a1a198e"
      },
      "execution_count": 26,
      "outputs": [
        {
          "output_type": "display_data",
          "data": {
            "text/plain": [
              "<Figure size 400x400 with 1 Axes>"
            ],
            "image/png": "[encoded data removed]"
          },
          "metadata": {}
        }
      ]
    },
    {
      "cell_type": "code",
      "source": [
        "plt.rcParams[\"figure.figsize\"] = [4, 4]\n",
        "plt.rcParams[\"figure.autolayout\"] = True\n",
        "plt.bar(reverse, reverse)\n",
        "plt.show()"
      ],
      "metadata": {
        "id": "y2fKJYUaINDK",
        "colab": {
          "base_uri": "https://localhost:8080/",
          "height": 407
        },
        "outputId": "cda6b37e-302e-49cc-cec4-d7f6191673e9"
      },
      "execution_count": 27,
      "outputs": [
        {
          "output_type": "display_data",
          "data": {
            "text/plain": [
              "<Figure size 400x400 with 1 Axes>"
            ],
            "image/png": "[encoded data removed]"
          },
          "metadata": {}
        }
      ]
    },
    {
      "cell_type": "code",
      "source": [
        "print(f\"CUDF is {read_csv[1]/read_csv[0]} faster than Pandas while reading csv\")"
      ],
      "metadata": {
        "id": "_y1Q9zphIT9T",
        "colab": {
          "base_uri": "https://localhost:8080/"
        },
        "outputId": "c6a42fe9-8a65-40b7-fdd6-687554c79eb9"
      },
      "execution_count": 28,
      "outputs": [
        {
          "output_type": "stream",
          "name": "stdout",
          "text": [
            "CUDF is 29.09421680290118 faster than Pandas while reading csv\n"
          ]
        }
      ]
    },
    {
      "cell_type": "code",
      "source": [
        "print(f\"CUDF is {reverse[1]/reverse[0]} faster than Pandas while reversing csv\")"
      ],
      "metadata": {
        "id": "3TYQjhk4I6P-",
        "colab": {
          "base_uri": "https://localhost:8080/"
        },
        "outputId": "59ac79ad-3170-4e8b-bee4-ff55215798b7"
      },
      "execution_count": 29,
      "outputs": [
        {
          "output_type": "stream",
          "name": "stdout",
          "text": [
            "CUDF is 284.7426929383888 faster than Pandas while reversing csv\n"
          ]
        }
      ]
    },
    {
      "cell_type": "code",
      "source": [
        "print(f\"CUDF is {merge[1]/merge[0]} faster than Pandas while merging df\")"
      ],
      "metadata": {
        "id": "kEXI0rCSJUxO",
        "colab": {
          "base_uri": "https://localhost:8080/"
        },
        "outputId": "b32598ff-40aa-4ad4-df31-f5b612ea107f"
      },
      "execution_count": 30,
      "outputs": [
        {
          "output_type": "stream",
          "name": "stdout",
          "text": [
            "CUDF is 66.17639578858014 faster than Pandas while merging df\n"
          ]
        }
      ]
    },
    {
      "cell_type": "code",
      "source": [
        "print(f\"CUDF is {concat[1]/concat[0]} faster than Pandas while concat df\")"
      ],
      "metadata": {
        "id": "VRcb3puKJZ8n",
        "colab": {
          "base_uri": "https://localhost:8080/"
        },
        "outputId": "b51701e3-7d63-4be0-b3b4-3730c34297db"
      },
      "execution_count": 31,
      "outputs": [
        {
          "output_type": "stream",
          "name": "stdout",
          "text": [
            "CUDF is 44.087137614728945 faster than Pandas while concat df\n"
          ]
        }
      ]
    },
    {
      "cell_type": "code",
      "source": [
        "print(f\"CUDF is {drop[1]/drop[0]} faster than Pandas while dropping records\")"
      ],
      "metadata": {
        "id": "ci3vsc6BJgkP",
        "colab": {
          "base_uri": "https://localhost:8080/"
        },
        "outputId": "741b4639-f57c-4f77-d33f-785228140554"
      },
      "execution_count": 32,
      "outputs": [
        {
          "output_type": "stream",
          "name": "stdout",
          "text": [
            "CUDF is 85.3433425161216 faster than Pandas while dropping records\n"
          ]
        }
      ]
    },
    {
      "cell_type": "markdown",
      "source": [
        "\n",
        "\n",
        "\n",
        "\n",
        "\n",
        "\n",
        "\n",
        "\n",
        "\n",
        "\n",
        "\n",
        "\n",
        "\n",
        "\n",
        "\n",
        "\n",
        "\n",
        "\n",
        "\n",
        "\n",
        "\n",
        "\n",
        "\n",
        "\n",
        "\n",
        "\n",
        "\n",
        "\n",
        "\n",
        "\n",
        "\n",
        "\n",
        "\n"
      ],
      "metadata": {
        "id": "9_xctsmUaFn7"
      }
    },
    {
      "cell_type": "code",
      "source": [
        "!wget https://snap.stanford.edu/data/roadNet-CA.txt.gz"
      ],
      "metadata": {
        "id": "6BkoTqiPJnFw"
      },
      "execution_count": null,
      "outputs": []
    },
    {
      "cell_type": "code",
      "source": [
        "import pandas as pd"
      ],
      "metadata": {
        "id": "TM7lrtnfY4d_"
      },
      "execution_count": null,
      "outputs": []
    },
    {
      "cell_type": "code",
      "source": [
        "new_df = pd.read_csv(\"roadNet-CA.txt\", sep='\\t', skiprows=3)"
      ],
      "metadata": {
        "id": "-QxNw6ohY6GX"
      },
      "execution_count": null,
      "outputs": []
    },
    {
      "cell_type": "code",
      "source": [
        "new_df.rename(columns = {'# FromNodeId':'column 1', 'ToNodeId': 'column 2'}, inplace = True)"
      ],
      "metadata": {
        "id": "bzcAfEQFY-qH"
      },
      "execution_count": null,
      "outputs": []
    },
    {
      "cell_type": "code",
      "source": [
        "new_df.to_csv(\"roadrail.txt\", index=False, sep='\\t')"
      ],
      "metadata": {
        "id": "FJ5mATddZYVz"
      },
      "execution_count": null,
      "outputs": []
    },
    {
      "cell_type": "code",
      "source": [],
      "metadata": {
        "id": "-z0A056xZvFF"
      },
      "execution_count": null,
      "outputs": []
    }
  ]
}