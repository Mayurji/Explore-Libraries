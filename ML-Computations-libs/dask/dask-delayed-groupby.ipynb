{
 "cells": [
  {
   "cell_type": "code",
   "execution_count": 6,
   "metadata": {},
   "outputs": [],
   "source": [
    "import pandas as pd\n",
    "import os\n",
    "import glob\n",
    "import dask"
   ]
  },
  {
   "cell_type": "code",
   "execution_count": 7,
   "metadata": {},
   "outputs": [],
   "source": [
    "filenames = []\n",
    "for file in os.listdir(\"./flights_month/\"):\n",
    "    filenames.append(\"./flights_month/\"+file)\n"
   ]
  },
  {
   "cell_type": "code",
   "execution_count": 8,
   "metadata": {},
   "outputs": [
    {
     "data": {
      "text/plain": [
       "['./flights_month/flight_12.csv',\n",
       " './flights_month/flight_8.csv',\n",
       " './flights_month/flight_2.csv',\n",
       " './flights_month/flight_7.csv',\n",
       " './flights_month/flight_3.csv',\n",
       " './flights_month/flight_11.csv',\n",
       " './flights_month/flight_10.csv',\n",
       " './flights_month/flight_5.csv',\n",
       " './flights_month/flight_9.csv',\n",
       " './flights_month/flight_4.csv',\n",
       " './flights_month/flight_6.csv',\n",
       " './flights_month/flight_1.csv']"
      ]
     },
     "execution_count": 8,
     "metadata": {},
     "output_type": "execute_result"
    }
   ],
   "source": [
    "filenames"
   ]
  },
  {
   "cell_type": "code",
   "execution_count": 9,
   "metadata": {},
   "outputs": [
    {
     "name": "stdout",
     "output_type": "stream",
     "text": [
      "CPU times: user 309 ms, sys: 51.1 ms, total: 360 ms\n",
      "Wall time: 360 ms\n"
     ]
    }
   ],
   "source": [
    "%%time\n",
    "\n",
    "sums = []\n",
    "counts = []\n",
    "for fn in filenames:\n",
    "    # Read in file\n",
    "    df = pd.read_csv(fn)\n",
    "\n",
    "    # Groupby origin airport\n",
    "    by_origin = df.groupby(\"origin\")\n",
    "\n",
    "    # Sum of all departure delays by origin\n",
    "    total = by_origin.dep_delay.sum()\n",
    "\n",
    "    # Number of flights by origin\n",
    "    count = by_origin.dep_delay.count()\n",
    "\n",
    "    # Save the intermediates\n",
    "    sums.append(total)\n",
    "    counts.append(count)\n",
    "\n",
    "# Combine intermediates to get total mean-delay-per-origin\n",
    "total_delays = sum(sums)\n",
    "n_flights = sum(counts)\n",
    "mean = total_delays / n_flights"
   ]
  },
  {
   "cell_type": "code",
   "execution_count": 10,
   "metadata": {},
   "outputs": [
    {
     "name": "stdout",
     "output_type": "stream",
     "text": [
      "CPU times: user 377 ms, sys: 93.5 ms, total: 471 ms\n",
      "Wall time: 469 ms\n"
     ]
    }
   ],
   "source": [
    "%%time\n",
    "\n",
    "@dask.delayed\n",
    "def read_file(filename):\n",
    "    # Read in file\n",
    "    df = pd.read_csv(filename)\n",
    "\n",
    "    # Groupby origin airport\n",
    "    by_origin = df.groupby(\"origin\")\n",
    "\n",
    "    # Sum of all departure delays by origin\n",
    "    total = by_origin.dep_delay.sum()\n",
    "\n",
    "    # Number of flights by origin\n",
    "    count = by_origin.dep_delay.count()\n",
    "\n",
    "    return (total, count)\n",
    "\n",
    "\n",
    "#sums = dask.delayed([])\n",
    "#counts = dask.delayed([])\n",
    "#total = dask.delayed(int)\n",
    "#count = dask.delayed(int)\n",
    "\n",
    "sums = []\n",
    "counts = []\n",
    "for fn in filenames:\n",
    "    # Delayed read in file\n",
    "    total, count = read_file(fn).compute()\n",
    "\n",
    "    # Save the intermediates\n",
    "    sums.append(total)\n",
    "    counts.append(count)\n",
    "\n",
    "# Combine intermediates to get total mean-delay-per-origin\n",
    "total_delays = sum(sums)\n",
    "n_flights = sum(counts)\n",
    "mean, *_ = dask.compute(total_delays / n_flights)"
   ]
  },
  {
   "cell_type": "code",
   "execution_count": null,
   "metadata": {},
   "outputs": [],
   "source": []
  },
  {
   "cell_type": "code",
   "execution_count": null,
   "metadata": {},
   "outputs": [],
   "source": []
  }
 ],
 "metadata": {
  "kernelspec": {
   "display_name": "Python 3.7.16 64-bit",
   "language": "python",
   "name": "python3"
  },
  "language_info": {
   "codemirror_mode": {
    "name": "ipython",
    "version": 3
   },
   "file_extension": ".py",
   "mimetype": "text/x-python",
   "name": "python",
   "nbconvert_exporter": "python",
   "pygments_lexer": "ipython3",
   "version": "3.7.16"
  },
  "orig_nbformat": 4,
  "vscode": {
   "interpreter": {
    "hash": "fd69f43f58546b570e94fd7eba7b65e6bcc7a5bbc4eab0408017d18902915d69"
   }
  }
 },
 "nbformat": 4,
 "nbformat_minor": 2
}
